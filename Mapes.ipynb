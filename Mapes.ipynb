{
 "cells": [
  {
   "cell_type": "markdown",
   "metadata": {
    "id": "Q8ZNNXRwxJ9L",
    "jp-MarkdownHeadingCollapsed": true
   },
   "source": [
    "# Packages"
   ]
  },
  {
   "cell_type": "code",
   "execution_count": 1,
   "metadata": {
    "id": "kg--Mw_xeuKa"
   },
   "outputs": [
    {
     "name": "stderr",
     "output_type": "stream",
     "text": [
      "Cannot find header.dxf (GDAL_DATA is not defined)\n"
     ]
    }
   ],
   "source": [
    "import os\n",
    "import json\n",
    "import logging\n",
    "from itertools import combinations\n",
    "import sys\n",
    "\n",
    "import math\n",
    "\n",
    "import requests\n",
    "import numpy as np\n",
    "import pandas as pd\n",
    "import geopandas as gpd\n",
    "import fiona\n",
    "import shapely\n",
    "from shapely.geometry import Point\n",
    "from shapely.ops import unary_union, nearest_points\n",
    "from shapely.geometry import LineString\n",
    "\n",
    "import networkx as nx\n",
    "import osmnx as ox\n",
    "\n",
    "import scipy\n",
    "from scipy.spatial import cKDTree\n",
    "\n",
    "import matplotlib.pyplot as plt\n",
    "\n",
    "import folium\n",
    "from folium import GeoJson, LayerControl\n",
    "from branca.colormap import linear\n",
    "import branca.colormap as cm\n",
    "\n",
    "import igraph as ig\n",
    "import concurrent.futures"
   ]
  },
  {
   "cell_type": "markdown",
   "metadata": {
    "jp-MarkdownHeadingCollapsed": true
   },
   "source": [
    "# Functions"
   ]
  },
  {
   "cell_type": "code",
   "execution_count": 2,
   "metadata": {},
   "outputs": [],
   "source": [
    "def tag_flooded_roads(edges, nodes, flood_zones, name):\n",
    "    output_path = cut_roads_files[name]\n",
    "    graphml_path = safe_roads_files[name]\n",
    "\n",
    "    #if os.path.exists(output_path) and layer in fiona.listlayers(output_path):\n",
    "    if os.path.exists(output_path):\n",
    "        print(f\"Loading {name} from {output_path}\")\n",
    "        G_safe = ox.load_graphml(graphml_path)\n",
    "        edges = gpd.read_file(output_path, layer=name)\n",
    "        \n",
    "    else:\n",
    "        print(f\"Tagging and saving {name} to {output_path}\")\n",
    "\n",
    "        bounds = edges.total_bounds\n",
    "        flood_subset = flood_zones.cx[bounds[0]:bounds[2], bounds[1]:bounds[3]]\n",
    "        flood_geoms = flood_subset.geometry\n",
    "\n",
    "        edges = edges.copy()\n",
    "        edges[\"in_flood_zone\"] = edges.geometry.apply(lambda geom: flood_geoms.intersects(geom).any())\n",
    "\n",
    "        edges.to_file(output_path, layer=name, driver=\"GPKG\")\n",
    "\n",
    "    if os.path.exists(graphml_path):\n",
    "        print(\"Pruned graph already exists\")\n",
    "    else:    \n",
    "        safe_edges = edges[~edges[\"in_flood_zone\"]].copy()\n",
    "        print(\"Rebuilding pruned graph...\")\n",
    "        G_safe = ox.graph_from_gdfs(nodes, safe_edges)\n",
    "        ox.save_graphml(G_safe, filepath=graphml_path)\n",
    "        print(f\"Saved pruned graph to {graphml_path}\")\n",
    "\n",
    "    return edges, G_safe"
   ]
  },
  {
   "cell_type": "code",
   "execution_count": 3,
   "metadata": {},
   "outputs": [],
   "source": [
    "def clip_flood_zone(return_crs, name, clip_geom):\n",
    "    output_path = zone_output_files[name]\n",
    "    input_path = zone_input_files[name]\n",
    "    \n",
    "    if os.path.exists(output_path):\n",
    "        print(f\"Loading {name} from {output_path}\")\n",
    "        clipped = gpd.read_file(output_path, layer=name).to_crs(return_crs)\n",
    "    else:\n",
    "        print(f\"Clipping and saving {name} from {output_path}\" )\n",
    "        flood = gpd.read_file(input_path).to_crs(return_crs)\n",
    "        clipped = gpd.clip(flood, clip_geom)\n",
    "        clipped.to_file(output_path, layer=name, driver=\"GPKG\")\n",
    "\n",
    "    return clipped"
   ]
  },
  {
   "cell_type": "code",
   "execution_count": 4,
   "metadata": {},
   "outputs": [],
   "source": [
    "def make_geojson_safe(gdf):\n",
    "    gdf = gdf.copy()\n",
    "    dt_cols = gdf.select_dtypes(include=['datetime64[ns]', 'datetime64[ns, UTC]']).columns\n",
    "    gdf[dt_cols] = gdf[dt_cols].astype(str)\n",
    "    for col in gdf.columns:\n",
    "        if col != \"geometry\" and not pd.api.types.is_scalar(gdf[col].iloc[0]):\n",
    "            gdf.drop(columns=[col], inplace=True)\n",
    "    return gdf"
   ]
  },
  {
   "cell_type": "code",
   "execution_count": 5,
   "metadata": {},
   "outputs": [],
   "source": [
    "def add_flood_zone_layer(name, m):\n",
    "    gdf=flood_zones_var[name]\n",
    "    color=color_palette[name]\n",
    "    if gdf.crs.to_epsg() != 4326:\n",
    "        gdf = gdf.to_crs(epsg=4326)\n",
    "\n",
    "    gdf_serializable = make_geojson_safe(gdf)\n",
    "\n",
    "    style_function = lambda x: {\n",
    "        'fillColor': color,\n",
    "        'color': color,\n",
    "        'weight': 1,\n",
    "        'fillOpacity': 0.4\n",
    "    }\n",
    "\n",
    "    geojson = folium.GeoJson(\n",
    "        data=gdf_serializable,\n",
    "        name=f\"Flood {name}\",\n",
    "        style_function=style_function,\n",
    "        show=False\n",
    "    )\n",
    "    geojson.add_to(m)"
   ]
  },
  {
   "cell_type": "code",
   "execution_count": 6,
   "metadata": {},
   "outputs": [],
   "source": [
    "def add_roads_layer(name, m, flood):\n",
    "    if flood:\n",
    "        roads = flood_edges_var[name].copy()\n",
    "        roads = roads[roads[\"in_flood_zone\"] == flood]\n",
    "    else:\n",
    "        roads = edges.copy()\n",
    "\n",
    "    roads = roads.to_crs(epsg=4326)\n",
    "    roads = make_geojson_safe(roads)\n",
    "\n",
    "    style_function = lambda x: {\n",
    "        'color': color_palette[name],\n",
    "        'weight': 2,\n",
    "        'opacity': 0.6\n",
    "    }\n",
    "\n",
    "    if flood == True:\n",
    "        geojson = folium.GeoJson(\n",
    "            roads,\n",
    "            name=f\"Flooded Roads {name}\",\n",
    "            style_function=style_function,\n",
    "            show=False\n",
    "        )\n",
    "    else:\n",
    "            geojson = folium.GeoJson(\n",
    "            roads,\n",
    "            name=f\"All roads\",\n",
    "            style_function=style_function,\n",
    "            show=False\n",
    "        )\n",
    "    \n",
    "    geojson.add_to(m)"
   ]
  },
  {
   "cell_type": "code",
   "execution_count": 7,
   "metadata": {},
   "outputs": [],
   "source": [
    "def add_roads_layer_risk(name, m, flood):\n",
    "    if flood:\n",
    "        roads = flood_edges_var[name].copy()\n",
    "        roads = roads[roads[\"in_flood_zone\"] == flood]\n",
    "    else:\n",
    "        roads = edges.copy()\n",
    "\n",
    "    roads = roads.to_crs(epsg=4326)\n",
    "    roads = make_geojson_safe(roads)\n",
    "\n",
    "    style_function = lambda x: {\n",
    "        'color': color_palette[name],\n",
    "        'weight': 2,\n",
    "        'opacity': 0.6\n",
    "    }\n",
    "\n",
    "    if flood == True:\n",
    "        geojson = folium.GeoJson(\n",
    "            roads,\n",
    "            name=f\"Flooded Roads {name}\",\n",
    "            style_function=style_function,\n",
    "            show=False\n",
    "        )\n",
    "    else:\n",
    "            geojson = folium.GeoJson(\n",
    "            roads,\n",
    "            name=f\"All roads\",\n",
    "            style_function=style_function,\n",
    "            show=False\n",
    "        )\n",
    "    \n",
    "    geojson.add_to(m)"
   ]
  },
  {
   "cell_type": "code",
   "execution_count": 8,
   "metadata": {},
   "outputs": [],
   "source": [
    "def parse_depth_range(val):\n",
    "    if pd.isna(val):\n",
    "        return None\n",
    "\n",
    "    val = val.strip()\n",
    "\n",
    "    if val.startswith('Below'):\n",
    "        return float(val[5:].strip()) / 2\n",
    "\n",
    "    if val.startswith('>'):\n",
    "        return float(val[1:].strip())  # You may want to cap it\n",
    "\n",
    "    if '-' in val:\n",
    "        parts = val.split('-')\n",
    "        try:\n",
    "            low = float(parts[0].strip())\n",
    "            high = float(parts[1].strip())\n",
    "            return (low + high) / 2\n",
    "        except:\n",
    "            return None\n",
    "\n",
    "    try:\n",
    "        return float(val)\n",
    "    except:\n",
    "        return None"
   ]
  },
  {
   "cell_type": "code",
   "execution_count": 9,
   "metadata": {},
   "outputs": [],
   "source": [
    "def compute_individual_risk_factor(T_P, T_NP):\n",
    "    if T_P == 0:\n",
    "        return 1\n",
    "    else:\n",
    "        return 1 - (T_NP / T_P)"
   ]
  },
  {
   "cell_type": "code",
   "execution_count": 10,
   "metadata": {},
   "outputs": [],
   "source": [
    "def compute_risk_factor(T_P_dict, T_NP_dict):\n",
    "    keys = set(T_P_dict.keys()) & set(T_NP_dict.keys())\n",
    "    R = 0\n",
    "    for k in keys:\n",
    "        T_P_time = T_P_dict[k][1]\n",
    "        T_NP_time = T_NP_dict[k][1]\n",
    "        R += compute_individual_risk_factor(T_P_time, T_NP_time)\n",
    "    R /= len(keys) if keys else 1\n",
    "    return R"
   ]
  },
  {
   "cell_type": "code",
   "execution_count": 11,
   "metadata": {},
   "outputs": [],
   "source": [
    "def compute_risk_factor_2(T_P_dict, T_NP_dict): #when not computing paths\n",
    "    keys = set(T_P_dict.keys()) & set(T_NP_dict.keys())\n",
    "    R = 0\n",
    "    for k in keys:\n",
    "        T_P_time = T_P_dict[k]\n",
    "        T_NP_time = T_NP_dict[k][1]\n",
    "        R += compute_individual_risk_factor(T_P_time, T_NP_time)\n",
    "    R /= len(keys) if keys else 1\n",
    "    return R"
   ]
  },
  {
   "cell_type": "code",
   "execution_count": 12,
   "metadata": {},
   "outputs": [],
   "source": [
    "def compute_municipal_risk_factor(T_P_dict, T_NP_dict, municipality):\n",
    "    keys = {k for k in T_P_dict.keys() & T_NP_dict.keys() if municipality in k}\n",
    "    R = 0\n",
    "    for k in keys:\n",
    "        T_P_time = T_P_dict[k][1]\n",
    "        T_NP_time = T_NP_dict[k][1]\n",
    "        R += compute_individual_risk_factor(T_P_time, T_NP_time)\n",
    "    R /= len(keys) if keys else 1\n",
    "    return R"
   ]
  },
  {
   "cell_type": "code",
   "execution_count": 13,
   "metadata": {},
   "outputs": [],
   "source": [
    "def flood_depth_zones(name):\n",
    "    layer=\"depth_val\"\n",
    "    input_path = depth_input_files[name]\n",
    "    output_path=depth_output_files[name]\n",
    "    if os.path.exists(output_path):\n",
    "        print(f\"Loading {layer} from {output_path}\")\n",
    "        depth=gpd.read_file(output_path, layer=layer)\n",
    "    else:\n",
    "        print(f\"Saving {layer} to {output_path}\")\n",
    "        depth = gpd.read_file(input_path)\n",
    "        depth[\"depth_val\"] = depth[\"value\"].apply(parse_depth_range)\n",
    "        depth.to_file(output_path, layer=layer, driver=\"GPKG\")\n",
    "        print(f\"Saved processed {layer} in {output_path}\")\n",
    "    return depth"
   ]
  },
  {
   "cell_type": "code",
   "execution_count": 14,
   "metadata": {},
   "outputs": [],
   "source": [
    "def convert_nx_to_igraph(G_nx, weight_attr='travel_time'):\n",
    "    node_list = list(G_nx.nodes())\n",
    "    node_to_index = {node: i for i, node in enumerate(node_list)}\n",
    "    index_to_node = {i: node for node, i in node_to_index.items()}\n",
    "\n",
    "    edge_weights = {}\n",
    "    for u, v, attr in G_nx.edges(data=True):\n",
    "        wt = attr.get(weight_attr)\n",
    "        if wt is None:\n",
    "            continue\n",
    "        u_idx, v_idx = node_to_index[u], node_to_index[v]\n",
    "        if (u_idx, v_idx) not in edge_weights or wt < edge_weights[(u_idx, v_idx)]:\n",
    "            edge_weights[(u_idx, v_idx)] = wt\n",
    "\n",
    "    is_directed = G_nx.is_directed()\n",
    "    G_ig = ig.Graph(directed=is_directed)\n",
    "    G_ig.add_vertices(len(node_list))\n",
    "    G_ig.add_edges(edge_weights.keys())\n",
    "    G_ig.es['weight'] = list(edge_weights.values())\n",
    "\n",
    "    return G_ig, node_to_index, index_to_node, edge_weights\n"
   ]
  },
  {
   "cell_type": "code",
   "execution_count": 15,
   "metadata": {},
   "outputs": [],
   "source": [
    "def batch_shortest_paths(G_ig, special_nodes, index_to_node, node_to_index, node_to_muni, compute_path, weight_attr='weight'):\n",
    "    result = {}\n",
    "    special_indices = [node_to_index[n] for n in special_nodes]\n",
    "    index_to_muni = {idx: node_to_muni[index_to_node[idx]] for idx in special_indices}\n",
    "\n",
    "    for src_idx in special_indices:\n",
    "        distances = G_ig.distances(source=src_idx, target=special_indices, weights=weight_attr)[0]\n",
    "        paths = None\n",
    "        if compute_path:\n",
    "            paths = G_ig.get_shortest_paths(src_idx, to=special_indices, weights=weight_attr, output='vpath')\n",
    "\n",
    "        for tgt_pos, tgt_idx in enumerate(special_indices):\n",
    "            if src_idx == tgt_idx:\n",
    "                continue\n",
    "\n",
    "            dist = distances[tgt_pos]\n",
    "            if math.isinf(dist):\n",
    "                result[f\"{index_to_muni[src_idx]}__{index_to_muni[tgt_idx]}\"] = ([], 0) if compute_path else 0\n",
    "                continue\n",
    "\n",
    "            if compute_path:\n",
    "                node_path = paths[tgt_pos]\n",
    "                path = [index_to_node[n] for n in node_path] if node_path else []\n",
    "                result[f\"{index_to_muni[src_idx]}__{index_to_muni[tgt_idx]}\"] = (path, dist)\n",
    "            else:\n",
    "                result[f\"{index_to_muni[src_idx]}__{index_to_muni[tgt_idx]}\"] = dist\n",
    "\n",
    "    return result"
   ]
  },
  {
   "cell_type": "code",
   "execution_count": 16,
   "metadata": {},
   "outputs": [],
   "source": [
    "def batch_shortest_paths_no_path(G_ig, special_nodes, index_to_node, node_to_index, node_to_muni, weight_attr='weight'):\n",
    "    result = {}\n",
    "\n",
    "    special_indices = [node_to_index[n] for n in special_nodes]\n",
    "    index_to_muni = {idx: node_to_muni[index_to_node[idx]] for idx in special_indices}\n",
    "\n",
    "    dist_matrix = G_ig.shortest_paths_dijkstra(\n",
    "        source=special_indices,\n",
    "        target=special_indices,\n",
    "        weights=weight_attr\n",
    "    )\n",
    "\n",
    "    for i, src_idx in enumerate(special_indices):\n",
    "        for j, tgt_idx in enumerate(special_indices):\n",
    "            if src_idx == tgt_idx:\n",
    "                continue\n",
    "\n",
    "            dist = dist_matrix[i][j]\n",
    "            key = f\"{index_to_muni[src_idx]}__{index_to_muni[tgt_idx]}\"\n",
    "            result[key] = 0 if math.isinf(dist) else dist\n",
    "\n",
    "    return result\n"
   ]
  },
  {
   "cell_type": "code",
   "execution_count": 17,
   "metadata": {},
   "outputs": [],
   "source": [
    "def load_or_compute_shortest_paths(filename, G_nx, special_nodes, node_to_muni, save, compute_path):\n",
    "    G_ig, node_to_index, index_to_node, edge_weights = convert_nx_to_igraph(G_nx, weight_attr='travel_time')\n",
    "\n",
    "    if os.path.exists(filename):\n",
    "        with open(filename, 'r') as f:\n",
    "            data = json.load(f)\n",
    "\n",
    "        # Deserialize: convert lists to tuples if compute_path is True\n",
    "        if compute_path:\n",
    "            result = {k: (v[0], v[1]) for k, v in data.items()}\n",
    "        else:\n",
    "            result = data  # just distances\n",
    "    else:\n",
    "        print(\"Computing shortest paths...\")\n",
    "        result = batch_shortest_paths(\n",
    "            G_ig,\n",
    "            special_nodes,\n",
    "            index_to_node,\n",
    "            node_to_index,\n",
    "            node_to_muni,\n",
    "            compute_path=compute_path\n",
    "        )\n",
    "\n",
    "        if save:\n",
    "            if compute_path:\n",
    "                # Convert tuples to lists for JSON compatibility\n",
    "                serializable_result = {k: [v[0], v[1]] for k, v in result.items()}\n",
    "            else:\n",
    "                # Values are just floats\n",
    "                serializable_result = result\n",
    "\n",
    "            with open(filename, 'w') as f:\n",
    "                json.dump(serializable_result, f)\n",
    "\n",
    "    return result"
   ]
  },
  {
   "cell_type": "code",
   "execution_count": 18,
   "metadata": {},
   "outputs": [],
   "source": [
    "logging.basicConfig(level=logging.INFO, format=\"%(asctime)s [%(levelname)s] %(message)s\")"
   ]
  },
  {
   "cell_type": "markdown",
   "metadata": {
    "id": "Ae_V4hjCAsN8"
   },
   "source": [
    "# Street data"
   ]
  },
  {
   "cell_type": "code",
   "execution_count": 20,
   "metadata": {},
   "outputs": [],
   "source": [
    "output_dir = \"processed_files\"\n",
    "os.makedirs(output_dir, exist_ok=True)"
   ]
  },
  {
   "cell_type": "code",
   "execution_count": 21,
   "metadata": {
    "id": "CPYUcbX01Hvy"
   },
   "outputs": [],
   "source": [
    "ox.settings.use_cache = True\n",
    "ox.settings.log_console = False"
   ]
  },
  {
   "cell_type": "code",
   "execution_count": 24,
   "metadata": {
    "editable": true,
    "slideshow": {
     "slide_type": ""
    },
    "tags": []
   },
   "outputs": [
    {
     "name": "stdout",
     "output_type": "stream",
     "text": [
      "102\n",
      "103\n"
     ]
    }
   ],
   "source": [
    "polygon_path = os.path.join(output_dir, \"study_area.geojson\")\n",
    "graph_path = os.path.join(output_dir, \"road_graph.graphml\")\n",
    "\n",
    "valencia_municipalities = [\"Alaquàs\", \"Albal\", \"Albalat de la Ribera\", \"Alberic\", \"Alborache\", \"Alcàsser\", \"l'Alcúdia\", \"Aldaia\", \"Alfafar\", \"Alfarb\", \"Algemesí\", \n",
    "                           \"Alginet\", \"Almussafes\", \"Alzira\", \"Aras de los Olmos\", \"Barxeta\", \"Benagéber\", \"Benaguasil\", \"Benetússer\", \"Benicull de Xúquer\", \n",
    "                           \"Benifaió\", \"Benimuslem\", \"Beniparrell\", \"Benimodo\", \"Bétera\", \"Bugarra\", \"Buñol\", \"Calles\", \"Camporrobles\", \"Carcaixent\", \"Carlet\", \n",
    "                           \"Casinos\", \"Castelló de la Ribera\", \"Catadau\", \"Catarroja\", \"Caudete de las Fuentes\", \"Chelva\",\"Chera\", \"Cheste\", \"Chiva\", \"Chulilla\", \n",
    "                           \"Corbera\", \"Cullera\", \"Dos Aguas\", \"Favara\", \"Fortaleny\", \"Fuenterrobles\", \"Gavarda\", \"Gestalgar\", \"Godelleta\", \"Guadassuar\", \"l'Ènova\", \n",
    "                           \"Llaurí\", \"Llombai\", \"Llíria\", \"Llocnou de la Corona\", \"Loriguilla\", \"Losa del Obispo\", \"Macastre\", \"Manises\", \"Manuel\", \"Massalavés\", \n",
    "                           \"Massanassa\", \"Millares\", \"Mislata\", \"Montroi\", \"Montserrat\", \"Paiporta\", \"Paterna\", \"Pedralba\", \"Picanya\", \"Picassent\", \n",
    "                           \"Polinyà de Xúquer\", \"La Pobla Llarga\", \"Quart de Poblet\", \"Rafelguaraf\", \"Real\", \"Requena\", \"Riba-roja de Túria\", \"Riola\", \n",
    "                           \"Sant Joanet\", \"Sedaví\", \"Senyera\", \"Siete Aguas\", \"Silla\", \"Sinarcas\", \"Sollana\", \"Sot de Chera\", \"Sueca\", \"Tavernes de la Valldigna\", \n",
    "                           \"Titaguas\", \"Torrent\", \"Tous\", \"Tuéjar\", \"Turís\", \"Utiel\", \"València\", \"Vilamarxant\", \"Villar del Arzobispo\", \"Xeraco\", \"Xirivella\", \n",
    "                           \"Yátova\"]\n",
    "\n",
    "urban_center={\n",
    "    \"Alaquàs\": (39.457119, -0.460822), \n",
    "    \"Albal\": (39.397347, -0.413243), \n",
    "    \"Albalat de la Ribera\": (39.201133, -0.386659),\n",
    "    \"Alberic\": (39.116783, -0.517571),\n",
    "    \"Alborache\": (39.391716, -0.771191),\n",
    "    \"Alcàsser\": (39.369810, -0.445176),\n",
    "    \"l'Alcúdia\": (39.194077, -0.507206),\n",
    "    \"Aldaia\": (39.464957, -0.460764),\n",
    "    \"Alfafar\": (39.422773, -0.390834), \n",
    "    \"Alfarb\": (39.276849, -0.560529),\n",
    "    \"Algemesí\": (39.188743, -0.436927),\n",
    "    \"Alginet\": (39.261819, -0.469791),\n",
    "    \"Almussafes\": (39.292656, -0.413260),\n",
    "    \"Alzira\": (39.152038, -0.441074),\n",
    "    \"Aras de los Olmos\": (39.924534, -1.132748),\n",
    "    \"Barxeta\": (39.022865, -0.416099),\n",
    "    \"Benagéber\": (39.707324, -1.100825),\n",
    "    \"Benaguasil\": (39.593635, -0.585004),\n",
    "    \"Benetússer\": (39.423801, -0.397785),\n",
    "    \"Benicull de Xúquer\": (39.185063, -0.382524), \n",
    "    \"Benifaió\": (39.285003, -0.426889),\n",
    "    \"Benimuslem\": (39.131337, -0.492750),\n",
    "    \"Beniparrell\": (39.382235, -0.412277), \n",
    "    \"Benimodo\": (39.213015, -0.528357), \n",
    "    \"Bétera\": (39.591643, -0.462355),\n",
    "    \"Bugarra\": (39.608415, -0.775958), \n",
    "    \"Buñol\": (39.418217, -0.790672), \n",
    "    \"Calles\": (39.725371, -0.973952), \n",
    "    \"Camporrobles\": (39.647167, -1.399476), \n",
    "    \"Carcaixent\": (39.122600, -0.450718), \n",
    "    \"Carlet\": (39.225881, -0.519809),\n",
    "    \"Casinos\": (39.701574, -0.709655),\n",
    "    \"Castelló de la ribera\": (39.079664, -0.514174),\n",
    "    #\"Castielfabib\": (40.131018, -1.303874),\n",
    "    \"Catadau\": (39.275363, -0.569740), \n",
    "    \"Catarroja\": (39.403048, -0.404021),\n",
    "    \"Caudete de las Fuentes\": (39.558958, -1.278492),\n",
    "    \"Chelva\": (39.747097, -0.997692),\n",
    "    \"Chera\": (39.593442, -0.973241), \n",
    "    \"Cheste\": (39.494909, -0.684261), \n",
    "    \"Chiva\": (39.471469, -0.717100), \n",
    "    \"Chulilla\": (39.656217, -0.891905), \n",
    "    \"Corbera\": (39.158264, -0.355378), \n",
    "    \"Cullera\": (39.165250, -0.253612),\n",
    "    \"Dos Aguas\": (39.288825, -0.800238), \n",
    "    \"Favara\": (39.127275, -0.291808), \n",
    "    \"Fortaleny\": (39.183833, -0.313715), \n",
    "    \"Fuenterrobles\": (39.584682, -1.364031),\n",
    "    \"Gavarda\": (39.090082, -0.545045),\n",
    "    \"Gestalgar\": (39.604207, -0.834346), \n",
    "    \"Godelleta\": (39.422040, -0.686434), \n",
    "    \"Guadassuar\": (39.185852, -0.478023),\n",
    "    \"l'Ènova\": (39.045134, -0.480790), \n",
    "    \"Llaurí\": (39.147102, -0.330235), \n",
    "    \"Llombai\": (39.282414, -0.572366), \n",
    "    \"Llíria\": (39.624719, -0.595006), \n",
    "    \"Llocnou de la Corona\": (39.420446, -0.382216), \n",
    "    \"Loriguilla\": (39.489698, -0.571964),\n",
    "    \"Losa del Obispo\": (39.695444, -0.871960),\n",
    "    \"Macastre\": (39.381938, -0.785287),\n",
    "    \"Manises\": (39.493345, -0.457466), \n",
    "    \"Manuel\": (39.052760, -0.494055),\n",
    "    \"Massalavés\": (39.140675, -0.521159),\n",
    "    \"Massanassa\": (39.411460, -0.397986), \n",
    "    \"Millares\": (39.238985, -0.773203), \n",
    "    \"Mislata\": (39.475218, -0.417833), \n",
    "    \"Montroi\": (39.341742, -0.613689), \n",
    "    \"Montserrat\": (39.358012, -0.603212), \n",
    "    \"Paiporta\": (39.429588, -0.417467),\n",
    "    \"Paterna\": (39.500663, -0.439682), \n",
    "    \"Pedralba\": (39.604864, -0.726535), \n",
    "    \"Picanya\": (39.435146, -0.433490), \n",
    "    \"Picassent\": (39.362746, -0.458078), \n",
    "    \"Polinyà de Xúquer\": (39.196150, -0.369461), \n",
    "    \"La Pobla Llarga\": (39.085916, -0.475557),\n",
    "    \"Quart de Poblet\": (39.483003, -0.442288), \n",
    "    \"Rafelguaraf\": (39.050797, -0.455126), \n",
    "    \"Real\": (39.335088, -0.609125), \n",
    "    \"Requena\": (39.487037, -1.098087), \n",
    "    \"Riba-roja de Túria\": (39.546926, -0.566891), \n",
    "    \"Riola\": (39.195261, -0.334682),\n",
    "    \"Sant Joanet\": (39.072333, -0.486829),\n",
    "    \"Sedaví\": (39.425005, -0.385783),\n",
    "    \"Senyera\": (39.063613, -0.510467), \n",
    "    \"Siete Aguas\": (39.471633, -0.915872), \n",
    "    \"Silla\": (39.362679, -0.412147), \n",
    "    \"Sinarcas\": (39.733258, -1.229035), \n",
    "    \"Sollana\": (39.278009, -0.381457), \n",
    "    \"Sot de Chera\": (39.620816, -0.909344), \n",
    "    \"Sueca\": (39.202640, -0.310637),\n",
    "    \"Tavernes de la Valldigna\": (39.071834, -0.267740),\n",
    "    \"Titaguas\": (39.865889, -1.080723),\n",
    "    \"Torrent\": (39.436931, -0.465889), \n",
    "    \"Tous\": (39.138561, -0.586636), \n",
    "    \"Tuéjar\": (39.763485, -1.039679),\n",
    "    \"Turís\": (39.389834, -0.711107), \n",
    "    \"Utiel\": (39.566851, -1.206009), \n",
    "    \"València\": (39.469844, -0.376852), \n",
    "    \"Vilamarxant\": (39.567855, -0.622488),\n",
    "    \"Villar del Arzobispo\": (39.730829, -0.825240),\n",
    "    \"Xeraco\": (39.033395, -0.215323),\n",
    "    \"Xirivella\": (39.463360, -0.428399),\n",
    "    \"Yátova\":(39.385085, -0.808117),\n",
    "    \"Mira\": (39.720949, -1.439225)\n",
    "} \n",
    "\n",
    "print(len(valencia_municipalities))\n",
    "print(len(urban_center))"
   ]
  },
  {
   "cell_type": "code",
   "execution_count": 25,
   "metadata": {},
   "outputs": [
    {
     "name": "stderr",
     "output_type": "stream",
     "text": [
      "2025-07-10 13:16:58,331 [INFO] Downloading polygons for municipalities...\n",
      "C:\\Users\\usuario\\anaconda3\\envs\\oxenv\\lib\\site-packages\\pyogrio\\core.py:35: RuntimeWarning: Could not detect GDAL data files. Set GDAL_DATA environment variable to the correct path.\n",
      "  _init_gdal_data()\n",
      "2025-07-10 13:17:15,516 [INFO] Created 103 records\n"
     ]
    }
   ],
   "source": [
    "if os.path.exists(polygon_path):\n",
    "    logging.info(\"Loading saved study area polygon...\")\n",
    "    study_area = gpd.read_file(polygon_path)\n",
    "else:\n",
    "    logging.info(\"Downloading polygons for municipalities...\")\n",
    "    polygons = []\n",
    "\n",
    "    for municipality in valencia_municipalities:\n",
    "        try:\n",
    "            place_name = f\"{municipality}, Valencia, Spain\"\n",
    "            gdf = ox.geocode_to_gdf(place_name)\n",
    "\n",
    "            if gdf.crs != \"EPSG:4326\":\n",
    "                gdf = gdf.to_crs(\"EPSG:4326\")\n",
    "\n",
    "            polygons.append(gdf)\n",
    "        except Exception as e:\n",
    "            logging.warning(f\"Error retrieving {municipality}: {e}\", exc_info=True)\n",
    "\n",
    "    # Add Mira from Cuenca (just in case)\n",
    "    try:\n",
    "        gdf = ox.geocode_to_gdf(\"Mira, Cuenca, Spain\")\n",
    "        if gdf.crs != \"EPSG:4326\":\n",
    "            gdf = gdf.to_crs(\"EPSG:4326\")\n",
    "        polygons.append(gdf)\n",
    "    except Exception as e:\n",
    "        logging.warning(f\"Error retrieving Mira: {e}\", exc_info=True)\n",
    "\n",
    "    study_area = gpd.GeoDataFrame(pd.concat(polygons, ignore_index=True), crs=\"EPSG:4326\")\n",
    "    study_area = study_area[study_area.geometry.notnull()]\n",
    "    study_area.to_file(polygon_path, driver=\"GeoJSON\")"
   ]
  },
  {
   "cell_type": "code",
   "execution_count": 29,
   "metadata": {},
   "outputs": [
    {
     "name": "stderr",
     "output_type": "stream",
     "text": [
      "2025-07-10 13:18:49,073 [INFO] Polygon geometry union complete.\n"
     ]
    }
   ],
   "source": [
    "study_area = study_area[study_area.geometry.type.isin([\"Polygon\", \"MultiPolygon\"])]\n",
    "polygon = unary_union(study_area.geometry)\n",
    "logging.info(\"Polygon geometry union complete.\")"
   ]
  },
  {
   "cell_type": "code",
   "execution_count": 30,
   "metadata": {},
   "outputs": [
    {
     "name": "stderr",
     "output_type": "stream",
     "text": [
      "2025-07-10 13:18:49,301 [INFO] Downloading road network...\n",
      "2025-07-10 13:20:15,064 [INFO] Calculating travel times...\n",
      "2025-07-10 13:20:27,121 [INFO] Graph saved.\n",
      "2025-07-10 13:20:30,241 [INFO] Converted graph to GeoDataFrames.\n"
     ]
    }
   ],
   "source": [
    "if os.path.exists(graph_path):\n",
    "    logging.info(\"Loading saved road network graph...\")\n",
    "    G = ox.load_graphml(graph_path)\n",
    "    \n",
    "else:\n",
    "    logging.info(\"Downloading road network...\")\n",
    "\n",
    "    G = ox.graph_from_polygon(\n",
    "        polygon,\n",
    "        network_type=\"drive\",\n",
    "        simplify=True,\n",
    "        retain_all=False,\n",
    "        truncate_by_edge=True\n",
    "    )\n",
    "\n",
    "    logging.info(\"Calculating travel times...\")\n",
    "    for u, v, k, data in G.edges(keys=True, data=True):\n",
    "        if \"length\" in data:\n",
    "            speed = None\n",
    "\n",
    "            if \"maxspeed\" in data:\n",
    "                maxspeed = data[\"maxspeed\"]\n",
    "                if isinstance(maxspeed, list):\n",
    "                    speed = maxspeed[0]\n",
    "                else:\n",
    "                    speed = maxspeed\n",
    "\n",
    "                try:\n",
    "                    speed = float(str(maxspeed).split()[0])  # Handle \"50 km/h\" etc.\n",
    "                except ValueError:\n",
    "                    speed = None  # Fallback to highway-based speed below\n",
    "\n",
    "            if speed is None:\n",
    "                highway = data.get(\"highway\", \"\")\n",
    "                if isinstance(highway, list):\n",
    "                    highway = highway[0]\n",
    "                speed = {\n",
    "                    \"motorway\": 120,\n",
    "                    \"motorway_link\": 60,\n",
    "                    \"trunk\": 100,\n",
    "                    \"primary\": 80,\n",
    "                    \"secondary\": 60,\n",
    "                    \"tertiary\": 50,\n",
    "                    \"residential\": 30,\n",
    "                    \"living_street\": 10,\n",
    "                    \"unclassified\": 40,\n",
    "                    \"service\": 20\n",
    "                }.get(highway, 50)  # fallback 50 km/h\n",
    "\n",
    "            surface = data.get(\"surface\", \"\").lower()\n",
    "            surface_speed_factor = {\n",
    "                \"paved\": 1.0,\n",
    "                \"asphalt\": 1.0,\n",
    "                \"concrete\": 1.0,\n",
    "                \"cobblestone\": 0.8,\n",
    "                \"gravel\": 0.7,\n",
    "                \"dirt\": 0.6,\n",
    "                \"ground\": 0.6,\n",
    "                \"sand\": 0.5,\n",
    "                \"unpaved\": 0.7,\n",
    "                \"compacted\": 0.85,\n",
    "                \"fine_gravel\": 0.9\n",
    "            }\n",
    "            for key, factor in surface_speed_factor.items():\n",
    "                if key in surface:\n",
    "                    speed *= factor\n",
    "                    break \n",
    "\n",
    "            speed_mps = speed * 1000 / 3600\n",
    "            data[\"travel_time\"] = data[\"length\"] / speed_mps\n",
    "            data[\"travel_time\"] += 5 # Turn penalty approximation\n",
    "\n",
    "    ox.save_graphml(G, filepath=graph_path)\n",
    "    logging.info(\"Graph saved.\")\n",
    "\n",
    "nodes, edges = ox.graph_to_gdfs(G)\n",
    "logging.info(\"Converted graph to GeoDataFrames.\")"
   ]
  },
  {
   "cell_type": "code",
   "execution_count": 31,
   "metadata": {},
   "outputs": [
    {
     "name": "stderr",
     "output_type": "stream",
     "text": [
      "2025-07-10 13:20:43,637 [INFO] Updated graph saved to: processed_files\\road_graph.graphml\n"
     ]
    }
   ],
   "source": [
    "node_coords = np.array([(geom.y, geom.x) for geom in nodes.geometry])\n",
    "kdtree = cKDTree(node_coords)\n",
    "\n",
    "if 'municipality' not in nodes.columns:\n",
    "    nodes['municipality'] = \"\"\n",
    "\n",
    "for name, (lat, lon) in urban_center.items():\n",
    "    try:\n",
    "        # Query closest node index\n",
    "        _, idx = kdtree.query([lat, lon], k=1)\n",
    "        nearest_node_idx = nodes.index[idx]\n",
    "        nodes.at[nearest_node_idx, 'municipality'] = name\n",
    "    except Exception as e:\n",
    "        logging.warning(f\"Error assigning municipality {name}: {e}\")\n",
    "\n",
    "\n",
    "for node_id, row in nodes.iterrows():\n",
    "    G.nodes[node_id]['municipality'] = row['municipality']\n",
    "\n",
    "ox.save_graphml(G, graph_path)\n",
    "logging.info(f\"Updated graph saved to: {graph_path}\")        "
   ]
  },
  {
   "cell_type": "code",
   "execution_count": 32,
   "metadata": {},
   "outputs": [
    {
     "name": "stderr",
     "output_type": "stream",
     "text": [
      "2025-07-10 13:20:43,653 [INFO] 'municipality' field already exists in nodes.\n"
     ]
    }
   ],
   "source": [
    "from scipy.spatial import cKDTree\n",
    "\n",
    "if 'municipality' not in nodes.columns:\n",
    "    logging.info(\"Adding 'municipality' field to nodes...\")\n",
    "\n",
    "    nodes['municipality'] = \"\"\n",
    "\n",
    "    node_coords = np.array([(geom.y, geom.x) for geom in nodes.geometry])\n",
    "    kdtree = cKDTree(node_coords)\n",
    "\n",
    "    for _, row in study_area.iterrows():\n",
    "        name = row.get(\"name\") or row.get(\"display_name\") or \"unknown\"\n",
    "        geom = row.geometry\n",
    "\n",
    "        if not geom or not geom.is_valid or name == \"Favara\":\n",
    "            continue\n",
    "\n",
    "        try:\n",
    "            muni_graph = ox.graph_from_polygon(geom, network_type='drive', simplify=True)\n",
    "            center_node = ox.distance.nearest_nodes(muni_graph, X=geom.centroid.x, Y=geom.centroid.y)\n",
    "            center_point = Point((muni_graph.nodes[center_node]['x'], muni_graph.nodes[center_node]['y']))\n",
    "            _, idx = kdtree.query([center_point.y, center_point.x], k=1)\n",
    "            nearest_node_idx = nodes.index[idx]\n",
    "            nodes.at[nearest_node_idx, 'municipality'] = name\n",
    "\n",
    "        except Exception as e:\n",
    "            logging.warning(f\"Could not process {name}: {e}\")\n",
    "            continue\n",
    "\n",
    "    for node_id, row in nodes.iterrows():\n",
    "        G.nodes[node_id]['municipality'] = row['municipality']\n",
    "\n",
    "    graph_path = os.path.join(output_dir, \"road_graph.graphml\")\n",
    "    ox.save_graphml(G, graph_path)\n",
    "    logging.info(f\"Updated graph saved to: {graph_path}\")\n",
    "\n",
    "else:\n",
    "    logging.info(\"'municipality' field already exists in nodes.\")"
   ]
  },
  {
   "cell_type": "code",
   "execution_count": 33,
   "metadata": {},
   "outputs": [],
   "source": [
    "rail=False\n",
    "if rail:\n",
    "    graph_path_rail = os.path.join(output_dir, \"study_area_rail.graphml\")\n",
    "    if os.path.exists(graph_path_rail):\n",
    "        print(\"Loading saved rail network graph...\")\n",
    "        G_rail = ox.load_graphml(graph_path_rail)\n",
    "    else:\n",
    "        print(\"Downloading rail network graph...\")\n",
    "        rail_filter = '[\"railway\"~\"rail|light_rail|subway|tram\"]'\n",
    "        G_rail = ox.graph_from_polygon(polygon, custom_filter=rail_filter, network_type=\"all\")\n",
    "        ox.save_graphml(G_rail, filepath=graph_path_rail)\n",
    "\n",
    "    nodes_rail, edges_rail = ox.graph_to_gdfs(G_rail)\n",
    "    del G_rail"
   ]
  },
  {
   "cell_type": "markdown",
   "metadata": {},
   "source": [
    "# Layers"
   ]
  },
  {
   "cell_type": "code",
   "execution_count": 34,
   "metadata": {},
   "outputs": [],
   "source": [
    "input_dir = \"source_files\"\n",
    "output_dir = \"processed_files\"\n",
    "os.makedirs(output_dir, exist_ok=True)"
   ]
  },
  {
   "cell_type": "code",
   "execution_count": 35,
   "metadata": {},
   "outputs": [],
   "source": [
    "zone_input_files = {\n",
    "    \"10 yr\": f\"{input_dir}/laminaspb-q10/Q10_2Ciclo_PB_20241121.shp\",\n",
    "    \"100 yr\": f\"{input_dir}/laminaspb-q100/Q100_2Ciclo_PB_20241121_ETRS89.shp\",\n",
    "    \"500 yr\": f\"{input_dir}/laminaspb-q500/Q500_2Ciclo_PB_20241121_ETRS89.shp\",\n",
    "    \"DANA_31_10_2024\": f\"{input_dir}/EMSR773_AOI01_DEL_PRODUCT_v1/EMSR773_AOI01_DEL_PRODUCT_observedEventA_v1.shp\",\n",
    "    \"DANA_03_11_2024\": f\"{input_dir}/EMSR773_AOI01_DEL_MONIT01_v1/EMSR773_AOI01_DEL_MONIT01_observedEventA_v1.shp\",\n",
    "    \"DANA_05_11_2024\": f\"{input_dir}/EMSR773_AOI01_DEL_MONIT02_v1/EMSR773_AOI01_DEL_MONIT02_observedEventA_v1.shp\",\n",
    "    \"DANA_06_11_2024\": f\"{input_dir}/EMSR773_AOI01_DEL_MONIT03_v1/EMSR773_AOI01_DEL_MONIT03_observedEventA_v1.shp\",\n",
    "    \"DANA_08_11_2024\": f\"{input_dir}/EMSR773_AOI01_DEL_MONIT04_v1/EMSR773_AOI01_DEL_MONIT04_observedEventA_v1.shp\"\n",
    "}\n",
    "\n",
    "depth_input_files = {\n",
    "    \"DANA_31_10_2024\": f\"{input_dir}/EMSR773_AOI01_DEL_PRODUCT_v1/EMSR773_AOI01_DEL_PRODUCT_floodDepthA_v1.shp\",\n",
    "    \"DANA_03_11_2024\": f\"{input_dir}/EMSR773_AOI01_DEL_MONIT01_v1/EMSR773_AOI01_DEL_MONIT01_floodDepthA_v1.shp\",\n",
    "    \"DANA_05_11_2024\": f\"{input_dir}/EMSR773_AOI01_DEL_MONIT02_v1/EMSR773_AOI01_DEL_MONIT02_floodDepthA_v1.shp\",\n",
    "    \"DANA_06_11_2024\": f\"{input_dir}/EMSR773_AOI01_DEL_MONIT03_v1/EMSR773_AOI01_DEL_MONIT03_floodDepthA_v1.shp\",\n",
    "    \"DANA_08_11_2024\": f\"{input_dir}/EMSR773_AOI01_DEL_MONIT04_v1/EMSR773_AOI01_DEL_MONIT04_floodDepthA_v1.shp\"\n",
    "}\n",
    "\n",
    "zone_output_files = {\n",
    "    \"10 yr\": f\"{output_dir}/zone_flood_risk_10.gpkg\",\n",
    "    \"100 yr\": f\"{output_dir}/zone_flood_risk_100.gpkg\",\n",
    "    \"500 yr\": f\"{output_dir}/zone_flood_risk_500.gpkg\",\n",
    "    \"DANA_31_10_2024\": f\"{output_dir}/zone_DANA_31_10_2024.gpkg\",\n",
    "    \"DANA_03_11_2024\": f\"{output_dir}/zone_DANA_03_11_2024.gpkg\",\n",
    "    \"DANA_05_11_2024\": f\"{output_dir}/zone_DANA_05_11_2024.gpkg\",\n",
    "    \"DANA_06_11_2024\": f\"{output_dir}/zone_DANA_06_11_2024.gpkg\",\n",
    "    \"DANA_08_11_2024\": f\"{output_dir}/zone_DANA_08_11_2024.gpkg\"\n",
    "}\n",
    "\n",
    "depth_output_files = {\n",
    "    \"DANA_31_10_2024\": f\"{output_dir}/depth_DANA_31_10_2024.gpkg\",\n",
    "    \"DANA_03_11_2024\": f\"{output_dir}/depth_DANA_03_11_2024.gpkg\",\n",
    "    \"DANA_05_11_2024\": f\"{output_dir}/depth_DANA_05_11_2024.gpkg\",\n",
    "    \"DANA_06_11_2024\": f\"{output_dir}/depth_DANA_06_11_2024.gpkg\",\n",
    "    \"DANA_08_11_2024\": f\"{output_dir}/depth_DANA_08_11_2024.gpkg\"\n",
    "}\n",
    "\n",
    "cut_roads_files = {\n",
    "    \"10 yr\": f\"{output_dir}/cut_roads_flood_risk_10.graphml\",\n",
    "    \"100 yr\": f\"{output_dir}/cut_roads_flood_risk_100.graphml\",\n",
    "    \"500 yr\": f\"{output_dir}/cut_roads_flood_risk_500.graphml\",\n",
    "    \"DANA_31_10_2024\": f\"{output_dir}/cut_roads_DANA_31_10_2024.graphml\",\n",
    "    \"DANA_03_11_2024\": f\"{output_dir}/cut_roads_DANA_03_11_2024.graphml\",\n",
    "    \"DANA_05_11_2024\": f\"{output_dir}/cut_roads_DANA_05_11_2024.graphml\",\n",
    "    \"DANA_06_11_2024\": f\"{output_dir}/cut_roads_DANA_06_11_2024.graphml\",\n",
    "    \"DANA_08_11_2024\": f\"{output_dir}/cut_roads_DANA_08_11_2024.graphml\"\n",
    "}\n",
    "\n",
    "safe_roads_files = {\n",
    "    \"10 yr\": f\"{output_dir}/safe_roads_flood_risk_10.graphml\",\n",
    "    \"100 yr\": f\"{output_dir}/safe_roads_flood_risk_100.graphml\",\n",
    "    \"500 yr\": f\"{output_dir}/safe_roads_flood_risk_500.graphml\",\n",
    "    \"DANA_31_10_2024\": f\"{output_dir}/safe_roads_DANA_31_10_2024.graphml\",\n",
    "    \"DANA_03_11_2024\": f\"{output_dir}/safe_roads_DANA_03_11_2024.graphml\",\n",
    "    \"DANA_05_11_2024\": f\"{output_dir}/safe_roads_DANA_05_11_2024.graphml\",\n",
    "    \"DANA_06_11_2024\": f\"{output_dir}/safe_roads_DANA_06_11_2024.graphml\",\n",
    "    \"DANA_08_11_2024\": f\"{output_dir}/safe_roads_DANA_08_11_2024.graphml\"\n",
    "}\n",
    "\n",
    "shortest_path_files = {\n",
    "    \"Normal Conditions\": f\"{output_dir}/shorthest_paths_NP.json\", \n",
    "    \"10 yr\": f\"{output_dir}/shorthest_paths_10.json\",\n",
    "    \"100 yr\": f\"{output_dir}/shorthest_paths_100.json\",\n",
    "    \"500 yr\": f\"{output_dir}/shorthest_paths_500.json\",\n",
    "    \"DANA_31_10_2024\": f\"{output_dir}/shorthest_paths_DANA_31_10_2024.json\",\n",
    "    \"DANA_03_11_2024\": f\"{output_dir}/shorthest_paths_DANA_03_11_2024.json\",\n",
    "    \"DANA_05_11_2024\": f\"{output_dir}/shorthest_paths_DANA_05_11_2024.json\",\n",
    "    \"DANA_06_11_2024\": f\"{output_dir}/shorthest_paths_DANA_06_11_2024.json\",\n",
    "    \"DANA_08_11_2024\": f\"{output_dir}/shorthest_paths_DANA_08_11_2024.json\"\n",
    "}"
   ]
  },
  {
   "cell_type": "markdown",
   "metadata": {
    "id": "im671dntApI-"
   },
   "source": [
    "# Flood zones"
   ]
  },
  {
   "cell_type": "code",
   "execution_count": 36,
   "metadata": {},
   "outputs": [],
   "source": [
    "layer_names=[\"10 yr\",\"100 yr\",\"500 yr\",\"DANA_31_10_2024\",\"DANA_03_11_2024\",\"DANA_05_11_2024\",\"DANA_06_11_2024\",\"DANA_08_11_2024\"]\n",
    "#layer_names=[\"DANA_31_10_2024\"]\n",
    "flood_zones_var = {}\n",
    "flood_edges_var = {}\n",
    "flood_graph_var = {}"
   ]
  },
  {
   "cell_type": "code",
   "execution_count": 37,
   "metadata": {},
   "outputs": [
    {
     "name": "stdout",
     "output_type": "stream",
     "text": [
      "Clipping and saving 10 yr from processed_files/zone_flood_risk_10.gpkg\n"
     ]
    },
    {
     "name": "stderr",
     "output_type": "stream",
     "text": [
      "C:\\Users\\usuario\\anaconda3\\envs\\oxenv\\lib\\site-packages\\pyogrio\\raw.py:723: RuntimeWarning: Cannot find tms_NZTM2000.json (GDAL_DATA is not defined)\n",
      "  ogr_write(\n",
      "2025-07-10 13:21:20,476 [INFO] Created 63 records\n"
     ]
    },
    {
     "name": "stdout",
     "output_type": "stream",
     "text": [
      "Tagging and saving 10 yr to processed_files/cut_roads_flood_risk_10.graphml\n"
     ]
    },
    {
     "name": "stderr",
     "output_type": "stream",
     "text": [
      "C:\\Users\\usuario\\anaconda3\\envs\\oxenv\\lib\\site-packages\\pyogrio\\raw.py:723: RuntimeWarning: The filename extension should be 'gpkg' instead of 'graphml' to conform to the GPKG specification.\n",
      "  ogr_write(\n",
      "2025-07-10 13:22:22,777 [INFO] Created 134,342 records\n"
     ]
    },
    {
     "name": "stdout",
     "output_type": "stream",
     "text": [
      "Rebuilding pruned graph...\n",
      "Saved pruned graph to processed_files/safe_roads_flood_risk_10.graphml\n",
      "Clipping and saving 100 yr from processed_files/zone_flood_risk_100.gpkg\n"
     ]
    },
    {
     "name": "stderr",
     "output_type": "stream",
     "text": [
      "2025-07-10 13:23:24,196 [INFO] Created 67 records\n"
     ]
    },
    {
     "name": "stdout",
     "output_type": "stream",
     "text": [
      "Tagging and saving 100 yr to processed_files/cut_roads_flood_risk_100.graphml\n"
     ]
    },
    {
     "name": "stderr",
     "output_type": "stream",
     "text": [
      "C:\\Users\\usuario\\anaconda3\\envs\\oxenv\\lib\\site-packages\\pyogrio\\raw.py:723: RuntimeWarning: The filename extension should be 'gpkg' instead of 'graphml' to conform to the GPKG specification.\n",
      "  ogr_write(\n",
      "2025-07-10 13:25:12,558 [INFO] Created 134,342 records\n"
     ]
    },
    {
     "name": "stdout",
     "output_type": "stream",
     "text": [
      "Rebuilding pruned graph...\n",
      "Saved pruned graph to processed_files/safe_roads_flood_risk_100.graphml\n",
      "Clipping and saving 500 yr from processed_files/zone_flood_risk_500.gpkg\n"
     ]
    },
    {
     "name": "stderr",
     "output_type": "stream",
     "text": [
      "C:\\Users\\usuario\\anaconda3\\envs\\oxenv\\lib\\site-packages\\pyogrio\\raw.py:198: RuntimeWarning: source_files/laminaspb-q500/Q500_2Ciclo_PB_20241121_ETRS89.shp contains polygon(s) with rings with invalid winding order. Autocorrecting them, but that shapefile should be corrected using ogr2ogr for example.\n",
      "  return ogr_read(\n",
      "2025-07-10 13:26:24,079 [INFO] Created 69 records\n"
     ]
    },
    {
     "name": "stdout",
     "output_type": "stream",
     "text": [
      "Tagging and saving 500 yr to processed_files/cut_roads_flood_risk_500.graphml\n"
     ]
    },
    {
     "name": "stderr",
     "output_type": "stream",
     "text": [
      "C:\\Users\\usuario\\anaconda3\\envs\\oxenv\\lib\\site-packages\\pyogrio\\raw.py:723: RuntimeWarning: The filename extension should be 'gpkg' instead of 'graphml' to conform to the GPKG specification.\n",
      "  ogr_write(\n",
      "2025-07-10 13:33:08,688 [INFO] Created 134,342 records\n"
     ]
    },
    {
     "name": "stdout",
     "output_type": "stream",
     "text": [
      "Rebuilding pruned graph...\n",
      "Saved pruned graph to processed_files/safe_roads_flood_risk_500.graphml\n",
      "Clipping and saving DANA_31_10_2024 from processed_files/zone_DANA_31_10_2024.gpkg\n"
     ]
    },
    {
     "name": "stderr",
     "output_type": "stream",
     "text": [
      "2025-07-10 13:33:27,243 [INFO] Created 1,360 records\n"
     ]
    },
    {
     "name": "stdout",
     "output_type": "stream",
     "text": [
      "Tagging and saving DANA_31_10_2024 to processed_files/cut_roads_DANA_31_10_2024.graphml\n"
     ]
    },
    {
     "name": "stderr",
     "output_type": "stream",
     "text": [
      "C:\\Users\\usuario\\anaconda3\\envs\\oxenv\\lib\\site-packages\\pyogrio\\raw.py:723: RuntimeWarning: The filename extension should be 'gpkg' instead of 'graphml' to conform to the GPKG specification.\n",
      "  ogr_write(\n",
      "2025-07-10 13:33:47,489 [INFO] Created 134,342 records\n"
     ]
    },
    {
     "name": "stdout",
     "output_type": "stream",
     "text": [
      "Rebuilding pruned graph...\n",
      "Saved pruned graph to processed_files/safe_roads_DANA_31_10_2024.graphml\n",
      "Clipping and saving DANA_03_11_2024 from processed_files/zone_DANA_03_11_2024.gpkg\n"
     ]
    },
    {
     "name": "stderr",
     "output_type": "stream",
     "text": [
      "2025-07-10 13:34:04,251 [INFO] Created 791 records\n"
     ]
    },
    {
     "name": "stdout",
     "output_type": "stream",
     "text": [
      "Tagging and saving DANA_03_11_2024 to processed_files/cut_roads_DANA_03_11_2024.graphml\n"
     ]
    },
    {
     "name": "stderr",
     "output_type": "stream",
     "text": [
      "C:\\Users\\usuario\\anaconda3\\envs\\oxenv\\lib\\site-packages\\pyogrio\\raw.py:723: RuntimeWarning: The filename extension should be 'gpkg' instead of 'graphml' to conform to the GPKG specification.\n",
      "  ogr_write(\n",
      "2025-07-10 13:34:28,073 [INFO] Created 134,342 records\n"
     ]
    },
    {
     "name": "stdout",
     "output_type": "stream",
     "text": [
      "Rebuilding pruned graph...\n",
      "Saved pruned graph to processed_files/safe_roads_DANA_03_11_2024.graphml\n",
      "Clipping and saving DANA_05_11_2024 from processed_files/zone_DANA_05_11_2024.gpkg\n"
     ]
    },
    {
     "name": "stderr",
     "output_type": "stream",
     "text": [
      "2025-07-10 13:34:45,798 [INFO] Created 495 records\n"
     ]
    },
    {
     "name": "stdout",
     "output_type": "stream",
     "text": [
      "Tagging and saving DANA_05_11_2024 to processed_files/cut_roads_DANA_05_11_2024.graphml\n"
     ]
    },
    {
     "name": "stderr",
     "output_type": "stream",
     "text": [
      "C:\\Users\\usuario\\anaconda3\\envs\\oxenv\\lib\\site-packages\\pyogrio\\raw.py:723: RuntimeWarning: The filename extension should be 'gpkg' instead of 'graphml' to conform to the GPKG specification.\n",
      "  ogr_write(\n",
      "2025-07-10 13:34:56,380 [INFO] Created 134,342 records\n"
     ]
    },
    {
     "name": "stdout",
     "output_type": "stream",
     "text": [
      "Rebuilding pruned graph...\n"
     ]
    },
    {
     "name": "stderr",
     "output_type": "stream",
     "text": [
      "2025-07-10 13:35:13,173 [INFO] Created 60 records\n"
     ]
    },
    {
     "name": "stdout",
     "output_type": "stream",
     "text": [
      "Saved pruned graph to processed_files/safe_roads_DANA_05_11_2024.graphml\n",
      "Clipping and saving DANA_06_11_2024 from processed_files/zone_DANA_06_11_2024.gpkg\n",
      "Tagging and saving DANA_06_11_2024 to processed_files/cut_roads_DANA_06_11_2024.graphml\n"
     ]
    },
    {
     "name": "stderr",
     "output_type": "stream",
     "text": [
      "C:\\Users\\usuario\\anaconda3\\envs\\oxenv\\lib\\site-packages\\pyogrio\\raw.py:723: RuntimeWarning: The filename extension should be 'gpkg' instead of 'graphml' to conform to the GPKG specification.\n",
      "  ogr_write(\n",
      "2025-07-10 13:35:19,642 [INFO] Created 134,342 records\n"
     ]
    },
    {
     "name": "stdout",
     "output_type": "stream",
     "text": [
      "Rebuilding pruned graph...\n",
      "Saved pruned graph to processed_files/safe_roads_DANA_06_11_2024.graphml\n",
      "Clipping and saving DANA_08_11_2024 from processed_files/zone_DANA_08_11_2024.gpkg\n"
     ]
    },
    {
     "name": "stderr",
     "output_type": "stream",
     "text": [
      "2025-07-10 13:35:37,804 [INFO] Created 269 records\n"
     ]
    },
    {
     "name": "stdout",
     "output_type": "stream",
     "text": [
      "Tagging and saving DANA_08_11_2024 to processed_files/cut_roads_DANA_08_11_2024.graphml\n"
     ]
    },
    {
     "name": "stderr",
     "output_type": "stream",
     "text": [
      "C:\\Users\\usuario\\anaconda3\\envs\\oxenv\\lib\\site-packages\\pyogrio\\raw.py:723: RuntimeWarning: The filename extension should be 'gpkg' instead of 'graphml' to conform to the GPKG specification.\n",
      "  ogr_write(\n",
      "2025-07-10 13:35:44,988 [INFO] Created 134,342 records\n"
     ]
    },
    {
     "name": "stdout",
     "output_type": "stream",
     "text": [
      "Rebuilding pruned graph...\n",
      "Saved pruned graph to processed_files/safe_roads_DANA_08_11_2024.graphml\n"
     ]
    }
   ],
   "source": [
    "for name in layer_names: \n",
    "    result = clip_flood_zone(edges.crs, name, polygon)\n",
    "    flood_zones_var[name] = result\n",
    "    result_1, result_2 = tag_flooded_roads(edges, nodes, result, name)\n",
    "    flood_edges_var[name] = result_1\n",
    "    flood_graph_var[name] = result_2 "
   ]
  },
  {
   "cell_type": "code",
   "execution_count": 38,
   "metadata": {},
   "outputs": [],
   "source": [
    "layer_names = [\"DANA_31_10_2024\",\"DANA_03_11_2024\",\"DANA_05_11_2024\",\"DANA_06_11_2024\",\"DANA_08_11_2024\"]\n",
    "depth_zones = {}"
   ]
  },
  {
   "cell_type": "code",
   "execution_count": 39,
   "metadata": {},
   "outputs": [
    {
     "name": "stderr",
     "output_type": "stream",
     "text": [
      "2025-07-10 13:36:01,288 [INFO] Created 3,216 records\n"
     ]
    },
    {
     "name": "stdout",
     "output_type": "stream",
     "text": [
      "Saving depth_val to processed_files/depth_DANA_31_10_2024.gpkg\n",
      "Saved processed depth_val in processed_files/depth_DANA_31_10_2024.gpkg\n",
      "Saving depth_val to processed_files/depth_DANA_03_11_2024.gpkg\n"
     ]
    },
    {
     "name": "stderr",
     "output_type": "stream",
     "text": [
      "2025-07-10 13:36:01,531 [INFO] Created 1,968 records\n",
      "2025-07-10 13:36:01,626 [INFO] Created 1,478 records\n",
      "2025-07-10 13:36:01,689 [INFO] Created 195 records\n"
     ]
    },
    {
     "name": "stdout",
     "output_type": "stream",
     "text": [
      "Saved processed depth_val in processed_files/depth_DANA_03_11_2024.gpkg\n",
      "Saving depth_val to processed_files/depth_DANA_05_11_2024.gpkg\n",
      "Saved processed depth_val in processed_files/depth_DANA_05_11_2024.gpkg\n",
      "Saving depth_val to processed_files/depth_DANA_06_11_2024.gpkg\n",
      "Saved processed depth_val in processed_files/depth_DANA_06_11_2024.gpkg\n",
      "Saving depth_val to processed_files/depth_DANA_08_11_2024.gpkg\n"
     ]
    },
    {
     "name": "stderr",
     "output_type": "stream",
     "text": [
      "2025-07-10 13:36:01,752 [INFO] Created 440 records\n"
     ]
    },
    {
     "name": "stdout",
     "output_type": "stream",
     "text": [
      "Saved processed depth_val in processed_files/depth_DANA_08_11_2024.gpkg\n"
     ]
    }
   ],
   "source": [
    "for name in layer_names: \n",
    "    depth = flood_depth_zones(name)\n",
    "    depth_zones[name]=depth"
   ]
  },
  {
   "cell_type": "markdown",
   "metadata": {},
   "source": [
    "# Navegability Analysis"
   ]
  },
  {
   "cell_type": "code",
   "execution_count": 40,
   "metadata": {},
   "outputs": [
    {
     "name": "stdout",
     "output_type": "stream",
     "text": [
      "Computing shortest paths...\n"
     ]
    }
   ],
   "source": [
    "filename = shortest_path_files[\"Normal Conditions\"]\n",
    "\n",
    "special_nodes = [n for n, attr in G.nodes(data=True) if attr.get('municipality')]\n",
    "node_to_muni = {n: attr.get('municipality', '') for n, attr in G.nodes(data=True)}\n",
    "\n",
    "T_NP_dictionary = load_or_compute_shortest_paths(filename, G, special_nodes, node_to_muni,True,True)"
   ]
  },
  {
   "cell_type": "code",
   "execution_count": 41,
   "metadata": {
    "scrolled": true
   },
   "outputs": [
    {
     "name": "stdout",
     "output_type": "stream",
     "text": [
      "10 yr 7 weakly connected components\n",
      "Component 1 municipalities: {'Aldaia', 'Silla', 'Llíria', 'Benimodo', 'Fortaleny', 'Llombai', 'Sot de Chera', 'Alaquàs', 'Algemesí', 'Favara', 'Casinos', 'Albalat de la Ribera', 'Torrent', 'Polinyà de Xúquer', 'Paiporta', 'Chiva', 'Turís', 'Benicull de Xúquer', 'Alberic', 'Sueca', 'Beniparrell', 'Gestalgar', 'Bugarra', 'Massanassa', 'Cullera', 'Chera', 'Fuenterrobles', 'Alzira', 'Picanya', 'Mislata', 'Benaguasil', 'València', 'Benetússer', 'Godelleta', 'Siete Aguas', 'Riba-roja de Túria', 'Llocnou de la Corona', 'Macastre', 'Alborache', 'Pedralba', 'Gavarda', 'Sollana', 'Yátova', 'Llaurí', 'Manises', 'Benifaió', 'Albal', 'Sedaví', 'Almussafes', 'Guadassuar', 'Alfarb', 'Alginet', 'Montserrat', 'Paterna', 'Loriguilla', 'Riola', 'Picassent', 'Buñol', 'Benimuslem', 'Xirivella', 'Utiel', 'Cheste', 'Camporrobles', \"l'Alcúdia\", 'Chulilla', 'Alfafar', 'Villar del Arzobispo', 'Tavernes de la Valldigna', 'Losa del Obispo', 'Bétera', 'Carlet', 'Benagéber', 'Catarroja', 'Caudete de las Fuentes', 'Sinarcas', 'Real', 'Alcàsser', 'Massalavés', 'Vilamarxant', 'Montroi', 'Requena', 'Tous', 'Catadau', 'Corbera', 'Quart de Poblet'}\n",
      "Component 2 municipalities: {'La Pobla Llarga', 'Rafelguaraf', 'Castelló de la ribera', 'Manuel', 'Sant Joanet', \"l'Ènova\", 'Carcaixent', 'Senyera', 'Barxeta'}\n",
      "Component 3 municipalities: {'Xeraco'}\n",
      "Component 4 municipalities: {'Dos Aguas'}\n",
      "Component 5 municipalities: {'Millares'}\n",
      "Component 6 municipalities: {'Calles', 'Tuéjar', 'Titaguas', 'Chelva', 'Aras de los Olmos'}\n",
      "Component 7 municipalities: {'Mira'}\n",
      "100 yr 30 weakly connected components\n",
      "Component 1 municipalities: {'Picanya', 'Silla', 'Picassent', 'Benimodo', 'Buñol', 'Llombai', 'Montroi', 'Godelleta', 'Siete Aguas', 'Macastre', 'Alborache', 'Torrent', 'Gavarda', 'Tous', 'Yátova', 'Carlet', 'Catadau', 'Turís', 'Chiva', 'Alberic', 'Catarroja', 'Benifaió', 'Albal', 'Almussafes', 'Alginet', 'Alfarb', 'Montserrat', 'Alcàsser', 'Massalavés'}\n",
      "Component 2 municipalities: {'Algemesí'}\n",
      "Component 3 municipalities: {'Guadassuar'}\n",
      "Component 4 municipalities: {\"l'Alcúdia\"}\n",
      "Component 5 municipalities: {'Llaurí', 'Tavernes de la Valldigna', 'Favara', 'Corbera'}\n",
      "Component 6 municipalities: {'La Pobla Llarga', 'Manuel', 'Castelló de la ribera', 'Sant Joanet', \"l'Ènova\", 'Senyera'}\n",
      "Component 7 municipalities: {'Xeraco'}\n",
      "Component 8 municipalities: {'Sueca', 'Cullera'}\n",
      "Component 9 municipalities: {'Sollana'}\n",
      "Component 10 municipalities: {'Albalat de la Ribera'}\n",
      "Component 11 municipalities: {'Riola'}\n",
      "Component 12 municipalities: {'Barxeta'}\n",
      "Component 13 municipalities: {'Polinyà de Xúquer'}\n",
      "Component 14 municipalities: {'Alzira'}\n",
      "Component 15 municipalities: {'Fortaleny'}\n",
      "Component 16 municipalities: {'Benicull de Xúquer'}\n",
      "Component 17 municipalities: {'Benimuslem'}\n",
      "Component 18 municipalities: {'Rafelguaraf'}\n",
      "Component 19 municipalities: {'Real'}\n",
      "Component 20 municipalities: {'Dos Aguas'}\n",
      "Component 21 municipalities: {'Paterna', 'Loriguilla', 'Mislata', 'Llíria', 'Benaguasil', 'València', 'Vilamarxant', 'Benetússer', 'Xirivella', 'Cheste', 'Sot de Chera', 'Alaquàs', 'Casinos', 'Riba-roja de Túria', 'Llocnou de la Corona', 'Pedralba', 'Chulilla', 'Alfafar', 'Villar del Arzobispo', 'Paiporta', 'Losa del Obispo', 'Bétera', 'Manises', 'Gestalgar', 'Bugarra', 'Massanassa', 'Sedaví', 'Quart de Poblet'}\n",
      "Component 22 municipalities: {'Caudete de las Fuentes', 'Fuenterrobles', 'Camporrobles'}\n",
      "Component 23 municipalities: {'Millares'}\n",
      "Component 24 municipalities: {'Sinarcas', 'Benagéber', 'Requena', 'Utiel', 'Chera'}\n",
      "Component 25 municipalities: {'Tuéjar', 'Titaguas', 'Chelva', 'Aras de los Olmos'}\n",
      "Component 26 municipalities: {'Calles'}\n",
      "Component 27 municipalities: {'Mira'}\n",
      "Component 28 municipalities: {'Carcaixent'}\n",
      "Component 29 municipalities: {'Aldaia'}\n",
      "Component 30 municipalities: {'Beniparrell'}\n",
      "500 yr 45 weakly connected components\n",
      "Component 1 municipalities: {'Alfarb', 'Benimodo', 'Carlet', 'Catadau', 'Alberic', 'Llombai', 'Gavarda', 'Tous', 'Massalavés'}\n",
      "Component 2 municipalities: {'Algemesí'}\n",
      "Component 3 municipalities: {'Picanya', 'Yátova', 'Albal', 'Macastre', 'Silla', 'Picassent', 'Buñol', 'Chiva', 'Turís', 'Alborache', 'Montserrat', 'Torrent', 'Montroi', 'Alcàsser', 'Godelleta', 'Siete Aguas', 'Benifaió'}\n",
      "Component 4 municipalities: {\"l'Alcúdia\"}\n",
      "Component 5 municipalities: {'Llaurí', 'Corbera', 'Favara'}\n",
      "Component 6 municipalities: {'La Pobla Llarga', 'Manuel', 'Castelló de la ribera', 'Sant Joanet', \"l'Ènova\", 'Senyera'}\n",
      "Component 7 municipalities: {'Xeraco'}\n",
      "Component 8 municipalities: {'Sueca', 'Cullera'}\n",
      "Component 9 municipalities: {'Tavernes de la Valldigna'}\n",
      "Component 10 municipalities: {'Sollana'}\n",
      "Component 11 municipalities: {'Albalat de la Ribera'}\n",
      "Component 12 municipalities: {'Riola'}\n",
      "Component 13 municipalities: {'Barxeta'}\n",
      "Component 14 municipalities: {'Polinyà de Xúquer'}\n",
      "Component 15 municipalities: {'Guadassuar'}\n",
      "Component 16 municipalities: {'Alginet'}\n",
      "Component 17 municipalities: {'Fortaleny'}\n",
      "Component 18 municipalities: {'Benicull de Xúquer'}\n",
      "Component 19 municipalities: {'Benimuslem'}\n",
      "Component 20 municipalities: {'Alzira'}\n",
      "Component 21 municipalities: {'Real'}\n",
      "Component 22 municipalities: {'Dos Aguas'}\n",
      "Component 23 municipalities: {'València', 'Mislata'}\n",
      "Component 24 municipalities: {'Paterna', 'Bétera'}\n",
      "Component 25 municipalities: {'Riba-roja de Túria', 'Loriguilla', 'Losa del Obispo', 'Llíria', 'Gestalgar', 'Quart de Poblet', 'Benaguasil', 'Vilamarxant', 'Chulilla', 'Manises', 'Cheste', 'Sot de Chera', 'Bugarra', 'Casinos'}\n",
      "Component 26 municipalities: {'Llocnou de la Corona', 'Sedaví', 'Benetússer', 'Alfafar', 'Alaquàs', 'Paiporta'}\n",
      "Component 27 municipalities: {'Caudete de las Fuentes', 'Fuenterrobles', 'Camporrobles'}\n",
      "Component 28 municipalities: {'Millares'}\n",
      "Component 29 municipalities: {'Benagéber', 'Chera', 'Requena'}\n",
      "Component 30 municipalities: {'Pedralba'}\n",
      "Component 31 municipalities: {'Tuéjar', 'Titaguas', 'Aras de los Olmos'}\n",
      "Component 32 municipalities: {'Chelva'}\n",
      "Component 33 municipalities: {'Villar del Arzobispo'}\n",
      "Component 34 municipalities: {'Sinarcas'}\n",
      "Component 35 municipalities: {'Mira'}\n",
      "Component 36 municipalities: {'Xirivella'}\n",
      "Component 37 municipalities: {'Rafelguaraf'}\n",
      "Component 38 municipalities: {'Catarroja'}\n",
      "Component 39 municipalities: {'Massanassa'}\n",
      "Component 40 municipalities: {'Carcaixent'}\n",
      "Component 41 municipalities: {'Calles'}\n",
      "Component 42 municipalities: {'Utiel'}\n",
      "Component 43 municipalities: {'Almussafes'}\n",
      "Component 44 municipalities: {'Beniparrell'}\n",
      "Component 45 municipalities: {'Aldaia'}\n",
      "DANA_31_10_2024 27 weakly connected components\n",
      "Component 1 municipalities: {'Gavarda'}\n",
      "Component 2 municipalities: {'Paterna', 'Aldaia', 'Silla', 'Llíria', 'Loriguilla', 'Benaguasil', 'Benimodo', 'Buñol', 'València', 'Titaguas', 'Picassent', 'Vilamarxant', 'Benetússer', 'Llombai', 'Utiel', 'Montroi', 'Cheste', 'Sot de Chera', 'Alaquàs', 'Godelleta', 'Siete Aguas', 'Casinos', 'Riba-roja de Túria', 'Macastre', 'Alborache', 'Pedralba', 'Requena', 'Chulilla', 'Torrent', 'Alfafar', 'Villar del Arzobispo', 'Tous', 'Sollana', 'Aras de los Olmos', 'Yátova', 'Losa del Obispo', 'Bétera', 'Chera', 'Mislata', 'Carlet', 'Chiva', 'Turís', 'Chelva', 'Benagéber', 'Catadau', 'Catarroja', 'Manises', 'Gestalgar', 'Massalavés', 'Massanassa', 'Benifaió', 'Sedaví', 'Bugarra', 'Caudete de las Fuentes', 'Albal', 'Millares', 'Quart de Poblet', 'Almussafes', 'Alfarb', 'Alginet', 'Tuéjar', 'Real', 'Calles', 'Montserrat', 'Dos Aguas', 'Alcàsser', 'Fuenterrobles'}\n",
      "Component 3 municipalities: {'Algemesí'}\n",
      "Component 4 municipalities: {'Llaurí', 'Manuel', 'Corbera', 'Cullera', 'Xeraco', 'Tavernes de la Valldigna', 'Favara', \"l'Ènova\", 'Carcaixent', 'Barxeta', 'Alzira'}\n",
      "Component 5 municipalities: {'Sueca'}\n",
      "Component 6 municipalities: {'Albalat de la Ribera'}\n",
      "Component 7 municipalities: {'Riola'}\n",
      "Component 8 municipalities: {'Polinyà de Xúquer'}\n",
      "Component 9 municipalities: {'Guadassuar'}\n",
      "Component 10 municipalities: {'Fortaleny'}\n",
      "Component 11 municipalities: {'Senyera'}\n",
      "Component 12 municipalities: {'Camporrobles'}\n",
      "Component 13 municipalities: {'Sinarcas'}\n",
      "Component 14 municipalities: {'Mira'}\n",
      "Component 15 municipalities: {'Xirivella'}\n",
      "Component 16 municipalities: {'Picanya'}\n",
      "Component 17 municipalities: {'Benicull de Xúquer'}\n",
      "Component 18 municipalities: {\"l'Alcúdia\"}\n",
      "Component 19 municipalities: {'Llocnou de la Corona'}\n",
      "Component 20 municipalities: {'Paiporta'}\n",
      "Component 21 municipalities: {'Rafelguaraf'}\n",
      "Component 22 municipalities: {'Castelló de la ribera'}\n",
      "Component 23 municipalities: {'La Pobla Llarga'}\n",
      "Component 24 municipalities: {'Sant Joanet'}\n",
      "Component 25 municipalities: {'Alberic'}\n",
      "Component 26 municipalities: {'Beniparrell'}\n",
      "Component 27 municipalities: {'Benimuslem'}\n",
      "DANA_03_11_2024 1 weakly connected components\n",
      "Component 1 municipalities: {'Aldaia', 'Silla', 'Llíria', 'Rafelguaraf', 'Benimodo', 'Fortaleny', 'Llombai', 'Sot de Chera', 'Alaquàs', 'Algemesí', 'Favara', 'Casinos', 'Albalat de la Ribera', 'Torrent', 'Polinyà de Xúquer', 'Paiporta', 'La Pobla Llarga', 'Chiva', 'Turís', 'Benicull de Xúquer', 'Alberic', 'Sueca', 'Beniparrell', \"l'Ènova\", 'Gestalgar', 'Bugarra', 'Massanassa', 'Barxeta', 'Tuéjar', 'Cullera', 'Xeraco', 'Sant Joanet', 'Chera', 'Fuenterrobles', 'Alzira', 'Picanya', 'Mislata', 'Benaguasil', 'València', 'Benetússer', 'Godelleta', 'Siete Aguas', 'Riba-roja de Túria', 'Llocnou de la Corona', 'Macastre', 'Mira', 'Alborache', 'Pedralba', 'Gavarda', 'Sollana', 'Yátova', 'Llaurí', 'Manises', 'Benifaió', 'Albal', 'Sedaví', 'Almussafes', 'Guadassuar', 'Calles', 'Alfarb', 'Alginet', 'Montserrat', 'Paterna', 'Loriguilla', 'Riola', 'Picassent', 'Buñol', 'Titaguas', 'Benimuslem', 'Xirivella', 'Utiel', 'Cheste', 'Camporrobles', \"l'Alcúdia\", 'Chulilla', 'Alfafar', 'Villar del Arzobispo', 'Tavernes de la Valldigna', 'Aras de los Olmos', 'Losa del Obispo', 'Bétera', 'Carlet', 'Chelva', 'Benagéber', 'Catarroja', 'Senyera', 'Caudete de las Fuentes', 'Castelló de la ribera', 'Sinarcas', 'Dos Aguas', 'Real', 'Alcàsser', 'Massalavés', 'Vilamarxant', 'Montroi', 'Requena', 'Tous', 'Catadau', 'Corbera', 'Carcaixent', 'Manuel', 'Quart de Poblet', 'Millares'}\n",
      "DANA_05_11_2024 1 weakly connected components\n",
      "Component 1 municipalities: {'Aldaia', 'Silla', 'Llíria', 'Rafelguaraf', 'Benimodo', 'Fortaleny', 'Llombai', 'Sot de Chera', 'Alaquàs', 'Algemesí', 'Favara', 'Casinos', 'Albalat de la Ribera', 'Torrent', 'Polinyà de Xúquer', 'Paiporta', 'La Pobla Llarga', 'Chiva', 'Turís', 'Benicull de Xúquer', 'Alberic', 'Sueca', 'Beniparrell', \"l'Ènova\", 'Gestalgar', 'Barxeta', 'Massanassa', 'Bugarra', 'Tuéjar', 'Cullera', 'Xeraco', 'Sant Joanet', 'Chera', 'Fuenterrobles', 'Alzira', 'Picanya', 'Mislata', 'Benaguasil', 'València', 'Benetússer', 'Godelleta', 'Siete Aguas', 'Riba-roja de Túria', 'Llocnou de la Corona', 'Macastre', 'Mira', 'Alborache', 'Pedralba', 'Gavarda', 'Sollana', 'Yátova', 'Llaurí', 'Manises', 'Benifaió', 'Albal', 'Sedaví', 'Almussafes', 'Guadassuar', 'Calles', 'Alfarb', 'Alginet', 'Montserrat', 'Paterna', 'Loriguilla', 'Riola', 'Picassent', 'Buñol', 'Titaguas', 'Benimuslem', 'Xirivella', 'Utiel', 'Cheste', 'Camporrobles', \"l'Alcúdia\", 'Chulilla', 'Alfafar', 'Villar del Arzobispo', 'Tavernes de la Valldigna', 'Aras de los Olmos', 'Losa del Obispo', 'Bétera', 'Carlet', 'Chelva', 'Benagéber', 'Catarroja', 'Senyera', 'Caudete de las Fuentes', 'Castelló de la ribera', 'Sinarcas', 'Dos Aguas', 'Real', 'Alcàsser', 'Massalavés', 'Vilamarxant', 'Montroi', 'Requena', 'Tous', 'Catadau', 'Corbera', 'Carcaixent', 'Manuel', 'Quart de Poblet', 'Millares'}\n",
      "DANA_06_11_2024 1 weakly connected components\n",
      "Component 1 municipalities: {'Aldaia', 'Silla', 'Llíria', 'Rafelguaraf', 'Benimodo', 'Fortaleny', 'Llombai', 'Sot de Chera', 'Alaquàs', 'Algemesí', 'Favara', 'Casinos', 'Albalat de la Ribera', 'Torrent', 'Polinyà de Xúquer', 'Paiporta', 'La Pobla Llarga', 'Chiva', 'Turís', 'Benicull de Xúquer', 'Alberic', 'Sueca', 'Beniparrell', \"l'Ènova\", 'Gestalgar', 'Bugarra', 'Massanassa', 'Barxeta', 'Tuéjar', 'Cullera', 'Xeraco', 'Sant Joanet', 'Chera', 'Fuenterrobles', 'Alzira', 'Picanya', 'Mislata', 'Benaguasil', 'València', 'Benetússer', 'Godelleta', 'Siete Aguas', 'Riba-roja de Túria', 'Llocnou de la Corona', 'Macastre', 'Mira', 'Alborache', 'Pedralba', 'Gavarda', 'Sollana', 'Yátova', 'Llaurí', 'Manises', 'Benifaió', 'Albal', 'Sedaví', 'Almussafes', 'Guadassuar', 'Calles', 'Alfarb', 'Alginet', 'Montserrat', 'Paterna', 'Loriguilla', 'Riola', 'Picassent', 'Buñol', 'Titaguas', 'Benimuslem', 'Xirivella', 'Utiel', 'Cheste', 'Camporrobles', \"l'Alcúdia\", 'Chulilla', 'Alfafar', 'Villar del Arzobispo', 'Tavernes de la Valldigna', 'Aras de los Olmos', 'Losa del Obispo', 'Bétera', 'Carlet', 'Chelva', 'Benagéber', 'Catarroja', 'Senyera', 'Caudete de las Fuentes', 'Castelló de la ribera', 'Sinarcas', 'Dos Aguas', 'Real', 'Alcàsser', 'Massalavés', 'Vilamarxant', 'Montroi', 'Requena', 'Tous', 'Catadau', 'Corbera', 'Carcaixent', 'Manuel', 'Quart de Poblet', 'Millares'}\n",
      "DANA_08_11_2024 1 weakly connected components\n",
      "Component 1 municipalities: {'Aldaia', 'Silla', 'Llíria', 'Rafelguaraf', 'Benimodo', 'Fortaleny', 'Llombai', 'Sot de Chera', 'Alaquàs', 'Algemesí', 'Favara', 'Casinos', 'Albalat de la Ribera', 'Torrent', 'Polinyà de Xúquer', 'Paiporta', 'La Pobla Llarga', 'Chiva', 'Turís', 'Benicull de Xúquer', 'Alberic', 'Sueca', 'Beniparrell', \"l'Ènova\", 'Gestalgar', 'Bugarra', 'Massanassa', 'Barxeta', 'Tuéjar', 'Cullera', 'Xeraco', 'Sant Joanet', 'Chera', 'Fuenterrobles', 'Alzira', 'Picanya', 'Mislata', 'Benaguasil', 'València', 'Benetússer', 'Godelleta', 'Siete Aguas', 'Riba-roja de Túria', 'Llocnou de la Corona', 'Macastre', 'Mira', 'Alborache', 'Pedralba', 'Gavarda', 'Sollana', 'Yátova', 'Llaurí', 'Manises', 'Benifaió', 'Albal', 'Sedaví', 'Almussafes', 'Guadassuar', 'Calles', 'Alfarb', 'Alginet', 'Montserrat', 'Paterna', 'Loriguilla', 'Riola', 'Picassent', 'Buñol', 'Titaguas', 'Benimuslem', 'Xirivella', 'Utiel', 'Cheste', 'Camporrobles', \"l'Alcúdia\", 'Chulilla', 'Alfafar', 'Villar del Arzobispo', 'Tavernes de la Valldigna', 'Aras de los Olmos', 'Losa del Obispo', 'Bétera', 'Carlet', 'Chelva', 'Benagéber', 'Catarroja', 'Senyera', 'Caudete de las Fuentes', 'Castelló de la ribera', 'Sinarcas', 'Dos Aguas', 'Real', 'Alcàsser', 'Massalavés', 'Vilamarxant', 'Montroi', 'Requena', 'Tous', 'Catadau', 'Corbera', 'Carcaixent', 'Manuel', 'Quart de Poblet', 'Millares'}\n"
     ]
    }
   ],
   "source": [
    "for name, graph in flood_graph_var.items():\n",
    "    components = list(nx.weakly_connected_components(graph))\n",
    "    \n",
    "    multi_muni_count = sum(\n",
    "        1 for component in components\n",
    "        if len({graph.nodes[node][\"municipality\"] for node in component if graph.nodes[node][\"municipality\"] != \"\"}) > 0\n",
    "    )\n",
    "\n",
    "    print(f\"{name} {multi_muni_count} weakly connected components\")\n",
    "\n",
    "    if multi_muni_count > 0:\n",
    "        j = 0\n",
    "        for i, component in enumerate(components):\n",
    "            municipalities = {\n",
    "                graph.nodes[node][\"municipality\"]\n",
    "                for node in component\n",
    "                if graph.nodes[node][\"municipality\"] != \"\"\n",
    "            }\n",
    "            if len(municipalities) > 0:\n",
    "                j += 1\n",
    "                print(f\"Component {j} municipalities: {municipalities}\")"
   ]
  },
  {
   "cell_type": "code",
   "execution_count": 42,
   "metadata": {},
   "outputs": [],
   "source": [
    "layer_names=[\"10 yr\",\"100 yr\",\"500 yr\",\"DANA_31_10_2024\",\"DANA_03_11_2024\",\"DANA_05_11_2024\",\"DANA_06_11_2024\",\"DANA_08_11_2024\"]\n",
    "#layer_names=[\"DANA_31_10_2024\"]\n",
    "T_P_dictionaries = {}\n",
    "R={}"
   ]
  },
  {
   "cell_type": "code",
   "execution_count": 43,
   "metadata": {},
   "outputs": [
    {
     "name": "stdout",
     "output_type": "stream",
     "text": [
      "Computing shortest paths...\n"
     ]
    },
    {
     "name": "stderr",
     "output_type": "stream",
     "text": [
      "C:\\Users\\usuario\\AppData\\Local\\Temp\\ipykernel_13752\\2107593774.py:10: RuntimeWarning: Couldn't reach some vertices. at src/paths/dijkstra.c:534\n",
      "  paths = G_ig.get_shortest_paths(src_idx, to=special_indices, weights=weight_attr, output='vpath')\n"
     ]
    },
    {
     "name": "stdout",
     "output_type": "stream",
     "text": [
      "Progress: 12.50% (1/8)Computing shortest paths...\n",
      "Progress: 25.00% (2/8)Computing shortest paths...\n",
      "Progress: 37.50% (3/8)Computing shortest paths...\n",
      "Progress: 50.00% (4/8)Computing shortest paths...\n",
      "Progress: 62.50% (5/8)Computing shortest paths...\n",
      "Progress: 75.00% (6/8)Computing shortest paths...\n",
      "Progress: 87.50% (7/8)Computing shortest paths...\n",
      "Progress: 100.00% (8/8)"
     ]
    }
   ],
   "source": [
    "for i, name in enumerate(layer_names):\n",
    "    T_P_dictionaries[name] = load_or_compute_shortest_paths(shortest_path_files[name], flood_graph_var[name], special_nodes, node_to_muni,True,True)\n",
    "    R[name] = compute_risk_factor(T_P_dictionaries[name], T_NP_dictionary)\n",
    "    \n",
    "    percent_complete = (i + 1) / len(layer_names) * 100\n",
    "    print(f\"\\rProgress: {percent_complete:.2f}% ({i + 1}/{len(layer_names)})\", end=\"\")"
   ]
  },
  {
   "cell_type": "code",
   "execution_count": 45,
   "metadata": {},
   "outputs": [],
   "source": [
    "used_edges = set()\n",
    "\n",
    "for path, _ in T_NP_dictionary.values():\n",
    "    for u, v in zip(path, path[1:]):\n",
    "        used_edges.add((u, v))\n"
   ]
  },
  {
   "cell_type": "code",
   "execution_count": 46,
   "metadata": {
    "scrolled": true
   },
   "outputs": [
    {
     "name": "stdout",
     "output_type": "stream",
     "text": [
      "Progress: 0.01% (1/16615)"
     ]
    },
    {
     "name": "stderr",
     "output_type": "stream",
     "text": [
      "C:\\Users\\usuario\\AppData\\Local\\Temp\\ipykernel_13752\\172459596.py:7: DeprecationWarning: Graph.shortest_paths() is deprecated; use Graph.distances() instead\n",
      "  dist_matrix = G_ig.shortest_paths_dijkstra(\n"
     ]
    },
    {
     "name": "stdout",
     "output_type": "stream",
     "text": [
      " rogress: 100.00% (16615/16615)"
     ]
    },
    {
     "data": {
      "text/plain": [
       "         353343654 function calls (353260579 primitive calls) in 16898.255 seconds\n",
       "\n",
       "   Ordered by: internal time\n",
       "\n",
       "   ncalls  tottime  percall  cumtime  percall filename:lineno(function)\n",
       "    16615 16333.057    0.983 16333.059    0.983 {method 'distances' of 'igraph._igraph.GraphBase' objects}\n",
       "    16615  165.902    0.010  165.902    0.010 {function _delete_edges at 0x0000018A03209D80}\n",
       "    16616  127.256    0.008  127.256    0.008 {function _add_edges at 0x0000018A03209BD0}\n",
       "    16615  115.914    0.007  141.176    0.008 426513350.py:1(compute_risk_factor_2)\n",
       "    16615   85.009    0.005 16433.838    0.989 172459596.py:1(batch_shortest_paths_no_path)\n",
       "174557190   25.226    0.000   25.226    0.000 4263211823.py:1(compute_individual_risk_factor)\n",
       "        1   11.687   11.687 16898.252 16898.252 <string>:1(<module>)\n",
       "   133237   10.633    0.000   10.633    0.000 {method 'acquire' of '_thread.lock' objects}\n",
       "174557190    8.891    0.000    8.891    0.000 {built-in method math.isinf}\n",
       "    16615    4.547    0.000 16337.784    0.983 structural.py:86(_shortest_paths)\n",
       "    16615    1.908    0.000  167.826    0.010 basic.py:130(_delete_edges)\n",
       "    50286    1.386    0.000    1.386    0.000 socket.py:623(send)\n",
       "    16615    1.179    0.000    1.179    0.000 172459596.py:5(<dictcomp>)\n",
       "    16616    1.164    0.000  128.455    0.008 basic.py:31(_add_edges)\n",
       "    16615    0.974    0.000    0.974    0.000 172459596.py:4(<listcomp>)\n",
       "    33231    0.462    0.000    2.205    0.000 iostream.py:655(write)\n",
       "    16615    0.184    0.000   11.919    0.001 iostream.py:592(flush)\n",
       "    50286    0.172    0.000    1.829    0.000 iostream.py:259(schedule)\n",
       "    16615    0.150    0.000    0.150    0.000 {built-in method _warnings.warn}\n",
       "    16615    0.143    0.000   11.012    0.001 threading.py:589(wait)\n",
       "    16615    0.142    0.000    0.142    0.000 threading.py:236(__init__)\n",
       "    16584    0.123    0.000   10.808    0.001 threading.py:288(wait)\n",
       "    16615    0.117    0.000    2.322    0.000 {built-in method builtins.print}\n",
       "332303/249228    0.117    0.000    0.258    0.000 encoder.py:277(_iterencode_list)\n",
       "    66901    0.112    0.000    0.228    0.000 threading.py:1169(is_alive)\n",
       "    33199    0.105    0.000    0.105    0.000 {built-in method _thread.allocate_lock}\n",
       "   249225    0.092    0.000    0.177    0.000 encoder.py:333(_iterencode_dict)\n",
       "        1    0.090    0.090    0.258    0.258 3831119956.py:1(convert_nx_to_igraph)\n",
       "   134343    0.089    0.000    0.118    0.000 reportviews.py:958(<genexpr>)\n",
       "   249227    0.088    0.000    0.186    0.000 {method 'write' of '_io.TextIOWrapper' objects}\n",
       "    16615    0.083    0.000    0.083    0.000 {method 'get_eid' of 'igraph._igraph.GraphBase' objects}\n",
       "        1    0.078    0.078    0.575    0.575 __init__.py:120(dump)\n",
       "    50286    0.072    0.000    0.072    0.000 iostream.py:138(_event_pipe)\n",
       "    16616    0.069    0.000    0.069    0.000 __init__.py:590(es)\n",
       "    33231    0.065    0.000    1.546    0.000 iostream.py:577(_schedule_flush)\n",
       "    66901    0.062    0.000    0.097    0.000 threading.py:1102(_wait_for_tstate_lock)\n",
       "   249227    0.055    0.000    0.098    0.000 cp1252.py:18(encode)\n",
       "    33231    0.054    0.000    0.076    0.000 iostream.py:550(_is_master_process)\n",
       "   249228    0.053    0.000    0.311    0.000 encoder.py:413(_iterencode)\n",
       "    16615    0.051    0.000    0.278    0.000 threading.py:545(__init__)\n",
       "    33231    0.046    0.000    0.061    0.000 iostream.py:505(parent_header)\n",
       "   249227    0.043    0.000    0.043    0.000 {built-in method _codecs.charmap_encode}\n",
       "    83083    0.040    0.000    0.040    0.000 {built-in method builtins.len}\n",
       "    33232    0.035    0.000    0.035    0.000 {method 'ecount' of 'igraph._igraph.GraphBase' objects}\n",
       "   332826    0.033    0.000    0.033    0.000 {built-in method builtins.isinstance}\n",
       "    16584    0.032    0.000    0.046    0.000 threading.py:276(_acquire_restore)\n",
       "    16615    0.029    0.000    0.034    0.000 threading.py:267(__exit__)\n",
       "   245585    0.029    0.000    0.031    0.000 {method 'items' of 'dict' objects}\n",
       "        1    0.028    0.028    0.029    0.029 <string>:38(<listcomp>)\n",
       "    16615    0.028    0.000    0.035    0.000 threading.py:1430(current_thread)\n",
       "    16615    0.028    0.000    0.178    0.000 utils.py:28(deprecated)\n",
       "    16615    0.022    0.000    0.027    0.000 threading.py:264(__enter__)\n",
       "   134342    0.022    0.000    0.022    0.000 {method 'get' of 'dict' objects}\n",
       "    33231    0.022    0.000    0.022    0.000 {built-in method nt.getpid}\n",
       "    35036    0.021    0.000    0.021    0.000 threading.py:1145(ident)\n",
       "    66901    0.019    0.000    0.019    0.000 threading.py:553(is_set)\n",
       "    34264    0.018    0.000    0.018    0.000 {method 'keys' of 'dict' objects}\n",
       "    16584    0.018    0.000    0.023    0.000 threading.py:279(_is_owned)\n",
       "    16615    0.017    0.000    0.017    0.000 encoder.py:223(floatstr)\n",
       "    33231    0.017    0.000    0.017    0.000 {method 'write' of '_io.StringIO' objects}\n",
       "    66870    0.015    0.000    0.015    0.000 {method 'append' of 'collections.deque' objects}\n",
       "    16615    0.015    0.000    0.015    0.000 {method 'append' of 'list' objects}\n",
       "    33231    0.014    0.000    0.014    0.000 {method 'get' of '_contextvars.ContextVar' objects}\n",
       "    33489    0.012    0.000    0.012    0.000 {method '__exit__' of '_thread.RLock' objects}\n",
       "    16584    0.011    0.000    0.014    0.000 threading.py:273(_release_save)\n",
       "   134342    0.009    0.000    0.009    0.000 reportviews.py:934(<lambda>)\n",
       "        1    0.008    0.008    0.008    0.008 3831119956.py:3(<dictcomp>)\n",
       "        1    0.008    0.008    0.009    0.009 {method 'sort' of 'list' objects}\n",
       "    16615    0.007    0.000    0.007    0.000 {built-in method _thread.get_ident}\n",
       "    16615    0.006    0.000    0.006    0.000 {built-in method builtins.callable}\n",
       "        1    0.006    0.006    0.006    0.006 3831119956.py:4(<dictcomp>)\n",
       "    16615    0.006    0.000    0.006    0.000 {method '__exit__' of '_thread.lock' objects}\n",
       "    16615    0.005    0.000    0.005    0.000 {method '__enter__' of '_thread.lock' objects}\n",
       "    33230    0.004    0.000    0.004    0.000 {built-in method _json.encode_basestring_ascii}\n",
       "        1    0.004    0.004 16898.255 16898.255 {built-in method builtins.exec}\n",
       "    16584    0.003    0.000    0.003    0.000 {method 'release' of '_thread.lock' objects}\n",
       "        1    0.003    0.003    0.003    0.003 {built-in method io.open}\n",
       "    33231    0.003    0.000    0.003    0.000 {built-in method builtins.id}\n",
       "      516    0.003    0.000    0.006    0.000 ipkernel.py:775(_clean_thread_parent_frames)\n",
       "    16615    0.002    0.000    0.002    0.000 <string>:37(<lambda>)\n",
       "      258    0.001    0.000    0.001    0.000 threading.py:1478(enumerate)\n",
       "      258    0.001    0.000    0.001    0.000 ipkernel.py:790(<setcomp>)\n",
       "        1    0.000    0.000    0.000    0.000 {function _add_vertices at 0x0000018A03209CF0}\n",
       "        1    0.000    0.000    0.000    0.000 {method '__exit__' of '_io._IOBase' objects}\n",
       "        1    0.000    0.000    0.003    0.003 interactiveshell.py:315(_modified_open)\n",
       "      517    0.000    0.000    0.000    0.000 {method 'values' of 'dict' objects}\n",
       "        1    0.000    0.000    0.000    0.000 encoder.py:204(iterencode)\n",
       "        1    0.000    0.000    0.000    0.000 <string>:2(<listcomp>)\n",
       "        1    0.000    0.000    0.000    0.000 warnings.py:35(_formatwarnmsg_impl)\n",
       "        1    0.000    0.000    0.000    0.000 encoder.py:259(_make_iterencode)\n",
       "        1    0.000    0.000    0.000    0.000 __init__.py:349(__init__)\n",
       "        1    0.000    0.000    0.000    0.000 codecs.py:186(__init__)\n",
       "        1    0.000    0.000    0.000    0.000 basic.py:84(_add_vertices)\n",
       "        1    0.000    0.000    0.000    0.000 reportviews.py:916(__init__)\n",
       "        1    0.000    0.000    0.000    0.000 reportviews.py:1371(__call__)\n",
       "        1    0.000    0.000    0.000    0.000 <frozen importlib._bootstrap>:1053(_handle_fromlist)\n",
       "        1    0.000    0.000    0.000    0.000 warnings.py:403(__init__)\n",
       "        1    0.000    0.000    0.000    0.000 warnings.py:20(_showwarnmsg_impl)\n",
       "        1    0.000    0.000    0.000    0.000 encoder.py:104(__init__)\n",
       "        1    0.000    0.000    0.000    0.000 {built-in method builtins.iter}\n",
       "        1    0.000    0.000    0.000    0.000 linecache.py:36(getlines)\n",
       "        1    0.000    0.000    0.000    0.000 reportviews.py:187(__iter__)\n",
       "        1    0.000    0.000    0.000    0.000 reportviews.py:184(__len__)\n",
       "        1    0.000    0.000    0.000    0.000 linecache.py:26(getline)\n",
       "        1    0.000    0.000    0.000    0.000 reportviews.py:957(__iter__)\n",
       "        3    0.000    0.000    0.000    0.000 {built-in method builtins.hasattr}\n",
       "        1    0.000    0.000    0.000    0.000 {method 'difference_update' of 'set' objects}\n",
       "        1    0.000    0.000    0.000    0.000 warnings.py:96(_showwarnmsg)\n",
       "        1    0.000    0.000    0.000    0.000 warnings.py:117(_formatwarnmsg)\n",
       "        1    0.000    0.000    0.000    0.000 {method 'strip' of 'str' objects}\n",
       "        1    0.000    0.000    0.000    0.000 reportviews.py:207(__call__)\n",
       "        1    0.000    0.000    0.000    0.000 tz.py:74(utcoffset)\n",
       "        1    0.000    0.000    0.000    0.000 {method 'disable' of '_lsprof.Profiler' objects}\n",
       "        1    0.000    0.000    0.000    0.000 multidigraph.py:865(is_directed)\n",
       "        1    0.000    0.000    0.000    0.000 {method 'pop' of 'dict' objects}"
      ]
     },
     "metadata": {},
     "output_type": "display_data"
    }
   ],
   "source": [
    "%%prun\n",
    "G_ig, node_to_index, index_to_node, edge_weights = convert_nx_to_igraph(G, weight_attr='travel_time')  # <<< CHANGED (save edge_weights)\n",
    "special_indices = [node_to_index[n] for n in special_nodes]\n",
    "\n",
    "base_risk = 0\n",
    "edge_risks = []\n",
    "i=0\n",
    "total = len(used_edges)\n",
    "#total = 100\n",
    "\n",
    "for u, v in list(used_edges)[:total]:\n",
    "    i+=1\n",
    "    u_idx, v_idx = node_to_index[u], node_to_index[v]\n",
    "    eid = G_ig.get_eid(u_idx, v_idx, directed=True, error=False)  # <<< NEW (get edge id in igraph)\n",
    "    if eid == -1:\n",
    "        continue\n",
    "\n",
    "    # Remove edge in-place\n",
    "    G_ig.delete_edges(eid)  # <<< NEW (remove edge without copying)\n",
    "\n",
    "    # Compute shortest paths after removal (without full paths)\n",
    "    T_P_dictionary = batch_shortest_paths_no_path(G_ig, special_nodes, index_to_node, node_to_index, node_to_muni)  # <<< CHANGED (use igraph)\n",
    "\n",
    "    new_risk = compute_risk_factor_2(T_P_dictionary, T_NP_dictionary)\n",
    "    delta_risk = new_risk - base_risk\n",
    "\n",
    "    edge_risks.append(((u, v), delta_risk))\n",
    "\n",
    "    # Re-add the edge with original weight\n",
    "    G_ig.add_edges([(u_idx, v_idx)])  # <<< NEW (re-add edge)\n",
    "    G_ig.es[-1]['weight'] = edge_weights[(u_idx, v_idx)]  # <<< NEW (set original weight)\n",
    "\n",
    "    # Print progress (overwrite line)\n",
    "    percent_complete = (i) / total * 100\n",
    "    print(f\"\\rProgress: {percent_complete:.2f}% ({i}/{total})\", end=\"\")\n",
    "    sys.stdout.flush()\n",
    "\n",
    "edge_risks.sort(key=lambda x: x[1], reverse=True)\n",
    "edge_risks_json = [ {\"edge\": [u, v], \"delta_risk\": delta_risk} for (u, v), delta_risk in edge_risks ]\n",
    "with open(\"processed_files/edge_risks_NP.json\", \"w\") as f:\n",
    "    json.dump(edge_risks_json, f, indent=2)"
   ]
  },
  {
   "cell_type": "code",
   "execution_count": 51,
   "metadata": {},
   "outputs": [],
   "source": [
    "# Step 1: Convert reduced graph to igraph\n",
    "G_ig_dana, node_to_index, index_to_node, _ = convert_nx_to_igraph(\n",
    "    flood_graph_var[\"DANA_31_10_2024\"], weight_attr='travel_time')\n",
    "\n",
    "# Step 2: Prepare special node indices\n",
    "special_indices = [node_to_index[n] for n in special_nodes]\n",
    "\n",
    "# Step 3: Compute baseline risk for reduced graph\n",
    "T_P_dictionary = batch_shortest_paths(\n",
    "    G_ig_dana, special_nodes, index_to_node, node_to_index, node_to_muni, compute_path=False)\n",
    "\n",
    "base_risk = compute_risk_factor(\n",
    "    T_P_dictionaries[\"DANA_31_10_2024\"], T_NP_dictionary)\n",
    "\n",
    "# Step 4: Prepare candidate edges (only in flood zone)\n",
    "candidate_edges = flood_edges_var[\"DANA_31_10_2024\"]\n",
    "candidate_edges = candidate_edges[candidate_edges['in_flood_zone'].astype(bool)].copy()\n",
    "\n",
    "edge_risks = []\n",
    "total = len(candidate_edges)"
   ]
  },
  {
   "cell_type": "code",
   "execution_count": 52,
   "metadata": {
    "scrolled": true
   },
   "outputs": [
    {
     "name": "stdout",
     "output_type": "stream",
     "text": [
      "Progress: 0.01% (1/18679)"
     ]
    },
    {
     "name": "stderr",
     "output_type": "stream",
     "text": [
      "C:\\Users\\usuario\\AppData\\Local\\Temp\\ipykernel_13752\\172459596.py:7: DeprecationWarning: Graph.shortest_paths() is deprecated; use Graph.distances() instead\n",
      "  dist_matrix = G_ig.shortest_paths_dijkstra(\n"
     ]
    },
    {
     "name": "stdout",
     "output_type": "stream",
     "text": [
      " rogress: 100.00% (18679/18679)"
     ]
    },
    {
     "data": {
      "text/plain": [
       "         399082732 function calls (398914614 primitive calls) in 7690.797 seconds\n",
       "\n",
       "   Ordered by: internal time\n",
       "\n",
       "   ncalls  tottime  percall  cumtime  percall filename:lineno(function)\n",
       "    18679 7061.023    0.378 7061.024    0.378 {method 'distances' of 'igraph._igraph.GraphBase' objects}\n",
       "    18679  171.135    0.009  171.135    0.009 {function _delete_edges at 0x0000018A03209D80}\n",
       "    18679  141.044    0.008  164.645    0.009 426513350.py:1(compute_risk_factor_2)\n",
       "    18679  129.662    0.007  129.662    0.007 {function _add_edges at 0x0000018A03209BD0}\n",
       "    18679  103.893    0.006 7185.170    0.385 172459596.py:1(batch_shortest_paths_no_path)\n",
       "196241574   23.555    0.000   23.555    0.000 4263211823.py:1(compute_individual_risk_factor)\n",
       "        1   14.431   14.431 7690.796 7690.796 <string>:1(<module>)\n",
       "   149759   11.889    0.000   11.889    0.000 {method 'acquire' of '_thread.lock' objects}\n",
       "196241574   11.658    0.000   11.658    0.000 {built-in method math.isinf}\n",
       "    18679    5.555    0.000 7066.743    0.378 structural.py:86(_shortest_paths)\n",
       "    56580    1.697    0.000    1.697    0.000 socket.py:623(send)\n",
       "    18679    1.583    0.000    1.583    0.000 172459596.py:5(<dictcomp>)\n",
       "    18679    1.515    0.000  172.673    0.009 basic.py:130(_delete_edges)\n",
       "    18679    1.292    0.000    1.292    0.000 172459596.py:4(<listcomp>)\n",
       "    18679    1.226    0.000  130.926    0.007 basic.py:31(_add_edges)\n",
       "    18679    0.680    0.000    1.064    0.000 cast.py:1156(maybe_infer_to_datetimelike)\n",
       "    37359    0.657    0.000    2.815    0.000 iostream.py:655(write)\n",
       "    18679    0.563    0.000    4.008    0.000 series.py:389(__init__)\n",
       "    18680    0.282    0.000    4.986    0.000 frame.py:1505(iterrows)\n",
       "    18679    0.264    0.000    1.627    0.000 construction.py:517(sanitize_array)\n",
       "    18679    0.236    0.000    0.236    0.000 threading.py:236(__init__)\n",
       "    18679    0.224    0.000    4.431    0.000 geodataframe.py:1884(_geodataframe_constructor_sliced)\n",
       "    56580    0.220    0.000    2.246    0.000 iostream.py:259(schedule)\n",
       "    18679    0.211    0.000   13.484    0.001 iostream.py:592(flush)\n",
       "    18679    0.208    0.000    0.215    0.000 base.py:3777(get_loc)\n",
       "  1008895    0.203    0.000    0.281    0.000 {built-in method builtins.isinstance}\n",
       "    18679    0.194    0.000    3.009    0.000 {built-in method builtins.print}\n",
       "    18679    0.193    0.000    0.381    0.000 numeric.py:290(full)\n",
       "    18679    0.180    0.000    0.256    0.000 generic.py:6236(__finalize__)\n",
       "    18679    0.161    0.000   12.323    0.001 threading.py:589(wait)\n",
       "373583/280188    0.152    0.000    0.326    0.000 encoder.py:277(_iterencode_list)\n",
       "354922/280202    0.150    0.000    0.192    0.000 {built-in method builtins.len}\n",
       "    18679    0.147    0.000    0.482    0.000 managers.py:1863(from_array)\n",
       "    18679    0.145    0.000    0.183    0.000 generic.py:278(__init__)\n",
       "    18625    0.142    0.000   12.092    0.001 threading.py:288(wait)\n",
       "    18679    0.142    0.000    0.142    0.000 {method 'get_eid' of 'igraph._igraph.GraphBase' objects}\n",
       "    18679    0.136    0.000    0.136    0.000 {built-in method _warnings.warn}\n",
       "    75259    0.134    0.000    0.277    0.000 threading.py:1169(is_alive)\n",
       "   280185    0.123    0.000    0.220    0.000 encoder.py:333(_iterencode_dict)\n",
       "    37304    0.122    0.000    0.122    0.000 {built-in method _thread.allocate_lock}\n",
       "   280187    0.119    0.000    0.246    0.000 {method 'write' of '_io.TextIOWrapper' objects}\n",
       "    18679    0.108    0.000    0.162    0.000 blocks.py:2716(new_block)\n",
       "    18679    0.107    0.000    0.494    0.000 series.py:1095(__getitem__)\n",
       "        1    0.105    0.105    0.748    0.748 __init__.py:120(dump)\n",
       "    18683    0.098    0.000    0.098    0.000 {built-in method numpy.empty}\n",
       "    56580    0.089    0.000    0.089    0.000 iostream.py:138(_event_pipe)\n",
       "    18679    0.088    0.000    0.406    0.000 generic.py:6301(__setattr__)\n",
       "    18679    0.087    0.000    0.135    0.000 series.py:734(name)\n",
       "    37359    0.086    0.000    1.897    0.000 iostream.py:577(_schedule_flush)\n",
       "    18679    0.084    0.000    0.113    0.000 managers.py:1993(dtype)\n",
       "18689/18686    0.081    0.000    0.081    0.000 {built-in method numpy.asarray}\n",
       "    18679    0.081    0.000    0.325    0.000 series.py:1220(_get_value)\n",
       "   280187    0.073    0.000    0.127    0.000 cp1252.py:18(encode)\n",
       "    37359    0.072    0.000    0.098    0.000 iostream.py:550(_is_master_process)\n",
       "   280188    0.071    0.000    0.397    0.000 encoder.py:413(_iterencode)\n",
       "    75259    0.070    0.000    0.117    0.000 threading.py:1102(_wait_for_tstate_lock)\n",
       "    18679    0.069    0.000    0.183    0.000 series.py:784(name)\n",
       "    18679    0.068    0.000    0.117    0.000 blocks.py:2645(maybe_coerce_values)\n",
       "    18679    0.060    0.000    0.166    0.000 generic.py:807(_set_axis)\n",
       "    18679    0.060    0.000    0.393    0.000 threading.py:545(__init__)\n",
       "    37359    0.060    0.000    0.077    0.000 iostream.py:505(parent_header)\n",
       "    18679    0.060    0.000    0.154    0.000 config.py:127(_get_single_key)\n",
       "    18679    0.055    0.000    0.055    0.000 __init__.py:590(es)\n",
       "   280187    0.055    0.000    0.055    0.000 {built-in method _codecs.charmap_encode}\n",
       "    18679    0.053    0.000    0.077    0.000 config.py:635(_get_root)\n",
       "    18679    0.049    0.000    0.114    0.000 common.py:1571(validate_all_hashable)\n",
       "    18679    0.048    0.000    0.048    0.000 generic.py:6284(__getattr__)\n",
       "   112074    0.047    0.000    0.187    0.000 {built-in method builtins.getattr}\n",
       "    18679    0.045    0.000    0.054    0.000 blocks.py:2674(get_block_type)\n",
       "    37358    0.044    0.000    0.052    0.000 generic.py:37(_check)\n",
       "    37358    0.043    0.000    0.068    0.000 inference.py:334(is_hashable)\n",
       "    18679    0.042    0.000    0.273    0.000 config.py:145(_get_option)\n",
       "    74718    0.042    0.000    0.055    0.000 base.py:909(__len__)\n",
       "    18680    0.041    0.000    0.041    0.000 __init__.py:34(using_copy_on_write)\n",
       "    18679    0.040    0.000    0.067    0.000 construction.py:696(_sanitize_ndim)\n",
       "    18625    0.040    0.000    0.057    0.000 threading.py:276(_acquire_restore)\n",
       "    18679    0.039    0.000    0.089    0.000 base.py:7688(maybe_extract_name)\n",
       "    18679    0.039    0.000    0.041    0.000 construction.py:481(ensure_wrapped_if_datetimelike)\n",
       "    18679    0.039    0.000    0.057    0.000 config.py:676(_translate_key)\n",
       "    37358    0.038    0.000    0.038    0.000 {method 'ecount' of 'igraph._igraph.GraphBase' objects}\n",
       "    18679    0.038    0.000    0.038    0.000 flags.py:51(__init__)\n",
       "    18679    0.036    0.000    0.036    0.000 flags.py:87(allows_duplicate_labels)\n",
       "    18679    0.036    0.000    0.044    0.000 threading.py:1430(current_thread)\n",
       "    18679    0.034    0.000    0.034    0.000 managers.py:1837(__init__)\n",
       "    18679    0.033    0.000    0.041    0.000 construction.py:735(_sanitize_str_dtypes)\n",
       "    18679    0.033    0.000    0.035    0.000 construction.py:416(extract_array)\n",
       "    18679    0.032    0.000    0.059    0.000 base.py:86(_validate_set_axis)\n",
       "    18679    0.031    0.000    0.038    0.000 threading.py:267(__exit__)\n",
       "    18679    0.031    0.000    0.031    0.000 config.py:617(_select_options)\n",
       "    37358    0.030    0.000    0.035    0.000 base.py:7593(ensure_index)\n",
       "    18679    0.028    0.000    0.088    0.000 managers.py:236(set_axis)\n",
       "    18679    0.028    0.000    0.164    0.000 utils.py:28(deprecated)\n",
       "    37358    0.027    0.000    0.079    0.000 generic.py:42(_instancecheck)\n",
       "    37359    0.026    0.000    0.026    0.000 {method 'write' of '_io.StringIO' objects}\n",
       "    18679    0.026    0.000    0.140    0.000 series.py:707(dtype)\n",
       "    18679    0.026    0.000    0.036    0.000 indexing.py:2765(check_dict_or_set_indexers)\n",
       "    37359    0.026    0.000    0.026    0.000 {built-in method nt.getpid}\n",
       "    75259    0.026    0.000    0.026    0.000 threading.py:553(is_set)\n",
       "    18679    0.026    0.000    0.189    0.000 base.py:16(is_geometry_type)\n",
       "    18679    0.026    0.000    0.032    0.000 threading.py:264(__enter__)\n",
       "    37358    0.025    0.000    0.025    0.000 {built-in method builtins.hash}\n",
       "    38016    0.025    0.000    0.025    0.000 threading.py:1145(ident)\n",
       "    18679    0.024    0.000    0.065    0.000 {built-in method builtins.all}\n",
       "    18679    0.024    0.000    0.024    0.000 {method 'split' of 'str' objects}\n",
       "    37358    0.023    0.000    0.041    0.000 common.py:1590(<genexpr>)\n",
       "    37735    0.023    0.000    0.023    0.000 {method 'keys' of 'dict' objects}\n",
       "    18679    0.022    0.000    0.090    0.000 common.py:568(require_length_match)\n",
       "    56038    0.020    0.000    0.020    0.000 {method 'items' of 'dict' objects}\n",
       "    18625    0.020    0.000    0.026    0.000 threading.py:279(_is_owned)\n",
       "    75205    0.020    0.000    0.020    0.000 {method 'append' of 'collections.deque' objects}\n",
       "    18679    0.019    0.000    0.022    0.000 construction.py:758(_maybe_repeat)\n",
       "    18679    0.019    0.000    0.030    0.000 series.py:831(_values)\n",
       "    18679    0.018    0.000    0.018    0.000 config.py:649(_get_deprecated_option)\n",
       "    18679    0.018    0.000    0.021    0.000 common.py:372(apply_if_callable)\n",
       "    18680    0.017    0.000    0.017    0.000 blocks.py:718(dtype)\n",
       "    37359    0.017    0.000    0.017    0.000 {method 'get' of '_contextvars.ContextVar' objects}\n",
       "    18682    0.016    0.000    0.016    0.000 {method 'append' of 'list' objects}\n",
       "    18625    0.015    0.000    0.019    0.000 threading.py:273(_release_save)\n",
       "    37453    0.014    0.000    0.014    0.000 {method '__exit__' of '_thread.RLock' objects}\n",
       "    18679    0.013    0.000    0.013    0.000 generic.py:363(attrs)\n",
       "    18679    0.012    0.000    0.012    0.000 managers.py:1940(_block)\n",
       "    18679    0.011    0.000    0.011    0.000 managers.py:2004(internal_values)\n",
       "        1    0.011    0.011    0.012    0.012 <string>:36(<listcomp>)\n",
       "    37358    0.011    0.000    0.011    0.000 generic.py:405(flags)\n",
       "    37358    0.011    0.000    0.011    0.000 {built-in method builtins.callable}\n",
       "    37360    0.011    0.000    0.011    0.000 {built-in method builtins.issubclass}\n",
       "    18679    0.010    0.000    0.010    0.000 base.py:791(is_)\n",
       "    18679    0.010    0.000    0.010    0.000 multiarray.py:1098(copyto)\n",
       "    18679    0.009    0.000    0.009    0.000 flags.py:55(allows_duplicate_labels)\n",
       "    18679    0.009    0.000    0.009    0.000 {built-in method _thread.get_ident}\n",
       "    18679    0.008    0.000    0.008    0.000 encoder.py:223(floatstr)\n",
       "    18679    0.007    0.000    0.007    0.000 base.py:6672(_maybe_cast_indexer)\n",
       "    18679    0.007    0.000    0.007    0.000 series.py:1480(_clear_item_cache)\n",
       "    18679    0.007    0.000    0.007    0.000 {method '__exit__' of '_thread.lock' objects}\n",
       "    18679    0.006    0.000    0.006    0.000 {method '__enter__' of '_thread.lock' objects}\n",
       "    37358    0.006    0.000    0.006    0.000 {built-in method _json.encode_basestring_ascii}\n",
       "        1    0.006    0.006    0.007    0.007 multi.py:758(_values)\n",
       "    18679    0.005    0.000    0.005    0.000 typing.py:1737(cast)\n",
       "    37359    0.004    0.000    0.004    0.000 {built-in method builtins.id}\n",
       "    18625    0.004    0.000    0.004    0.000 {method 'release' of '_thread.lock' objects}\n",
       "        3    0.004    0.001    0.004    0.001 {method 'astype' of 'numpy.ndarray' objects}\n",
       "        1    0.003    0.003    0.005    0.005 {method 'sort' of 'list' objects}\n",
       "        1    0.002    0.002    0.009    0.009 managers.py:1707(_interleave)\n",
       "    18679    0.002    0.000    0.002    0.000 <string>:34(<lambda>)\n",
       "        1    0.002    0.002    0.010    0.010 managers.py:1633(as_array)\n",
       "      188    0.002    0.000    0.003    0.000 ipkernel.py:775(_clean_thread_parent_frames)\n",
       "        1    0.001    0.001    0.001    0.001 {method 'copy' of 'numpy.ndarray' objects}\n",
       "        1    0.001    0.001    0.001    0.001 {built-in method io.open}\n",
       "        3    0.001    0.000    0.001    0.000 take.py:120(_take_nd_ndarray)\n",
       "        1    0.000    0.000 7690.797 7690.797 {built-in method builtins.exec}\n",
       "       94    0.000    0.000    0.000    0.000 threading.py:1478(enumerate)\n",
       "       94    0.000    0.000    0.001    0.000 ipkernel.py:790(<setcomp>)\n",
       "        1    0.000    0.000    0.000    0.000 {method '__exit__' of '_io._IOBase' objects}\n",
       "        1    0.000    0.000    0.001    0.001 interactiveshell.py:315(_modified_open)\n",
       "        1    0.000    0.000    0.007    0.007 base.py:836(__iter__)\n",
       "        3    0.000    0.000    0.000    0.000 take.py:564(_take_preprocess_indexer_and_fill_value)\n",
       "        1    0.000    0.000    0.001    0.001 blocks.py:2244(get_values)\n",
       "        3    0.000    0.000    0.001    0.000 take.py:59(take_nd)\n",
       "        1    0.000    0.000    0.000    0.000 cast.py:1432(find_common_type)\n",
       "        3    0.000    0.000    0.000    0.000 cast.py:550(maybe_promote)\n",
       "      188    0.000    0.000    0.000    0.000 {method 'values' of 'dict' objects}\n",
       "        3    0.000    0.000    0.000    0.000 {method 'reduce' of 'numpy.ufunc' objects}\n",
       "        8    0.000    0.000    0.000    0.000 frozen.py:76(__getitem__)\n",
       "        1    0.000    0.000    0.000    0.000 encoder.py:204(iterencode)\n",
       "        3    0.000    0.000    0.000    0.000 base.py:649(_simple_new)\n",
       "        1    0.000    0.000    0.000    0.000 warnings.py:35(_formatwarnmsg_impl)\n",
       "        3    0.000    0.000    0.004    0.001 blocks.py:2586(get_values)\n",
       "        1    0.000    0.000    0.001    0.001 array.py:1284(astype)\n",
       "        1    0.000    0.000    0.001    0.001 {built-in method numpy.array}\n",
       "        1    0.000    0.000    0.000    0.000 encoder.py:259(_make_iterencode)\n",
       "        1    0.000    0.000    0.000    0.000 array.py:417(__len__)\n",
       "        2    0.000    0.000    0.000    0.000 base.py:82(shape)\n",
       "        1    0.000    0.000    0.000    0.000 multi.py:844(levels)\n",
       "        1    0.000    0.000    0.000    0.000 {method 'reshape' of 'numpy.ndarray' objects}\n",
       "        1    0.000    0.000    0.001    0.001 array.py:1650(__array__)\n",
       "        1    0.000    0.000    0.000    0.000 {built-in method numpy.zeros}\n",
       "        2    0.000    0.000    0.000    0.000 multi.py:830(__len__)\n",
       "        1    0.000    0.000    0.000    0.000 managers.py:1721(<listcomp>)\n",
       "        3    0.000    0.000    0.000    0.000 take.py:325(_get_take_nd_function)\n",
       "        1    0.000    0.000    0.000    0.000 blocks.py:2365(shape)\n",
       "        1    0.000    0.000    0.000    0.000 common.py:536(is_string_dtype)\n",
       "        1    0.000    0.000    0.000    0.000 common.py:1434(_is_dtype_type)\n",
       "        3    0.000    0.000    0.000    0.000 base.py:773(_view)\n",
       "        2    0.000    0.000    0.000    0.000 base.py:144(__hash__)\n",
       "        1    0.000    0.000    0.000    0.000 multi.py:897(<listcomp>)\n",
       "        3    0.000    0.000    0.000    0.000 _methods.py:58(_any)\n",
       "        1    0.000    0.000    0.000    0.000 common.py:137(is_object_dtype)\n",
       "        3    0.000    0.000    0.000    0.000 {method 'any' of 'numpy.ndarray' objects}\n",
       "        1    0.000    0.000    0.000    0.000 warnings.py:20(_showwarnmsg_impl)\n",
       "        1    0.000    0.000    0.000    0.000 warnings.py:403(__init__)\n",
       "        5    0.000    0.000    0.000    0.000 multi.py:1081(codes)\n",
       "        1    0.000    0.000    0.000    0.000 base.py:397(ensure_np_dtype)\n",
       "        1    0.000    0.000    0.000    0.000 common.py:1399(_get_dtype)\n",
       "        4    0.000    0.000    0.000    0.000 blocks.py:266(mgr_locs)\n",
       "        1    0.000    0.000    0.000    0.000 _internal.py:941(npy_ctypes_check)\n",
       "        1    0.000    0.000    0.010    0.010 frame.py:12590(values)\n",
       "        1    0.000    0.000    0.000    0.000 codecs.py:186(__init__)\n",
       "        1    0.000    0.000    0.000    0.000 linecache.py:36(getlines)\n",
       "        6    0.000    0.000    0.000    0.000 base.py:84(<genexpr>)\n",
       "        1    0.000    0.000    0.000    0.000 base.py:115(__eq__)\n",
       "        1    0.000    0.000    0.000    0.000 array.py:1186(size)\n",
       "        1    0.000    0.000    0.000    0.000 {method 'transpose' of 'numpy.ndarray' objects}\n",
       "        1    0.000    0.000    0.000    0.000 array.py:1190(shape)\n",
       "        1    0.000    0.000    0.000    0.000 {built-in method fromkeys}\n",
       "        3    0.000    0.000    0.000    0.000 base.py:915(__array__)\n",
       "        8    0.000    0.000    0.000    0.000 {function FrozenList.__getitem__ at 0x0000018A7C03A950}\n",
       "        1    0.000    0.000    0.000    0.000 encoder.py:104(__init__)\n",
       "        1    0.000    0.000    0.000    0.000 common.py:1375(_is_dtype)\n",
       "        1    0.000    0.000    0.000    0.000 linecache.py:26(getline)\n",
       "        3    0.000    0.000    0.000    0.000 base.py:782(_rename)\n",
       "        3    0.000    0.000    0.000    0.000 base.py:831(_reset_identity)\n",
       "        1    0.000    0.000    0.000    0.000 base.py:378(interleaved_dtype)\n",
       "        1    0.000    0.000    0.000    0.000 {built-in method builtins.hasattr}\n",
       "        3    0.000    0.000    0.000    0.000 base.py:5144(_values)\n",
       "        1    0.000    0.000    0.000    0.000 base.py:366(_get_common_dtype)\n",
       "        1    0.000    0.000    0.000    0.000 warnings.py:117(_formatwarnmsg)\n",
       "        1    0.000    0.000    0.000    0.000 warnings.py:96(_showwarnmsg)\n",
       "        1    0.000    0.000    0.000    0.000 multi.py:1046(nlevels)\n",
       "        3    0.000    0.000    0.000    0.000 {method 'get' of 'dict' objects}\n",
       "        1    0.000    0.000    0.000    0.000 common.py:572(condition)\n",
       "        3    0.000    0.000    0.000    0.000 {built-in method __new__ of type object at 0x00007FFB0D264F40}\n",
       "        1    0.000    0.000    0.000    0.000 common.py:123(<lambda>)\n",
       "        2    0.000    0.000    0.000    0.000 cast.py:1462(<genexpr>)\n",
       "        1    0.000    0.000    0.000    0.000 geodataframe.py:1882(_constructor_sliced)\n",
       "        1    0.000    0.000    0.000    0.000 common.py:121(classes)\n",
       "        1    0.000    0.000    0.000    0.000 common.py:529(is_string_or_object_np_dtype)\n",
       "        1    0.000    0.000    0.000    0.000 managers.py:241(is_single_block)\n",
       "        1    0.000    0.000    0.000    0.000 {method 'disable' of '_lsprof.Profiler' objects}\n",
       "        1    0.000    0.000    0.000    0.000 tz.py:74(utcoffset)\n",
       "        1    0.000    0.000    0.000    0.000 {method 'strip' of 'str' objects}\n",
       "        1    0.000    0.000    0.000    0.000 {built-in method builtins.any}\n",
       "        2    0.000    0.000    0.000    0.000 base.py:147(<genexpr>)"
      ]
     },
     "metadata": {},
     "output_type": "display_data"
    }
   ],
   "source": [
    "%%prun\n",
    "\n",
    "# Step 5: Loop through candidate edges and evaluate impact\n",
    "for i, ((u, v, _), row) in enumerate(candidate_edges.iterrows()):\n",
    "    weight = row['travel_time']\n",
    "\n",
    "    if u not in node_to_index or v not in node_to_index:\n",
    "        continue\n",
    "\n",
    "    u_idx, v_idx = node_to_index[u], node_to_index[v]\n",
    "\n",
    "    # Add edge\n",
    "    G_ig_dana.add_edges([(u_idx, v_idx)])\n",
    "    eid = G_ig_dana.get_eid(u_idx, v_idx, directed=True, error=False)\n",
    "    if eid == -1:\n",
    "        continue\n",
    "\n",
    "    G_ig_dana.es[eid]['weight'] = weight\n",
    "\n",
    "    # Recompute risk\n",
    "    T_P_dictionary = batch_shortest_paths_no_path(G_ig_dana, special_nodes, index_to_node, node_to_index, node_to_muni)\n",
    "    new_risk = compute_risk_factor_2(T_P_dictionary, T_NP_dictionary)\n",
    "    delta_risk = new_risk - base_risk\n",
    "\n",
    "    edge_risks.append(((u, v), delta_risk))\n",
    "\n",
    "    # Remove the edge\n",
    "    G_ig_dana.delete_edges(eid)\n",
    "\n",
    "    # Print progress\n",
    "    percent_complete = (i + 1) / total * 100\n",
    "    print(f\"\\rProgress: {percent_complete:.2f}% ({i + 1}/{total})\", end=\"\")\n",
    "    sys.stdout.flush()\n",
    "\n",
    "\n",
    "edge_risks.sort(key=lambda x: x[1], reverse=True)\n",
    "\n",
    "edge_risks_json = [ {\"edge\": [u, v], \"delta_risk\": delta_risk} for (u, v), delta_risk in edge_risks ]\n",
    "with open(\"processed_files/edge_risks_DANA.json\", \"w\") as f:\n",
    "    json.dump(edge_risks_json, f, indent=2)\n"
   ]
  },
  {
   "cell_type": "markdown",
   "metadata": {},
   "source": [
    "# Plots"
   ]
  },
  {
   "cell_type": "code",
   "execution_count": 53,
   "metadata": {},
   "outputs": [
    {
     "data": {
      "image/png": "[encoded data removed]",
      "text/plain": [
       "<Figure size 800x500 with 1 Axes>"
      ]
     },
     "metadata": {},
     "output_type": "display_data"
    }
   ],
   "source": [
    "sorted_data = dict(sorted(R.items(), key=lambda item: item[1]))\n",
    "keys = list(R.keys())\n",
    "values = list(R.values())\n",
    "\n",
    "plt.figure(figsize=(8, 5))\n",
    "plt.bar(keys, values, color=\"Blue\", alpha=0.5)\n",
    "\n",
    "plt.ylim(0, 1)\n",
    "plt.ylabel('R')\n",
    "plt.title('Risk Factor')\n",
    "plt.xticks(rotation=45)\n",
    "plt.grid(axis='y', linestyle='--', alpha=0.7)\n",
    "plt.tight_layout()\n",
    "\n",
    "plt.savefig('processed_files/Risk_Factor.png')\n",
    "plt.show()"
   ]
  },
  {
   "cell_type": "code",
   "execution_count": 54,
   "metadata": {},
   "outputs": [],
   "source": [
    "color_palette = {\n",
    "    # yr values — warm and spaced\n",
    "    \"10 yr\": \"#FFD700\",    # Gold\n",
    "    \"100 yr\": \"#FF7F00\",   # Dark Orange\n",
    "    \"500 yr\": \"#B22222\",   # Firebrick \n",
    "\n",
    "    # DANA values — distinct, avoiding orange/red hues\n",
    "    \"DANA_31_10_2024\": \"#8A2BE2\",  # Blue-Violet\n",
    "    \"DANA_03_11_2024\": \"#FF1493\",  # Deep Pink\n",
    "    \"DANA_05_11_2024\": \"#00CED1\",  # Dark Turquoise\n",
    "    \"DANA_06_11_2024\": \"#32CD32\",  # Lime Green\n",
    "    \"DANA_08_11_2024\": \"#1E90FF\",  # Dodger Blue\n",
    "\n",
    "    # Normal condition\n",
    "    \"Normal Conditions\": \"#808080\"  # Grey\n",
    "}"
   ]
  },
  {
   "cell_type": "code",
   "execution_count": 55,
   "metadata": {},
   "outputs": [
    {
     "data": {
      "image/png": "[encoded data removed]",
      "text/plain": [
       "<Figure size 1400x700 with 2 Axes>"
      ]
     },
     "metadata": {},
     "output_type": "display_data"
    }
   ],
   "source": [
    "import matplotlib.pyplot as plt\n",
    "import pandas as pd\n",
    "import numpy as np\n",
    "import seaborn as sns\n",
    "from scipy.stats import gaussian_kde\n",
    "\n",
    "# --- Prepare data ---\n",
    "plot_data = []\n",
    "zero_counts = {}\n",
    "all_counts = {}\n",
    "layer_names = [\"10 yr\", \"100 yr\", \"500 yr\"]\n",
    "\n",
    "# T_P_lists scenarios\n",
    "for name, results_dict in T_P_dictionaries.items():\n",
    "    if name in layer_names:\n",
    "        travel_times = [v[1] for v in results_dict.values()]\n",
    "        non_zero_times = [t / 60 for t in travel_times if t > 0]\n",
    "        all_times = [t / 60 for t in travel_times]\n",
    "        zero_counts[name] = travel_times.count(0)\n",
    "        all_counts[name] = len(travel_times)\n",
    "        plot_data.append((name, non_zero_times))\n",
    "\n",
    "# Add normal scenario\n",
    "normal_travel_times = [v[1] for v in T_NP_dictionary.values()]\n",
    "normal_non_zero = [t / 60 for t in normal_travel_times if t > 0]\n",
    "normal_total = len(normal_travel_times)\n",
    "plot_data.append((\"Normal Conditions\", normal_non_zero))\n",
    "all_counts[\"Normal Conditions\"] = normal_total\n",
    "zero_counts[\"Normal Conditions\"] = normal_travel_times.count(0)\n",
    "\n",
    "# --- KDE Plot ---\n",
    "fig, (ax_kde, ax_bar) = plt.subplots(1, 2, figsize=(14, 7), gridspec_kw={'width_ratios': [2.5, 1]})\n",
    "\n",
    "x_vals = np.linspace(0, max([max(times) if times else 0 for _, times in plot_data]), 500)\n",
    "\n",
    "for name, times in plot_data:\n",
    "    if len(times) > 1:\n",
    "        kde = gaussian_kde(times)\n",
    "        y = kde(x_vals)\n",
    "        ratio = len(times) / all_counts[name] if all_counts[name] > 0 else 0\n",
    "        y_rescaled = y * ratio\n",
    "        color = color_palette.get(name, 'gray')  # fallback to gray if not defined\n",
    "        ax_kde.plot(x_vals, y_rescaled, label=name, color=color)\n",
    "\n",
    "ax_kde.set_title(\"PDF of Travel Times\")\n",
    "ax_kde.set_xlabel(\"Travel Time (minutes)\")\n",
    "ax_kde.grid(True)\n",
    "ax_kde.legend(loc='upper right')\n",
    "\n",
    "# --- Reachability Bar Chart ---\n",
    "scenarios = layer_names + [\"Normal Conditions\"]\n",
    "reachable = [(all_counts[n] - zero_counts[n]) / all_counts[n] if all_counts[n] > 0 else 0 for n in scenarios]\n",
    "unreachable = [1 - r for r in reachable]\n",
    "\n",
    "bar_positions = np.arange(len(scenarios))\n",
    "ax_bar.barh(bar_positions, unreachable, color='salmon', label='Unreachable')\n",
    "ax_bar.barh(bar_positions, reachable, left=unreachable, color='mediumseagreen', label='Reachable')\n",
    "\n",
    "ax_bar.set_yticks(bar_positions)\n",
    "ax_bar.set_yticklabels(scenarios)\n",
    "ax_bar.set_xlim(0, 1)\n",
    "ax_bar.set_title(\"Fraction of cut routes\")\n",
    "ax_bar.set_xlabel(\"Proportion\")\n",
    "#ax_bar.legend(loc='lower right')\n",
    "ax_bar.grid(axis='x', linestyle='--', alpha=0.5)\n",
    "\n",
    "ax_bar.invert_yaxis()\n",
    "\n",
    "plt.tight_layout()\n",
    "\n",
    "plt.savefig('processed_files/Travel_times_yr.png')\n",
    "\n",
    "plt.show()"
   ]
  },
  {
   "cell_type": "code",
   "execution_count": 56,
   "metadata": {},
   "outputs": [
    {
     "data": {
      "image/png": "[encoded data removed]",
      "text/plain": [
       "<Figure size 1400x700 with 2 Axes>"
      ]
     },
     "metadata": {},
     "output_type": "display_data"
    }
   ],
   "source": [
    "\n",
    "# --- Prepare data ---\n",
    "plot_data = []\n",
    "zero_counts = {}\n",
    "all_counts = {}\n",
    "layer_names = [\"DANA_31_10_2024\",\"DANA_03_11_2024\",\"DANA_05_11_2024\",\"DANA_06_11_2024\",\"DANA_08_11_2024\"]\n",
    "\n",
    "# T_P_lists scenarios\n",
    "for name, results_dict in T_P_dictionaries.items():\n",
    "    if name in layer_names:\n",
    "        travel_times = [v[1] for v in results_dict.values()]\n",
    "        non_zero_times = [t / 60 for t in travel_times if t > 0]\n",
    "        all_times = [t / 60 for t in travel_times]\n",
    "        zero_counts[name] = travel_times.count(0)\n",
    "        all_counts[name] = len(travel_times)\n",
    "        plot_data.append((name, non_zero_times))\n",
    "\n",
    "# Add normal scenario\n",
    "normal_travel_times = [v[1] for v in T_NP_dictionary.values()]\n",
    "normal_non_zero = [t / 60 for t in normal_travel_times if t > 0]\n",
    "normal_total = len(normal_travel_times)\n",
    "plot_data.append((\"Normal Conditions\", normal_non_zero))\n",
    "all_counts[\"Normal Conditions\"] = normal_total\n",
    "zero_counts[\"Normal Conditions\"] = normal_travel_times.count(0)\n",
    "\n",
    "# --- KDE Plot ---\n",
    "fig, (ax_kde, ax_bar) = plt.subplots(1, 2, figsize=(14, 7), gridspec_kw={'width_ratios': [2.5, 1]})\n",
    "\n",
    "x_vals = np.linspace(0, max([max(times) if times else 0 for _, times in plot_data]), 500)\n",
    "\n",
    "for name, times in plot_data:\n",
    "    if len(times) > 1:\n",
    "        kde = gaussian_kde(times)\n",
    "        y = kde(x_vals)\n",
    "        ratio = len(times) / all_counts[name] if all_counts[name] > 0 else 0\n",
    "        y_rescaled = y * ratio\n",
    "        color = color_palette.get(name, 'gray')  # fallback to gray if not defined\n",
    "        ax_kde.plot(x_vals, y_rescaled, label=name, color=color)\n",
    "\n",
    "ax_kde.set_title(\"PDF of Travel Times\")\n",
    "ax_kde.set_xlabel(\"Travel Time (minutes)\")\n",
    "ax_kde.grid(True)\n",
    "ax_kde.legend(loc='upper right')\n",
    "\n",
    "# --- Reachability Bar Chart ---\n",
    "scenarios = layer_names + [\"Normal Conditions\"]\n",
    "reachable = [(all_counts[n] - zero_counts[n]) / all_counts[n] if all_counts[n] > 0 else 0 for n in scenarios]\n",
    "unreachable = [1 - r for r in reachable]\n",
    "\n",
    "bar_positions = np.arange(len(scenarios))\n",
    "ax_bar.barh(bar_positions, unreachable, color='salmon', label='Unreachable')\n",
    "ax_bar.barh(bar_positions, reachable, left=unreachable, color='mediumseagreen', label='Reachable')\n",
    "\n",
    "ax_bar.set_yticks(bar_positions)\n",
    "ax_bar.set_yticklabels(scenarios)\n",
    "ax_bar.set_xlim(0, 1)\n",
    "ax_bar.set_title(\"Fraction of cut routes\")\n",
    "ax_bar.set_xlabel(\"Proportion\")\n",
    "#ax_bar.legend(loc='lower right')\n",
    "ax_bar.grid(axis='x', linestyle='--', alpha=0.5)\n",
    "\n",
    "ax_bar.invert_yaxis()\n",
    "\n",
    "plt.tight_layout()\n",
    "\n",
    "plt.savefig('processed_files/Travel_times_DANA.png')\n",
    "plt.show()"
   ]
  },
  {
   "cell_type": "markdown",
   "metadata": {
    "id": "59NZ-jYDAeVF"
   },
   "source": [
    "# Interactive Visualizations"
   ]
  },
  {
   "cell_type": "code",
   "execution_count": 57,
   "metadata": {},
   "outputs": [],
   "source": [
    "# Set initial position\n",
    "projected = study_area.to_crs(epsg=25830)\n",
    "centroid_projected = projected.geometry.centroid.iloc[0]\n",
    "centroid_latlon = gpd.GeoSeries([centroid_projected], crs=25830).to_crs(epsg=4326).geometry.iloc[0]\n",
    "map_center = [centroid_latlon.y, centroid_latlon.x]\n",
    "bounds_wgs84 = study_area.to_crs(epsg=4326).total_bounds\n",
    "map_bounds = [[bounds_wgs84[1], bounds_wgs84[0]], [bounds_wgs84[3], bounds_wgs84[2]]]"
   ]
  },
  {
   "cell_type": "markdown",
   "metadata": {},
   "source": [
    "## Areas at Risk and DANA Area (with roads)"
   ]
  },
  {
   "cell_type": "code",
   "execution_count": 58,
   "metadata": {},
   "outputs": [],
   "source": [
    "m_1 = folium.Map(location=map_center, zoom_start=10, tiles=\"CartoDB positron\", max_bounds=True)\n",
    "m_1.fit_bounds(map_bounds)"
   ]
  },
  {
   "cell_type": "code",
   "execution_count": 59,
   "metadata": {},
   "outputs": [
    {
     "name": "stderr",
     "output_type": "stream",
     "text": [
      "2025-07-10 21:43:43,071 [INFO] Loading saved road network graph...\n",
      "2025-07-10 21:43:58,857 [INFO] Converted graph to GeoDataFrames.\n"
     ]
    }
   ],
   "source": [
    "if os.path.exists(graph_path):\n",
    "    logging.info(\"Loading saved road network graph...\")\n",
    "    G = ox.load_graphml(graph_path)\n",
    "else:\n",
    "    logging.info(\"Downloading road network...\")\n",
    "    G = ox.graph_from_polygon(polygon, network_type=\"drive\", simplify=True)\n",
    "    ox.save_graphml(G, filepath=graph_path)\n",
    "    logging.info(\"Graph saved.\")\n",
    "\n",
    "nodes, edges = ox.graph_to_gdfs(G)\n",
    "logging.info(\"Converted graph to GeoDataFrames.\")"
   ]
  },
  {
   "cell_type": "code",
   "execution_count": 60,
   "metadata": {},
   "outputs": [],
   "source": [
    "# Add flood zones\n",
    "add_flood_zone_layer(\"10 yr\", m_1)\n",
    "add_flood_zone_layer(\"100 yr\", m_1)\n",
    "add_flood_zone_layer(\"500 yr\", m_1)\n",
    "add_flood_zone_layer(\"DANA_31_10_2024\", m_1)\n",
    "    \n",
    "# Add flooded roads (optional)\n",
    "add_roads_layer(\"10 yr\", m_1, True)\n",
    "add_roads_layer(\"100 yr\", m_1, True)\n",
    "add_roads_layer(\"500 yr\", m_1, True)\n",
    "add_roads_layer(\"DANA_31_10_2024\", m_1, True)\n",
    "add_roads_layer(\"Normal Conditions\", m_1, False)"
   ]
  },
  {
   "cell_type": "code",
   "execution_count": 61,
   "metadata": {},
   "outputs": [],
   "source": [
    "folium.LayerControl(collapsed=False).add_to(m_1)\n",
    "m_1.save(\"processed_files/Risk_max_DANA.html\")"
   ]
  },
  {
   "cell_type": "code",
   "execution_count": 62,
   "metadata": {},
   "outputs": [],
   "source": [
    "del m_1"
   ]
  },
  {
   "cell_type": "markdown",
   "metadata": {},
   "source": [
    "## DANA flood depth"
   ]
  },
  {
   "cell_type": "code",
   "execution_count": 63,
   "metadata": {},
   "outputs": [],
   "source": [
    "m_2 = folium.Map(location=map_center, zoom_start=10, tiles=\"CartoDB positron\", max_bounds=True)\n",
    "m_2.fit_bounds(map_bounds)"
   ]
  },
  {
   "cell_type": "code",
   "execution_count": 64,
   "metadata": {},
   "outputs": [],
   "source": [
    "depth=depth_zones[\"DANA_31_10_2024\"]"
   ]
  },
  {
   "cell_type": "code",
   "execution_count": 65,
   "metadata": {},
   "outputs": [
    {
     "data": {
      "text/html": [
       "<svg height=\"40\" width=\"450\"><line x1=\"0\" y1=\"15\" x2=\"0\" y2=\"27\" style=\"stroke:#ffffd9ff;stroke-width:2;\" /><line x1=\"1\" y1=\"15\" x2=\"1\" y2=\"27\" style=\"stroke:#ffffd9ff;stroke-width:2;\" /><line x1=\"2\" y1=\"15\" x2=\"2\" y2=\"27\" style=\"stroke:#ffffd8ff;stroke-width:2;\" /><line x1=\"3\" y1=\"15\" x2=\"3\" y2=\"27\" style=\"stroke:#ffffd7ff;stroke-width:2;\" /><line x1=\"4\" y1=\"15\" x2=\"4\" y2=\"27\" style=\"stroke:#feffd6ff;stroke-width:2;\" /><line x1=\"5\" y1=\"15\" x2=\"5\" y2=\"27\" style=\"stroke:#feffd6ff;stroke-width:2;\" /><line x1=\"6\" y1=\"15\" x2=\"6\" y2=\"27\" style=\"stroke:#feffd5ff;stroke-width:2;\" /><line x1=\"7\" y1=\"15\" x2=\"7\" y2=\"27\" style=\"stroke:#fdffd4ff;stroke-width:2;\" /><line x1=\"8\" y1=\"15\" x2=\"8\" y2=\"27\" style=\"stroke:#fdfed4ff;stroke-width:2;\" /><line x1=\"9\" y1=\"15\" x2=\"9\" y2=\"27\" style=\"stroke:#fdfed3ff;stroke-width:2;\" /><line x1=\"10\" y1=\"15\" x2=\"10\" y2=\"27\" style=\"stroke:#fcfed2ff;stroke-width:2;\" /><line x1=\"11\" y1=\"15\" x2=\"11\" y2=\"27\" style=\"stroke:#fcfed1ff;stroke-width:2;\" /><line x1=\"12\" y1=\"15\" x2=\"12\" y2=\"27\" style=\"stroke:#fcfed1ff;stroke-width:2;\" /><line x1=\"13\" y1=\"15\" x2=\"13\" y2=\"27\" style=\"stroke:#fbfed0ff;stroke-width:2;\" /><line x1=\"14\" y1=\"15\" x2=\"14\" y2=\"27\" style=\"stroke:#fbfecfff;stroke-width:2;\" /><line x1=\"15\" y1=\"15\" x2=\"15\" y2=\"27\" style=\"stroke:#fbfecfff;stroke-width:2;\" /><line x1=\"16\" y1=\"15\" x2=\"16\" y2=\"27\" style=\"stroke:#fafdceff;stroke-width:2;\" /><line x1=\"17\" y1=\"15\" x2=\"17\" y2=\"27\" style=\"stroke:#fafdcdff;stroke-width:2;\" /><line x1=\"18\" y1=\"15\" x2=\"18\" y2=\"27\" style=\"stroke:#fafdccff;stroke-width:2;\" /><line x1=\"19\" y1=\"15\" x2=\"19\" y2=\"27\" style=\"stroke:#f9fdccff;stroke-width:2;\" /><line x1=\"20\" y1=\"15\" x2=\"20\" y2=\"27\" style=\"stroke:#f9fdcbff;stroke-width:2;\" /><line x1=\"21\" y1=\"15\" x2=\"21\" y2=\"27\" style=\"stroke:#f9fdcaff;stroke-width:2;\" /><line x1=\"22\" y1=\"15\" x2=\"22\" y2=\"27\" style=\"stroke:#f8fdcaff;stroke-width:2;\" /><line x1=\"23\" y1=\"15\" x2=\"23\" y2=\"27\" style=\"stroke:#f8fdc9ff;stroke-width:2;\" /><line x1=\"24\" y1=\"15\" x2=\"24\" y2=\"27\" style=\"stroke:#f8fcc8ff;stroke-width:2;\" /><line x1=\"25\" y1=\"15\" x2=\"25\" y2=\"27\" style=\"stroke:#f7fcc7ff;stroke-width:2;\" /><line x1=\"26\" y1=\"15\" x2=\"26\" y2=\"27\" style=\"stroke:#f7fcc7ff;stroke-width:2;\" /><line x1=\"27\" y1=\"15\" x2=\"27\" y2=\"27\" style=\"stroke:#f7fcc6ff;stroke-width:2;\" /><line x1=\"28\" y1=\"15\" x2=\"28\" y2=\"27\" style=\"stroke:#f6fcc5ff;stroke-width:2;\" /><line x1=\"29\" y1=\"15\" x2=\"29\" y2=\"27\" style=\"stroke:#f6fcc5ff;stroke-width:2;\" /><line x1=\"30\" y1=\"15\" x2=\"30\" y2=\"27\" style=\"stroke:#f6fcc4ff;stroke-width:2;\" /><line x1=\"31\" y1=\"15\" x2=\"31\" y2=\"27\" style=\"stroke:#f6fcc3ff;stroke-width:2;\" /><line x1=\"32\" y1=\"15\" x2=\"32\" y2=\"27\" style=\"stroke:#f5fbc2ff;stroke-width:2;\" /><line x1=\"33\" y1=\"15\" x2=\"33\" y2=\"27\" style=\"stroke:#f5fbc2ff;stroke-width:2;\" /><line x1=\"34\" y1=\"15\" x2=\"34\" y2=\"27\" style=\"stroke:#f5fbc1ff;stroke-width:2;\" /><line x1=\"35\" y1=\"15\" x2=\"35\" y2=\"27\" style=\"stroke:#f4fbc0ff;stroke-width:2;\" /><line x1=\"36\" y1=\"15\" x2=\"36\" y2=\"27\" style=\"stroke:#f4fbc0ff;stroke-width:2;\" /><line x1=\"37\" y1=\"15\" x2=\"37\" y2=\"27\" style=\"stroke:#f4fbbfff;stroke-width:2;\" /><line x1=\"38\" y1=\"15\" x2=\"38\" y2=\"27\" style=\"stroke:#f3fbbeff;stroke-width:2;\" /><line x1=\"39\" y1=\"15\" x2=\"39\" y2=\"27\" style=\"stroke:#f3fbbdff;stroke-width:2;\" /><line x1=\"40\" y1=\"15\" x2=\"40\" y2=\"27\" style=\"stroke:#f3fabdff;stroke-width:2;\" /><line x1=\"41\" y1=\"15\" x2=\"41\" y2=\"27\" style=\"stroke:#f2fabcff;stroke-width:2;\" /><line x1=\"42\" y1=\"15\" x2=\"42\" y2=\"27\" style=\"stroke:#f2fabbff;stroke-width:2;\" /><line x1=\"43\" y1=\"15\" x2=\"43\" y2=\"27\" style=\"stroke:#f2fabbff;stroke-width:2;\" /><line x1=\"44\" y1=\"15\" x2=\"44\" y2=\"27\" style=\"stroke:#f1fabaff;stroke-width:2;\" /><line x1=\"45\" y1=\"15\" x2=\"45\" y2=\"27\" style=\"stroke:#f1fab9ff;stroke-width:2;\" /><line x1=\"46\" y1=\"15\" x2=\"46\" y2=\"27\" style=\"stroke:#f1fab8ff;stroke-width:2;\" /><line x1=\"47\" y1=\"15\" x2=\"47\" y2=\"27\" style=\"stroke:#f0fab8ff;stroke-width:2;\" /><line x1=\"48\" y1=\"15\" x2=\"48\" y2=\"27\" style=\"stroke:#f0f9b7ff;stroke-width:2;\" /><line x1=\"49\" y1=\"15\" x2=\"49\" y2=\"27\" style=\"stroke:#f0f9b6ff;stroke-width:2;\" /><line x1=\"50\" y1=\"15\" x2=\"50\" y2=\"27\" style=\"stroke:#eff9b6ff;stroke-width:2;\" /><line x1=\"51\" y1=\"15\" x2=\"51\" y2=\"27\" style=\"stroke:#eff9b5ff;stroke-width:2;\" /><line x1=\"52\" y1=\"15\" x2=\"52\" y2=\"27\" style=\"stroke:#eff9b4ff;stroke-width:2;\" /><line x1=\"53\" y1=\"15\" x2=\"53\" y2=\"27\" style=\"stroke:#eef9b3ff;stroke-width:2;\" /><line x1=\"54\" y1=\"15\" x2=\"54\" y2=\"27\" style=\"stroke:#eef9b3ff;stroke-width:2;\" /><line x1=\"55\" y1=\"15\" x2=\"55\" y2=\"27\" style=\"stroke:#eef9b2ff;stroke-width:2;\" /><line x1=\"56\" y1=\"15\" x2=\"56\" y2=\"27\" style=\"stroke:#edf8b1ff;stroke-width:2;\" /><line x1=\"57\" y1=\"15\" x2=\"57\" y2=\"27\" style=\"stroke:#edf8b1ff;stroke-width:2;\" /><line x1=\"58\" y1=\"15\" x2=\"58\" y2=\"27\" style=\"stroke:#ecf8b1ff;stroke-width:2;\" /><line x1=\"59\" y1=\"15\" x2=\"59\" y2=\"27\" style=\"stroke:#ebf8b1ff;stroke-width:2;\" /><line x1=\"60\" y1=\"15\" x2=\"60\" y2=\"27\" style=\"stroke:#ebf7b1ff;stroke-width:2;\" /><line x1=\"61\" y1=\"15\" x2=\"61\" y2=\"27\" style=\"stroke:#eaf7b1ff;stroke-width:2;\" /><line x1=\"62\" y1=\"15\" x2=\"62\" y2=\"27\" style=\"stroke:#e9f7b2ff;stroke-width:2;\" /><line x1=\"63\" y1=\"15\" x2=\"63\" y2=\"27\" style=\"stroke:#e9f7b2ff;stroke-width:2;\" /><line x1=\"64\" y1=\"15\" x2=\"64\" y2=\"27\" style=\"stroke:#e8f6b2ff;stroke-width:2;\" /><line x1=\"65\" y1=\"15\" x2=\"65\" y2=\"27\" style=\"stroke:#e7f6b2ff;stroke-width:2;\" /><line x1=\"66\" y1=\"15\" x2=\"66\" y2=\"27\" style=\"stroke:#e7f6b2ff;stroke-width:2;\" /><line x1=\"67\" y1=\"15\" x2=\"67\" y2=\"27\" style=\"stroke:#e6f6b2ff;stroke-width:2;\" /><line x1=\"68\" y1=\"15\" x2=\"68\" y2=\"27\" style=\"stroke:#e5f5b2ff;stroke-width:2;\" /><line x1=\"69\" y1=\"15\" x2=\"69\" y2=\"27\" style=\"stroke:#e5f5b2ff;stroke-width:2;\" /><line x1=\"70\" y1=\"15\" x2=\"70\" y2=\"27\" style=\"stroke:#e4f5b2ff;stroke-width:2;\" /><line x1=\"71\" y1=\"15\" x2=\"71\" y2=\"27\" style=\"stroke:#e3f4b2ff;stroke-width:2;\" /><line x1=\"72\" y1=\"15\" x2=\"72\" y2=\"27\" style=\"stroke:#e3f4b2ff;stroke-width:2;\" /><line x1=\"73\" y1=\"15\" x2=\"73\" y2=\"27\" style=\"stroke:#e2f4b2ff;stroke-width:2;\" /><line x1=\"74\" y1=\"15\" x2=\"74\" y2=\"27\" style=\"stroke:#e1f4b2ff;stroke-width:2;\" /><line x1=\"75\" y1=\"15\" x2=\"75\" y2=\"27\" style=\"stroke:#e1f3b2ff;stroke-width:2;\" /><line x1=\"76\" y1=\"15\" x2=\"76\" y2=\"27\" style=\"stroke:#e0f3b2ff;stroke-width:2;\" /><line x1=\"77\" y1=\"15\" x2=\"77\" y2=\"27\" style=\"stroke:#dff3b2ff;stroke-width:2;\" /><line x1=\"78\" y1=\"15\" x2=\"78\" y2=\"27\" style=\"stroke:#dff3b2ff;stroke-width:2;\" /><line x1=\"79\" y1=\"15\" x2=\"79\" y2=\"27\" style=\"stroke:#def2b2ff;stroke-width:2;\" /><line x1=\"80\" y1=\"15\" x2=\"80\" y2=\"27\" style=\"stroke:#ddf2b2ff;stroke-width:2;\" /><line x1=\"81\" y1=\"15\" x2=\"81\" y2=\"27\" style=\"stroke:#ddf2b3ff;stroke-width:2;\" /><line x1=\"82\" y1=\"15\" x2=\"82\" y2=\"27\" style=\"stroke:#dcf2b3ff;stroke-width:2;\" /><line x1=\"83\" y1=\"15\" x2=\"83\" y2=\"27\" style=\"stroke:#dbf1b3ff;stroke-width:2;\" /><line x1=\"84\" y1=\"15\" x2=\"84\" y2=\"27\" style=\"stroke:#daf1b3ff;stroke-width:2;\" /><line x1=\"85\" y1=\"15\" x2=\"85\" y2=\"27\" style=\"stroke:#daf1b3ff;stroke-width:2;\" /><line x1=\"86\" y1=\"15\" x2=\"86\" y2=\"27\" style=\"stroke:#d9f0b3ff;stroke-width:2;\" /><line x1=\"87\" y1=\"15\" x2=\"87\" y2=\"27\" style=\"stroke:#d8f0b3ff;stroke-width:2;\" /><line x1=\"88\" y1=\"15\" x2=\"88\" y2=\"27\" style=\"stroke:#d8f0b3ff;stroke-width:2;\" /><line x1=\"89\" y1=\"15\" x2=\"89\" y2=\"27\" style=\"stroke:#d7f0b3ff;stroke-width:2;\" /><line x1=\"90\" y1=\"15\" x2=\"90\" y2=\"27\" style=\"stroke:#d6efb3ff;stroke-width:2;\" /><line x1=\"91\" y1=\"15\" x2=\"91\" y2=\"27\" style=\"stroke:#d6efb3ff;stroke-width:2;\" /><line x1=\"92\" y1=\"15\" x2=\"92\" y2=\"27\" style=\"stroke:#d5efb3ff;stroke-width:2;\" /><line x1=\"93\" y1=\"15\" x2=\"93\" y2=\"27\" style=\"stroke:#d4efb3ff;stroke-width:2;\" /><line x1=\"94\" y1=\"15\" x2=\"94\" y2=\"27\" style=\"stroke:#d4eeb3ff;stroke-width:2;\" /><line x1=\"95\" y1=\"15\" x2=\"95\" y2=\"27\" style=\"stroke:#d3eeb3ff;stroke-width:2;\" /><line x1=\"96\" y1=\"15\" x2=\"96\" y2=\"27\" style=\"stroke:#d2eeb3ff;stroke-width:2;\" /><line x1=\"97\" y1=\"15\" x2=\"97\" y2=\"27\" style=\"stroke:#d2eeb3ff;stroke-width:2;\" /><line x1=\"98\" y1=\"15\" x2=\"98\" y2=\"27\" style=\"stroke:#d1edb3ff;stroke-width:2;\" /><line x1=\"99\" y1=\"15\" x2=\"99\" y2=\"27\" style=\"stroke:#d0edb3ff;stroke-width:2;\" /><line x1=\"100\" y1=\"15\" x2=\"100\" y2=\"27\" style=\"stroke:#d0edb4ff;stroke-width:2;\" /><line x1=\"101\" y1=\"15\" x2=\"101\" y2=\"27\" style=\"stroke:#cfecb4ff;stroke-width:2;\" /><line x1=\"102\" y1=\"15\" x2=\"102\" y2=\"27\" style=\"stroke:#ceecb4ff;stroke-width:2;\" /><line x1=\"103\" y1=\"15\" x2=\"103\" y2=\"27\" style=\"stroke:#ceecb4ff;stroke-width:2;\" /><line x1=\"104\" y1=\"15\" x2=\"104\" y2=\"27\" style=\"stroke:#cdecb4ff;stroke-width:2;\" /><line x1=\"105\" y1=\"15\" x2=\"105\" y2=\"27\" style=\"stroke:#ccebb4ff;stroke-width:2;\" /><line x1=\"106\" y1=\"15\" x2=\"106\" y2=\"27\" style=\"stroke:#ccebb4ff;stroke-width:2;\" /><line x1=\"107\" y1=\"15\" x2=\"107\" y2=\"27\" style=\"stroke:#cbebb4ff;stroke-width:2;\" /><line x1=\"108\" y1=\"15\" x2=\"108\" y2=\"27\" style=\"stroke:#caebb4ff;stroke-width:2;\" /><line x1=\"109\" y1=\"15\" x2=\"109\" y2=\"27\" style=\"stroke:#c9eab4ff;stroke-width:2;\" /><line x1=\"110\" y1=\"15\" x2=\"110\" y2=\"27\" style=\"stroke:#c9eab4ff;stroke-width:2;\" /><line x1=\"111\" y1=\"15\" x2=\"111\" y2=\"27\" style=\"stroke:#c8eab4ff;stroke-width:2;\" /><line x1=\"112\" y1=\"15\" x2=\"112\" y2=\"27\" style=\"stroke:#c7e9b4ff;stroke-width:2;\" /><line x1=\"113\" y1=\"15\" x2=\"113\" y2=\"27\" style=\"stroke:#c6e9b4ff;stroke-width:2;\" /><line x1=\"114\" y1=\"15\" x2=\"114\" y2=\"27\" style=\"stroke:#c5e9b4ff;stroke-width:2;\" /><line x1=\"115\" y1=\"15\" x2=\"115\" y2=\"27\" style=\"stroke:#c4e8b5ff;stroke-width:2;\" /><line x1=\"116\" y1=\"15\" x2=\"116\" y2=\"27\" style=\"stroke:#c2e8b5ff;stroke-width:2;\" /><line x1=\"117\" y1=\"15\" x2=\"117\" y2=\"27\" style=\"stroke:#c1e7b5ff;stroke-width:2;\" /><line x1=\"118\" y1=\"15\" x2=\"118\" y2=\"27\" style=\"stroke:#c0e7b5ff;stroke-width:2;\" /><line x1=\"119\" y1=\"15\" x2=\"119\" y2=\"27\" style=\"stroke:#bfe6b5ff;stroke-width:2;\" /><line x1=\"120\" y1=\"15\" x2=\"120\" y2=\"27\" style=\"stroke:#bde6b5ff;stroke-width:2;\" /><line x1=\"121\" y1=\"15\" x2=\"121\" y2=\"27\" style=\"stroke:#bce5b5ff;stroke-width:2;\" /><line x1=\"122\" y1=\"15\" x2=\"122\" y2=\"27\" style=\"stroke:#bbe5b5ff;stroke-width:2;\" /><line x1=\"123\" y1=\"15\" x2=\"123\" y2=\"27\" style=\"stroke:#b9e4b6ff;stroke-width:2;\" /><line x1=\"124\" y1=\"15\" x2=\"124\" y2=\"27\" style=\"stroke:#b8e4b6ff;stroke-width:2;\" /><line x1=\"125\" y1=\"15\" x2=\"125\" y2=\"27\" style=\"stroke:#b7e3b6ff;stroke-width:2;\" /><line x1=\"126\" y1=\"15\" x2=\"126\" y2=\"27\" style=\"stroke:#b6e3b6ff;stroke-width:2;\" /><line x1=\"127\" y1=\"15\" x2=\"127\" y2=\"27\" style=\"stroke:#b4e2b6ff;stroke-width:2;\" /><line x1=\"128\" y1=\"15\" x2=\"128\" y2=\"27\" style=\"stroke:#b3e2b6ff;stroke-width:2;\" /><line x1=\"129\" y1=\"15\" x2=\"129\" y2=\"27\" style=\"stroke:#b2e1b6ff;stroke-width:2;\" /><line x1=\"130\" y1=\"15\" x2=\"130\" y2=\"27\" style=\"stroke:#b0e1b6ff;stroke-width:2;\" /><line x1=\"131\" y1=\"15\" x2=\"131\" y2=\"27\" style=\"stroke:#afe0b7ff;stroke-width:2;\" /><line x1=\"132\" y1=\"15\" x2=\"132\" y2=\"27\" style=\"stroke:#aee0b7ff;stroke-width:2;\" /><line x1=\"133\" y1=\"15\" x2=\"133\" y2=\"27\" style=\"stroke:#addfb7ff;stroke-width:2;\" /><line x1=\"134\" y1=\"15\" x2=\"134\" y2=\"27\" style=\"stroke:#abdfb7ff;stroke-width:2;\" /><line x1=\"135\" y1=\"15\" x2=\"135\" y2=\"27\" style=\"stroke:#aadeb7ff;stroke-width:2;\" /><line x1=\"136\" y1=\"15\" x2=\"136\" y2=\"27\" style=\"stroke:#a9deb7ff;stroke-width:2;\" /><line x1=\"137\" y1=\"15\" x2=\"137\" y2=\"27\" style=\"stroke:#a7ddb7ff;stroke-width:2;\" /><line x1=\"138\" y1=\"15\" x2=\"138\" y2=\"27\" style=\"stroke:#a6ddb7ff;stroke-width:2;\" /><line x1=\"139\" y1=\"15\" x2=\"139\" y2=\"27\" style=\"stroke:#a5dcb8ff;stroke-width:2;\" /><line x1=\"140\" y1=\"15\" x2=\"140\" y2=\"27\" style=\"stroke:#a4dcb8ff;stroke-width:2;\" /><line x1=\"141\" y1=\"15\" x2=\"141\" y2=\"27\" style=\"stroke:#a2dbb8ff;stroke-width:2;\" /><line x1=\"142\" y1=\"15\" x2=\"142\" y2=\"27\" style=\"stroke:#a1dbb8ff;stroke-width:2;\" /><line x1=\"143\" y1=\"15\" x2=\"143\" y2=\"27\" style=\"stroke:#a0dab8ff;stroke-width:2;\" /><line x1=\"144\" y1=\"15\" x2=\"144\" y2=\"27\" style=\"stroke:#9edab8ff;stroke-width:2;\" /><line x1=\"145\" y1=\"15\" x2=\"145\" y2=\"27\" style=\"stroke:#9dd9b8ff;stroke-width:2;\" /><line x1=\"146\" y1=\"15\" x2=\"146\" y2=\"27\" style=\"stroke:#9cd9b8ff;stroke-width:2;\" /><line x1=\"147\" y1=\"15\" x2=\"147\" y2=\"27\" style=\"stroke:#9bd8b9ff;stroke-width:2;\" /><line x1=\"148\" y1=\"15\" x2=\"148\" y2=\"27\" style=\"stroke:#99d8b9ff;stroke-width:2;\" /><line x1=\"149\" y1=\"15\" x2=\"149\" y2=\"27\" style=\"stroke:#98d7b9ff;stroke-width:2;\" /><line x1=\"150\" y1=\"15\" x2=\"150\" y2=\"27\" style=\"stroke:#97d7b9ff;stroke-width:2;\" /><line x1=\"151\" y1=\"15\" x2=\"151\" y2=\"27\" style=\"stroke:#95d6b9ff;stroke-width:2;\" /><line x1=\"152\" y1=\"15\" x2=\"152\" y2=\"27\" style=\"stroke:#94d6b9ff;stroke-width:2;\" /><line x1=\"153\" y1=\"15\" x2=\"153\" y2=\"27\" style=\"stroke:#93d5b9ff;stroke-width:2;\" /><line x1=\"154\" y1=\"15\" x2=\"154\" y2=\"27\" style=\"stroke:#92d5b9ff;stroke-width:2;\" /><line x1=\"155\" y1=\"15\" x2=\"155\" y2=\"27\" style=\"stroke:#90d4baff;stroke-width:2;\" /><line x1=\"156\" y1=\"15\" x2=\"156\" y2=\"27\" style=\"stroke:#8fd4baff;stroke-width:2;\" /><line x1=\"157\" y1=\"15\" x2=\"157\" y2=\"27\" style=\"stroke:#8ed3baff;stroke-width:2;\" /><line x1=\"158\" y1=\"15\" x2=\"158\" y2=\"27\" style=\"stroke:#8cd3baff;stroke-width:2;\" /><line x1=\"159\" y1=\"15\" x2=\"159\" y2=\"27\" style=\"stroke:#8bd2baff;stroke-width:2;\" /><line x1=\"160\" y1=\"15\" x2=\"160\" y2=\"27\" style=\"stroke:#8ad1baff;stroke-width:2;\" /><line x1=\"161\" y1=\"15\" x2=\"161\" y2=\"27\" style=\"stroke:#88d1baff;stroke-width:2;\" /><line x1=\"162\" y1=\"15\" x2=\"162\" y2=\"27\" style=\"stroke:#87d0baff;stroke-width:2;\" /><line x1=\"163\" y1=\"15\" x2=\"163\" y2=\"27\" style=\"stroke:#86d0bbff;stroke-width:2;\" /><line x1=\"164\" y1=\"15\" x2=\"164\" y2=\"27\" style=\"stroke:#85cfbbff;stroke-width:2;\" /><line x1=\"165\" y1=\"15\" x2=\"165\" y2=\"27\" style=\"stroke:#83cfbbff;stroke-width:2;\" /><line x1=\"166\" y1=\"15\" x2=\"166\" y2=\"27\" style=\"stroke:#82cebbff;stroke-width:2;\" /><line x1=\"167\" y1=\"15\" x2=\"167\" y2=\"27\" style=\"stroke:#81cebbff;stroke-width:2;\" /><line x1=\"168\" y1=\"15\" x2=\"168\" y2=\"27\" style=\"stroke:#7fcdbbff;stroke-width:2;\" /><line x1=\"169\" y1=\"15\" x2=\"169\" y2=\"27\" style=\"stroke:#7ecdbbff;stroke-width:2;\" /><line x1=\"170\" y1=\"15\" x2=\"170\" y2=\"27\" style=\"stroke:#7dcdbbff;stroke-width:2;\" /><line x1=\"171\" y1=\"15\" x2=\"171\" y2=\"27\" style=\"stroke:#7cccbcff;stroke-width:2;\" /><line x1=\"172\" y1=\"15\" x2=\"172\" y2=\"27\" style=\"stroke:#7bccbcff;stroke-width:2;\" /><line x1=\"173\" y1=\"15\" x2=\"173\" y2=\"27\" style=\"stroke:#7acbbcff;stroke-width:2;\" /><line x1=\"174\" y1=\"15\" x2=\"174\" y2=\"27\" style=\"stroke:#79cbbcff;stroke-width:2;\" /><line x1=\"175\" y1=\"15\" x2=\"175\" y2=\"27\" style=\"stroke:#78cbbcff;stroke-width:2;\" /><line x1=\"176\" y1=\"15\" x2=\"176\" y2=\"27\" style=\"stroke:#77cabcff;stroke-width:2;\" /><line x1=\"177\" y1=\"15\" x2=\"177\" y2=\"27\" style=\"stroke:#75cabdff;stroke-width:2;\" /><line x1=\"178\" y1=\"15\" x2=\"178\" y2=\"27\" style=\"stroke:#74c9bdff;stroke-width:2;\" /><line x1=\"179\" y1=\"15\" x2=\"179\" y2=\"27\" style=\"stroke:#73c9bdff;stroke-width:2;\" /><line x1=\"180\" y1=\"15\" x2=\"180\" y2=\"27\" style=\"stroke:#72c9bdff;stroke-width:2;\" /><line x1=\"181\" y1=\"15\" x2=\"181\" y2=\"27\" style=\"stroke:#71c8bdff;stroke-width:2;\" /><line x1=\"182\" y1=\"15\" x2=\"182\" y2=\"27\" style=\"stroke:#70c8bdff;stroke-width:2;\" /><line x1=\"183\" y1=\"15\" x2=\"183\" y2=\"27\" style=\"stroke:#6fc7beff;stroke-width:2;\" /><line x1=\"184\" y1=\"15\" x2=\"184\" y2=\"27\" style=\"stroke:#6ec7beff;stroke-width:2;\" /><line x1=\"185\" y1=\"15\" x2=\"185\" y2=\"27\" style=\"stroke:#6dc6beff;stroke-width:2;\" /><line x1=\"186\" y1=\"15\" x2=\"186\" y2=\"27\" style=\"stroke:#6bc6beff;stroke-width:2;\" /><line x1=\"187\" y1=\"15\" x2=\"187\" y2=\"27\" style=\"stroke:#6ac6beff;stroke-width:2;\" /><line x1=\"188\" y1=\"15\" x2=\"188\" y2=\"27\" style=\"stroke:#69c5beff;stroke-width:2;\" /><line x1=\"189\" y1=\"15\" x2=\"189\" y2=\"27\" style=\"stroke:#68c5bfff;stroke-width:2;\" /><line x1=\"190\" y1=\"15\" x2=\"190\" y2=\"27\" style=\"stroke:#67c4bfff;stroke-width:2;\" /><line x1=\"191\" y1=\"15\" x2=\"191\" y2=\"27\" style=\"stroke:#66c4bfff;stroke-width:2;\" /><line x1=\"192\" y1=\"15\" x2=\"192\" y2=\"27\" style=\"stroke:#65c4bfff;stroke-width:2;\" /><line x1=\"193\" y1=\"15\" x2=\"193\" y2=\"27\" style=\"stroke:#64c3bfff;stroke-width:2;\" /><line x1=\"194\" y1=\"15\" x2=\"194\" y2=\"27\" style=\"stroke:#63c3bfff;stroke-width:2;\" /><line x1=\"195\" y1=\"15\" x2=\"195\" y2=\"27\" style=\"stroke:#61c2c0ff;stroke-width:2;\" /><line x1=\"196\" y1=\"15\" x2=\"196\" y2=\"27\" style=\"stroke:#60c2c0ff;stroke-width:2;\" /><line x1=\"197\" y1=\"15\" x2=\"197\" y2=\"27\" style=\"stroke:#5fc2c0ff;stroke-width:2;\" /><line x1=\"198\" y1=\"15\" x2=\"198\" y2=\"27\" style=\"stroke:#5ec1c0ff;stroke-width:2;\" /><line x1=\"199\" y1=\"15\" x2=\"199\" y2=\"27\" style=\"stroke:#5dc1c0ff;stroke-width:2;\" /><line x1=\"200\" y1=\"15\" x2=\"200\" y2=\"27\" style=\"stroke:#5cc0c0ff;stroke-width:2;\" /><line x1=\"201\" y1=\"15\" x2=\"201\" y2=\"27\" style=\"stroke:#5bc0c0ff;stroke-width:2;\" /><line x1=\"202\" y1=\"15\" x2=\"202\" y2=\"27\" style=\"stroke:#5abfc1ff;stroke-width:2;\" /><line x1=\"203\" y1=\"15\" x2=\"203\" y2=\"27\" style=\"stroke:#59bfc1ff;stroke-width:2;\" /><line x1=\"204\" y1=\"15\" x2=\"204\" y2=\"27\" style=\"stroke:#57bfc1ff;stroke-width:2;\" /><line x1=\"205\" y1=\"15\" x2=\"205\" y2=\"27\" style=\"stroke:#56bec1ff;stroke-width:2;\" /><line x1=\"206\" y1=\"15\" x2=\"206\" y2=\"27\" style=\"stroke:#55bec1ff;stroke-width:2;\" /><line x1=\"207\" y1=\"15\" x2=\"207\" y2=\"27\" style=\"stroke:#54bdc1ff;stroke-width:2;\" /><line x1=\"208\" y1=\"15\" x2=\"208\" y2=\"27\" style=\"stroke:#53bdc2ff;stroke-width:2;\" /><line x1=\"209\" y1=\"15\" x2=\"209\" y2=\"27\" style=\"stroke:#52bdc2ff;stroke-width:2;\" /><line x1=\"210\" y1=\"15\" x2=\"210\" y2=\"27\" style=\"stroke:#51bcc2ff;stroke-width:2;\" /><line x1=\"211\" y1=\"15\" x2=\"211\" y2=\"27\" style=\"stroke:#50bcc2ff;stroke-width:2;\" /><line x1=\"212\" y1=\"15\" x2=\"212\" y2=\"27\" style=\"stroke:#4fbbc2ff;stroke-width:2;\" /><line x1=\"213\" y1=\"15\" x2=\"213\" y2=\"27\" style=\"stroke:#4ebbc2ff;stroke-width:2;\" /><line x1=\"214\" y1=\"15\" x2=\"214\" y2=\"27\" style=\"stroke:#4cbbc3ff;stroke-width:2;\" /><line x1=\"215\" y1=\"15\" x2=\"215\" y2=\"27\" style=\"stroke:#4bbac3ff;stroke-width:2;\" /><line x1=\"216\" y1=\"15\" x2=\"216\" y2=\"27\" style=\"stroke:#4abac3ff;stroke-width:2;\" /><line x1=\"217\" y1=\"15\" x2=\"217\" y2=\"27\" style=\"stroke:#49b9c3ff;stroke-width:2;\" /><line x1=\"218\" y1=\"15\" x2=\"218\" y2=\"27\" style=\"stroke:#48b9c3ff;stroke-width:2;\" /><line x1=\"219\" y1=\"15\" x2=\"219\" y2=\"27\" style=\"stroke:#47b8c3ff;stroke-width:2;\" /><line x1=\"220\" y1=\"15\" x2=\"220\" y2=\"27\" style=\"stroke:#46b8c4ff;stroke-width:2;\" /><line x1=\"221\" y1=\"15\" x2=\"221\" y2=\"27\" style=\"stroke:#45b8c4ff;stroke-width:2;\" /><line x1=\"222\" y1=\"15\" x2=\"222\" y2=\"27\" style=\"stroke:#44b7c4ff;stroke-width:2;\" /><line x1=\"223\" y1=\"15\" x2=\"223\" y2=\"27\" style=\"stroke:#42b7c4ff;stroke-width:2;\" /><line x1=\"224\" y1=\"15\" x2=\"224\" y2=\"27\" style=\"stroke:#41b6c4ff;stroke-width:2;\" /><line x1=\"225\" y1=\"15\" x2=\"225\" y2=\"27\" style=\"stroke:#40b6c4ff;stroke-width:2;\" /><line x1=\"226\" y1=\"15\" x2=\"226\" y2=\"27\" style=\"stroke:#40b5c4ff;stroke-width:2;\" /><line x1=\"227\" y1=\"15\" x2=\"227\" y2=\"27\" style=\"stroke:#3fb5c4ff;stroke-width:2;\" /><line x1=\"228\" y1=\"15\" x2=\"228\" y2=\"27\" style=\"stroke:#3fb4c4ff;stroke-width:2;\" /><line x1=\"229\" y1=\"15\" x2=\"229\" y2=\"27\" style=\"stroke:#3eb3c4ff;stroke-width:2;\" /><line x1=\"230\" y1=\"15\" x2=\"230\" y2=\"27\" style=\"stroke:#3db3c4ff;stroke-width:2;\" /><line x1=\"231\" y1=\"15\" x2=\"231\" y2=\"27\" style=\"stroke:#3db2c4ff;stroke-width:2;\" /><line x1=\"232\" y1=\"15\" x2=\"232\" y2=\"27\" style=\"stroke:#3cb1c4ff;stroke-width:2;\" /><line x1=\"233\" y1=\"15\" x2=\"233\" y2=\"27\" style=\"stroke:#3bb1c4ff;stroke-width:2;\" /><line x1=\"234\" y1=\"15\" x2=\"234\" y2=\"27\" style=\"stroke:#3bb0c4ff;stroke-width:2;\" /><line x1=\"235\" y1=\"15\" x2=\"235\" y2=\"27\" style=\"stroke:#3aafc4ff;stroke-width:2;\" /><line x1=\"236\" y1=\"15\" x2=\"236\" y2=\"27\" style=\"stroke:#39afc3ff;stroke-width:2;\" /><line x1=\"237\" y1=\"15\" x2=\"237\" y2=\"27\" style=\"stroke:#39aec3ff;stroke-width:2;\" /><line x1=\"238\" y1=\"15\" x2=\"238\" y2=\"27\" style=\"stroke:#38adc3ff;stroke-width:2;\" /><line x1=\"239\" y1=\"15\" x2=\"239\" y2=\"27\" style=\"stroke:#37adc3ff;stroke-width:2;\" /><line x1=\"240\" y1=\"15\" x2=\"240\" y2=\"27\" style=\"stroke:#37acc3ff;stroke-width:2;\" /><line x1=\"241\" y1=\"15\" x2=\"241\" y2=\"27\" style=\"stroke:#36abc3ff;stroke-width:2;\" /><line x1=\"242\" y1=\"15\" x2=\"242\" y2=\"27\" style=\"stroke:#35abc3ff;stroke-width:2;\" /><line x1=\"243\" y1=\"15\" x2=\"243\" y2=\"27\" style=\"stroke:#35aac3ff;stroke-width:2;\" /><line x1=\"244\" y1=\"15\" x2=\"244\" y2=\"27\" style=\"stroke:#34a9c3ff;stroke-width:2;\" /><line x1=\"245\" y1=\"15\" x2=\"245\" y2=\"27\" style=\"stroke:#34a9c3ff;stroke-width:2;\" /><line x1=\"246\" y1=\"15\" x2=\"246\" y2=\"27\" style=\"stroke:#33a8c3ff;stroke-width:2;\" /><line x1=\"247\" y1=\"15\" x2=\"247\" y2=\"27\" style=\"stroke:#32a7c3ff;stroke-width:2;\" /><line x1=\"248\" y1=\"15\" x2=\"248\" y2=\"27\" style=\"stroke:#32a7c3ff;stroke-width:2;\" /><line x1=\"249\" y1=\"15\" x2=\"249\" y2=\"27\" style=\"stroke:#31a6c3ff;stroke-width:2;\" /><line x1=\"250\" y1=\"15\" x2=\"250\" y2=\"27\" style=\"stroke:#30a5c2ff;stroke-width:2;\" /><line x1=\"251\" y1=\"15\" x2=\"251\" y2=\"27\" style=\"stroke:#30a5c2ff;stroke-width:2;\" /><line x1=\"252\" y1=\"15\" x2=\"252\" y2=\"27\" style=\"stroke:#2fa4c2ff;stroke-width:2;\" /><line x1=\"253\" y1=\"15\" x2=\"253\" y2=\"27\" style=\"stroke:#2ea3c2ff;stroke-width:2;\" /><line x1=\"254\" y1=\"15\" x2=\"254\" y2=\"27\" style=\"stroke:#2ea3c2ff;stroke-width:2;\" /><line x1=\"255\" y1=\"15\" x2=\"255\" y2=\"27\" style=\"stroke:#2da2c2ff;stroke-width:2;\" /><line x1=\"256\" y1=\"15\" x2=\"256\" y2=\"27\" style=\"stroke:#2ca1c2ff;stroke-width:2;\" /><line x1=\"257\" y1=\"15\" x2=\"257\" y2=\"27\" style=\"stroke:#2ca1c2ff;stroke-width:2;\" /><line x1=\"258\" y1=\"15\" x2=\"258\" y2=\"27\" style=\"stroke:#2ba0c2ff;stroke-width:2;\" /><line x1=\"259\" y1=\"15\" x2=\"259\" y2=\"27\" style=\"stroke:#2b9fc2ff;stroke-width:2;\" /><line x1=\"260\" y1=\"15\" x2=\"260\" y2=\"27\" style=\"stroke:#2a9fc2ff;stroke-width:2;\" /><line x1=\"261\" y1=\"15\" x2=\"261\" y2=\"27\" style=\"stroke:#299ec2ff;stroke-width:2;\" /><line x1=\"262\" y1=\"15\" x2=\"262\" y2=\"27\" style=\"stroke:#299dc2ff;stroke-width:2;\" /><line x1=\"263\" y1=\"15\" x2=\"263\" y2=\"27\" style=\"stroke:#289dc2ff;stroke-width:2;\" /><line x1=\"264\" y1=\"15\" x2=\"264\" y2=\"27\" style=\"stroke:#279cc1ff;stroke-width:2;\" /><line x1=\"265\" y1=\"15\" x2=\"265\" y2=\"27\" style=\"stroke:#279bc1ff;stroke-width:2;\" /><line x1=\"266\" y1=\"15\" x2=\"266\" y2=\"27\" style=\"stroke:#269bc1ff;stroke-width:2;\" /><line x1=\"267\" y1=\"15\" x2=\"267\" y2=\"27\" style=\"stroke:#259ac1ff;stroke-width:2;\" /><line x1=\"268\" y1=\"15\" x2=\"268\" y2=\"27\" style=\"stroke:#2599c1ff;stroke-width:2;\" /><line x1=\"269\" y1=\"15\" x2=\"269\" y2=\"27\" style=\"stroke:#2499c1ff;stroke-width:2;\" /><line x1=\"270\" y1=\"15\" x2=\"270\" y2=\"27\" style=\"stroke:#2398c1ff;stroke-width:2;\" /><line x1=\"271\" y1=\"15\" x2=\"271\" y2=\"27\" style=\"stroke:#2397c1ff;stroke-width:2;\" /><line x1=\"272\" y1=\"15\" x2=\"272\" y2=\"27\" style=\"stroke:#2297c1ff;stroke-width:2;\" /><line x1=\"273\" y1=\"15\" x2=\"273\" y2=\"27\" style=\"stroke:#2296c1ff;stroke-width:2;\" /><line x1=\"274\" y1=\"15\" x2=\"274\" y2=\"27\" style=\"stroke:#2195c1ff;stroke-width:2;\" /><line x1=\"275\" y1=\"15\" x2=\"275\" y2=\"27\" style=\"stroke:#2095c1ff;stroke-width:2;\" /><line x1=\"276\" y1=\"15\" x2=\"276\" y2=\"27\" style=\"stroke:#2094c1ff;stroke-width:2;\" /><line x1=\"277\" y1=\"15\" x2=\"277\" y2=\"27\" style=\"stroke:#1f93c1ff;stroke-width:2;\" /><line x1=\"278\" y1=\"15\" x2=\"278\" y2=\"27\" style=\"stroke:#1e93c0ff;stroke-width:2;\" /><line x1=\"279\" y1=\"15\" x2=\"279\" y2=\"27\" style=\"stroke:#1e92c0ff;stroke-width:2;\" /><line x1=\"280\" y1=\"15\" x2=\"280\" y2=\"27\" style=\"stroke:#1d91c0ff;stroke-width:2;\" /><line x1=\"281\" y1=\"15\" x2=\"281\" y2=\"27\" style=\"stroke:#1d91c0ff;stroke-width:2;\" /><line x1=\"282\" y1=\"15\" x2=\"282\" y2=\"27\" style=\"stroke:#1d90c0ff;stroke-width:2;\" /><line x1=\"283\" y1=\"15\" x2=\"283\" y2=\"27\" style=\"stroke:#1d8fbfff;stroke-width:2;\" /><line x1=\"284\" y1=\"15\" x2=\"284\" y2=\"27\" style=\"stroke:#1d8ebfff;stroke-width:2;\" /><line x1=\"285\" y1=\"15\" x2=\"285\" y2=\"27\" style=\"stroke:#1d8dbeff;stroke-width:2;\" /><line x1=\"286\" y1=\"15\" x2=\"286\" y2=\"27\" style=\"stroke:#1d8cbeff;stroke-width:2;\" /><line x1=\"287\" y1=\"15\" x2=\"287\" y2=\"27\" style=\"stroke:#1d8bbeff;stroke-width:2;\" /><line x1=\"288\" y1=\"15\" x2=\"288\" y2=\"27\" style=\"stroke:#1d8abdff;stroke-width:2;\" /><line x1=\"289\" y1=\"15\" x2=\"289\" y2=\"27\" style=\"stroke:#1d89bdff;stroke-width:2;\" /><line x1=\"290\" y1=\"15\" x2=\"290\" y2=\"27\" style=\"stroke:#1d89bcff;stroke-width:2;\" /><line x1=\"291\" y1=\"15\" x2=\"291\" y2=\"27\" style=\"stroke:#1e88bcff;stroke-width:2;\" /><line x1=\"292\" y1=\"15\" x2=\"292\" y2=\"27\" style=\"stroke:#1e87bbff;stroke-width:2;\" /><line x1=\"293\" y1=\"15\" x2=\"293\" y2=\"27\" style=\"stroke:#1e86bbff;stroke-width:2;\" /><line x1=\"294\" y1=\"15\" x2=\"294\" y2=\"27\" style=\"stroke:#1e85bbff;stroke-width:2;\" /><line x1=\"295\" y1=\"15\" x2=\"295\" y2=\"27\" style=\"stroke:#1e84baff;stroke-width:2;\" /><line x1=\"296\" y1=\"15\" x2=\"296\" y2=\"27\" style=\"stroke:#1e83baff;stroke-width:2;\" /><line x1=\"297\" y1=\"15\" x2=\"297\" y2=\"27\" style=\"stroke:#1e82b9ff;stroke-width:2;\" /><line x1=\"298\" y1=\"15\" x2=\"298\" y2=\"27\" style=\"stroke:#1e81b9ff;stroke-width:2;\" /><line x1=\"299\" y1=\"15\" x2=\"299\" y2=\"27\" style=\"stroke:#1e80b8ff;stroke-width:2;\" /><line x1=\"300\" y1=\"15\" x2=\"300\" y2=\"27\" style=\"stroke:#1e7fb8ff;stroke-width:2;\" /><line x1=\"301\" y1=\"15\" x2=\"301\" y2=\"27\" style=\"stroke:#1e7eb8ff;stroke-width:2;\" /><line x1=\"302\" y1=\"15\" x2=\"302\" y2=\"27\" style=\"stroke:#1f7eb7ff;stroke-width:2;\" /><line x1=\"303\" y1=\"15\" x2=\"303\" y2=\"27\" style=\"stroke:#1f7db7ff;stroke-width:2;\" /><line x1=\"304\" y1=\"15\" x2=\"304\" y2=\"27\" style=\"stroke:#1f7cb6ff;stroke-width:2;\" /><line x1=\"305\" y1=\"15\" x2=\"305\" y2=\"27\" style=\"stroke:#1f7bb6ff;stroke-width:2;\" /><line x1=\"306\" y1=\"15\" x2=\"306\" y2=\"27\" style=\"stroke:#1f7ab5ff;stroke-width:2;\" /><line x1=\"307\" y1=\"15\" x2=\"307\" y2=\"27\" style=\"stroke:#1f79b5ff;stroke-width:2;\" /><line x1=\"308\" y1=\"15\" x2=\"308\" y2=\"27\" style=\"stroke:#1f78b5ff;stroke-width:2;\" /><line x1=\"309\" y1=\"15\" x2=\"309\" y2=\"27\" style=\"stroke:#1f77b4ff;stroke-width:2;\" /><line x1=\"310\" y1=\"15\" x2=\"310\" y2=\"27\" style=\"stroke:#1f76b4ff;stroke-width:2;\" /><line x1=\"311\" y1=\"15\" x2=\"311\" y2=\"27\" style=\"stroke:#1f75b3ff;stroke-width:2;\" /><line x1=\"312\" y1=\"15\" x2=\"312\" y2=\"27\" style=\"stroke:#1f74b3ff;stroke-width:2;\" /><line x1=\"313\" y1=\"15\" x2=\"313\" y2=\"27\" style=\"stroke:#2074b2ff;stroke-width:2;\" /><line x1=\"314\" y1=\"15\" x2=\"314\" y2=\"27\" style=\"stroke:#2073b2ff;stroke-width:2;\" /><line x1=\"315\" y1=\"15\" x2=\"315\" y2=\"27\" style=\"stroke:#2072b1ff;stroke-width:2;\" /><line x1=\"316\" y1=\"15\" x2=\"316\" y2=\"27\" style=\"stroke:#2071b1ff;stroke-width:2;\" /><line x1=\"317\" y1=\"15\" x2=\"317\" y2=\"27\" style=\"stroke:#2070b1ff;stroke-width:2;\" /><line x1=\"318\" y1=\"15\" x2=\"318\" y2=\"27\" style=\"stroke:#206fb0ff;stroke-width:2;\" /><line x1=\"319\" y1=\"15\" x2=\"319\" y2=\"27\" style=\"stroke:#206eb0ff;stroke-width:2;\" /><line x1=\"320\" y1=\"15\" x2=\"320\" y2=\"27\" style=\"stroke:#206dafff;stroke-width:2;\" /><line x1=\"321\" y1=\"15\" x2=\"321\" y2=\"27\" style=\"stroke:#206cafff;stroke-width:2;\" /><line x1=\"322\" y1=\"15\" x2=\"322\" y2=\"27\" style=\"stroke:#206baeff;stroke-width:2;\" /><line x1=\"323\" y1=\"15\" x2=\"323\" y2=\"27\" style=\"stroke:#206aaeff;stroke-width:2;\" /><line x1=\"324\" y1=\"15\" x2=\"324\" y2=\"27\" style=\"stroke:#2069aeff;stroke-width:2;\" /><line x1=\"325\" y1=\"15\" x2=\"325\" y2=\"27\" style=\"stroke:#2169adff;stroke-width:2;\" /><line x1=\"326\" y1=\"15\" x2=\"326\" y2=\"27\" style=\"stroke:#2168adff;stroke-width:2;\" /><line x1=\"327\" y1=\"15\" x2=\"327\" y2=\"27\" style=\"stroke:#2167acff;stroke-width:2;\" /><line x1=\"328\" y1=\"15\" x2=\"328\" y2=\"27\" style=\"stroke:#2166acff;stroke-width:2;\" /><line x1=\"329\" y1=\"15\" x2=\"329\" y2=\"27\" style=\"stroke:#2165abff;stroke-width:2;\" /><line x1=\"330\" y1=\"15\" x2=\"330\" y2=\"27\" style=\"stroke:#2164abff;stroke-width:2;\" /><line x1=\"331\" y1=\"15\" x2=\"331\" y2=\"27\" style=\"stroke:#2163abff;stroke-width:2;\" /><line x1=\"332\" y1=\"15\" x2=\"332\" y2=\"27\" style=\"stroke:#2162aaff;stroke-width:2;\" /><line x1=\"333\" y1=\"15\" x2=\"333\" y2=\"27\" style=\"stroke:#2161aaff;stroke-width:2;\" /><line x1=\"334\" y1=\"15\" x2=\"334\" y2=\"27\" style=\"stroke:#2160a9ff;stroke-width:2;\" /><line x1=\"335\" y1=\"15\" x2=\"335\" y2=\"27\" style=\"stroke:#215fa9ff;stroke-width:2;\" /><line x1=\"336\" y1=\"15\" x2=\"336\" y2=\"27\" style=\"stroke:#225fa8ff;stroke-width:2;\" /><line x1=\"337\" y1=\"15\" x2=\"337\" y2=\"27\" style=\"stroke:#225ea8ff;stroke-width:2;\" /><line x1=\"338\" y1=\"15\" x2=\"338\" y2=\"27\" style=\"stroke:#225da8ff;stroke-width:2;\" /><line x1=\"339\" y1=\"15\" x2=\"339\" y2=\"27\" style=\"stroke:#225ca7ff;stroke-width:2;\" /><line x1=\"340\" y1=\"15\" x2=\"340\" y2=\"27\" style=\"stroke:#225ba7ff;stroke-width:2;\" /><line x1=\"341\" y1=\"15\" x2=\"341\" y2=\"27\" style=\"stroke:#225ba7ff;stroke-width:2;\" /><line x1=\"342\" y1=\"15\" x2=\"342\" y2=\"27\" style=\"stroke:#225aa6ff;stroke-width:2;\" /><line x1=\"343\" y1=\"15\" x2=\"343\" y2=\"27\" style=\"stroke:#2259a6ff;stroke-width:2;\" /><line x1=\"344\" y1=\"15\" x2=\"344\" y2=\"27\" style=\"stroke:#2258a6ff;stroke-width:2;\" /><line x1=\"345\" y1=\"15\" x2=\"345\" y2=\"27\" style=\"stroke:#2258a5ff;stroke-width:2;\" /><line x1=\"346\" y1=\"15\" x2=\"346\" y2=\"27\" style=\"stroke:#2257a5ff;stroke-width:2;\" /><line x1=\"347\" y1=\"15\" x2=\"347\" y2=\"27\" style=\"stroke:#2256a4ff;stroke-width:2;\" /><line x1=\"348\" y1=\"15\" x2=\"348\" y2=\"27\" style=\"stroke:#2255a4ff;stroke-width:2;\" /><line x1=\"349\" y1=\"15\" x2=\"349\" y2=\"27\" style=\"stroke:#2255a4ff;stroke-width:2;\" /><line x1=\"350\" y1=\"15\" x2=\"350\" y2=\"27\" style=\"stroke:#2254a3ff;stroke-width:2;\" /><line x1=\"351\" y1=\"15\" x2=\"351\" y2=\"27\" style=\"stroke:#2253a3ff;stroke-width:2;\" /><line x1=\"352\" y1=\"15\" x2=\"352\" y2=\"27\" style=\"stroke:#2252a3ff;stroke-width:2;\" /><line x1=\"353\" y1=\"15\" x2=\"353\" y2=\"27\" style=\"stroke:#2352a2ff;stroke-width:2;\" /><line x1=\"354\" y1=\"15\" x2=\"354\" y2=\"27\" style=\"stroke:#2351a2ff;stroke-width:2;\" /><line x1=\"355\" y1=\"15\" x2=\"355\" y2=\"27\" style=\"stroke:#2350a2ff;stroke-width:2;\" /><line x1=\"356\" y1=\"15\" x2=\"356\" y2=\"27\" style=\"stroke:#234fa1ff;stroke-width:2;\" /><line x1=\"357\" y1=\"15\" x2=\"357\" y2=\"27\" style=\"stroke:#234fa1ff;stroke-width:2;\" /><line x1=\"358\" y1=\"15\" x2=\"358\" y2=\"27\" style=\"stroke:#234ea1ff;stroke-width:2;\" /><line x1=\"359\" y1=\"15\" x2=\"359\" y2=\"27\" style=\"stroke:#234da0ff;stroke-width:2;\" /><line x1=\"360\" y1=\"15\" x2=\"360\" y2=\"27\" style=\"stroke:#234ca0ff;stroke-width:2;\" /><line x1=\"361\" y1=\"15\" x2=\"361\" y2=\"27\" style=\"stroke:#234c9fff;stroke-width:2;\" /><line x1=\"362\" y1=\"15\" x2=\"362\" y2=\"27\" style=\"stroke:#234b9fff;stroke-width:2;\" /><line x1=\"363\" y1=\"15\" x2=\"363\" y2=\"27\" style=\"stroke:#234a9fff;stroke-width:2;\" /><line x1=\"364\" y1=\"15\" x2=\"364\" y2=\"27\" style=\"stroke:#23499eff;stroke-width:2;\" /><line x1=\"365\" y1=\"15\" x2=\"365\" y2=\"27\" style=\"stroke:#23499eff;stroke-width:2;\" /><line x1=\"366\" y1=\"15\" x2=\"366\" y2=\"27\" style=\"stroke:#23489eff;stroke-width:2;\" /><line x1=\"367\" y1=\"15\" x2=\"367\" y2=\"27\" style=\"stroke:#23479dff;stroke-width:2;\" /><line x1=\"368\" y1=\"15\" x2=\"368\" y2=\"27\" style=\"stroke:#23469dff;stroke-width:2;\" /><line x1=\"369\" y1=\"15\" x2=\"369\" y2=\"27\" style=\"stroke:#23469dff;stroke-width:2;\" /><line x1=\"370\" y1=\"15\" x2=\"370\" y2=\"27\" style=\"stroke:#23459cff;stroke-width:2;\" /><line x1=\"371\" y1=\"15\" x2=\"371\" y2=\"27\" style=\"stroke:#23449cff;stroke-width:2;\" /><line x1=\"372\" y1=\"15\" x2=\"372\" y2=\"27\" style=\"stroke:#24439cff;stroke-width:2;\" /><line x1=\"373\" y1=\"15\" x2=\"373\" y2=\"27\" style=\"stroke:#24439bff;stroke-width:2;\" /><line x1=\"374\" y1=\"15\" x2=\"374\" y2=\"27\" style=\"stroke:#24429bff;stroke-width:2;\" /><line x1=\"375\" y1=\"15\" x2=\"375\" y2=\"27\" style=\"stroke:#24419aff;stroke-width:2;\" /><line x1=\"376\" y1=\"15\" x2=\"376\" y2=\"27\" style=\"stroke:#24409aff;stroke-width:2;\" /><line x1=\"377\" y1=\"15\" x2=\"377\" y2=\"27\" style=\"stroke:#24409aff;stroke-width:2;\" /><line x1=\"378\" y1=\"15\" x2=\"378\" y2=\"27\" style=\"stroke:#243f99ff;stroke-width:2;\" /><line x1=\"379\" y1=\"15\" x2=\"379\" y2=\"27\" style=\"stroke:#243e99ff;stroke-width:2;\" /><line x1=\"380\" y1=\"15\" x2=\"380\" y2=\"27\" style=\"stroke:#243d99ff;stroke-width:2;\" /><line x1=\"381\" y1=\"15\" x2=\"381\" y2=\"27\" style=\"stroke:#243d98ff;stroke-width:2;\" /><line x1=\"382\" y1=\"15\" x2=\"382\" y2=\"27\" style=\"stroke:#243c98ff;stroke-width:2;\" /><line x1=\"383\" y1=\"15\" x2=\"383\" y2=\"27\" style=\"stroke:#243b98ff;stroke-width:2;\" /><line x1=\"384\" y1=\"15\" x2=\"384\" y2=\"27\" style=\"stroke:#243a97ff;stroke-width:2;\" /><line x1=\"385\" y1=\"15\" x2=\"385\" y2=\"27\" style=\"stroke:#243a97ff;stroke-width:2;\" /><line x1=\"386\" y1=\"15\" x2=\"386\" y2=\"27\" style=\"stroke:#243997ff;stroke-width:2;\" /><line x1=\"387\" y1=\"15\" x2=\"387\" y2=\"27\" style=\"stroke:#243896ff;stroke-width:2;\" /><line x1=\"388\" y1=\"15\" x2=\"388\" y2=\"27\" style=\"stroke:#243796ff;stroke-width:2;\" /><line x1=\"389\" y1=\"15\" x2=\"389\" y2=\"27\" style=\"stroke:#243795ff;stroke-width:2;\" /><line x1=\"390\" y1=\"15\" x2=\"390\" y2=\"27\" style=\"stroke:#243695ff;stroke-width:2;\" /><line x1=\"391\" y1=\"15\" x2=\"391\" y2=\"27\" style=\"stroke:#253595ff;stroke-width:2;\" /><line x1=\"392\" y1=\"15\" x2=\"392\" y2=\"27\" style=\"stroke:#253494ff;stroke-width:2;\" /><line x1=\"393\" y1=\"15\" x2=\"393\" y2=\"27\" style=\"stroke:#253494ff;stroke-width:2;\" /><line x1=\"394\" y1=\"15\" x2=\"394\" y2=\"27\" style=\"stroke:#243393ff;stroke-width:2;\" /><line x1=\"395\" y1=\"15\" x2=\"395\" y2=\"27\" style=\"stroke:#243392ff;stroke-width:2;\" /><line x1=\"396\" y1=\"15\" x2=\"396\" y2=\"27\" style=\"stroke:#233291ff;stroke-width:2;\" /><line x1=\"397\" y1=\"15\" x2=\"397\" y2=\"27\" style=\"stroke:#233290ff;stroke-width:2;\" /><line x1=\"398\" y1=\"15\" x2=\"398\" y2=\"27\" style=\"stroke:#22328fff;stroke-width:2;\" /><line x1=\"399\" y1=\"15\" x2=\"399\" y2=\"27\" style=\"stroke:#21318eff;stroke-width:2;\" /><line x1=\"400\" y1=\"15\" x2=\"400\" y2=\"27\" style=\"stroke:#21318cff;stroke-width:2;\" /><line x1=\"401\" y1=\"15\" x2=\"401\" y2=\"27\" style=\"stroke:#20308bff;stroke-width:2;\" /><line x1=\"402\" y1=\"15\" x2=\"402\" y2=\"27\" style=\"stroke:#20308aff;stroke-width:2;\" /><line x1=\"403\" y1=\"15\" x2=\"403\" y2=\"27\" style=\"stroke:#1f3089ff;stroke-width:2;\" /><line x1=\"404\" y1=\"15\" x2=\"404\" y2=\"27\" style=\"stroke:#1f2f88ff;stroke-width:2;\" /><line x1=\"405\" y1=\"15\" x2=\"405\" y2=\"27\" style=\"stroke:#1e2f87ff;stroke-width:2;\" /><line x1=\"406\" y1=\"15\" x2=\"406\" y2=\"27\" style=\"stroke:#1e2e86ff;stroke-width:2;\" /><line x1=\"407\" y1=\"15\" x2=\"407\" y2=\"27\" style=\"stroke:#1d2e85ff;stroke-width:2;\" /><line x1=\"408\" y1=\"15\" x2=\"408\" y2=\"27\" style=\"stroke:#1d2d84ff;stroke-width:2;\" /><line x1=\"409\" y1=\"15\" x2=\"409\" y2=\"27\" style=\"stroke:#1c2d83ff;stroke-width:2;\" /><line x1=\"410\" y1=\"15\" x2=\"410\" y2=\"27\" style=\"stroke:#1c2d82ff;stroke-width:2;\" /><line x1=\"411\" y1=\"15\" x2=\"411\" y2=\"27\" style=\"stroke:#1b2c81ff;stroke-width:2;\" /><line x1=\"412\" y1=\"15\" x2=\"412\" y2=\"27\" style=\"stroke:#1b2c80ff;stroke-width:2;\" /><line x1=\"413\" y1=\"15\" x2=\"413\" y2=\"27\" style=\"stroke:#1a2b7eff;stroke-width:2;\" /><line x1=\"414\" y1=\"15\" x2=\"414\" y2=\"27\" style=\"stroke:#1a2b7dff;stroke-width:2;\" /><line x1=\"415\" y1=\"15\" x2=\"415\" y2=\"27\" style=\"stroke:#192b7cff;stroke-width:2;\" /><line x1=\"416\" y1=\"15\" x2=\"416\" y2=\"27\" style=\"stroke:#192a7bff;stroke-width:2;\" /><line x1=\"417\" y1=\"15\" x2=\"417\" y2=\"27\" style=\"stroke:#182a7aff;stroke-width:2;\" /><line x1=\"418\" y1=\"15\" x2=\"418\" y2=\"27\" style=\"stroke:#182979ff;stroke-width:2;\" /><line x1=\"419\" y1=\"15\" x2=\"419\" y2=\"27\" style=\"stroke:#172978ff;stroke-width:2;\" /><line x1=\"420\" y1=\"15\" x2=\"420\" y2=\"27\" style=\"stroke:#172977ff;stroke-width:2;\" /><line x1=\"421\" y1=\"15\" x2=\"421\" y2=\"27\" style=\"stroke:#162876ff;stroke-width:2;\" /><line x1=\"422\" y1=\"15\" x2=\"422\" y2=\"27\" style=\"stroke:#162875ff;stroke-width:2;\" /><line x1=\"423\" y1=\"15\" x2=\"423\" y2=\"27\" style=\"stroke:#152774ff;stroke-width:2;\" /><line x1=\"424\" y1=\"15\" x2=\"424\" y2=\"27\" style=\"stroke:#142773ff;stroke-width:2;\" /><line x1=\"425\" y1=\"15\" x2=\"425\" y2=\"27\" style=\"stroke:#142672ff;stroke-width:2;\" /><line x1=\"426\" y1=\"15\" x2=\"426\" y2=\"27\" style=\"stroke:#132671ff;stroke-width:2;\" /><line x1=\"427\" y1=\"15\" x2=\"427\" y2=\"27\" style=\"stroke:#13266fff;stroke-width:2;\" /><line x1=\"428\" y1=\"15\" x2=\"428\" y2=\"27\" style=\"stroke:#12256eff;stroke-width:2;\" /><line x1=\"429\" y1=\"15\" x2=\"429\" y2=\"27\" style=\"stroke:#12256dff;stroke-width:2;\" /><line x1=\"430\" y1=\"15\" x2=\"430\" y2=\"27\" style=\"stroke:#11246cff;stroke-width:2;\" /><line x1=\"431\" y1=\"15\" x2=\"431\" y2=\"27\" style=\"stroke:#11246bff;stroke-width:2;\" /><line x1=\"432\" y1=\"15\" x2=\"432\" y2=\"27\" style=\"stroke:#10246aff;stroke-width:2;\" /><line x1=\"433\" y1=\"15\" x2=\"433\" y2=\"27\" style=\"stroke:#102369ff;stroke-width:2;\" /><line x1=\"434\" y1=\"15\" x2=\"434\" y2=\"27\" style=\"stroke:#0f2368ff;stroke-width:2;\" /><line x1=\"435\" y1=\"15\" x2=\"435\" y2=\"27\" style=\"stroke:#0f2267ff;stroke-width:2;\" /><line x1=\"436\" y1=\"15\" x2=\"436\" y2=\"27\" style=\"stroke:#0e2266ff;stroke-width:2;\" /><line x1=\"437\" y1=\"15\" x2=\"437\" y2=\"27\" style=\"stroke:#0e2265ff;stroke-width:2;\" /><line x1=\"438\" y1=\"15\" x2=\"438\" y2=\"27\" style=\"stroke:#0d2164ff;stroke-width:2;\" /><line x1=\"439\" y1=\"15\" x2=\"439\" y2=\"27\" style=\"stroke:#0d2163ff;stroke-width:2;\" /><line x1=\"440\" y1=\"15\" x2=\"440\" y2=\"27\" style=\"stroke:#0c2062ff;stroke-width:2;\" /><line x1=\"441\" y1=\"15\" x2=\"441\" y2=\"27\" style=\"stroke:#0c2060ff;stroke-width:2;\" /><line x1=\"442\" y1=\"15\" x2=\"442\" y2=\"27\" style=\"stroke:#0b1f5fff;stroke-width:2;\" /><line x1=\"443\" y1=\"15\" x2=\"443\" y2=\"27\" style=\"stroke:#0b1f5eff;stroke-width:2;\" /><line x1=\"444\" y1=\"15\" x2=\"444\" y2=\"27\" style=\"stroke:#0a1f5dff;stroke-width:2;\" /><line x1=\"445\" y1=\"15\" x2=\"445\" y2=\"27\" style=\"stroke:#0a1e5cff;stroke-width:2;\" /><line x1=\"446\" y1=\"15\" x2=\"446\" y2=\"27\" style=\"stroke:#091e5bff;stroke-width:2;\" /><line x1=\"447\" y1=\"15\" x2=\"447\" y2=\"27\" style=\"stroke:#091d5aff;stroke-width:2;\" /><line x1=\"448\" y1=\"15\" x2=\"448\" y2=\"27\" style=\"stroke:#081d59ff;stroke-width:2;\" /><line x1=\"449\" y1=\"15\" x2=\"449\" y2=\"27\" style=\"stroke:#081d58ff;stroke-width:2;\" /><text x=\"0\" y=\"38\" style=\"text-anchor:start; font-size:11px; font:Arial; fill:black\">0.25</text><text x=\"75\" y=\"38\"; style=\"text-anchor:middle; font-size:11px; font:Arial; fill:black\">1.0</text><text x=\"150\" y=\"38\"; style=\"text-anchor:middle; font-size:11px; font:Arial; fill:black\">1.8</text><text x=\"225\" y=\"38\"; style=\"text-anchor:middle; font-size:11px; font:Arial; fill:black\">2.6</text><text x=\"300\" y=\"38\"; style=\"text-anchor:middle; font-size:11px; font:Arial; fill:black\">3.4</text><text x=\"375\" y=\"38\"; style=\"text-anchor:middle; font-size:11px; font:Arial; fill:black\">4.2</text><text x=\"450\" y=\"38\" style=\"text-anchor:end; font-size:11px; font:Arial; fill:black\">5.0</text><text x=\"0\" y=\"12\" style=\"font-size:11px; font:Arial; fill:black\">Flood Depth (m)</text></svg>"
      ],
      "text/plain": [
       "<branca.colormap.LinearColormap at 0x18a4230cd30>"
      ]
     },
     "execution_count": 65,
     "metadata": {},
     "output_type": "execute_result"
    }
   ],
   "source": [
    "min_depth = depth[\"depth_val\"].min()\n",
    "max_depth = depth[\"depth_val\"].max()\n",
    "depth_colormap = linear.YlGnBu_09.scale(min_depth, max_depth)\n",
    "depth_colormap.caption = 'Flood Depth (m)'\n",
    "\n",
    "folium.GeoJson(\n",
    "    depth,\n",
    "    name=\"DANA flood depth\",\n",
    "    style_function=lambda feature: {\n",
    "        'fillColor': depth_colormap(feature['properties']['depth_val']),\n",
    "        'color': 'black',\n",
    "        'weight': 0.5,\n",
    "        'fillOpacity': 0.7\n",
    "    },\n",
    "    tooltip=folium.GeoJsonTooltip(fields=[\"depth_val\"], aliases=[\"Depth (m):\"])\n",
    ").add_to(m_2)\n",
    "\n",
    "depth_colormap.add_to(m_2)"
   ]
  },
  {
   "cell_type": "code",
   "execution_count": 66,
   "metadata": {},
   "outputs": [],
   "source": [
    "folium.LayerControl(collapsed=False).add_to(m_2)\n",
    "m_2.save(\"processed_files/Max_flood_depth.html\")"
   ]
  },
  {
   "cell_type": "markdown",
   "metadata": {},
   "source": [
    "## DANA Flooded Area Evolution"
   ]
  },
  {
   "cell_type": "code",
   "execution_count": 67,
   "metadata": {},
   "outputs": [],
   "source": [
    "m_3 = folium.Map(location=map_center, zoom_start=10, tiles=\"CartoDB positron\", max_bounds=True)\n",
    "m_3.fit_bounds(map_bounds)"
   ]
  },
  {
   "cell_type": "code",
   "execution_count": 68,
   "metadata": {},
   "outputs": [],
   "source": [
    "# Add flood zones\n",
    "add_flood_zone_layer(\"DANA_31_10_2024\", m_3)\n",
    "add_flood_zone_layer(\"DANA_03_11_2024\", m_3)\n",
    "add_flood_zone_layer(\"DANA_05_11_2024\", m_3)\n",
    "add_flood_zone_layer(\"DANA_06_11_2024\", m_3)\n",
    "add_flood_zone_layer(\"DANA_08_11_2024\", m_3)\n",
    "    \n",
    "# Add flooded roads (optional)\n",
    "add_roads_layer(\"DANA_31_10_2024\", m_3, True)\n",
    "add_roads_layer(\"DANA_03_11_2024\", m_3, True)\n",
    "add_roads_layer(\"DANA_05_11_2024\", m_3, True)\n",
    "add_roads_layer(\"DANA_06_11_2024\", m_3, True)\n",
    "add_roads_layer(\"DANA_08_11_2024\", m_3, True)\n",
    "add_roads_layer(\"Normal Conditions\", m_3, False)"
   ]
  },
  {
   "cell_type": "code",
   "execution_count": 69,
   "metadata": {},
   "outputs": [],
   "source": [
    "folium.LayerControl(collapsed=False).add_to(m_3)\n",
    "m_3.save(\"processed_files/DANA_evolution.html\")"
   ]
  },
  {
   "cell_type": "markdown",
   "metadata": {},
   "source": [
    "## Road Risk"
   ]
  },
  {
   "cell_type": "code",
   "execution_count": 72,
   "metadata": {},
   "outputs": [],
   "source": [
    "with open(\"processed_files/edge_risks_NP.json\", \"r\") as f:\n",
    "    delta_risks1 = json.load(f)\n",
    "with open(\"processed_files/edge_risks_DANA.json\", \"r\") as f:\n",
    "    delta_risks2 = json.load(f)\n",
    "\n",
    "# === Build delta dicts ===\n",
    "def build_delta_dict(delta_list):\n",
    "    return {\n",
    "        tuple(item['edge']): item['delta_risk']\n",
    "        for item in delta_list\n",
    "    }\n",
    "\n",
    "delta_dict1 = build_delta_dict(delta_risks1)\n",
    "delta_dict2 = build_delta_dict(delta_risks2)\n",
    "\n",
    "# === Signed log transform ===\n",
    "def signed_log_transform(x):\n",
    "    if x == 0:\n",
    "        return 0\n",
    "    return 1/(np.sign(x) * np.log10(abs(x)))\n",
    "\n",
    "# === Get max absolute log ===\n",
    "all_values = list(delta_dict1.values()) + list(delta_dict2.values())\n",
    "transformed_values = [signed_log_transform(v) for v in all_values if v is not None]\n",
    "max_abs_log = max(abs(val) for val in transformed_values)\n",
    "\n",
    "# === Create custom diverging colormap ===\n",
    "def inverted_colormap(val):\n",
    "    \"\"\"\n",
    "    Maps log-transformed delta to color:\n",
    "    - stronger values (larger abs(val)) → stronger color (closer to red/blue)\n",
    "    - near-zero values → white\n",
    "    \"\"\"\n",
    "    if val == 0:\n",
    "        return \"#ffffff\"\n",
    "    \n",
    "    norm_val = signed_log_transform(val) / max_abs_log\n",
    "    abs_norm = abs(norm_val)\n",
    "\n",
    "    # invert strength: low abs → white, high abs → strong\n",
    "    strength = abs_norm\n",
    "    if norm_val > 0:\n",
    "        # red side\n",
    "        return cm.linear.Reds_09.scale(0, 1)(strength)\n",
    "    else:\n",
    "        # blue side\n",
    "        return cm.linear.Blues_09.scale(0, 1)(strength)\n",
    "\n",
    "# === Colorbar (caption only; not linked directly) ===\n",
    "legend_colormap = cm.LinearColormap(\n",
    "    colors=[\"blue\", \"white\", \"red\"],\n",
    "    vmin=-max_abs_log,\n",
    "    vmax=+max_abs_log\n",
    ")\n",
    "legend_colormap.caption = \"Δ Risk (Signed Log Scale, Stronger = Darker)\"\n",
    "\n",
    "# === Add edges to map ===\n",
    "def add_edges_to_map(fmap, edges, delta_dict, label, filter_flood=False):\n",
    "    fg = folium.FeatureGroup(name=label)\n",
    "\n",
    "    for idx, row in edges.iterrows():\n",
    "        edge_key = (row['u'], row['v']) if 'u' in row and 'v' in row else (idx[0], idx[1])\n",
    "\n",
    "        if filter_flood and not row.get(\"in_flood_zone\", False):\n",
    "            continue\n",
    "\n",
    "        value = delta_dict.get(edge_key)\n",
    "        if value is None:\n",
    "            continue\n",
    "\n",
    "        # Determine color\n",
    "        if value == 0:\n",
    "            color = \"#bbbbbb\"\n",
    "            opacity = 0.4\n",
    "            weight = 1\n",
    "        else:\n",
    "            color = inverted_colormap(value)\n",
    "            opacity = 0.8\n",
    "            weight = 2\n",
    "\n",
    "        coords = [(lat, lon) for lon, lat in row.geometry.coords]\n",
    "\n",
    "        folium.PolyLine(\n",
    "            locations=coords,\n",
    "            color=color,\n",
    "            weight=weight,\n",
    "            opacity=opacity,\n",
    "            tooltip=f\"{edge_key} | Δ Risk: {value:.1e}\"\n",
    "        ).add_to(fg)\n",
    "\n",
    "    fg.add_to(fmap)\n",
    "\n",
    "# === Build map ===\n",
    "m = folium.Map(location=map_center, zoom_start=10, tiles=\"CartoDB positron\", max_bounds=True)\n",
    "m.fit_bounds(map_bounds)\n",
    "\n",
    "add_edges_to_map(m, edges, delta_dict1, label=\"All Roads\")\n",
    "add_edges_to_map(m, flood_edges_var[\"DANA_31_10_2024\"], delta_dict2, label=\"DANA_31_10_2024\", filter_flood=True)\n",
    "\n",
    "m.add_child(legend_colormap)\n",
    "folium.LayerControl().add_to(m)\n",
    "\n",
    "m.save(\"processed_files/delta_risk_map.html\")\n"
   ]
  },
  {
   "cell_type": "code",
   "execution_count": 73,
   "metadata": {},
   "outputs": [],
   "source": [
    "from shapely.geometry import mapping\n",
    "colormap = linear.YlOrRd_09.scale(0, 1)  # Yellow to red\n",
    "colormap.caption = 'Municipality Value'\n",
    "\n",
    "# Create base map\n",
    "map_center = [\n",
    "    sum([df['lat'].mean() for df in polygons]) / len(polygons),\n",
    "    sum([df['lon'].mean() for df in polygons]) / len(polygons)\n",
    "]\n",
    "m = folium.Map(location=map_center, zoom_start=7, tiles=\"cartodbpositron\")\n",
    "\n",
    "# Add municipality polygons with color-coded fill\n",
    "for gdf in polygons:\n",
    "    name = gdf['name'].iloc[0]\n",
    "    geometry = gdf['geometry'].iloc[0]\n",
    "    value = compute_municipal_risk_factor(T_P_dictionaries[\"DANA_31_10_2024\"], T_NP_dictionary, name)\n",
    "    color = colormap(value)\n",
    "\n",
    "    geo_json = mapping(geometry)\n",
    "    folium.GeoJson(\n",
    "        geo_json,\n",
    "        tooltip=folium.Tooltip(f\"{name}: {value:.2f}\"),\n",
    "        style_function=lambda feature, color=color: {\n",
    "            'fillColor': color,\n",
    "            'color': 'black',\n",
    "            'weight': 1,\n",
    "            'fillOpacity': 0.7\n",
    "        }\n",
    "    ).add_to(m)\n",
    "\n",
    "    # Add label at centroid\n",
    "    centroid = geometry.centroid\n",
    "    folium.Marker(\n",
    "        location=[centroid.y, centroid.x],\n",
    "        icon=folium.DivIcon(html=f\"\"\"<div style=\"font-size: 10pt; color: black;\">{name}</div>\"\"\")\n",
    "    ).add_to(m)\n",
    "\n",
    "# Add color map legend\n",
    "colormap.add_to(m)\n",
    "\n",
    "# Display map\n",
    "m.save(\"processed_files/municipality_risk_map.html\")\n"
   ]
  },
  {
   "cell_type": "code",
   "execution_count": 74,
   "metadata": {},
   "outputs": [
    {
     "ename": "NameError",
     "evalue": "name 'T_NP_dict' is not defined",
     "output_type": "error",
     "traceback": [
      "\u001b[1;31m---------------------------------------------------------------------------\u001b[0m",
      "\u001b[1;31mNameError\u001b[0m                                 Traceback (most recent call last)",
      "Cell \u001b[1;32mIn[74], line 24\u001b[0m\n\u001b[0;32m     21\u001b[0m \u001b[38;5;28;01mexcept\u001b[39;00m \u001b[38;5;167;01mException\u001b[39;00m \u001b[38;5;28;01mas\u001b[39;00m e:\n\u001b[0;32m     22\u001b[0m     logging\u001b[38;5;241m.\u001b[39mwarning(\u001b[38;5;124mf\u001b[39m\u001b[38;5;124m\"\u001b[39m\u001b[38;5;124mError retrieving Mira: \u001b[39m\u001b[38;5;132;01m{\u001b[39;00me\u001b[38;5;132;01m}\u001b[39;00m\u001b[38;5;124m\"\u001b[39m, exc_info\u001b[38;5;241m=\u001b[39m\u001b[38;5;28;01mTrue\u001b[39;00m)\n\u001b[1;32m---> 24\u001b[0m municipal_risk_factor[municipality]\u001b[38;5;241m=\u001b[39mcompute_municipal_risk_factor(T_P_dictionaries, \u001b[43mT_NP_dict\u001b[49m, municipality)\n",
      "\u001b[1;31mNameError\u001b[0m: name 'T_NP_dict' is not defined"
     ]
    }
   ],
   "source": [
    "municipal_risk_factor={}\n",
    "\n",
    "for municipality in valencia_municipalities:\n",
    "    try:\n",
    "        place_name = f\"{municipality}, Valencia, Spain\"\n",
    "        gdf = ox.geocode_to_gdf(place_name)\n",
    "\n",
    "        if gdf.crs != \"EPSG:4326\":\n",
    "            gdf = gdf.to_crs(\"EPSG:4326\")\n",
    "\n",
    "        polygons.append(gdf)\n",
    "    except Exception as e:\n",
    "        logging.warning(f\"Error retrieving {municipality}: {e}\", exc_info=True)\n",
    "\n",
    "    # Add Mira from Cuenca (just in case)\n",
    "    try:\n",
    "        gdf = ox.geocode_to_gdf(\"Mira, Cuenca, Spain\")\n",
    "        if gdf.crs != \"EPSG:4326\":\n",
    "            gdf = gdf.to_crs(\"EPSG:4326\")\n",
    "        polygons.append(gdf)\n",
    "    except Exception as e:\n",
    "        logging.warning(f\"Error retrieving Mira: {e}\", exc_info=True)\n",
    "\n",
    "    municipal_risk_factor[municipality]=compute_municipal_risk_factor(T_P_dictionaries, T_NP_dict, municipality)"
   ]
  },
  {
   "cell_type": "markdown",
   "metadata": {},
   "source": [
    "# Old Code"
   ]
  }
 ],
 "metadata": {
  "colab": {
   "provenance": []
  },
  "kernelspec": {
   "display_name": "Python (oxenv)",
   "language": "python",
   "name": "oxenv"
  },
  "language_info": {
   "codemirror_mode": {
    "name": "ipython",
    "version": 3
   },
   "file_extension": ".py",
   "mimetype": "text/x-python",
   "name": "python",
   "nbconvert_exporter": "python",
   "pygments_lexer": "ipython3",
   "version": "3.10.17"
  }
 },
 "nbformat": 4,
 "nbformat_minor": 4
}
