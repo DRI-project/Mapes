{
 "cells": [
  {
   "cell_type": "markdown",
   "metadata": {
    "id": "Q8ZNNXRwxJ9L",
    "jp-MarkdownHeadingCollapsed": true
   },
   "source": [
    "# Packages"
   ]
  },
  {
   "cell_type": "code",
   "execution_count": 1,
   "metadata": {
    "id": "kg--Mw_xeuKa"
   },
   "outputs": [
    {
     "name": "stderr",
     "output_type": "stream",
     "text": [
      "Cannot find header.dxf (GDAL_DATA is not defined)\n"
     ]
    }
   ],
   "source": [
    "import os\n",
    "import json\n",
    "import logging\n",
    "from itertools import combinations\n",
    "import sys\n",
    "\n",
    "import math\n",
    "\n",
    "import requests\n",
    "import numpy as np\n",
    "import pandas as pd\n",
    "import geopandas as gpd\n",
    "import fiona\n",
    "import shapely\n",
    "from shapely.geometry import Point\n",
    "from shapely.ops import unary_union, nearest_points\n",
    "from shapely.geometry import LineString\n",
    "\n",
    "import networkx as nx\n",
    "import osmnx as ox\n",
    "\n",
    "import scipy\n",
    "from scipy.spatial import cKDTree\n",
    "\n",
    "import matplotlib.pyplot as plt\n",
    "\n",
    "import folium\n",
    "from folium import GeoJson, LayerControl\n",
    "from branca.colormap import linear\n",
    "import branca.colormap as cm\n",
    "\n",
    "import igraph as ig\n",
    "import concurrent.futures"
   ]
  },
  {
   "cell_type": "code",
   "execution_count": 2,
   "metadata": {},
   "outputs": [],
   "source": [
    "import warnings\n",
    "warnings.filterwarnings(\"ignore\", category=DeprecationWarning)"
   ]
  },
  {
   "cell_type": "markdown",
   "metadata": {},
   "source": [
    "# Functions"
   ]
  },
  {
   "cell_type": "code",
   "execution_count": 3,
   "metadata": {},
   "outputs": [],
   "source": [
    "def make_geojson_safe(gdf):\n",
    "    gdf = gdf.copy()\n",
    "    dt_cols = gdf.select_dtypes(include=['datetime64[ns]', 'datetime64[ns, UTC]']).columns\n",
    "    gdf[dt_cols] = gdf[dt_cols].astype(str)\n",
    "    for col in gdf.columns:\n",
    "        if col != \"geometry\" and not pd.api.types.is_scalar(gdf[col].iloc[0]):\n",
    "            gdf.drop(columns=[col], inplace=True)\n",
    "    return gdf"
   ]
  },
  {
   "cell_type": "code",
   "execution_count": 17,
   "metadata": {},
   "outputs": [],
   "source": [
    "logging.basicConfig(level=logging.INFO, format=\"%(asctime)s [%(levelname)s] %(message)s\")"
   ]
  },
  {
   "cell_type": "markdown",
   "metadata": {
    "id": "Ae_V4hjCAsN8"
   },
   "source": [
    "# Street data"
   ]
  },
  {
   "cell_type": "markdown",
   "metadata": {},
   "source": [
    "## Functions"
   ]
  },
  {
   "cell_type": "code",
   "execution_count": 18,
   "metadata": {},
   "outputs": [],
   "source": [
    "def download_municipalities(names, region=\"Valencia, Spain\"):\n",
    "    if not names:  # if no specific names provided, download all in region\n",
    "        try:\n",
    "            region_gdf = ox.geocode_to_gdf(region)\n",
    "            polygon = region_gdf.geometry.iloc[0]\n",
    "\n",
    "            # Download all admin_level=8 (municipalities) overlapping polygon\n",
    "            gdf = ox.geometries_from_polygon(polygon, tags={\"boundary\": \"administrative\"})\n",
    "            \n",
    "            # Explicitly filter to admin_level=8 only\n",
    "            gdf = gdf[gdf[\"admin_level\"] == \"8\"]\n",
    "            \n",
    "            # Continue as before\n",
    "            gdf = gdf[[\"geometry\", \"name\"]].reset_index(drop=True)\n",
    "            gdf = gdf[gdf[\"name\"].notna()]\n",
    "            gdf_clipped = gpd.clip(gdf, polygon)\n",
    "            gdf_clipped = gdf_clipped[~gdf_clipped.is_empty]\n",
    "            gdf_clipped = gdf_clipped.reset_index(drop=True)\n",
    "            gdf_clipped[\"name\"] = gdf_clipped[\"name\"].astype(str)\n",
    "            \n",
    "            return gdf_clipped\n",
    "        except Exception as e:\n",
    "            raise RuntimeError(f\"Failed to download all municipalities in {region}: {e}\")\n",
    "    else:\n",
    "        gdfs = []\n",
    "        for name in names:\n",
    "            query = f\"{name}, {region}\"\n",
    "            try:\n",
    "                gdf = ox.geocode_to_gdf(query)\n",
    "                gdf[\"name\"] = name\n",
    "                gdfs.append(gdf)\n",
    "            except Exception as e:\n",
    "                print(f\"Failed to download {query}: {e}\")\n",
    "        if not gdfs:\n",
    "            raise ValueError(\"No municipalities could be downloaded.\")\n",
    "        return gpd.GeoDataFrame(pd.concat(gdfs, ignore_index=True), crs=gdfs[0].crs)"
   ]
  },
  {
   "cell_type": "code",
   "execution_count": 19,
   "metadata": {},
   "outputs": [],
   "source": [
    "from shapely.geometry import MultiPolygon\n",
    "def build_graph_from_layer(layer_gdf, graph_path, urban_center_dict, network_type=\"drive\"):\n",
    "    if os.path.exists(graph_path):\n",
    "        logging.info(f\"Loading saved graph from {graph_path}...\")\n",
    "        G = ox.load_graphml(graph_path)\n",
    "    else:\n",
    "        logging.info(f\"Building graph for {graph_path}...\")\n",
    "        polygon = layer_gdf.unary_union\n",
    "        if isinstance(polygon, MultiPolygon):\n",
    "            polygon = max(polygon.geoms, key=lambda a: a.area)\n",
    "\n",
    "        G = ox.graph_from_polygon(\n",
    "            polygon,\n",
    "            network_type=network_type,\n",
    "            simplify=True,\n",
    "            retain_all=False,\n",
    "            truncate_by_edge=True\n",
    "        )\n",
    "\n",
    "        # Estimate speed & travel time\n",
    "        for u, v, k, data in G.edges(keys=True, data=True):\n",
    "            if \"length\" in data:\n",
    "                speed = None\n",
    "                maxspeed = data.get(\"maxspeed\")\n",
    "                if isinstance(maxspeed, list):\n",
    "                    maxspeed = maxspeed[0]\n",
    "                if maxspeed:\n",
    "                    try:\n",
    "                        speed = float(str(maxspeed).split()[0])\n",
    "                    except ValueError:\n",
    "                        pass\n",
    "\n",
    "                if speed is None:\n",
    "                    highway = data.get(\"highway\")\n",
    "                    if isinstance(highway, list):\n",
    "                        highway = highway[0]\n",
    "                    speed = {\n",
    "                        \"motorway\": 120, \"motorway_link\": 60, \"trunk\": 100,\n",
    "                        \"primary\": 80, \"secondary\": 60, \"tertiary\": 50,\n",
    "                        \"residential\": 30, \"living_street\": 10,\n",
    "                        \"unclassified\": 40, \"service\": 20\n",
    "                    }.get(highway, 50)\n",
    "\n",
    "                surface = data.get(\"surface\", \"\").lower()\n",
    "                factor_map = {\n",
    "                    \"paved\": 1.0, \"asphalt\": 1.0, \"concrete\": 1.0,\n",
    "                    \"cobblestone\": 0.8, \"gravel\": 0.7, \"dirt\": 0.6,\n",
    "                    \"ground\": 0.6, \"sand\": 0.5, \"unpaved\": 0.7,\n",
    "                    \"compacted\": 0.85, \"fine_gravel\": 0.9\n",
    "                }\n",
    "\n",
    "                for key, factor in factor_map.items():\n",
    "                    if key in surface:\n",
    "                        speed *= factor\n",
    "                        break\n",
    "\n",
    "                speed_mps = speed * 1000 / 3600\n",
    "                data[\"travel_time\"] = data[\"length\"] / speed_mps + 5  # Add turn penalty\n",
    "\n",
    "        ox.save_graphml(G, graph_path)\n",
    "        logging.info(f\"Graph saved to {graph_path}\")\n",
    "\n",
    "    # Load node GeoDataFrame\n",
    "    nodes, _ = ox.graph_to_gdfs(G)\n",
    "    \n",
    "    # Check if municipality info already exists\n",
    "    if \"municipality\" not in nodes.columns or nodes[\"municipality\"].replace(\"\", np.nan).isna().all():\n",
    "        logging.info(\"Assigning municipality names to graph nodes...\")\n",
    "        node_coords = np.array([(geom.y, geom.x) for geom in nodes.geometry])\n",
    "        kdtree = cKDTree(node_coords)\n",
    "\n",
    "        if \"municipality\" not in nodes.columns:\n",
    "            nodes[\"municipality\"] = \"\"\n",
    "\n",
    "        for name, (lat, lon) in urban_center_dict.items():\n",
    "            try:\n",
    "                _, idx = kdtree.query([lat, lon], k=1)\n",
    "                nearest_node = nodes.index[idx]\n",
    "                nodes.at[nearest_node, \"municipality\"] = name\n",
    "            except Exception as e:\n",
    "                logging.warning(f\"Could not assign node for {name}: {e}\")\n",
    "\n",
    "        # Update graph with municipality info\n",
    "        for node_id, row in nodes.iterrows():\n",
    "            G.nodes[node_id][\"municipality\"] = row[\"municipality\"]\n",
    "\n",
    "        ox.save_graphml(G, graph_path)\n",
    "        logging.info(f\"Updated graph saved to: {graph_path}\")\n",
    "    else:\n",
    "        logging.info(\"Municipality names already exist in graph; skipping reassignment.\")\n",
    "\n",
    "    return G"
   ]
  },
  {
   "cell_type": "markdown",
   "metadata": {},
   "source": [
    "## code"
   ]
  },
  {
   "cell_type": "code",
   "execution_count": 20,
   "metadata": {},
   "outputs": [],
   "source": [
    "output_dir = \"processed_files\"\n",
    "os.makedirs(output_dir, exist_ok=True)"
   ]
  },
  {
   "cell_type": "code",
   "execution_count": 21,
   "metadata": {
    "id": "CPYUcbX01Hvy"
   },
   "outputs": [],
   "source": [
    "ox.settings.use_cache = True\n",
    "ox.settings.log_console = True"
   ]
  },
  {
   "cell_type": "code",
   "execution_count": 30,
   "metadata": {},
   "outputs": [],
   "source": [
    "FILE_STUDY = os.path.join(output_dir, \"affected_area.gpkg\")\n",
    "FILE_1ST = os.path.join(output_dir, \"neighbors_1_area.gpkg\")\n",
    "FILE_2ND = os.path.join(output_dir, \"neighbors_2_area.gpkg\")"
   ]
  },
  {
   "cell_type": "code",
   "execution_count": 97,
   "metadata": {
    "editable": true,
    "slideshow": {
     "slide_type": ""
    },
    "tags": []
   },
   "outputs": [],
   "source": [
    "polygon_path = os.path.join(output_dir, \"study_area.geojson\")\n",
    "graph_path = os.path.join(output_dir, \"road_graph.graphml\")\n",
    "\n",
    "affected_valencia = [\"Alaquàs\", \"Albal\", \"Albalat de la Ribera\", \"Alberic\", \"Alborache\", \"Alcàsser\", \"l'Alcúdia\", \"Aldaia\", \"Alfafar\", \"Alfarb\", \"Algemesí\", \n",
    "                           \"Alginet\", \"Almussafes\", \"Alzira\", \"Aras de los Olmos\", \"Barxeta\", \"Benagéber\", \"Benaguasil\", \"Benetússer\", \"Benicull de Xúquer\", \n",
    "                           \"Benifaió\", \"Benimuslem\", \"Beniparrell\", \"Benimodo\", \"Bétera\", \"Bugarra\", \"Buñol\", \"Calles\", \"Camporrobles\", \"Carcaixent\", \"Carlet\", \n",
    "                           \"Casinos\", \"Castelló de la Ribera\", \"Castielfabib\",\"Catadau\", \"Catarroja\", \"Caudete de las Fuentes\", \"Chelva\",\"Chera\", \"Cheste\", \"Chiva\", \"Chulilla\", \n",
    "                           \"Corbera\", \"Cullera\", \"Dos Aguas\", \"Favara\", \"Fortaleny\", \"Fuenterrobles\", \"Gavarda\", \"Gestalgar\", \"Godelleta\", \"Guadassuar\", \"l'Ènova\", \n",
    "                           \"Llaurí\", \"Llombai\", \"Llíria\", \"Llocnou de la Corona\", \"Loriguilla\", \"Losa del Obispo\", \"Macastre\", \"Manises\", \"Manuel\", \"Massalavés\", \n",
    "                           \"Massanassa\", \"Millares\", \"Mislata\", \"Montroi\", \"Montserrat\", \"Paiporta\", \"Paterna\", \"Pedralba\", \"Picanya\", \"Picassent\", \n",
    "                           \"Polinyà de Xúquer\", \"La Pobla Llarga\", \"Quart de Poblet\", \"Rafelguaraf\", \"Real\", \"Requena\", \"Riba-roja de Túria\", \"Riola\", \n",
    "                           \"Sant Joanet\", \"Sedaví\", \"Senyera\", \"Siete Aguas\", \"Silla\", \"Sinarcas\", \"Sollana\", \"Sot de Chera\", \"Sueca\", \"Tavernes de la Valldigna\", \n",
    "                           \"Titaguas\", \"Torrent\", \"Tous\", \"Tuéjar\", \"Turís\", \"Utiel\", \"València\", \"Vilamarxant\", \"Villar del Arzobispo\", \"Xeraco\", \"Xirivella\", \n",
    "                           \"Yátova\"]\n",
    "\n",
    "affected_cuenca = [\"Mira\"]\n",
    "\n",
    "urban_center={\n",
    "    \"Alaquàs\": (39.457119, -0.460822), \n",
    "    \"Albal\": (39.397347, -0.413243), \n",
    "    \"Albalat de la Ribera\": (39.201133, -0.386659),\n",
    "    \"Alberic\": (39.116783, -0.517571),\n",
    "    \"Alborache\": (39.391716, -0.771191),\n",
    "    \"Alcàsser\": (39.369810, -0.445176),\n",
    "    \"l'Alcúdia\": (39.194077, -0.507206),\n",
    "    \"Aldaia\": (39.464957, -0.460764),\n",
    "    \"Alfafar\": (39.422773, -0.390834), \n",
    "    \"Alfarb\": (39.276849, -0.560529),\n",
    "    \"Algemesí\": (39.188743, -0.436927),\n",
    "    \"Alginet\": (39.261819, -0.469791),\n",
    "    \"Almussafes\": (39.292656, -0.413260),\n",
    "    \"Alzira\": (39.152038, -0.441074),\n",
    "    \"Aras de los Olmos\": (39.924534, -1.132748),\n",
    "    \"Barxeta\": (39.022865, -0.416099),\n",
    "    \"Benagéber\": (39.707324, -1.100825),\n",
    "    \"Benaguasil\": (39.593635, -0.585004),\n",
    "    \"Benetússer\": (39.423801, -0.397785),\n",
    "    \"Benicull de Xúquer\": (39.185063, -0.382524), \n",
    "    \"Benifaió\": (39.285003, -0.426889),\n",
    "    \"Benimuslem\": (39.131337, -0.492750),\n",
    "    \"Beniparrell\": (39.382235, -0.412277), \n",
    "    \"Benimodo\": (39.213015, -0.528357), \n",
    "    \"Bétera\": (39.591643, -0.462355),\n",
    "    \"Bugarra\": (39.608415, -0.775958), \n",
    "    \"Buñol\": (39.418217, -0.790672), \n",
    "    \"Calles\": (39.725371, -0.973952), \n",
    "    \"Camporrobles\": (39.647167, -1.399476), \n",
    "    \"Carcaixent\": (39.122600, -0.450718), \n",
    "    \"Carlet\": (39.225881, -0.519809),\n",
    "    \"Casinos\": (39.701574, -0.709655),\n",
    "    \"Castelló de la Ribera\": (39.079664, -0.514174),\n",
    "    \"Castielfabib\": (40.131018, -1.303874),\n",
    "    \"Catadau\": (39.275363, -0.569740), \n",
    "    \"Catarroja\": (39.403048, -0.404021),\n",
    "    \"Caudete de las Fuentes\": (39.558958, -1.278492),\n",
    "    \"Chelva\": (39.747097, -0.997692),\n",
    "    \"Chera\": (39.593442, -0.973241), \n",
    "    \"Cheste\": (39.494909, -0.684261), \n",
    "    \"Chiva\": (39.471469, -0.717100), \n",
    "    \"Chulilla\": (39.656217, -0.891905), \n",
    "    \"Corbera\": (39.158264, -0.355378), \n",
    "    \"Cullera\": (39.165250, -0.253612),\n",
    "    \"Dos Aguas\": (39.288825, -0.800238), \n",
    "    \"Favara\": (39.127275, -0.291808), \n",
    "    \"Fortaleny\": (39.183833, -0.313715), \n",
    "    \"Fuenterrobles\": (39.584682, -1.364031),\n",
    "    \"Gavarda\": (39.090082, -0.545045),\n",
    "    \"Gestalgar\": (39.604207, -0.834346), \n",
    "    \"Godelleta\": (39.422040, -0.686434), \n",
    "    \"Guadassuar\": (39.185852, -0.478023),\n",
    "    \"l'Ènova\": (39.045134, -0.480790), \n",
    "    \"Llaurí\": (39.147102, -0.330235), \n",
    "    \"Llombai\": (39.282414, -0.572366), \n",
    "    \"Llíria\": (39.624719, -0.595006), \n",
    "    \"Llocnou de la Corona\": (39.420446, -0.382216), \n",
    "    \"Loriguilla\": (39.489698, -0.571964),\n",
    "    \"Losa del Obispo\": (39.695444, -0.871960),\n",
    "    \"Macastre\": (39.381938, -0.785287),\n",
    "    \"Manises\": (39.493345, -0.457466), \n",
    "    \"Manuel\": (39.052760, -0.494055),\n",
    "    \"Massalavés\": (39.140675, -0.521159),\n",
    "    \"Massanassa\": (39.411460, -0.397986), \n",
    "    \"Millares\": (39.238985, -0.773203), \n",
    "    \"Mislata\": (39.475218, -0.417833), \n",
    "    \"Montroi\": (39.341742, -0.613689), \n",
    "    \"Montserrat\": (39.358012, -0.603212), \n",
    "    \"Paiporta\": (39.429588, -0.417467),\n",
    "    \"Paterna\": (39.500663, -0.439682), \n",
    "    \"Pedralba\": (39.604864, -0.726535), \n",
    "    \"Picanya\": (39.435146, -0.433490), \n",
    "    \"Picassent\": (39.362746, -0.458078), \n",
    "    \"Polinyà de Xúquer\": (39.196150, -0.369461), \n",
    "    \"La Pobla Llarga\": (39.085916, -0.475557),\n",
    "    \"Quart de Poblet\": (39.483003, -0.442288), \n",
    "    \"Rafelguaraf\": (39.050797, -0.455126), \n",
    "    \"Real\": (39.335088, -0.609125), \n",
    "    \"Requena\": (39.487037, -1.098087), \n",
    "    \"Riba-roja de Túria\": (39.546926, -0.566891), \n",
    "    \"Riola\": (39.195261, -0.334682),\n",
    "    \"Sant Joanet\": (39.072333, -0.486829),\n",
    "    \"Sedaví\": (39.425005, -0.385783),\n",
    "    \"Senyera\": (39.063613, -0.510467), \n",
    "    \"Siete Aguas\": (39.471633, -0.915872), \n",
    "    \"Silla\": (39.362679, -0.412147), \n",
    "    \"Sinarcas\": (39.733258, -1.229035), \n",
    "    \"Sollana\": (39.278009, -0.381457), \n",
    "    \"Sot de Chera\": (39.620816, -0.909344), \n",
    "    \"Sueca\": (39.202640, -0.310637),\n",
    "    \"Tavernes de la Valldigna\": (39.071834, -0.267740),\n",
    "    \"Titaguas\": (39.865889, -1.080723),\n",
    "    \"Torrent\": (39.436931, -0.465889), \n",
    "    \"Tous\": (39.138561, -0.586636), \n",
    "    \"Tuéjar\": (39.763485, -1.039679),\n",
    "    \"Turís\": (39.389834, -0.711107), \n",
    "    \"Utiel\": (39.566851, -1.206009), \n",
    "    \"València\": (39.469844, -0.376852), \n",
    "    \"Vilamarxant\": (39.567855, -0.622488),\n",
    "    \"Villar del Arzobispo\": (39.730829, -0.825240),\n",
    "    \"Xeraco\": (39.033395, -0.215323),\n",
    "    \"Xirivella\": (39.463360, -0.428399),\n",
    "    \"Yátova\":(39.385085, -0.808117),\n",
    "    \"Mira\": (39.720949, -1.439225)\n",
    "} "
   ]
  },
  {
   "cell_type": "code",
   "execution_count": 24,
   "metadata": {},
   "outputs": [
    {
     "name": "stderr",
     "output_type": "stream",
     "text": [
      "C:\\Users\\usuario\\anaconda3\\envs\\oxenv\\lib\\site-packages\\pyogrio\\core.py:35: RuntimeWarning: Could not detect GDAL data files. Set GDAL_DATA environment variable to the correct path.\n",
      "  _init_gdal_data()\n",
      "C:\\Users\\usuario\\anaconda3\\envs\\oxenv\\lib\\site-packages\\pyogrio\\raw.py:723: RuntimeWarning: Cannot find tms_NZTM2000.json (GDAL_DATA is not defined)\n",
      "  ogr_write(\n",
      "2025-07-23 14:16:00,526 [INFO] Created 104 records\n"
     ]
    },
    {
     "name": "stdout",
     "output_type": "stream",
     "text": [
      "Saved study area to processed_files\\affected_area.gpkg\n"
     ]
    }
   ],
   "source": [
    "if os.path.exists(FILE_STUDY):\n",
    "    affected_area = gpd.read_file(FILE_STUDY)\n",
    "    print(f\"Loaded study area from {FILE_STUDY}\")\n",
    "else:\n",
    "    polygons = []\n",
    "    valencia_affected_area = download_municipalities(affected_valencia, \"Valencia, Spain\")\n",
    "    cuenca_affected_area = download_municipalities(affected_cuenca, \"Cuenca, Spain\")\n",
    "    affected_area = gpd.GeoDataFrame(pd.concat([valencia_affected_area, cuenca_affected_area], ignore_index=True))\n",
    "    del valencia_affected_area, cuenca_affected_area\n",
    "    affected_area.to_file(FILE_STUDY, driver=\"GPKG\")\n",
    "    print(f\"Saved study area to {FILE_STUDY}\")"
   ]
  },
  {
   "cell_type": "code",
   "execution_count": 25,
   "metadata": {},
   "outputs": [
    {
     "name": "stderr",
     "output_type": "stream",
     "text": [
      "C:\\Users\\usuario\\AppData\\Local\\Temp\\ipykernel_10732\\2249151742.py:8: UserWarning: The `geometries` module and `geometries_from_X` functions have been renamed the `features` module and `features_from_X` functions. Use these instead. The `geometries` module and function names are deprecated and will be removed in a future release.\n",
      "  gdf = ox.geometries_from_polygon(polygon, tags={\"boundary\": \"administrative\"})\n",
      "C:\\Users\\usuario\\AppData\\Local\\Temp\\ipykernel_10732\\2249151742.py:8: UserWarning: The `geometries` module and `geometries_from_X` functions have been renamed the `features` module and `features_from_X` functions. Use these instead. The `geometries` module and function names are deprecated and will be removed in a future release.\n",
      "  gdf = ox.geometries_from_polygon(polygon, tags={\"boundary\": \"administrative\"})\n",
      "C:\\Users\\usuario\\AppData\\Local\\Temp\\ipykernel_10732\\2249151742.py:8: UserWarning: The `geometries` module and `geometries_from_X` functions have been renamed the `features` module and `features_from_X` functions. Use these instead. The `geometries` module and function names are deprecated and will be removed in a future release.\n",
      "  gdf = ox.geometries_from_polygon(polygon, tags={\"boundary\": \"administrative\"})\n",
      "C:\\Users\\usuario\\AppData\\Local\\Temp\\ipykernel_10732\\2249151742.py:8: UserWarning: The `geometries` module and `geometries_from_X` functions have been renamed the `features` module and `features_from_X` functions. Use these instead. The `geometries` module and function names are deprecated and will be removed in a future release.\n",
      "  gdf = ox.geometries_from_polygon(polygon, tags={\"boundary\": \"administrative\"})\n",
      "C:\\Users\\usuario\\AppData\\Local\\Temp\\ipykernel_10732\\2249151742.py:8: UserWarning: The `geometries` module and `geometries_from_X` functions have been renamed the `features` module and `features_from_X` functions. Use these instead. The `geometries` module and function names are deprecated and will be removed in a future release.\n",
      "  gdf = ox.geometries_from_polygon(polygon, tags={\"boundary\": \"administrative\"})\n"
     ]
    }
   ],
   "source": [
    "regions=['Provincia de Valencia, Comunidad Valenciana, Spain', 'Provincia de Castellon, Comunidad Valenciana, Spain', 'Provincia de Cuenca, Castilla-La Mancha, Spain', 'Provincia de Albacete, Castilla-La Mancha, Spain', 'Provincia de Teruel, Aragon, Spain']\n",
    "possible_neighbors =gpd.GeoDataFrame()\n",
    "for region in regions:\n",
    "    aux = download_municipalities(\"\", region)\n",
    "    possible_neighbors = gpd.GeoDataFrame(pd.concat([possible_neighbors, aux], ignore_index=True))\n"
   ]
  },
  {
   "cell_type": "code",
   "execution_count": 32,
   "metadata": {},
   "outputs": [
    {
     "name": "stderr",
     "output_type": "stream",
     "text": [
      "C:\\Users\\usuario\\AppData\\Local\\Temp\\ipykernel_10732\\3063244467.py:8: DeprecationWarning: The 'unary_union' attribute is deprecated, use the 'union_all()' method instead.\n",
      "  union = affected_area.unary_union\n",
      "2025-07-23 14:22:36,295 [INFO] Created 219 records\n",
      "C:\\Users\\usuario\\AppData\\Local\\Temp\\ipykernel_10732\\3063244467.py:20: DeprecationWarning: The 'unary_union' attribute is deprecated, use the 'union_all()' method instead.\n",
      "  union = neighbors_1_area.unary_union\n"
     ]
    },
    {
     "name": "stdout",
     "output_type": "stream",
     "text": [
      "Saved study area to processed_files\\neighbors_1_area.gpkg\n"
     ]
    },
    {
     "name": "stderr",
     "output_type": "stream",
     "text": [
      "2025-07-23 14:22:38,172 [INFO] Created 334 records\n"
     ]
    },
    {
     "name": "stdout",
     "output_type": "stream",
     "text": [
      "Saved study area to processed_files\\neighbors_2_area.gpkg\n"
     ]
    }
   ],
   "source": [
    "if os.path.exists(FILE_1ST):\n",
    "    neighbors_1_area = gpd.read_file(FILE_1ST)\n",
    "    print(f\"Loaded study area from {FILE_1ST}\")\n",
    "    neighbors_2_area = gpd.read_file(FILE_2ND)\n",
    "    print(f\"Loaded study area from {FILE_2ND}\")\n",
    "else:\n",
    "    possible_neighbors = possible_neighbors.to_crs(affected_area.crs)\n",
    "    union = affected_area.unary_union\n",
    "\n",
    "    adjacent_municipalities = possible_neighbors[\n",
    "    possible_neighbors.geometry.touches(union)\n",
    "    ]\n",
    "    neighbors_1_area = gpd.GeoDataFrame(\n",
    "        pd.concat([affected_area, adjacent_municipalities], ignore_index=True),\n",
    "        crs=affected_area.crs\n",
    "    )\n",
    "    neighbors_1_area.to_file(FILE_1ST, driver=\"GPKG\")\n",
    "    print(f\"Saved study area to {FILE_1ST}\")\n",
    "\n",
    "    union = neighbors_1_area.unary_union\n",
    "    \n",
    "    adjacent_municipalities = possible_neighbors[\n",
    "        possible_neighbors.geometry.touches(union)\n",
    "    ]\n",
    "    neighbors_2_area = gpd.GeoDataFrame(\n",
    "        pd.concat([neighbors_1_area, adjacent_municipalities], ignore_index=True),\n",
    "        crs=affected_area.crs\n",
    "    )\n",
    "    neighbors_2_area.to_file(FILE_2ND, driver=\"GPKG\")\n",
    "    print(f\"Saved study area to {FILE_2ND}\")"
   ]
  },
  {
   "cell_type": "code",
   "execution_count": 38,
   "metadata": {},
   "outputs": [],
   "source": [
    "del possible_neighbors, aux, adjacent_municipalities, union"
   ]
  },
  {
   "cell_type": "code",
   "execution_count": 34,
   "metadata": {},
   "outputs": [
    {
     "name": "stderr",
     "output_type": "stream",
     "text": [
      "2025-07-23 14:39:58,353 [INFO] Building graph for processed_files\\G_affected.graphml...\n",
      "C:\\Users\\usuario\\AppData\\Local\\Temp\\ipykernel_10732\\2403605740.py:8: DeprecationWarning: The 'unary_union' attribute is deprecated, use the 'union_all()' method instead.\n",
      "  polygon = layer_gdf.unary_union\n",
      "2025-07-23 14:44:21,880 [INFO] Graph saved to processed_files\\G_affected.graphml\n",
      "2025-07-23 14:44:40,691 [INFO] Assigning municipality names to graph nodes...\n",
      "2025-07-23 14:45:40,575 [INFO] Updated graph saved to: processed_files\\G_affected.graphml\n",
      "2025-07-23 14:45:40,596 [INFO] Building graph for processed_files\\G_1st.graphml...\n",
      "C:\\Users\\usuario\\AppData\\Local\\Temp\\ipykernel_10732\\2403605740.py:8: DeprecationWarning: The 'unary_union' attribute is deprecated, use the 'union_all()' method instead.\n",
      "  polygon = layer_gdf.unary_union\n",
      "2025-07-23 14:51:43,853 [INFO] Graph saved to processed_files\\G_1st.graphml\n",
      "2025-07-23 14:52:09,399 [INFO] Assigning municipality names to graph nodes...\n",
      "2025-07-23 14:53:25,494 [INFO] Updated graph saved to: processed_files\\G_1st.graphml\n",
      "2025-07-23 14:53:25,519 [INFO] Building graph for processed_files\\G_2nd.graphml...\n",
      "C:\\Users\\usuario\\AppData\\Local\\Temp\\ipykernel_10732\\2403605740.py:8: DeprecationWarning: The 'unary_union' attribute is deprecated, use the 'union_all()' method instead.\n",
      "  polygon = layer_gdf.unary_union\n",
      "2025-07-23 15:01:07,146 [INFO] Graph saved to processed_files\\G_2nd.graphml\n",
      "2025-07-23 15:01:34,482 [INFO] Assigning municipality names to graph nodes...\n",
      "2025-07-23 15:03:06,088 [INFO] Updated graph saved to: processed_files\\G_2nd.graphml\n"
     ]
    }
   ],
   "source": [
    "G_affected = build_graph_from_layer(affected_area, os.path.join(output_dir, \"G_affected.graphml\"), urban_center)\n",
    "del G_affected\n",
    "G_1st = build_graph_from_layer(neighbors_1_area, os.path.join(output_dir, \"G_1st.graphml\"), urban_center)\n",
    "del G_1st\n",
    "G_2nd = build_graph_from_layer(neighbors_2_area, os.path.join(output_dir, \"G_2nd.graphml\"), urban_center)"
   ]
  },
  {
   "cell_type": "markdown",
   "metadata": {},
   "source": [
    "## Testing"
   ]
  },
  {
   "cell_type": "code",
   "execution_count": null,
   "metadata": {},
   "outputs": [],
   "source": [
    "fig, ax = plt.subplots(figsize=(10, 10))\n",
    "\n",
    "# Plot the GeoDataFrame\n",
    "result.plot(ax=ax, color='blue', edgecolor='black', label='Municipalities')\n",
    "#affected_area.plot(ax=ax, color='blue', edgecolor='black', label='Municipalities')\n",
    "\n",
    "# Add municipality names at the centroid of each geometry\n",
    "for idx, row in result.iterrows():\n",
    "#for idx, row in affected_area.iterrows():\n",
    "    if row.geometry.is_empty or row.geometry.centroid.is_empty:\n",
    "        continue\n",
    "    centroid = row.geometry.centroid\n",
    "    name = row.get(\"name\", \"Unnamed\")\n",
    "    ax.text(centroid.x, centroid.y, name, fontsize=8, ha='center', va='center')\n",
    "\n",
    "# Add legend and labels\n",
    "plt.legend()\n",
    "plt.title(\"Municipalities\")\n",
    "plt.xlabel(\"Longitude\")\n",
    "plt.ylabel(\"Latitude\")\n",
    "\n",
    "plt.show()"
   ]
  },
  {
   "cell_type": "code",
   "execution_count": 35,
   "metadata": {},
   "outputs": [
    {
     "name": "stdout",
     "output_type": "stream",
     "text": [
      "Variable            Type                Size (bytes)   \n",
      "-------------------------------------------------------\n",
      "neighbors_2_area    GeoDataFrame        131978         \n",
      "possible_neighbors  GeoDataFrame        103853         \n",
      "neighbors_1_area    GeoDataFrame        95190          \n",
      "affected_area       GeoDataFrame        58166          \n",
      "aux                 GeoDataFrame        26444          \n",
      "adjacent_municipalitiesGeoDataFrame        10124          \n",
      "urban_center        dict                4696           \n",
      "affected_valencia   list                888            \n",
      "In                  list                376            \n",
      "var_info            list                248            \n",
      "FILE_1ST            str                 162            \n",
      "FILE_2ND            str                 162            \n",
      "regions             list                104            \n",
      "output_dir          str                 96             \n",
      "FILE_STUDY          str                 83             \n",
      "polygon_path        str                 83             \n",
      "graph_path          str                 83             \n",
      "region              str                 83             \n",
      "Out                 dict                64             \n",
      "affected_cuenca     list                64             \n",
      "union               MultiPolygon        56             \n",
      "linear              _LinearColormaps    48             \n",
      "G_2nd               MultiDiGraph        48             \n"
     ]
    }
   ],
   "source": [
    "from sys import getsizeof\n",
    "import types\n",
    "\n",
    "var_info = []\n",
    "for name, val in list(globals().items()):\n",
    "    if (\n",
    "        not callable(val)  # Skip functions/methods\n",
    "        and not name.startswith(\"_\")  # Skip private/internal vars\n",
    "        and not isinstance(val, types.ModuleType)  # Skip imported packages\n",
    "    ):\n",
    "        try:\n",
    "            size = getsizeof(val)\n",
    "        except Exception:\n",
    "            size = -1  # Fallback if getsizeof fails\n",
    "        var_type = type(val).__name__\n",
    "        var_info.append((name, var_type, size))\n",
    "\n",
    "# Sort by size (descending)\n",
    "var_info.sort(key=lambda x: x[2], reverse=True)\n",
    "\n",
    "# Print table\n",
    "print(f\"{'Variable':<20}{'Type':<20}{'Size (bytes)':<15}\")\n",
    "print(\"-\" * 55)\n",
    "for name, var_type, size in var_info:\n",
    "    print(f\"{name:<20}{var_type:<20}{size:<15}\")"
   ]
  },
  {
   "cell_type": "markdown",
   "metadata": {
    "id": "im671dntApI-"
   },
   "source": [
    "# Flood zones"
   ]
  },
  {
   "cell_type": "markdown",
   "metadata": {},
   "source": [
    "## Functions"
   ]
  },
  {
   "cell_type": "code",
   "execution_count": 39,
   "metadata": {},
   "outputs": [],
   "source": [
    "def tag_flooded_roads(edges, nodes, flood_zones, name):\n",
    "    output_path = cut_roads_files[name]\n",
    "    graphml_path = safe_roads_files[name]\n",
    "\n",
    "    #if os.path.exists(output_path) and layer in fiona.listlayers(output_path):\n",
    "    if os.path.exists(output_path):\n",
    "        print(f\"Loading {name} from {output_path}\")\n",
    "        G_safe = ox.load_graphml(graphml_path)\n",
    "        edges = gpd.read_file(output_path, layer=name)\n",
    "        \n",
    "    else:\n",
    "        print(f\"Tagging and saving {name} to {output_path}\")\n",
    "\n",
    "        bounds = edges.total_bounds\n",
    "        flood_subset = flood_zones.cx[bounds[0]:bounds[2], bounds[1]:bounds[3]]\n",
    "        flood_geoms = flood_subset.geometry\n",
    "\n",
    "        edges = edges.copy()\n",
    "        edges[\"in_flood_zone\"] = edges.geometry.apply(lambda geom: flood_geoms.intersects(geom).any())\n",
    "\n",
    "        edges.to_file(output_path, layer=name, driver=\"GPKG\")\n",
    "\n",
    "    if os.path.exists(graphml_path):\n",
    "        print(\"Pruned graph already exists\")\n",
    "    else:    \n",
    "        safe_edges = edges[~edges[\"in_flood_zone\"]].copy()\n",
    "        print(\"Rebuilding pruned graph...\")\n",
    "        G_safe = ox.graph_from_gdfs(nodes, safe_edges)\n",
    "        ox.save_graphml(G_safe, filepath=graphml_path)\n",
    "        print(f\"Saved pruned graph to {graphml_path}\")\n",
    "\n",
    "    return edges, G_safe"
   ]
  },
  {
   "cell_type": "code",
   "execution_count": 40,
   "metadata": {},
   "outputs": [],
   "source": [
    "def clip_flood_zone(return_crs, name, clip_geom):\n",
    "    output_path = zone_output_files[name]\n",
    "    input_path = zone_input_files[name]\n",
    "    \n",
    "    if os.path.exists(output_path):\n",
    "        print(f\"Loading {name} from {output_path}\")\n",
    "        clipped = gpd.read_file(output_path, layer=name).to_crs(return_crs)\n",
    "    else:\n",
    "        print(f\"Clipping and saving {name} from {output_path}\" )\n",
    "        flood = gpd.read_file(input_path).to_crs(return_crs)\n",
    "        clipped = gpd.clip(flood, clip_geom)\n",
    "        clipped.to_file(output_path, layer=name, driver=\"GPKG\")\n",
    "\n",
    "    return clipped"
   ]
  },
  {
   "cell_type": "code",
   "execution_count": 7,
   "metadata": {},
   "outputs": [],
   "source": [
    "def parse_depth_range(val):\n",
    "    if pd.isna(val):\n",
    "        return None\n",
    "\n",
    "    val = val.strip()\n",
    "\n",
    "    if val.startswith('Below'):\n",
    "        return float(val[5:].strip()) / 2\n",
    "\n",
    "    if val.startswith('>'):\n",
    "        return float(val[1:].strip())  # You may want to cap it\n",
    "\n",
    "    if '-' in val:\n",
    "        parts = val.split('-')\n",
    "        try:\n",
    "            low = float(parts[0].strip())\n",
    "            high = float(parts[1].strip())\n",
    "            return (low + high) / 2\n",
    "        except:\n",
    "            return None\n",
    "\n",
    "    try:\n",
    "        return float(val)\n",
    "    except:\n",
    "        return None"
   ]
  },
  {
   "cell_type": "code",
   "execution_count": 12,
   "metadata": {},
   "outputs": [],
   "source": [
    "def flood_depth_zones(name):\n",
    "    layer=\"depth_val\"\n",
    "    input_path = depth_input_files[name]\n",
    "    output_path=depth_output_files[name]\n",
    "    if os.path.exists(output_path):\n",
    "        print(f\"Loading {layer} from {output_path}\")\n",
    "        depth=gpd.read_file(output_path, layer=layer)\n",
    "    else:\n",
    "        print(f\"Saving {layer} to {output_path}\")\n",
    "        depth = gpd.read_file(input_path)\n",
    "        depth[\"depth_val\"] = depth[\"value\"].apply(parse_depth_range)\n",
    "        depth.to_file(output_path, layer=layer, driver=\"GPKG\")\n",
    "        print(f\"Saved processed {layer} in {output_path}\")\n",
    "    return depth"
   ]
  },
  {
   "cell_type": "markdown",
   "metadata": {},
   "source": [
    "## Code"
   ]
  },
  {
   "cell_type": "code",
   "execution_count": 41,
   "metadata": {},
   "outputs": [],
   "source": [
    "input_dir = \"source_files\"\n",
    "output_dir = \"processed_files\"\n",
    "os.makedirs(output_dir, exist_ok=True)"
   ]
  },
  {
   "cell_type": "code",
   "execution_count": 42,
   "metadata": {},
   "outputs": [],
   "source": [
    "zone_input_files = {\n",
    "    \"10 yr\": f\"{input_dir}/laminaspb-q10/Q10_2Ciclo_PB_20241121.shp\",\n",
    "    \"100 yr\": f\"{input_dir}/laminaspb-q100/Q100_2Ciclo_PB_20241121_ETRS89.shp\",\n",
    "    \"500 yr\": f\"{input_dir}/laminaspb-q500/Q500_2Ciclo_PB_20241121_ETRS89.shp\",\n",
    "    \"DANA_31_10_2024\": f\"{input_dir}/EMSR773_AOI01_DEL_PRODUCT_v1/EMSR773_AOI01_DEL_PRODUCT_observedEventA_v1.shp\",\n",
    "    \"DANA_03_11_2024\": f\"{input_dir}/EMSR773_AOI01_DEL_MONIT01_v1/EMSR773_AOI01_DEL_MONIT01_observedEventA_v1.shp\",\n",
    "    \"DANA_05_11_2024\": f\"{input_dir}/EMSR773_AOI01_DEL_MONIT02_v1/EMSR773_AOI01_DEL_MONIT02_observedEventA_v1.shp\",\n",
    "    \"DANA_06_11_2024\": f\"{input_dir}/EMSR773_AOI01_DEL_MONIT03_v1/EMSR773_AOI01_DEL_MONIT03_observedEventA_v1.shp\",\n",
    "    \"DANA_08_11_2024\": f\"{input_dir}/EMSR773_AOI01_DEL_MONIT04_v1/EMSR773_AOI01_DEL_MONIT04_observedEventA_v1.shp\"\n",
    "}\n",
    "\n",
    "depth_input_files = {\n",
    "    \"DANA_31_10_2024\": f\"{input_dir}/EMSR773_AOI01_DEL_PRODUCT_v1/EMSR773_AOI01_DEL_PRODUCT_floodDepthA_v1.shp\",\n",
    "    \"DANA_03_11_2024\": f\"{input_dir}/EMSR773_AOI01_DEL_MONIT01_v1/EMSR773_AOI01_DEL_MONIT01_floodDepthA_v1.shp\",\n",
    "    \"DANA_05_11_2024\": f\"{input_dir}/EMSR773_AOI01_DEL_MONIT02_v1/EMSR773_AOI01_DEL_MONIT02_floodDepthA_v1.shp\",\n",
    "    \"DANA_06_11_2024\": f\"{input_dir}/EMSR773_AOI01_DEL_MONIT03_v1/EMSR773_AOI01_DEL_MONIT03_floodDepthA_v1.shp\",\n",
    "    \"DANA_08_11_2024\": f\"{input_dir}/EMSR773_AOI01_DEL_MONIT04_v1/EMSR773_AOI01_DEL_MONIT04_floodDepthA_v1.shp\"\n",
    "}\n",
    "\n",
    "zone_output_files = {\n",
    "    \"10 yr\": f\"{output_dir}/zone_flood_risk_10.gpkg\",\n",
    "    \"100 yr\": f\"{output_dir}/zone_flood_risk_100.gpkg\",\n",
    "    \"500 yr\": f\"{output_dir}/zone_flood_risk_500.gpkg\",\n",
    "    \"DANA_31_10_2024\": f\"{output_dir}/zone_DANA_31_10_2024.gpkg\",\n",
    "    \"DANA_03_11_2024\": f\"{output_dir}/zone_DANA_03_11_2024.gpkg\",\n",
    "    \"DANA_05_11_2024\": f\"{output_dir}/zone_DANA_05_11_2024.gpkg\",\n",
    "    \"DANA_06_11_2024\": f\"{output_dir}/zone_DANA_06_11_2024.gpkg\",\n",
    "    \"DANA_08_11_2024\": f\"{output_dir}/zone_DANA_08_11_2024.gpkg\"\n",
    "}\n",
    "\n",
    "depth_output_files = {\n",
    "    \"DANA_31_10_2024\": f\"{output_dir}/depth_DANA_31_10_2024.gpkg\",\n",
    "    \"DANA_03_11_2024\": f\"{output_dir}/depth_DANA_03_11_2024.gpkg\",\n",
    "    \"DANA_05_11_2024\": f\"{output_dir}/depth_DANA_05_11_2024.gpkg\",\n",
    "    \"DANA_06_11_2024\": f\"{output_dir}/depth_DANA_06_11_2024.gpkg\",\n",
    "    \"DANA_08_11_2024\": f\"{output_dir}/depth_DANA_08_11_2024.gpkg\"\n",
    "}\n",
    "\n",
    "cut_roads_files = {\n",
    "    \"10 yr\": f\"{output_dir}/cut_roads_flood_risk_10.graphml\",\n",
    "    \"100 yr\": f\"{output_dir}/cut_roads_flood_risk_100.graphml\",\n",
    "    \"500 yr\": f\"{output_dir}/cut_roads_flood_risk_500.graphml\",\n",
    "    \"DANA_31_10_2024\": f\"{output_dir}/cut_roads_DANA_31_10_2024.graphml\",\n",
    "    \"DANA_03_11_2024\": f\"{output_dir}/cut_roads_DANA_03_11_2024.graphml\",\n",
    "    \"DANA_05_11_2024\": f\"{output_dir}/cut_roads_DANA_05_11_2024.graphml\",\n",
    "    \"DANA_06_11_2024\": f\"{output_dir}/cut_roads_DANA_06_11_2024.graphml\",\n",
    "    \"DANA_08_11_2024\": f\"{output_dir}/cut_roads_DANA_08_11_2024.graphml\"\n",
    "}\n",
    "\n",
    "safe_roads_files = {\n",
    "    \"10 yr\": f\"{output_dir}/safe_roads_flood_risk_10.graphml\",\n",
    "    \"100 yr\": f\"{output_dir}/safe_roads_flood_risk_100.graphml\",\n",
    "    \"500 yr\": f\"{output_dir}/safe_roads_flood_risk_500.graphml\",\n",
    "    \"DANA_31_10_2024\": f\"{output_dir}/safe_roads_DANA_31_10_2024.graphml\",\n",
    "    \"DANA_03_11_2024\": f\"{output_dir}/safe_roads_DANA_03_11_2024.graphml\",\n",
    "    \"DANA_05_11_2024\": f\"{output_dir}/safe_roads_DANA_05_11_2024.graphml\",\n",
    "    \"DANA_06_11_2024\": f\"{output_dir}/safe_roads_DANA_06_11_2024.graphml\",\n",
    "    \"DANA_08_11_2024\": f\"{output_dir}/safe_roads_DANA_08_11_2024.graphml\"\n",
    "}"
   ]
  },
  {
   "cell_type": "code",
   "execution_count": 43,
   "metadata": {},
   "outputs": [],
   "source": [
    "shortest_path_files = {\n",
    "    \"Normal Conditions\": f\"{output_dir}/shorthest_paths_NP.json\", \n",
    "    \"10 yr\": f\"{output_dir}/shorthest_paths_10.json\",\n",
    "    \"100 yr\": f\"{output_dir}/shorthest_paths_100.json\",\n",
    "    \"500 yr\": f\"{output_dir}/shorthest_paths_500.json\",\n",
    "    \"DANA_31_10_2024\": f\"{output_dir}/shorthest_paths_DANA_31_10_2024.json\",\n",
    "    \"DANA_03_11_2024\": f\"{output_dir}/shorthest_paths_DANA_03_11_2024.json\",\n",
    "    \"DANA_05_11_2024\": f\"{output_dir}/shorthest_paths_DANA_05_11_2024.json\",\n",
    "    \"DANA_06_11_2024\": f\"{output_dir}/shorthest_paths_DANA_06_11_2024.json\",\n",
    "    \"DANA_08_11_2024\": f\"{output_dir}/shorthest_paths_DANA_08_11_2024.json\"\n",
    "}"
   ]
  },
  {
   "cell_type": "code",
   "execution_count": 44,
   "metadata": {},
   "outputs": [],
   "source": [
    "nodes, edges = ox.graph_to_gdfs(G_2nd)"
   ]
  },
  {
   "cell_type": "code",
   "execution_count": 45,
   "metadata": {
    "editable": true,
    "slideshow": {
     "slide_type": ""
    },
    "tags": []
   },
   "outputs": [],
   "source": [
    "layer_names=[\"10 yr\",\"100 yr\",\"500 yr\",\"DANA_31_10_2024\",\"DANA_03_11_2024\",\"DANA_05_11_2024\",\"DANA_06_11_2024\",\"DANA_08_11_2024\"]\n",
    "#layer_names=[\"DANA_31_10_2024\"]\n",
    "flood_zones_var = {}\n",
    "flood_edges_var = {}\n",
    "flood_graph_var = {}"
   ]
  },
  {
   "cell_type": "code",
   "execution_count": 46,
   "metadata": {},
   "outputs": [
    {
     "name": "stdout",
     "output_type": "stream",
     "text": [
      "Clipping and saving 10 yr from processed_files/zone_flood_risk_10.gpkg\n"
     ]
    },
    {
     "name": "stderr",
     "output_type": "stream",
     "text": [
      "2025-07-23 15:11:00,429 [INFO] Created 117 records\n"
     ]
    },
    {
     "name": "stdout",
     "output_type": "stream",
     "text": [
      "Tagging and saving 10 yr to processed_files/cut_roads_flood_risk_10.graphml\n"
     ]
    },
    {
     "name": "stderr",
     "output_type": "stream",
     "text": [
      "C:\\Users\\usuario\\anaconda3\\envs\\oxenv\\lib\\site-packages\\pyogrio\\raw.py:723: RuntimeWarning: The filename extension should be 'gpkg' instead of 'graphml' to conform to the GPKG specification.\n",
      "  ogr_write(\n",
      "2025-07-23 15:16:38,495 [INFO] Created 217,824 records\n"
     ]
    },
    {
     "name": "stdout",
     "output_type": "stream",
     "text": [
      "Rebuilding pruned graph...\n",
      "Saved pruned graph to processed_files/safe_roads_flood_risk_10.graphml\n",
      "Clipping and saving 100 yr from processed_files/zone_flood_risk_100.gpkg\n"
     ]
    },
    {
     "name": "stderr",
     "output_type": "stream",
     "text": [
      "2025-07-23 15:18:24,549 [INFO] Created 130 records\n"
     ]
    },
    {
     "name": "stdout",
     "output_type": "stream",
     "text": [
      "Tagging and saving 100 yr to processed_files/cut_roads_flood_risk_100.graphml\n"
     ]
    },
    {
     "name": "stderr",
     "output_type": "stream",
     "text": [
      "C:\\Users\\usuario\\anaconda3\\envs\\oxenv\\lib\\site-packages\\pyogrio\\raw.py:723: RuntimeWarning: The filename extension should be 'gpkg' instead of 'graphml' to conform to the GPKG specification.\n",
      "  ogr_write(\n",
      "2025-07-23 15:21:22,723 [INFO] Created 217,824 records\n"
     ]
    },
    {
     "name": "stdout",
     "output_type": "stream",
     "text": [
      "Rebuilding pruned graph...\n",
      "Saved pruned graph to processed_files/safe_roads_flood_risk_100.graphml\n",
      "Clipping and saving 500 yr from processed_files/zone_flood_risk_500.gpkg\n"
     ]
    },
    {
     "name": "stderr",
     "output_type": "stream",
     "text": [
      "C:\\Users\\usuario\\anaconda3\\envs\\oxenv\\lib\\site-packages\\pyogrio\\raw.py:198: RuntimeWarning: source_files/laminaspb-q500/Q500_2Ciclo_PB_20241121_ETRS89.shp contains polygon(s) with rings with invalid winding order. Autocorrecting them, but that shapefile should be corrected using ogr2ogr for example.\n",
      "  return ogr_read(\n",
      "2025-07-23 15:23:09,584 [INFO] Created 131 records\n"
     ]
    },
    {
     "name": "stdout",
     "output_type": "stream",
     "text": [
      "Tagging and saving 500 yr to processed_files/cut_roads_flood_risk_500.graphml\n"
     ]
    },
    {
     "name": "stderr",
     "output_type": "stream",
     "text": [
      "C:\\Users\\usuario\\anaconda3\\envs\\oxenv\\lib\\site-packages\\pyogrio\\raw.py:723: RuntimeWarning: The filename extension should be 'gpkg' instead of 'graphml' to conform to the GPKG specification.\n",
      "  ogr_write(\n",
      "2025-07-23 15:35:48,570 [INFO] Created 217,824 records\n"
     ]
    },
    {
     "name": "stdout",
     "output_type": "stream",
     "text": [
      "Rebuilding pruned graph...\n",
      "Saved pruned graph to processed_files/safe_roads_flood_risk_500.graphml\n",
      "Clipping and saving DANA_31_10_2024 from processed_files/zone_DANA_31_10_2024.gpkg\n"
     ]
    },
    {
     "name": "stderr",
     "output_type": "stream",
     "text": [
      "2025-07-23 15:36:32,710 [INFO] Created 1,442 records\n"
     ]
    },
    {
     "name": "stdout",
     "output_type": "stream",
     "text": [
      "Tagging and saving DANA_31_10_2024 to processed_files/cut_roads_DANA_31_10_2024.graphml\n"
     ]
    },
    {
     "name": "stderr",
     "output_type": "stream",
     "text": [
      "C:\\Users\\usuario\\anaconda3\\envs\\oxenv\\lib\\site-packages\\pyogrio\\raw.py:723: RuntimeWarning: The filename extension should be 'gpkg' instead of 'graphml' to conform to the GPKG specification.\n",
      "  ogr_write(\n",
      "2025-07-23 15:37:17,718 [INFO] Created 217,824 records\n"
     ]
    },
    {
     "name": "stdout",
     "output_type": "stream",
     "text": [
      "Rebuilding pruned graph...\n",
      "Saved pruned graph to processed_files/safe_roads_DANA_31_10_2024.graphml\n",
      "Clipping and saving DANA_03_11_2024 from processed_files/zone_DANA_03_11_2024.gpkg\n"
     ]
    },
    {
     "name": "stderr",
     "output_type": "stream",
     "text": [
      "2025-07-23 15:37:58,188 [INFO] Created 795 records\n"
     ]
    },
    {
     "name": "stdout",
     "output_type": "stream",
     "text": [
      "Tagging and saving DANA_03_11_2024 to processed_files/cut_roads_DANA_03_11_2024.graphml\n"
     ]
    },
    {
     "name": "stderr",
     "output_type": "stream",
     "text": [
      "C:\\Users\\usuario\\anaconda3\\envs\\oxenv\\lib\\site-packages\\pyogrio\\raw.py:723: RuntimeWarning: The filename extension should be 'gpkg' instead of 'graphml' to conform to the GPKG specification.\n",
      "  ogr_write(\n",
      "2025-07-23 15:38:44,808 [INFO] Created 217,824 records\n"
     ]
    },
    {
     "name": "stdout",
     "output_type": "stream",
     "text": [
      "Rebuilding pruned graph...\n",
      "Saved pruned graph to processed_files/safe_roads_DANA_03_11_2024.graphml\n",
      "Clipping and saving DANA_05_11_2024 from processed_files/zone_DANA_05_11_2024.gpkg\n"
     ]
    },
    {
     "name": "stderr",
     "output_type": "stream",
     "text": [
      "2025-07-23 15:39:29,369 [INFO] Created 505 records\n"
     ]
    },
    {
     "name": "stdout",
     "output_type": "stream",
     "text": [
      "Tagging and saving DANA_05_11_2024 to processed_files/cut_roads_DANA_05_11_2024.graphml\n"
     ]
    },
    {
     "name": "stderr",
     "output_type": "stream",
     "text": [
      "C:\\Users\\usuario\\anaconda3\\envs\\oxenv\\lib\\site-packages\\pyogrio\\raw.py:723: RuntimeWarning: The filename extension should be 'gpkg' instead of 'graphml' to conform to the GPKG specification.\n",
      "  ogr_write(\n",
      "2025-07-23 15:39:52,217 [INFO] Created 217,824 records\n"
     ]
    },
    {
     "name": "stdout",
     "output_type": "stream",
     "text": [
      "Rebuilding pruned graph...\n",
      "Saved pruned graph to processed_files/safe_roads_DANA_05_11_2024.graphml\n",
      "Clipping and saving DANA_06_11_2024 from processed_files/zone_DANA_06_11_2024.gpkg\n"
     ]
    },
    {
     "name": "stderr",
     "output_type": "stream",
     "text": [
      "2025-07-23 15:40:30,473 [INFO] Created 61 records\n"
     ]
    },
    {
     "name": "stdout",
     "output_type": "stream",
     "text": [
      "Tagging and saving DANA_06_11_2024 to processed_files/cut_roads_DANA_06_11_2024.graphml\n"
     ]
    },
    {
     "name": "stderr",
     "output_type": "stream",
     "text": [
      "C:\\Users\\usuario\\anaconda3\\envs\\oxenv\\lib\\site-packages\\pyogrio\\raw.py:723: RuntimeWarning: The filename extension should be 'gpkg' instead of 'graphml' to conform to the GPKG specification.\n",
      "  ogr_write(\n",
      "2025-07-23 15:40:51,085 [INFO] Created 217,824 records\n"
     ]
    },
    {
     "name": "stdout",
     "output_type": "stream",
     "text": [
      "Rebuilding pruned graph...\n",
      "Saved pruned graph to processed_files/safe_roads_DANA_06_11_2024.graphml\n",
      "Clipping and saving DANA_08_11_2024 from processed_files/zone_DANA_08_11_2024.gpkg\n"
     ]
    },
    {
     "name": "stderr",
     "output_type": "stream",
     "text": [
      "2025-07-23 15:41:39,118 [INFO] Created 271 records\n"
     ]
    },
    {
     "name": "stdout",
     "output_type": "stream",
     "text": [
      "Tagging and saving DANA_08_11_2024 to processed_files/cut_roads_DANA_08_11_2024.graphml\n"
     ]
    },
    {
     "name": "stderr",
     "output_type": "stream",
     "text": [
      "C:\\Users\\usuario\\anaconda3\\envs\\oxenv\\lib\\site-packages\\pyogrio\\raw.py:723: RuntimeWarning: The filename extension should be 'gpkg' instead of 'graphml' to conform to the GPKG specification.\n",
      "  ogr_write(\n",
      "2025-07-23 15:41:54,889 [INFO] Created 217,824 records\n"
     ]
    },
    {
     "name": "stdout",
     "output_type": "stream",
     "text": [
      "Rebuilding pruned graph...\n",
      "Saved pruned graph to processed_files/safe_roads_DANA_08_11_2024.graphml\n"
     ]
    }
   ],
   "source": [
    "for name in layer_names:\n",
    "    result = clip_flood_zone(edges.crs, name, neighbors_2_area)\n",
    "    flood_zones_var[name] = result\n",
    "    result_1, result_2 = tag_flooded_roads(edges, nodes, result, name)\n",
    "    flood_edges_var[name] = result_1\n",
    "    flood_graph_var[name] = result_2\n",
    "del result, result_1, result_2"
   ]
  },
  {
   "cell_type": "code",
   "execution_count": 47,
   "metadata": {},
   "outputs": [],
   "source": [
    "layer_names = [\"DANA_31_10_2024\",\"DANA_03_11_2024\",\"DANA_05_11_2024\",\"DANA_06_11_2024\",\"DANA_08_11_2024\"]\n",
    "depth_zones = {}"
   ]
  },
  {
   "cell_type": "code",
   "execution_count": 48,
   "metadata": {},
   "outputs": [
    {
     "name": "stderr",
     "output_type": "stream",
     "text": [
      "2025-07-23 15:45:54,162 [INFO] Created 3,216 records\n"
     ]
    },
    {
     "name": "stdout",
     "output_type": "stream",
     "text": [
      "Saving depth_val to processed_files/depth_DANA_31_10_2024.gpkg\n",
      "Saved processed depth_val in processed_files/depth_DANA_31_10_2024.gpkg\n",
      "Saving depth_val to processed_files/depth_DANA_03_11_2024.gpkg\n"
     ]
    },
    {
     "name": "stderr",
     "output_type": "stream",
     "text": [
      "2025-07-23 15:45:54,394 [INFO] Created 1,968 records\n",
      "2025-07-23 15:45:54,477 [INFO] Created 1,478 records\n",
      "2025-07-23 15:45:54,540 [INFO] Created 195 records\n",
      "2025-07-23 15:45:54,617 [INFO] Created 440 records\n"
     ]
    },
    {
     "name": "stdout",
     "output_type": "stream",
     "text": [
      "Saved processed depth_val in processed_files/depth_DANA_03_11_2024.gpkg\n",
      "Saving depth_val to processed_files/depth_DANA_05_11_2024.gpkg\n",
      "Saved processed depth_val in processed_files/depth_DANA_05_11_2024.gpkg\n",
      "Saving depth_val to processed_files/depth_DANA_06_11_2024.gpkg\n",
      "Saved processed depth_val in processed_files/depth_DANA_06_11_2024.gpkg\n",
      "Saving depth_val to processed_files/depth_DANA_08_11_2024.gpkg\n",
      "Saved processed depth_val in processed_files/depth_DANA_08_11_2024.gpkg\n"
     ]
    }
   ],
   "source": [
    "for name in layer_names: \n",
    "    depth = flood_depth_zones(name)\n",
    "    depth_zones[name]=depth"
   ]
  },
  {
   "cell_type": "markdown",
   "metadata": {},
   "source": [
    "## Testing"
   ]
  },
  {
   "cell_type": "code",
   "execution_count": 53,
   "metadata": {},
   "outputs": [
    {
     "name": "stdout",
     "output_type": "stream",
     "text": [
      "Variable            Type                Size (bytes)   \n",
      "-------------------------------------------------------\n",
      "edges               GeoDataFrame        132020177      \n",
      "nodes               GeoDataFrame        18252351       \n",
      "neighbors_2_area    GeoDataFrame        131978         \n",
      "depth               GeoDataFrame        108938         \n",
      "neighbors_1_area    GeoDataFrame        95190          \n",
      "affected_area       GeoDataFrame        58166          \n",
      "urban_center        dict                4696           \n",
      "affected_valencia   list                888            \n",
      "val                 str                 821            \n",
      "In                  list                568            \n",
      "zone_input_files    dict                360            \n",
      "zone_output_files   dict                360            \n",
      "cut_roads_files     dict                360            \n",
      "safe_roads_files    dict                360            \n",
      "shortest_path_files dict                360            \n",
      "flood_zones_var     dict                360            \n",
      "flood_edges_var     dict                360            \n",
      "flood_graph_var     dict                360            \n",
      "var_info            list                248            \n",
      "depth_input_files   dict                232            \n",
      "depth_output_files  dict                232            \n",
      "depth_zones         dict                232            \n",
      "FILE_1ST            str                 162            \n",
      "FILE_2ND            str                 162            \n",
      "regions             list                104            \n",
      "layer_names         list                104            \n",
      "output_dir          str                 96             \n",
      "FILE_STUDY          str                 83             \n",
      "polygon_path        str                 83             \n",
      "graph_path          str                 83             \n",
      "region              str                 83             \n",
      "Out                 dict                64             \n",
      "affected_cuenca     list                64             \n",
      "input_dir           str                 61             \n",
      "name                str                 53             \n",
      "var_type            str                 52             \n",
      "linear              _LinearColormaps    48             \n",
      "G_2nd               MultiDiGraph        48             \n",
      "size                int                 28             \n"
     ]
    }
   ],
   "source": [
    "from sys import getsizeof\n",
    "import types\n",
    "\n",
    "var_info = []\n",
    "for name, val in list(globals().items()):\n",
    "    if (\n",
    "        not callable(val)  # Skip functions/methods\n",
    "        and not name.startswith(\"_\")  # Skip private/internal vars\n",
    "        and not isinstance(val, types.ModuleType)  # Skip imported packages\n",
    "    ):\n",
    "        try:\n",
    "            size = getsizeof(val)\n",
    "        except Exception:\n",
    "            size = -1  # Fallback if getsizeof fails\n",
    "        var_type = type(val).__name__\n",
    "        var_info.append((name, var_type, size))\n",
    "\n",
    "# Sort by size (descending)\n",
    "var_info.sort(key=lambda x: x[2], reverse=True)\n",
    "\n",
    "# Print table\n",
    "print(f\"{'Variable':<20}{'Type':<20}{'Size (bytes)':<15}\")\n",
    "print(\"-\" * 55)\n",
    "for name, var_type, size in var_info:\n",
    "    print(f\"{name:<20}{var_type:<20}{size:<15}\")"
   ]
  },
  {
   "cell_type": "markdown",
   "metadata": {},
   "source": [
    "# Navegability Analysis"
   ]
  },
  {
   "cell_type": "markdown",
   "metadata": {},
   "source": [
    "## Functions"
   ]
  },
  {
   "cell_type": "code",
   "execution_count": 13,
   "metadata": {},
   "outputs": [],
   "source": [
    "def convert_nx_to_igraph(G_nx, weight_attr='travel_time'):\n",
    "    node_list = list(G_nx.nodes())\n",
    "    node_to_index = {node: i for i, node in enumerate(node_list)}\n",
    "    index_to_node = {i: node for node, i in node_to_index.items()}\n",
    "\n",
    "    edge_weights = {}\n",
    "    for u, v, attr in G_nx.edges(data=True):\n",
    "        wt = attr.get(weight_attr)\n",
    "        if wt is None:\n",
    "            continue\n",
    "        u_idx, v_idx = node_to_index[u], node_to_index[v]\n",
    "        if (u_idx, v_idx) not in edge_weights or wt < edge_weights[(u_idx, v_idx)]:\n",
    "            edge_weights[(u_idx, v_idx)] = wt\n",
    "\n",
    "    is_directed = G_nx.is_directed()\n",
    "    G_ig = ig.Graph(directed=is_directed)\n",
    "    G_ig.add_vertices(len(node_list))\n",
    "    G_ig.add_edges(edge_weights.keys())\n",
    "    G_ig.es['weight'] = list(edge_weights.values())\n",
    "\n",
    "    return G_ig, node_to_index, index_to_node, edge_weights\n"
   ]
  },
  {
   "cell_type": "code",
   "execution_count": 14,
   "metadata": {},
   "outputs": [],
   "source": [
    "def batch_shortest_paths(G_ig, special_nodes, index_to_node, node_to_index, node_to_muni, compute_path, weight_attr='weight'):\n",
    "    result = {}\n",
    "    special_indices = [node_to_index[n] for n in special_nodes]\n",
    "    index_to_muni = {idx: node_to_muni[index_to_node[idx]] for idx in special_indices}\n",
    "\n",
    "    for src_idx in special_indices:\n",
    "        distances = G_ig.distances(source=src_idx, target=special_indices, weights=weight_attr)[0]\n",
    "        paths = None\n",
    "        if compute_path:\n",
    "            paths = G_ig.get_shortest_paths(src_idx, to=special_indices, weights=weight_attr, output='vpath')\n",
    "\n",
    "        for tgt_pos, tgt_idx in enumerate(special_indices):\n",
    "            if src_idx == tgt_idx:\n",
    "                continue\n",
    "\n",
    "            dist = distances[tgt_pos]\n",
    "            if math.isinf(dist):\n",
    "                result[f\"{index_to_muni[src_idx]}__{index_to_muni[tgt_idx]}\"] = ([], 0) if compute_path else 0\n",
    "                continue\n",
    "\n",
    "            if compute_path:\n",
    "                node_path = paths[tgt_pos]\n",
    "                path = [index_to_node[n] for n in node_path] if node_path else []\n",
    "                result[f\"{index_to_muni[src_idx]}__{index_to_muni[tgt_idx]}\"] = (path, dist)\n",
    "            else:\n",
    "                result[f\"{index_to_muni[src_idx]}__{index_to_muni[tgt_idx]}\"] = dist\n",
    "\n",
    "    return result"
   ]
  },
  {
   "cell_type": "code",
   "execution_count": 15,
   "metadata": {},
   "outputs": [],
   "source": [
    "def batch_shortest_paths_no_path(G_ig, special_nodes, index_to_node, node_to_index, node_to_muni, weight_attr='weight'):\n",
    "    result = {}\n",
    "\n",
    "    special_indices = [node_to_index[n] for n in special_nodes]\n",
    "    index_to_muni = {idx: node_to_muni[index_to_node[idx]] for idx in special_indices}\n",
    "\n",
    "    dist_matrix = G_ig.shortest_paths_dijkstra(\n",
    "        source=special_indices,\n",
    "        target=special_indices,\n",
    "        weights=weight_attr\n",
    "    )\n",
    "\n",
    "    for i, src_idx in enumerate(special_indices):\n",
    "        for j, tgt_idx in enumerate(special_indices):\n",
    "            if src_idx == tgt_idx:\n",
    "                continue\n",
    "\n",
    "            dist = dist_matrix[i][j]\n",
    "            key = f\"{index_to_muni[src_idx]}__{index_to_muni[tgt_idx]}\"\n",
    "            result[key] = 0 if math.isinf(dist) else dist\n",
    "\n",
    "    return result\n"
   ]
  },
  {
   "cell_type": "code",
   "execution_count": 16,
   "metadata": {},
   "outputs": [],
   "source": [
    "def load_or_compute_shortest_paths(filename, G_nx, special_nodes, node_to_muni, save, compute_path):\n",
    "    G_ig, node_to_index, index_to_node, edge_weights = convert_nx_to_igraph(G_nx, weight_attr='travel_time')\n",
    "\n",
    "    if os.path.exists(filename):\n",
    "        with open(filename, 'r') as f:\n",
    "            data = json.load(f)\n",
    "\n",
    "        # Deserialize: convert lists to tuples if compute_path is True\n",
    "        if compute_path:\n",
    "            result = {k: (v[0], v[1]) for k, v in data.items()}\n",
    "        else:\n",
    "            result = data  # just distances\n",
    "    else:\n",
    "        print(\"Computing shortest paths...\")\n",
    "        result = batch_shortest_paths(\n",
    "            G_ig,\n",
    "            special_nodes,\n",
    "            index_to_node,\n",
    "            node_to_index,\n",
    "            node_to_muni,\n",
    "            compute_path=compute_path\n",
    "        )\n",
    "\n",
    "        if save:\n",
    "            if compute_path:\n",
    "                # Convert tuples to lists for JSON compatibility\n",
    "                serializable_result = {k: [v[0], v[1]] for k, v in result.items()}\n",
    "            else:\n",
    "                # Values are just floats\n",
    "                serializable_result = result\n",
    "\n",
    "            with open(filename, 'w') as f:\n",
    "                json.dump(serializable_result, f)\n",
    "\n",
    "    return result"
   ]
  },
  {
   "cell_type": "code",
   "execution_count": 8,
   "metadata": {},
   "outputs": [],
   "source": [
    "def compute_individual_risk_factor(T_P, T_NP):\n",
    "    if T_P == 0:\n",
    "        return 1\n",
    "    else:\n",
    "        return 1 - (T_NP / T_P)"
   ]
  },
  {
   "cell_type": "code",
   "execution_count": 9,
   "metadata": {},
   "outputs": [],
   "source": [
    "def compute_risk_factor(T_P_dict, T_NP_dict):\n",
    "    keys = set(T_P_dict.keys()) & set(T_NP_dict.keys())\n",
    "    R = 0\n",
    "    for k in keys:\n",
    "        T_P_time = T_P_dict[k][1]\n",
    "        T_NP_time = T_NP_dict[k][1]\n",
    "        R += compute_individual_risk_factor(T_P_time, T_NP_time)\n",
    "    R /= len(keys) if keys else 1\n",
    "    return R"
   ]
  },
  {
   "cell_type": "code",
   "execution_count": 10,
   "metadata": {},
   "outputs": [],
   "source": [
    "def compute_risk_factor_2(T_P_dict, T_NP_dict): #when not computing paths\n",
    "    keys = set(T_P_dict.keys()) & set(T_NP_dict.keys())\n",
    "    R = 0\n",
    "    for k in keys:\n",
    "        T_P_time = T_P_dict[k]\n",
    "        T_NP_time = T_NP_dict[k][1]\n",
    "        R += compute_individual_risk_factor(T_P_time, T_NP_time)\n",
    "    R /= len(keys) if keys else 1\n",
    "    return R"
   ]
  },
  {
   "cell_type": "code",
   "execution_count": 11,
   "metadata": {},
   "outputs": [],
   "source": [
    "def compute_municipal_risk_factor(T_P_dict, T_NP_dict, municipality):\n",
    "    keys = {k for k in T_P_dict.keys() & T_NP_dict.keys() if municipality in k}\n",
    "    R = 0\n",
    "    for k in keys:\n",
    "        T_P_time = T_P_dict[k][1]\n",
    "        T_NP_time = T_NP_dict[k][1]\n",
    "        R += compute_individual_risk_factor(T_P_time, T_NP_time)\n",
    "    R /= len(keys) if keys else 1\n",
    "    return R"
   ]
  },
  {
   "cell_type": "markdown",
   "metadata": {},
   "source": [
    "## Code"
   ]
  },
  {
   "cell_type": "code",
   "execution_count": 54,
   "metadata": {},
   "outputs": [
    {
     "name": "stdout",
     "output_type": "stream",
     "text": [
      "Computing shortest paths...\n"
     ]
    }
   ],
   "source": [
    "filename = shortest_path_files[\"Normal Conditions\"]\n",
    "\n",
    "special_nodes = [n for n, attr in G_2nd.nodes(data=True) if attr.get('municipality')]\n",
    "node_to_muni = {n: attr.get('municipality', '') for n, attr in G_2nd.nodes(data=True)}\n",
    "\n",
    "T_NP_dictionary = load_or_compute_shortest_paths(filename, G_2nd, special_nodes, node_to_muni,True,True)"
   ]
  },
  {
   "cell_type": "code",
   "execution_count": 55,
   "metadata": {
    "scrolled": true
   },
   "outputs": [
    {
     "name": "stdout",
     "output_type": "stream",
     "text": [
      "10 yr 3 weakly connected components\n",
      "Component 1 municipalities: {'Pedralba', 'Benagéber', 'Riba-roja de Túria', 'Albalat de la Ribera', 'Siete Aguas', 'Senyera', 'Yátova', 'Almussafes', 'Tuéjar', 'Alberic', 'Torrent', 'Massanassa', 'Chulilla', 'Rafelguaraf', 'Alborache', \"l'Ènova\", 'Algemesí', 'Polinyà de Xúquer', 'Alaquàs', 'Benetússer', \"l'Alcúdia\", 'Manises', 'Riola', 'Casinos', 'Sueca', 'Real', 'Fortaleny', 'Carlet', 'Utiel', 'Quart de Poblet', 'La Pobla Llarga', 'Xirivella', 'Llíria', 'Catadau', 'Gestalgar', 'Macastre', 'Castelló de la ribera', 'Chelva', 'Sedaví', 'Dos Aguas', 'Benaguasil', 'Mislata', 'Fuenterrobles', 'Benifaió', 'Llaurí', 'Alfarb', 'Buñol', 'Titaguas', 'Gavarda', 'Calles', 'Massalavés', 'Alfafar', 'Barxeta', 'Corbera', 'Alginet', 'Sant Joanet', 'Cullera', 'Benimuslem', 'Alzira', 'Sinarcas', 'Loriguilla', 'Picassent', 'Turís', 'Guadassuar', 'Alcàsser', 'Bugarra', 'Favara', 'Silla', 'Godelleta', 'Manuel', 'Albal', 'Chiva', 'Sollana', 'Paterna', 'Camporrobles', 'Montroi', 'Montserrat', 'Villar del Arzobispo', 'Bétera', 'Losa del Obispo', 'Tous', 'Sot de Chera', 'Paiporta', 'Vilamarxant', 'Picanya', 'Carcaixent', 'Benimodo', 'Benicull de Xúquer', 'Llombai', 'València', 'Chera', 'Tavernes de la Valldigna', 'Aldaia', 'Aras de los Olmos', 'Llocnou de la Corona', 'Millares', 'Castielfabib', 'Requena', 'Beniparrell', 'Caudete de las Fuentes', 'Cheste', 'Catarroja'}\n",
      "Component 2 municipalities: {'Xeraco'}\n",
      "Component 3 municipalities: {'Mira'}\n",
      "100 yr 25 weakly connected components\n",
      "Component 1 municipalities: {'Barxeta'}\n",
      "Component 2 municipalities: {'Carlet', 'Montroi', 'Montserrat', 'Siete Aguas', 'Alginet', 'Yátova', 'Almussafes', 'Alberic', 'Torrent', 'Tous', 'Catadau', 'Macastre', 'Picanya', 'Benimodo', 'Picassent', 'Turís', 'Alborache', 'Llombai', 'Alcàsser', 'Benifaió', 'Silla', 'Godelleta', 'Alfarb', 'Buñol', 'Albal', 'Chiva', 'Gavarda', 'Massalavés', 'Catarroja'}\n",
      "Component 3 municipalities: {'Alfafar', 'Paterna', 'Pedralba', 'Camporrobles', 'Benagéber', 'Riba-roja de Túria', 'Villar del Arzobispo', 'Utiel', 'Quart de Poblet', 'Bétera', 'Xirivella', 'Losa del Obispo', 'Tuéjar', 'Llíria', 'Massanassa', 'Sot de Chera', 'Gestalgar', 'Paiporta', 'Chelva', 'Vilamarxant', 'Chulilla', 'Sedaví', 'Dos Aguas', 'Benaguasil', 'Sinarcas', 'Loriguilla', 'Mislata', 'València', 'Chera', 'Fuenterrobles', 'Aras de los Olmos', 'Bugarra', 'Llocnou de la Corona', 'Alaquàs', 'Benetússer', 'Manises', 'Millares', 'Castielfabib', 'Titaguas', 'Requena', 'Caudete de las Fuentes', 'Casinos', 'Cheste'}\n",
      "Component 4 municipalities: {'Real'}\n",
      "Component 5 municipalities: {'Calles'}\n",
      "Component 6 municipalities: {'Sollana'}\n",
      "Component 7 municipalities: {'Algemesí'}\n",
      "Component 8 municipalities: {'Guadassuar'}\n",
      "Component 9 municipalities: {\"l'Alcúdia\"}\n",
      "Component 10 municipalities: {'Corbera', 'Tavernes de la Valldigna', 'Llaurí', 'Favara'}\n",
      "Component 11 municipalities: {'Xeraco'}\n",
      "Component 12 municipalities: {'Sant Joanet', 'Senyera', 'Castelló de la ribera', 'Manuel', \"l'Ènova\", 'La Pobla Llarga'}\n",
      "Component 13 municipalities: {'Sueca', 'Cullera'}\n",
      "Component 14 municipalities: {'Albalat de la Ribera'}\n",
      "Component 15 municipalities: {'Riola'}\n",
      "Component 16 municipalities: {'Polinyà de Xúquer'}\n",
      "Component 17 municipalities: {'Alzira'}\n",
      "Component 18 municipalities: {'Fortaleny'}\n",
      "Component 19 municipalities: {'Benicull de Xúquer'}\n",
      "Component 20 municipalities: {'Benimuslem'}\n",
      "Component 21 municipalities: {'Rafelguaraf'}\n",
      "Component 22 municipalities: {'Mira'}\n",
      "Component 23 municipalities: {'Carcaixent'}\n",
      "Component 24 municipalities: {'Beniparrell'}\n",
      "Component 25 municipalities: {'Aldaia'}\n",
      "500 yr 39 weakly connected components\n",
      "Component 1 municipalities: {'Barxeta'}\n",
      "Component 2 municipalities: {'Carlet', 'Alberic', 'Alfarb', 'Benimodo', 'Tous', 'Llombai', 'Catadau', 'Gavarda', 'Massalavés'}\n",
      "Component 3 municipalities: {'Dos Aguas', 'Camporrobles', 'Benagéber', 'Millares', 'Requena', 'Caudete de las Fuentes', 'Chera', 'Fuenterrobles'}\n",
      "Component 4 municipalities: {'Silla', 'Godelleta', 'Picanya', 'Yátova', 'Montroi', 'Montserrat', 'Torrent', 'Picassent', 'Turís', 'Albal', 'Alborache', 'Buñol', 'Chiva', 'Siete Aguas', 'Alcàsser', 'Benifaió', 'Macastre'}\n",
      "Component 5 municipalities: {'Paterna', 'Riba-roja de Túria', 'Quart de Poblet', 'Bétera', 'Losa del Obispo', 'Tuéjar', 'Llíria', 'Sot de Chera', 'Gestalgar', 'Vilamarxant', 'Chulilla', 'Benaguasil', 'Sinarcas', 'Loriguilla', 'Aras de los Olmos', 'Bugarra', 'Manises', 'Castielfabib', 'Titaguas', 'Casinos', 'Cheste'}\n",
      "Component 6 municipalities: {'Real'}\n",
      "Component 7 municipalities: {'Pedralba'}\n",
      "Component 8 municipalities: {'Villar del Arzobispo'}\n",
      "Component 9 municipalities: {'Chelva'}\n",
      "Component 10 municipalities: {'Mislata', 'València'}\n",
      "Component 11 municipalities: {'Llocnou de la Corona', 'Paiporta', 'Alfafar', 'Alaquàs', 'Benetússer', 'Sedaví'}\n",
      "Component 12 municipalities: {'Algemesí'}\n",
      "Component 13 municipalities: {\"l'Alcúdia\"}\n",
      "Component 14 municipalities: {'Corbera', 'Llaurí', 'Favara'}\n",
      "Component 15 municipalities: {'Sant Joanet', 'Senyera', 'Castelló de la ribera', 'Manuel', \"l'Ènova\", 'La Pobla Llarga'}\n",
      "Component 16 municipalities: {'Xeraco'}\n",
      "Component 17 municipalities: {'Sueca', 'Cullera'}\n",
      "Component 18 municipalities: {'Tavernes de la Valldigna'}\n",
      "Component 19 municipalities: {'Sollana'}\n",
      "Component 20 municipalities: {'Albalat de la Ribera'}\n",
      "Component 21 municipalities: {'Riola'}\n",
      "Component 22 municipalities: {'Polinyà de Xúquer'}\n",
      "Component 23 municipalities: {'Guadassuar'}\n",
      "Component 24 municipalities: {'Alginet'}\n",
      "Component 25 municipalities: {'Fortaleny'}\n",
      "Component 26 municipalities: {'Benicull de Xúquer'}\n",
      "Component 27 municipalities: {'Benimuslem'}\n",
      "Component 28 municipalities: {'Alzira'}\n",
      "Component 29 municipalities: {'Mira'}\n",
      "Component 30 municipalities: {'Xirivella'}\n",
      "Component 31 municipalities: {'Rafelguaraf'}\n",
      "Component 32 municipalities: {'Catarroja'}\n",
      "Component 33 municipalities: {'Massanassa'}\n",
      "Component 34 municipalities: {'Carcaixent'}\n",
      "Component 35 municipalities: {'Calles'}\n",
      "Component 36 municipalities: {'Utiel'}\n",
      "Component 37 municipalities: {'Almussafes'}\n",
      "Component 38 municipalities: {'Beniparrell'}\n",
      "Component 39 municipalities: {'Aldaia'}\n",
      "DANA_31_10_2024 25 weakly connected components\n",
      "Component 1 municipalities: {'Pedralba', 'Benagéber', 'Riba-roja de Túria', 'Siete Aguas', 'Yátova', 'Almussafes', 'Tuéjar', 'Torrent', 'Massanassa', 'Chulilla', 'Alborache', \"l'Ènova\", 'Alaquàs', 'Benetússer', 'Manises', 'Casinos', 'Real', 'Carlet', 'Utiel', 'Quart de Poblet', 'Xeraco', 'Llíria', 'Catadau', 'Gestalgar', 'Macastre', 'Chelva', 'Sedaví', 'Dos Aguas', 'Benaguasil', 'Mislata', 'Fuenterrobles', 'Benifaió', 'Llaurí', 'Alfarb', 'Buñol', 'Titaguas', 'Calles', 'Massalavés', 'Alfafar', 'Barxeta', 'Corbera', 'Alginet', 'Cullera', 'Alzira', 'Loriguilla', 'Picassent', 'Turís', 'Alcàsser', 'Bugarra', 'Favara', 'Silla', 'Godelleta', 'Manuel', 'Albal', 'Chiva', 'Sollana', 'Paterna', 'Montroi', 'Montserrat', 'Villar del Arzobispo', 'Bétera', 'Losa del Obispo', 'Tous', 'Sot de Chera', 'Vilamarxant', 'Mira', 'Carcaixent', 'Benimodo', 'Llombai', 'València', 'Aras de los Olmos', 'Chera', 'Aldaia', 'Tavernes de la Valldigna', 'Millares', 'Castielfabib', 'Requena', 'Caudete de las Fuentes', 'Cheste', 'Catarroja'}\n",
      "Component 2 municipalities: {'Gavarda'}\n",
      "Component 3 municipalities: {'Algemesí'}\n",
      "Component 4 municipalities: {'Sueca'}\n",
      "Component 5 municipalities: {'Albalat de la Ribera'}\n",
      "Component 6 municipalities: {'Riola'}\n",
      "Component 7 municipalities: {'Polinyà de Xúquer'}\n",
      "Component 8 municipalities: {'Guadassuar'}\n",
      "Component 9 municipalities: {'Fortaleny'}\n",
      "Component 10 municipalities: {'Senyera'}\n",
      "Component 11 municipalities: {'Camporrobles'}\n",
      "Component 12 municipalities: {'Sinarcas'}\n",
      "Component 13 municipalities: {'Xirivella'}\n",
      "Component 14 municipalities: {'Picanya'}\n",
      "Component 15 municipalities: {'Benicull de Xúquer'}\n",
      "Component 16 municipalities: {\"l'Alcúdia\"}\n",
      "Component 17 municipalities: {'Llocnou de la Corona'}\n",
      "Component 18 municipalities: {'Paiporta'}\n",
      "Component 19 municipalities: {'Rafelguaraf'}\n",
      "Component 20 municipalities: {'Castelló de la ribera'}\n",
      "Component 21 municipalities: {'La Pobla Llarga'}\n",
      "Component 22 municipalities: {'Sant Joanet'}\n",
      "Component 23 municipalities: {'Alberic'}\n",
      "Component 24 municipalities: {'Beniparrell'}\n",
      "Component 25 municipalities: {'Benimuslem'}\n",
      "DANA_03_11_2024 1 weakly connected components\n",
      "Component 1 municipalities: {'Pedralba', 'Benagéber', 'Riba-roja de Túria', 'Albalat de la Ribera', 'Siete Aguas', 'Senyera', 'Yátova', 'Almussafes', 'Tuéjar', 'Alberic', 'Torrent', 'Massanassa', 'Chulilla', 'Rafelguaraf', 'Alborache', \"l'Ènova\", 'Algemesí', 'Polinyà de Xúquer', 'Alaquàs', 'Benetússer', \"l'Alcúdia\", 'Manises', 'Riola', 'Casinos', 'Sueca', 'Real', 'Fortaleny', 'Carlet', 'Utiel', 'Quart de Poblet', 'La Pobla Llarga', 'Xirivella', 'Xeraco', 'Llíria', 'Catadau', 'Gestalgar', 'Macastre', 'Castelló de la ribera', 'Chelva', 'Sedaví', 'Dos Aguas', 'Benaguasil', 'Mislata', 'Fuenterrobles', 'Benifaió', 'Llaurí', 'Alfarb', 'Buñol', 'Titaguas', 'Gavarda', 'Calles', 'Massalavés', 'Alfafar', 'Barxeta', 'Corbera', 'Alginet', 'Sant Joanet', 'Cullera', 'Benimuslem', 'Alzira', 'Sinarcas', 'Loriguilla', 'Picassent', 'Turís', 'Guadassuar', 'Alcàsser', 'Bugarra', 'Favara', 'Silla', 'Godelleta', 'Manuel', 'Albal', 'Chiva', 'Sollana', 'Paterna', 'Camporrobles', 'Montroi', 'Montserrat', 'Villar del Arzobispo', 'Bétera', 'Losa del Obispo', 'Tous', 'Sot de Chera', 'Paiporta', 'Vilamarxant', 'Picanya', 'Mira', 'Carcaixent', 'Benimodo', 'Benicull de Xúquer', 'Llombai', 'València', 'Chera', 'Tavernes de la Valldigna', 'Aldaia', 'Aras de los Olmos', 'Llocnou de la Corona', 'Millares', 'Castielfabib', 'Requena', 'Beniparrell', 'Caudete de las Fuentes', 'Cheste', 'Catarroja'}\n",
      "DANA_05_11_2024 1 weakly connected components\n",
      "Component 1 municipalities: {'Pedralba', 'Benagéber', 'Riba-roja de Túria', 'Albalat de la Ribera', 'Siete Aguas', 'Senyera', 'Yátova', 'Almussafes', 'Tuéjar', 'Alberic', 'Torrent', 'Massanassa', 'Chulilla', 'Rafelguaraf', 'Alborache', \"l'Ènova\", 'Algemesí', 'Polinyà de Xúquer', 'Alaquàs', 'Benetússer', \"l'Alcúdia\", 'Manises', 'Riola', 'Casinos', 'Sueca', 'Real', 'Fortaleny', 'Carlet', 'Utiel', 'Quart de Poblet', 'La Pobla Llarga', 'Xirivella', 'Xeraco', 'Llíria', 'Catadau', 'Gestalgar', 'Macastre', 'Castelló de la ribera', 'Chelva', 'Sedaví', 'Dos Aguas', 'Benaguasil', 'Mislata', 'Fuenterrobles', 'Benifaió', 'Llaurí', 'Alfarb', 'Buñol', 'Titaguas', 'Gavarda', 'Calles', 'Massalavés', 'Alfafar', 'Barxeta', 'Corbera', 'Alginet', 'Sant Joanet', 'Cullera', 'Benimuslem', 'Alzira', 'Sinarcas', 'Loriguilla', 'Picassent', 'Turís', 'Guadassuar', 'Alcàsser', 'Bugarra', 'Favara', 'Silla', 'Godelleta', 'Manuel', 'Albal', 'Chiva', 'Sollana', 'Paterna', 'Camporrobles', 'Montroi', 'Montserrat', 'Villar del Arzobispo', 'Bétera', 'Losa del Obispo', 'Tous', 'Sot de Chera', 'Paiporta', 'Vilamarxant', 'Picanya', 'Mira', 'Carcaixent', 'Benimodo', 'Benicull de Xúquer', 'Llombai', 'València', 'Chera', 'Tavernes de la Valldigna', 'Aldaia', 'Aras de los Olmos', 'Llocnou de la Corona', 'Millares', 'Castielfabib', 'Requena', 'Beniparrell', 'Caudete de las Fuentes', 'Cheste', 'Catarroja'}\n",
      "DANA_06_11_2024 1 weakly connected components\n",
      "Component 1 municipalities: {'Pedralba', 'Benagéber', 'Riba-roja de Túria', 'Albalat de la Ribera', 'Siete Aguas', 'Senyera', 'Yátova', 'Almussafes', 'Tuéjar', 'Alberic', 'Torrent', 'Massanassa', 'Chulilla', 'Rafelguaraf', 'Alborache', \"l'Ènova\", 'Algemesí', 'Polinyà de Xúquer', 'Alaquàs', 'Benetússer', \"l'Alcúdia\", 'Manises', 'Riola', 'Casinos', 'Sueca', 'Real', 'Fortaleny', 'Carlet', 'Utiel', 'Quart de Poblet', 'La Pobla Llarga', 'Xirivella', 'Xeraco', 'Llíria', 'Catadau', 'Gestalgar', 'Macastre', 'Castelló de la ribera', 'Chelva', 'Sedaví', 'Dos Aguas', 'Benaguasil', 'Mislata', 'Fuenterrobles', 'Benifaió', 'Llaurí', 'Alfarb', 'Buñol', 'Titaguas', 'Gavarda', 'Calles', 'Massalavés', 'Alfafar', 'Barxeta', 'Corbera', 'Alginet', 'Sant Joanet', 'Cullera', 'Benimuslem', 'Alzira', 'Sinarcas', 'Loriguilla', 'Picassent', 'Turís', 'Guadassuar', 'Alcàsser', 'Bugarra', 'Favara', 'Silla', 'Godelleta', 'Manuel', 'Albal', 'Chiva', 'Sollana', 'Paterna', 'Camporrobles', 'Montroi', 'Montserrat', 'Villar del Arzobispo', 'Bétera', 'Losa del Obispo', 'Tous', 'Sot de Chera', 'Paiporta', 'Vilamarxant', 'Picanya', 'Mira', 'Carcaixent', 'Benimodo', 'Benicull de Xúquer', 'Llombai', 'València', 'Chera', 'Tavernes de la Valldigna', 'Aldaia', 'Aras de los Olmos', 'Llocnou de la Corona', 'Millares', 'Castielfabib', 'Requena', 'Beniparrell', 'Caudete de las Fuentes', 'Cheste', 'Catarroja'}\n",
      "DANA_08_11_2024 1 weakly connected components\n",
      "Component 1 municipalities: {'Pedralba', 'Benagéber', 'Riba-roja de Túria', 'Albalat de la Ribera', 'Siete Aguas', 'Senyera', 'Yátova', 'Almussafes', 'Tuéjar', 'Alberic', 'Torrent', 'Massanassa', 'Chulilla', 'Rafelguaraf', 'Alborache', \"l'Ènova\", 'Algemesí', 'Polinyà de Xúquer', 'Alaquàs', 'Benetússer', \"l'Alcúdia\", 'Manises', 'Riola', 'Casinos', 'Sueca', 'Real', 'Fortaleny', 'Carlet', 'Utiel', 'Quart de Poblet', 'La Pobla Llarga', 'Xirivella', 'Xeraco', 'Llíria', 'Catadau', 'Gestalgar', 'Macastre', 'Castelló de la ribera', 'Chelva', 'Sedaví', 'Dos Aguas', 'Benaguasil', 'Mislata', 'Fuenterrobles', 'Benifaió', 'Llaurí', 'Alfarb', 'Buñol', 'Titaguas', 'Gavarda', 'Calles', 'Massalavés', 'Alfafar', 'Barxeta', 'Corbera', 'Alginet', 'Sant Joanet', 'Cullera', 'Benimuslem', 'Alzira', 'Sinarcas', 'Loriguilla', 'Picassent', 'Turís', 'Guadassuar', 'Alcàsser', 'Bugarra', 'Favara', 'Silla', 'Godelleta', 'Manuel', 'Albal', 'Chiva', 'Sollana', 'Paterna', 'Camporrobles', 'Montroi', 'Montserrat', 'Villar del Arzobispo', 'Bétera', 'Losa del Obispo', 'Tous', 'Sot de Chera', 'Paiporta', 'Vilamarxant', 'Picanya', 'Mira', 'Carcaixent', 'Benimodo', 'Benicull de Xúquer', 'Llombai', 'València', 'Chera', 'Tavernes de la Valldigna', 'Aldaia', 'Aras de los Olmos', 'Llocnou de la Corona', 'Millares', 'Castielfabib', 'Requena', 'Beniparrell', 'Caudete de las Fuentes', 'Cheste', 'Catarroja'}\n"
     ]
    }
   ],
   "source": [
    "for name, graph in flood_graph_var.items():\n",
    "    components = list(nx.weakly_connected_components(graph))\n",
    "    \n",
    "    multi_muni_count = sum(\n",
    "        1 for component in components\n",
    "        if len({graph.nodes[node][\"municipality\"] for node in component if graph.nodes[node][\"municipality\"] != \"\"}) > 0\n",
    "    )\n",
    "\n",
    "    print(f\"{name} {multi_muni_count} weakly connected components\")\n",
    "\n",
    "    if multi_muni_count > 0:\n",
    "        j = 0\n",
    "        for i, component in enumerate(components):\n",
    "            municipalities = {\n",
    "                graph.nodes[node][\"municipality\"]\n",
    "                for node in component\n",
    "                if graph.nodes[node][\"municipality\"] != \"\"\n",
    "            }\n",
    "            if len(municipalities) > 0:\n",
    "                j += 1\n",
    "                print(f\"Component {j} municipalities: {municipalities}\")"
   ]
  },
  {
   "cell_type": "code",
   "execution_count": 56,
   "metadata": {},
   "outputs": [],
   "source": [
    "layer_names=[\"10 yr\",\"100 yr\",\"500 yr\",\"DANA_31_10_2024\",\"DANA_03_11_2024\",\"DANA_05_11_2024\",\"DANA_06_11_2024\",\"DANA_08_11_2024\"]\n",
    "#layer_names=[\"DANA_31_10_2024\"]\n",
    "T_P_dictionaries = {}\n",
    "R={}"
   ]
  },
  {
   "cell_type": "code",
   "execution_count": 57,
   "metadata": {},
   "outputs": [
    {
     "name": "stdout",
     "output_type": "stream",
     "text": [
      "Computing shortest paths...\n"
     ]
    },
    {
     "name": "stderr",
     "output_type": "stream",
     "text": [
      "C:\\Users\\usuario\\AppData\\Local\\Temp\\ipykernel_10732\\2107593774.py:10: RuntimeWarning: Couldn't reach some vertices. at src/paths/dijkstra.c:534\n",
      "  paths = G_ig.get_shortest_paths(src_idx, to=special_indices, weights=weight_attr, output='vpath')\n"
     ]
    },
    {
     "name": "stdout",
     "output_type": "stream",
     "text": [
      "Computing shortest paths...\n",
      "Computing shortest paths...\n",
      "Computing shortest paths...\n",
      "Computing shortest paths...\n",
      "Computing shortest paths...\n",
      "Computing shortest paths...\n",
      "Computing shortest paths...\n",
      "Progress: 100.00% (8/8)"
     ]
    }
   ],
   "source": [
    "for i, name in enumerate(layer_names):\n",
    "    T_P_dictionaries[name] = load_or_compute_shortest_paths(shortest_path_files[name], flood_graph_var[name], special_nodes, node_to_muni,True,True)\n",
    "    R[name] = compute_risk_factor(T_P_dictionaries[name], T_NP_dictionary)\n",
    "    \n",
    "    percent_complete = (i + 1) / len(layer_names) * 100\n",
    "    print(f\"\\rProgress: {percent_complete:.2f}% ({i + 1}/{len(layer_names)})\", end=\"\")"
   ]
  },
  {
   "cell_type": "code",
   "execution_count": 58,
   "metadata": {},
   "outputs": [],
   "source": [
    "used_edges = set()\n",
    "\n",
    "for path, _ in T_NP_dictionary.values():\n",
    "    for u, v in zip(path, path[1:]):\n",
    "        used_edges.add((u, v))\n"
   ]
  },
  {
   "cell_type": "code",
   "execution_count": 59,
   "metadata": {
    "scrolled": true
   },
   "outputs": [
    {
     "name": "stdout",
     "output_type": "stream",
     "text": [
      "Progress: 0.01% (1/18026)"
     ]
    },
    {
     "name": "stderr",
     "output_type": "stream",
     "text": [
      "C:\\Users\\usuario\\AppData\\Local\\Temp\\ipykernel_10732\\172459596.py:7: DeprecationWarning: Graph.shortest_paths() is deprecated; use Graph.distances() instead\n",
      "  dist_matrix = G_ig.shortest_paths_dijkstra(\n"
     ]
    },
    {
     "name": "stdout",
     "output_type": "stream",
     "text": [
      " rogress: 100.00% (18026/18026)"
     ]
    },
    {
     "data": {
      "text/plain": [
       "         391098853 function calls (391008723 primitive calls) in 33601.730 seconds\n",
       "\n",
       "   Ordered by: internal time\n",
       "\n",
       "   ncalls  tottime  percall  cumtime  percall filename:lineno(function)\n",
       "    18026 32744.967    1.817 32744.974    1.817 {method 'distances' of 'igraph._igraph.GraphBase' objects}\n",
       "    18026  305.396    0.017  305.396    0.017 {function _delete_edges at 0x00000238AADF5D80}\n",
       "    18027  233.445    0.013  233.445    0.013 {function _add_edges at 0x00000238AADF5BD0}\n",
       "    18026  134.299    0.007  162.870    0.009 426513350.py:1(compute_risk_factor_2)\n",
       "    18026   99.934    0.006 32863.367    1.823 172459596.py:1(batch_shortest_paths_no_path)\n",
       "193094512   28.530    0.000   28.530    0.000 4263211823.py:1(compute_individual_risk_factor)\n",
       "        1   14.457   14.457 33601.727 33601.727 <string>:1(<module>)\n",
       "   144580   11.609    0.000   11.609    0.000 {method 'acquire' of '_thread.lock' objects}\n",
       "193094512   10.548    0.000   10.548    0.000 {built-in method math.isinf}\n",
       "    18026    4.957    0.000 32750.124    1.817 structural.py:86(_shortest_paths)\n",
       "    18026    3.572    0.000  308.986    0.017 basic.py:130(_delete_edges)\n",
       "    18027    1.610    0.000  235.099    0.013 basic.py:31(_add_edges)\n",
       "    18026    1.602    0.000    1.602    0.000 172459596.py:5(<dictcomp>)\n",
       "    54598    1.560    0.000    1.560    0.000 socket.py:623(send)\n",
       "    18026    1.158    0.000    1.158    0.000 172459596.py:4(<listcomp>)\n",
       "    36053    0.556    0.000    2.502    0.000 iostream.py:655(write)\n",
       "    18026    0.210    0.000   13.048    0.001 iostream.py:592(flush)\n",
       "    54598    0.192    0.000    2.048    0.000 iostream.py:259(schedule)\n",
       "        1    0.176    0.176    0.498    0.498 3831119956.py:1(convert_nx_to_igraph)\n",
       "   217825    0.170    0.000    0.220    0.000 reportviews.py:958(<genexpr>)\n",
       "    18026    0.167    0.000    0.167    0.000 {built-in method _warnings.warn}\n",
       "    18026    0.158    0.000    0.158    0.000 threading.py:236(__init__)\n",
       "    18026    0.151    0.000   12.026    0.001 threading.py:589(wait)\n",
       "    17989    0.137    0.000   11.806    0.001 threading.py:288(wait)\n",
       "    72624    0.129    0.000    0.248    0.000 threading.py:1169(is_alive)\n",
       "    18026    0.123    0.000    2.625    0.000 {built-in method builtins.print}\n",
       "360523/270393    0.116    0.000    0.257    0.000 encoder.py:277(_iterencode_list)\n",
       "    36015    0.112    0.000    0.112    0.000 {built-in method _thread.allocate_lock}\n",
       "    18026    0.092    0.000    0.092    0.000 {method 'get_eid' of 'igraph._igraph.GraphBase' objects}\n",
       "   270390    0.091    0.000    0.177    0.000 encoder.py:333(_iterencode_dict)\n",
       "   270392    0.087    0.000    0.184    0.000 {method 'write' of '_io.TextIOWrapper' objects}\n",
       "    54598    0.080    0.000    0.080    0.000 iostream.py:138(_event_pipe)\n",
       "    18027    0.079    0.000    0.079    0.000 __init__.py:590(es)\n",
       "        1    0.078    0.078    0.573    0.573 __init__.py:120(dump)\n",
       "    36053    0.071    0.000    1.716    0.000 iostream.py:577(_schedule_flush)\n",
       "    36053    0.061    0.000    0.085    0.000 iostream.py:550(_is_master_process)\n",
       "    72624    0.060    0.000    0.099    0.000 threading.py:1102(_wait_for_tstate_lock)\n",
       "   270392    0.055    0.000    0.098    0.000 cp1252.py:18(encode)\n",
       "    36053    0.054    0.000    0.072    0.000 iostream.py:505(parent_header)\n",
       "   270393    0.054    0.000    0.311    0.000 encoder.py:413(_iterencode)\n",
       "    18026    0.053    0.000    0.300    0.000 threading.py:545(__init__)\n",
       "    90138    0.046    0.000    0.046    0.000 {built-in method builtins.len}\n",
       "   369437    0.044    0.000    0.048    0.000 {method 'items' of 'dict' objects}\n",
       "    36054    0.044    0.000    0.044    0.000 {method 'ecount' of 'igraph._igraph.GraphBase' objects}\n",
       "   270392    0.043    0.000    0.043    0.000 {built-in method _codecs.charmap_encode}\n",
       "   217824    0.040    0.000    0.040    0.000 {method 'get' of 'dict' objects}\n",
       "    17989    0.037    0.000    0.054    0.000 threading.py:276(_acquire_restore)\n",
       "    18026    0.034    0.000    0.042    0.000 threading.py:1430(current_thread)\n",
       "   361318    0.033    0.000    0.033    0.000 {built-in method builtins.isinstance}\n",
       "    18026    0.032    0.000    0.038    0.000 threading.py:267(__exit__)\n",
       "        1    0.031    0.031    0.032    0.032 <string>:34(<listcomp>)\n",
       "    18026    0.026    0.000    0.193    0.000 utils.py:28(deprecated)\n",
       "    18026    0.025    0.000    0.030    0.000 threading.py:264(__enter__)\n",
       "    36053    0.024    0.000    0.024    0.000 {built-in method nt.getpid}\n",
       "    38416    0.023    0.000    0.023    0.000 threading.py:1145(ident)\n",
       "    37630    0.021    0.000    0.021    0.000 {method 'keys' of 'dict' objects}\n",
       "    17989    0.020    0.000    0.026    0.000 threading.py:279(_is_owned)\n",
       "    72624    0.020    0.000    0.020    0.000 threading.py:553(is_set)\n",
       "    36053    0.019    0.000    0.019    0.000 {method 'write' of '_io.StringIO' objects}\n",
       "        1    0.019    0.019    0.019    0.019 3831119956.py:4(<dictcomp>)\n",
       "    72587    0.018    0.000    0.018    0.000 {method 'append' of 'collections.deque' objects}\n",
       "    18026    0.018    0.000    0.018    0.000 encoder.py:223(floatstr)\n",
       "        1    0.017    0.017    0.017    0.017 3831119956.py:3(<dictcomp>)\n",
       "    36053    0.017    0.000    0.017    0.000 {method 'get' of '_contextvars.ContextVar' objects}\n",
       "   217824    0.016    0.000    0.016    0.000 reportviews.py:934(<lambda>)\n",
       "    18026    0.015    0.000    0.015    0.000 {method 'append' of 'list' objects}\n",
       "    36447    0.014    0.000    0.014    0.000 {method '__exit__' of '_thread.RLock' objects}\n",
       "    17989    0.010    0.000    0.014    0.000 threading.py:273(_release_save)\n",
       "    18026    0.008    0.000    0.008    0.000 {built-in method _thread.get_ident}\n",
       "      788    0.008    0.000    0.012    0.000 ipkernel.py:775(_clean_thread_parent_frames)\n",
       "    18026    0.008    0.000    0.008    0.000 {built-in method builtins.callable}\n",
       "    18026    0.006    0.000    0.006    0.000 {method '__exit__' of '_thread.lock' objects}\n",
       "    18026    0.006    0.000    0.006    0.000 {method '__enter__' of '_thread.lock' objects}\n",
       "        1    0.005    0.005    0.007    0.007 {method 'sort' of 'list' objects}\n",
       "    36052    0.004    0.000    0.004    0.000 {built-in method _json.encode_basestring_ascii}\n",
       "        1    0.004    0.004    0.004    0.004 {built-in method io.open}\n",
       "    17989    0.004    0.000    0.004    0.000 {method 'release' of '_thread.lock' objects}\n",
       "    36053    0.003    0.000    0.003    0.000 {built-in method builtins.id}\n",
       "        1    0.003    0.003 33601.730 33601.730 {built-in method builtins.exec}\n",
       "    18026    0.002    0.000    0.002    0.000 <string>:33(<lambda>)\n",
       "      394    0.002    0.000    0.002    0.000 threading.py:1478(enumerate)\n",
       "      394    0.001    0.000    0.002    0.000 ipkernel.py:790(<setcomp>)\n",
       "        1    0.000    0.000    0.000    0.000 {function _add_vertices at 0x00000238AADF5CF0}\n",
       "        1    0.000    0.000    0.000    0.000 {method '__exit__' of '_io._IOBase' objects}\n",
       "      789    0.000    0.000    0.000    0.000 {method 'values' of 'dict' objects}\n",
       "        1    0.000    0.000    0.000    0.000 encoder.py:204(iterencode)\n",
       "        1    0.000    0.000    0.000    0.000 <string>:2(<listcomp>)\n",
       "        1    0.000    0.000    0.004    0.004 interactiveshell.py:315(_modified_open)\n",
       "        1    0.000    0.000    0.000    0.000 encoder.py:259(_make_iterencode)\n",
       "        1    0.000    0.000    0.000    0.000 __init__.py:349(__init__)\n",
       "        1    0.000    0.000    0.000    0.000 codecs.py:186(__init__)\n",
       "        1    0.000    0.000    0.000    0.000 basic.py:84(_add_vertices)\n",
       "        1    0.000    0.000    0.000    0.000 warnings.py:35(_formatwarnmsg_impl)\n",
       "        1    0.000    0.000    0.000    0.000 reportviews.py:916(__init__)\n",
       "        1    0.000    0.000    0.000    0.000 reportviews.py:1371(__call__)\n",
       "        1    0.000    0.000    0.000    0.000 warnings.py:403(__init__)\n",
       "        1    0.000    0.000    0.000    0.000 <frozen importlib._bootstrap>:1053(_handle_fromlist)\n",
       "        1    0.000    0.000    0.000    0.000 {built-in method builtins.iter}\n",
       "        1    0.000    0.000    0.000    0.000 linecache.py:36(getlines)\n",
       "        1    0.000    0.000    0.000    0.000 reportviews.py:187(__iter__)\n",
       "        1    0.000    0.000    0.000    0.000 warnings.py:20(_showwarnmsg_impl)\n",
       "        1    0.000    0.000    0.000    0.000 encoder.py:104(__init__)\n",
       "        1    0.000    0.000    0.000    0.000 reportviews.py:184(__len__)\n",
       "        1    0.000    0.000    0.000    0.000 reportviews.py:957(__iter__)\n",
       "        1    0.000    0.000    0.000    0.000 linecache.py:26(getline)\n",
       "        1    0.000    0.000    0.000    0.000 warnings.py:96(_showwarnmsg)\n",
       "        3    0.000    0.000    0.000    0.000 {built-in method builtins.hasattr}\n",
       "        1    0.000    0.000    0.000    0.000 {method 'difference_update' of 'set' objects}\n",
       "        1    0.000    0.000    0.000    0.000 warnings.py:117(_formatwarnmsg)\n",
       "        1    0.000    0.000    0.000    0.000 {method 'disable' of '_lsprof.Profiler' objects}\n",
       "        1    0.000    0.000    0.000    0.000 tz.py:74(utcoffset)\n",
       "        1    0.000    0.000    0.000    0.000 {method 'strip' of 'str' objects}\n",
       "        1    0.000    0.000    0.000    0.000 reportviews.py:207(__call__)\n",
       "        1    0.000    0.000    0.000    0.000 multidigraph.py:865(is_directed)\n",
       "        1    0.000    0.000    0.000    0.000 {method 'pop' of 'dict' objects}"
      ]
     },
     "metadata": {},
     "output_type": "display_data"
    }
   ],
   "source": [
    "%%prun\n",
    "G_ig, node_to_index, index_to_node, edge_weights = convert_nx_to_igraph(G_2nd, weight_attr='travel_time')\n",
    "special_indices = [node_to_index[n] for n in special_nodes]\n",
    "\n",
    "base_risk = 0\n",
    "edge_risks = []\n",
    "i=0\n",
    "total = len(used_edges)\n",
    "#total = 100\n",
    "\n",
    "for u, v in list(used_edges)[:total]:\n",
    "    i+=1\n",
    "    u_idx, v_idx = node_to_index[u], node_to_index[v]\n",
    "    eid = G_ig.get_eid(u_idx, v_idx, directed=True, error=False)\n",
    "    if eid == -1:\n",
    "        continue\n",
    "\n",
    "    G_ig.delete_edges(eid)\n",
    "\n",
    "    T_P_dictionary = batch_shortest_paths_no_path(G_ig, special_nodes, index_to_node, node_to_index, node_to_muni)\n",
    "\n",
    "    new_risk = compute_risk_factor_2(T_P_dictionary, T_NP_dictionary)\n",
    "    delta_risk = new_risk - base_risk\n",
    "\n",
    "    edge_risks.append(((u, v), delta_risk))\n",
    "\n",
    "    G_ig.add_edges([(u_idx, v_idx)])\n",
    "    G_ig.es[-1]['weight'] = edge_weights[(u_idx, v_idx)]\n",
    "\n",
    "    percent_complete = (i) / total * 100\n",
    "    print(f\"\\rProgress: {percent_complete:.2f}% ({i}/{total})\", end=\"\")\n",
    "    sys.stdout.flush()\n",
    "\n",
    "edge_risks.sort(key=lambda x: x[1], reverse=True)\n",
    "edge_risks_json = [ {\"edge\": [u, v], \"delta_risk\": delta_risk} for (u, v), delta_risk in edge_risks ]\n",
    "with open(\"processed_files/edge_risks_NP.json\", \"w\") as f:\n",
    "    json.dump(edge_risks_json, f, indent=2)"
   ]
  },
  {
   "cell_type": "code",
   "execution_count": 60,
   "metadata": {},
   "outputs": [],
   "source": [
    "# Step 1: Convert reduced graph to igraph\n",
    "G_ig_dana, node_to_index, index_to_node, _ = convert_nx_to_igraph(\n",
    "    flood_graph_var[\"DANA_31_10_2024\"], weight_attr='travel_time')\n",
    "\n",
    "# Step 2: Prepare special node indices\n",
    "special_indices = [node_to_index[n] for n in special_nodes]\n",
    "\n",
    "# Step 3: Compute baseline risk for reduced graph\n",
    "T_P_dictionary = batch_shortest_paths(\n",
    "    G_ig_dana, special_nodes, index_to_node, node_to_index, node_to_muni, compute_path=False)\n",
    "\n",
    "base_risk = compute_risk_factor(\n",
    "    T_P_dictionaries[\"DANA_31_10_2024\"], T_NP_dictionary)\n",
    "\n",
    "# Step 4: Prepare candidate edges (only in flood zone)\n",
    "candidate_edges = flood_edges_var[\"DANA_31_10_2024\"]\n",
    "candidate_edges = candidate_edges[candidate_edges['in_flood_zone'].astype(bool)].copy()\n",
    "\n",
    "edge_risks = []\n",
    "total = len(candidate_edges)"
   ]
  },
  {
   "cell_type": "code",
   "execution_count": 61,
   "metadata": {
    "scrolled": true
   },
   "outputs": [
    {
     "name": "stdout",
     "output_type": "stream",
     "text": [
      "Progress: 0.01% (2/18933)"
     ]
    },
    {
     "name": "stderr",
     "output_type": "stream",
     "text": [
      "C:\\Users\\usuario\\AppData\\Local\\Temp\\ipykernel_10732\\172459596.py:7: DeprecationWarning: Graph.shortest_paths() is deprecated; use Graph.distances() instead\n",
      "  dist_matrix = G_ig.shortest_paths_dijkstra(\n"
     ]
    },
    {
     "name": "stdout",
     "output_type": "stream",
     "text": [
      " rogress: 100.00% (18933/18933)"
     ]
    },
    {
     "data": {
      "text/plain": [
       "         412308158 function calls (412137754 primitive calls) in 11197.743 seconds\n",
       "\n",
       "   Ordered by: internal time\n",
       "\n",
       "   ncalls  tottime  percall  cumtime  percall filename:lineno(function)\n",
       "    18933 10542.716    0.557 10542.719    0.557 {method 'distances' of 'igraph._igraph.GraphBase' objects}\n",
       "    18933  235.295    0.012  235.295    0.012 {function _delete_edges at 0x00000238AADF5D80}\n",
       "    18933  171.167    0.009  171.167    0.009 {function _add_edges at 0x00000238AADF5BD0}\n",
       "    18933  102.630    0.005  121.053    0.006 426513350.py:1(compute_risk_factor_2)\n",
       "    18933   77.876    0.004 10636.913    0.562 172459596.py:1(batch_shortest_paths_no_path)\n",
       "202810296   18.397    0.000   18.397    0.000 4263211823.py:1(compute_individual_risk_factor)\n",
       "   151637   11.045    0.000   11.045    0.000 {method 'acquire' of '_thread.lock' objects}\n",
       "        1   10.000   10.000 11197.742 11197.742 <string>:1(<module>)\n",
       "202810296    8.730    0.000    8.730    0.000 {built-in method math.isinf}\n",
       "    18933    4.960    0.000 10547.794    0.557 structural.py:86(_shortest_paths)\n",
       "    18933    1.840    0.000  173.034    0.009 basic.py:31(_add_edges)\n",
       "    18933    1.742    0.000  237.051    0.013 basic.py:130(_delete_edges)\n",
       "    18933    1.406    0.000    1.406    0.000 172459596.py:5(<dictcomp>)\n",
       "    57088    1.131    0.000    1.131    0.000 socket.py:623(send)\n",
       "    18933    1.106    0.000    1.106    0.000 172459596.py:4(<listcomp>)\n",
       "    37867    0.558    0.000    2.134    0.000 iostream.py:655(write)\n",
       "    18933    0.518    0.000    0.862    0.000 cast.py:1156(maybe_infer_to_datetimelike)\n",
       "    18933    0.456    0.000    3.178    0.000 series.py:389(__init__)\n",
       "    18934    0.265    0.000    3.999    0.000 frame.py:1505(iterrows)\n",
       "    18933    0.207    0.000    3.544    0.000 geodataframe.py:1884(_geodataframe_constructor_sliced)\n",
       "    18933    0.205    0.000    1.294    0.000 construction.py:517(sanitize_array)\n",
       "    18933    0.192    0.000    0.192    0.000 threading.py:236(__init__)\n",
       "    18933    0.179    0.000    0.185    0.000 base.py:3777(get_loc)\n",
       "    57088    0.165    0.000    1.554    0.000 iostream.py:259(schedule)\n",
       "    18933    0.161    0.000    0.340    0.000 numeric.py:290(full)\n",
       "    18933    0.155    0.000    2.290    0.000 {built-in method builtins.print}\n",
       "  1022629    0.154    0.000    0.216    0.000 {built-in method builtins.isinstance}\n",
       "    18933    0.152    0.000   12.241    0.001 iostream.py:592(flush)\n",
       "    18933    0.140    0.000   11.400    0.001 threading.py:589(wait)\n",
       "    18933    0.125    0.000    0.377    0.000 managers.py:1863(from_array)\n",
       "    18933    0.119    0.000    0.176    0.000 generic.py:6236(__finalize__)\n",
       "378663/283998    0.118    0.000    0.254    0.000 encoder.py:277(_iterencode_list)\n",
       "    18904    0.115    0.000   11.204    0.001 threading.py:288(wait)\n",
       "    76021    0.113    0.000    0.215    0.000 threading.py:1169(is_alive)\n",
       "    18933    0.107    0.000    0.134    0.000 generic.py:278(__init__)\n",
       "    37837    0.106    0.000    0.106    0.000 {built-in method _thread.allocate_lock}\n",
       "359748/284012    0.106    0.000    0.144    0.000 {built-in method builtins.len}\n",
       "    18937    0.101    0.000    0.101    0.000 {built-in method numpy.empty}\n",
       "    18933    0.097    0.000    0.098    0.000 {built-in method _warnings.warn}\n",
       "   283995    0.096    0.000    0.171    0.000 encoder.py:333(_iterencode_dict)\n",
       "    18933    0.092    0.000    0.092    0.000 {method 'get_eid' of 'igraph._igraph.GraphBase' objects}\n",
       "   283997    0.091    0.000    0.190    0.000 {method 'write' of '_io.TextIOWrapper' objects}\n",
       "    18933    0.086    0.000    0.424    0.000 series.py:1095(__getitem__)\n",
       "    18933    0.084    0.000    0.124    0.000 blocks.py:2716(new_block)\n",
       "        1    0.082    0.082    0.583    0.583 __init__.py:120(dump)\n",
       "    18933    0.079    0.000    0.292    0.000 series.py:1220(_get_value)\n",
       "    37867    0.072    0.000    1.356    0.000 iostream.py:577(_schedule_flush)\n",
       "18943/18940    0.070    0.000    0.070    0.000 {built-in method numpy.asarray}\n",
       "    18933    0.068    0.000    0.309    0.000 generic.py:6301(__setattr__)\n",
       "    57088    0.068    0.000    0.068    0.000 iostream.py:138(_event_pipe)\n",
       "    18933    0.067    0.000    0.090    0.000 managers.py:1993(dtype)\n",
       "    18933    0.062    0.000    0.099    0.000 series.py:734(name)\n",
       "    37867    0.060    0.000    0.082    0.000 iostream.py:550(_is_master_process)\n",
       "   283997    0.057    0.000    0.099    0.000 cp1252.py:18(encode)\n",
       "   283998    0.056    0.000    0.310    0.000 encoder.py:413(_iterencode)\n",
       "    37867    0.056    0.000    0.069    0.000 iostream.py:505(parent_header)\n",
       "    18933    0.051    0.000    0.087    0.000 blocks.py:2645(maybe_coerce_values)\n",
       "    18933    0.051    0.000    0.331    0.000 threading.py:545(__init__)\n",
       "    18933    0.051    0.000    0.129    0.000 config.py:127(_get_single_key)\n",
       "    76021    0.049    0.000    0.085    0.000 threading.py:1102(_wait_for_tstate_lock)\n",
       "    18933    0.049    0.000    0.141    0.000 series.py:784(name)\n",
       "    18933    0.047    0.000    0.127    0.000 generic.py:807(_set_axis)\n",
       "   283997    0.043    0.000    0.043    0.000 {built-in method _codecs.charmap_encode}\n",
       "    18933    0.042    0.000    0.061    0.000 config.py:635(_get_root)\n",
       "    18933    0.040    0.000    0.040    0.000 __init__.py:590(es)\n",
       "    18933    0.040    0.000    0.092    0.000 common.py:1571(validate_all_hashable)\n",
       "   113598    0.038    0.000    0.149    0.000 {built-in method builtins.getattr}\n",
       "    18933    0.038    0.000    0.228    0.000 config.py:145(_get_option)\n",
       "    75734    0.038    0.000    0.046    0.000 base.py:909(__len__)\n",
       "    18933    0.037    0.000    0.037    0.000 generic.py:6284(__getattr__)\n",
       "    18934    0.035    0.000    0.035    0.000 __init__.py:34(using_copy_on_write)\n",
       "    18933    0.035    0.000    0.049    0.000 config.py:676(_translate_key)\n",
       "    18933    0.034    0.000    0.040    0.000 blocks.py:2674(get_block_type)\n",
       "    37866    0.033    0.000    0.039    0.000 generic.py:37(_check)\n",
       "    18933    0.032    0.000    0.069    0.000 base.py:7688(maybe_extract_name)\n",
       "    37866    0.032    0.000    0.051    0.000 inference.py:334(is_hashable)\n",
       "    18933    0.030    0.000    0.030    0.000 flags.py:87(allows_duplicate_labels)\n",
       "    18933    0.029    0.000    0.049    0.000 construction.py:696(_sanitize_ndim)\n",
       "    18904    0.029    0.000    0.043    0.000 threading.py:276(_acquire_restore)\n",
       "    37866    0.028    0.000    0.028    0.000 {method 'ecount' of 'igraph._igraph.GraphBase' objects}\n",
       "    18933    0.028    0.000    0.029    0.000 construction.py:481(ensure_wrapped_if_datetimelike)\n",
       "    18933    0.027    0.000    0.027    0.000 flags.py:51(__init__)\n",
       "    18933    0.025    0.000    0.033    0.000 threading.py:1430(current_thread)\n",
       "    18933    0.025    0.000    0.025    0.000 managers.py:1837(__init__)\n",
       "    18933    0.025    0.000    0.025    0.000 config.py:617(_select_options)\n",
       "    18933    0.025    0.000    0.031    0.000 construction.py:735(_sanitize_str_dtypes)\n",
       "    37866    0.025    0.000    0.028    0.000 base.py:7593(ensure_index)\n",
       "    18933    0.024    0.000    0.066    0.000 managers.py:236(set_axis)\n",
       "    37866    0.023    0.000    0.063    0.000 generic.py:42(_instancecheck)\n",
       "    18933    0.023    0.000    0.025    0.000 construction.py:416(extract_array)\n",
       "    18933    0.023    0.000    0.029    0.000 threading.py:267(__exit__)\n",
       "    37867    0.022    0.000    0.022    0.000 {built-in method nt.getpid}\n",
       "    18933    0.022    0.000    0.027    0.000 threading.py:264(__enter__)\n",
       "    18933    0.021    0.000    0.042    0.000 base.py:86(_validate_set_axis)\n",
       "    18933    0.021    0.000    0.077    0.000 common.py:568(require_length_match)\n",
       "    18933    0.021    0.000    0.111    0.000 series.py:707(dtype)\n",
       "    18933    0.021    0.000    0.150    0.000 base.py:16(is_geometry_type)\n",
       "    37867    0.020    0.000    0.020    0.000 {method 'write' of '_io.StringIO' objects}\n",
       "    18933    0.020    0.000    0.027    0.000 indexing.py:2765(check_dict_or_set_indexers)\n",
       "    18933    0.020    0.000    0.053    0.000 {built-in method builtins.all}\n",
       "    38484    0.020    0.000    0.020    0.000 threading.py:1145(ident)\n",
       "    37866    0.019    0.000    0.019    0.000 {built-in method builtins.hash}\n",
       "    37866    0.019    0.000    0.033    0.000 common.py:1590(<genexpr>)\n",
       "    18933    0.019    0.000    0.019    0.000 {method 'split' of 'str' objects}\n",
       "    18904    0.017    0.000    0.022    0.000 threading.py:279(_is_owned)\n",
       "    18933    0.017    0.000    0.115    0.000 utils.py:28(deprecated)\n",
       "    56800    0.017    0.000    0.017    0.000 {method 'items' of 'dict' objects}\n",
       "    76021    0.016    0.000    0.016    0.000 threading.py:553(is_set)\n",
       "    18933    0.016    0.000    0.028    0.000 series.py:831(_values)\n",
       "    38279    0.015    0.000    0.015    0.000 {method 'keys' of 'dict' objects}\n",
       "    75992    0.015    0.000    0.015    0.000 {method 'append' of 'collections.deque' objects}\n",
       "    18933    0.014    0.000    0.016    0.000 construction.py:758(_maybe_repeat)\n",
       "    18933    0.014    0.000    0.017    0.000 common.py:372(apply_if_callable)\n",
       "    18933    0.014    0.000    0.014    0.000 config.py:649(_get_deprecated_option)\n",
       "    37867    0.014    0.000    0.014    0.000 {method 'get' of '_contextvars.ContextVar' objects}\n",
       "    18934    0.013    0.000    0.013    0.000 blocks.py:718(dtype)\n",
       "    18933    0.011    0.000    0.011    0.000 generic.py:363(attrs)\n",
       "    18933    0.011    0.000    0.011    0.000 managers.py:2004(internal_values)\n",
       "    37970    0.011    0.000    0.011    0.000 {method '__exit__' of '_thread.RLock' objects}\n",
       "    18936    0.010    0.000    0.010    0.000 {method 'append' of 'list' objects}\n",
       "    18933    0.009    0.000    0.009    0.000 managers.py:1940(_block)\n",
       "    18904    0.009    0.000    0.012    0.000 threading.py:273(_release_save)\n",
       "    18933    0.009    0.000    0.009    0.000 multiarray.py:1098(copyto)\n",
       "    18933    0.009    0.000    0.009    0.000 base.py:791(is_)\n",
       "    37868    0.009    0.000    0.009    0.000 {built-in method builtins.issubclass}\n",
       "    37866    0.008    0.000    0.008    0.000 {built-in method builtins.callable}\n",
       "    37866    0.008    0.000    0.008    0.000 generic.py:405(flags)\n",
       "    18933    0.007    0.000    0.007    0.000 {built-in method _thread.get_ident}\n",
       "        1    0.007    0.007    0.008    0.008 <string>:36(<listcomp>)\n",
       "    18933    0.006    0.000    0.006    0.000 flags.py:55(allows_duplicate_labels)\n",
       "    18933    0.006    0.000    0.006    0.000 base.py:6672(_maybe_cast_indexer)\n",
       "    18933    0.006    0.000    0.006    0.000 encoder.py:223(floatstr)\n",
       "        1    0.006    0.006    0.008    0.008 multi.py:758(_values)\n",
       "    18933    0.006    0.000    0.006    0.000 series.py:1480(_clear_item_cache)\n",
       "    18933    0.005    0.000    0.005    0.000 {method '__exit__' of '_thread.lock' objects}\n",
       "    37866    0.005    0.000    0.005    0.000 {built-in method _json.encode_basestring_ascii}\n",
       "    18933    0.004    0.000    0.004    0.000 {method '__enter__' of '_thread.lock' objects}\n",
       "    37867    0.004    0.000    0.004    0.000 {built-in method builtins.id}\n",
       "    18904    0.003    0.000    0.003    0.000 {method 'release' of '_thread.lock' objects}\n",
       "        3    0.003    0.001    0.003    0.001 {method 'astype' of 'numpy.ndarray' objects}\n",
       "      206    0.003    0.000    0.004    0.000 ipkernel.py:775(_clean_thread_parent_frames)\n",
       "        1    0.003    0.003    0.004    0.004 {method 'sort' of 'list' objects}\n",
       "    18933    0.003    0.000    0.003    0.000 typing.py:1737(cast)\n",
       "    18933    0.001    0.000    0.001    0.000 <string>:34(<lambda>)\n",
       "        1    0.001    0.001    0.006    0.006 managers.py:1707(_interleave)\n",
       "        3    0.001    0.000    0.002    0.001 take.py:120(_take_nd_ndarray)\n",
       "        1    0.001    0.001 11197.743 11197.743 {built-in method builtins.exec}\n",
       "        1    0.001    0.001    0.006    0.006 managers.py:1633(as_array)\n",
       "        1    0.000    0.000    0.000    0.000 {built-in method io.open}\n",
       "      103    0.000    0.000    0.000    0.000 threading.py:1478(enumerate)\n",
       "        1    0.000    0.000    0.000    0.000 {method 'copy' of 'numpy.ndarray' objects}\n",
       "        1    0.000    0.000    0.008    0.008 base.py:836(__iter__)\n",
       "      103    0.000    0.000    0.000    0.000 ipkernel.py:790(<setcomp>)\n",
       "        1    0.000    0.000    0.000    0.000 {method '__exit__' of '_io._IOBase' objects}\n",
       "        1    0.000    0.000    0.000    0.000 cast.py:1432(find_common_type)\n",
       "        1    0.000    0.000    0.000    0.000 warnings.py:35(_formatwarnmsg_impl)\n",
       "        3    0.000    0.000    0.002    0.001 take.py:59(take_nd)\n",
       "        3    0.000    0.000    0.000    0.000 cast.py:550(maybe_promote)\n",
       "        1    0.000    0.000    0.000    0.000 _internal.py:941(npy_ctypes_check)\n",
       "        3    0.000    0.000    0.000    0.000 take.py:564(_take_preprocess_indexer_and_fill_value)\n",
       "        1    0.000    0.000    0.000    0.000 linecache.py:26(getline)\n",
       "        1    0.000    0.000    0.000    0.000 blocks.py:2244(get_values)\n",
       "        1    0.000    0.000    0.000    0.000 array.py:417(__len__)\n",
       "      206    0.000    0.000    0.000    0.000 {method 'values' of 'dict' objects}\n",
       "        3    0.000    0.000    0.000    0.000 {method 'reduce' of 'numpy.ufunc' objects}\n",
       "        1    0.000    0.000    0.000    0.000 array.py:1284(astype)\n",
       "        3    0.000    0.000    0.000    0.000 base.py:649(_simple_new)\n",
       "        1    0.000    0.000    0.000    0.000 common.py:536(is_string_dtype)\n",
       "        8    0.000    0.000    0.000    0.000 frozen.py:76(__getitem__)\n",
       "        2    0.000    0.000    0.000    0.000 base.py:144(__hash__)\n",
       "        1    0.000    0.000    0.000    0.000 common.py:1375(_is_dtype)\n",
       "        1    0.000    0.000    0.000    0.000 base.py:397(ensure_np_dtype)\n",
       "        3    0.000    0.000    0.000    0.000 take.py:325(_get_take_nd_function)\n",
       "        1    0.000    0.000    0.000    0.000 {built-in method fromkeys}\n",
       "        1    0.000    0.000    0.000    0.000 linecache.py:36(getlines)\n",
       "        1    0.000    0.000    0.000    0.000 {built-in method numpy.array}\n",
       "        1    0.000    0.000    0.000    0.000 warnings.py:96(_showwarnmsg)\n",
       "        1    0.000    0.000    0.000    0.000 encoder.py:259(_make_iterencode)\n",
       "        1    0.000    0.000    0.001    0.001 interactiveshell.py:315(_modified_open)\n",
       "        3    0.000    0.000    0.003    0.001 blocks.py:2586(get_values)\n",
       "        1    0.000    0.000    0.000    0.000 common.py:572(condition)\n",
       "        1    0.000    0.000    0.000    0.000 encoder.py:204(iterencode)\n",
       "        1    0.000    0.000    0.000    0.000 managers.py:1721(<listcomp>)\n",
       "        3    0.000    0.000    0.000    0.000 _methods.py:58(_any)\n",
       "        1    0.000    0.000    0.000    0.000 base.py:378(interleaved_dtype)\n",
       "        1    0.000    0.000    0.000    0.000 warnings.py:403(__init__)\n",
       "        1    0.000    0.000    0.000    0.000 common.py:1399(_get_dtype)\n",
       "        1    0.000    0.000    0.000    0.000 warnings.py:20(_showwarnmsg_impl)\n",
       "        1    0.000    0.000    0.000    0.000 array.py:1650(__array__)\n",
       "        1    0.000    0.000    0.000    0.000 multi.py:844(levels)\n",
       "        3    0.000    0.000    0.000    0.000 base.py:773(_view)\n",
       "        2    0.000    0.000    0.000    0.000 base.py:82(shape)\n",
       "        1    0.000    0.000    0.000    0.000 multi.py:897(<listcomp>)\n",
       "        1    0.000    0.000    0.006    0.006 frame.py:12590(values)\n",
       "        1    0.000    0.000    0.000    0.000 common.py:1434(_is_dtype_type)\n",
       "        5    0.000    0.000    0.000    0.000 multi.py:1081(codes)\n",
       "        3    0.000    0.000    0.000    0.000 {method 'any' of 'numpy.ndarray' objects}\n",
       "        2    0.000    0.000    0.000    0.000 cast.py:1462(<genexpr>)\n",
       "        1    0.000    0.000    0.000    0.000 array.py:1186(size)\n",
       "        2    0.000    0.000    0.000    0.000 multi.py:830(__len__)\n",
       "        4    0.000    0.000    0.000    0.000 blocks.py:266(mgr_locs)\n",
       "        3    0.000    0.000    0.000    0.000 base.py:915(__array__)\n",
       "        1    0.000    0.000    0.000    0.000 warnings.py:117(_formatwarnmsg)\n",
       "        1    0.000    0.000    0.000    0.000 {method 'reshape' of 'numpy.ndarray' objects}\n",
       "        1    0.000    0.000    0.000    0.000 base.py:115(__eq__)\n",
       "        1    0.000    0.000    0.000    0.000 common.py:137(is_object_dtype)\n",
       "        1    0.000    0.000    0.000    0.000 blocks.py:2365(shape)\n",
       "        1    0.000    0.000    0.000    0.000 {built-in method numpy.zeros}\n",
       "        1    0.000    0.000    0.000    0.000 encoder.py:104(__init__)\n",
       "        1    0.000    0.000    0.000    0.000 base.py:366(_get_common_dtype)\n",
       "        6    0.000    0.000    0.000    0.000 base.py:84(<genexpr>)\n",
       "        1    0.000    0.000    0.000    0.000 codecs.py:186(__init__)\n",
       "        1    0.000    0.000    0.000    0.000 {method 'transpose' of 'numpy.ndarray' objects}\n",
       "        8    0.000    0.000    0.000    0.000 {function FrozenList.__getitem__ at 0x00000238A3EBE950}\n",
       "        1    0.000    0.000    0.000    0.000 {built-in method builtins.hasattr}\n",
       "        3    0.000    0.000    0.000    0.000 base.py:782(_rename)\n",
       "        3    0.000    0.000    0.000    0.000 base.py:831(_reset_identity)\n",
       "        1    0.000    0.000    0.000    0.000 geodataframe.py:1882(_constructor_sliced)\n",
       "        3    0.000    0.000    0.000    0.000 base.py:5144(_values)\n",
       "        1    0.000    0.000    0.000    0.000 array.py:1190(shape)\n",
       "        1    0.000    0.000    0.000    0.000 multi.py:1046(nlevels)\n",
       "        1    0.000    0.000    0.000    0.000 tz.py:74(utcoffset)\n",
       "        3    0.000    0.000    0.000    0.000 {method 'get' of 'dict' objects}\n",
       "        3    0.000    0.000    0.000    0.000 {built-in method __new__ of type object at 0x00007FFA619B4F40}\n",
       "        1    0.000    0.000    0.000    0.000 common.py:529(is_string_or_object_np_dtype)\n",
       "        1    0.000    0.000    0.000    0.000 {method 'strip' of 'str' objects}\n",
       "        1    0.000    0.000    0.000    0.000 managers.py:241(is_single_block)\n",
       "        1    0.000    0.000    0.000    0.000 {built-in method builtins.any}\n",
       "        1    0.000    0.000    0.000    0.000 common.py:123(<lambda>)\n",
       "        1    0.000    0.000    0.000    0.000 common.py:121(classes)\n",
       "        2    0.000    0.000    0.000    0.000 base.py:147(<genexpr>)\n",
       "        1    0.000    0.000    0.000    0.000 {method 'disable' of '_lsprof.Profiler' objects}"
      ]
     },
     "metadata": {},
     "output_type": "display_data"
    }
   ],
   "source": [
    "%%prun\n",
    "\n",
    "# Step 5: Loop through candidate edges and evaluate impact\n",
    "for i, ((u, v, _), row) in enumerate(candidate_edges.iterrows()):\n",
    "    weight = row['travel_time']\n",
    "\n",
    "    if u not in node_to_index or v not in node_to_index:\n",
    "        continue\n",
    "\n",
    "    u_idx, v_idx = node_to_index[u], node_to_index[v]\n",
    "\n",
    "    # Add edge\n",
    "    G_ig_dana.add_edges([(u_idx, v_idx)])\n",
    "    eid = G_ig_dana.get_eid(u_idx, v_idx, directed=True, error=False)\n",
    "    if eid == -1:\n",
    "        continue\n",
    "\n",
    "    G_ig_dana.es[eid]['weight'] = weight\n",
    "\n",
    "    # Recompute risk\n",
    "    T_P_dictionary = batch_shortest_paths_no_path(G_ig_dana, special_nodes, index_to_node, node_to_index, node_to_muni)\n",
    "    new_risk = compute_risk_factor_2(T_P_dictionary, T_NP_dictionary)\n",
    "    delta_risk = new_risk - base_risk\n",
    "\n",
    "    edge_risks.append(((u, v), delta_risk))\n",
    "\n",
    "    # Remove the edge\n",
    "    G_ig_dana.delete_edges(eid)\n",
    "\n",
    "    # Print progress\n",
    "    percent_complete = (i + 1) / total * 100\n",
    "    print(f\"\\rProgress: {percent_complete:.2f}% ({i + 1}/{total})\", end=\"\")\n",
    "    sys.stdout.flush()\n",
    "\n",
    "\n",
    "edge_risks.sort(key=lambda x: x[1], reverse=True)\n",
    "\n",
    "edge_risks_json = [ {\"edge\": [u, v], \"delta_risk\": delta_risk} for (u, v), delta_risk in edge_risks ]\n",
    "with open(\"processed_files/edge_risks_DANA.json\", \"w\") as f:\n",
    "    json.dump(edge_risks_json, f, indent=2)\n"
   ]
  },
  {
   "cell_type": "markdown",
   "metadata": {},
   "source": [
    "# Plots"
   ]
  },
  {
   "cell_type": "code",
   "execution_count": 62,
   "metadata": {},
   "outputs": [
    {
     "data": {
      "image/png": "[encoded data removed]",
      "text/plain": [
       "<Figure size 800x500 with 1 Axes>"
      ]
     },
     "metadata": {},
     "output_type": "display_data"
    }
   ],
   "source": [
    "sorted_data = dict(sorted(R.items(), key=lambda item: item[1]))\n",
    "keys = list(R.keys())\n",
    "values = list(R.values())\n",
    "\n",
    "plt.figure(figsize=(8, 5))\n",
    "plt.bar(keys, values, color=\"Blue\", alpha=0.5)\n",
    "\n",
    "plt.ylim(0, 1)\n",
    "plt.ylabel('R')\n",
    "plt.title('Risk Factor')\n",
    "plt.xticks(rotation=45)\n",
    "plt.grid(axis='y', linestyle='--', alpha=0.7)\n",
    "plt.tight_layout()\n",
    "\n",
    "plt.savefig('processed_files/Risk_Factor.png')\n",
    "plt.show()"
   ]
  },
  {
   "cell_type": "code",
   "execution_count": 63,
   "metadata": {},
   "outputs": [],
   "source": [
    "color_palette = {\n",
    "    # yr values — warm and spaced\n",
    "    \"10 yr\": \"#FFD700\",    # Gold\n",
    "    \"100 yr\": \"#FF7F00\",   # Dark Orange\n",
    "    \"500 yr\": \"#B22222\",   # Firebrick \n",
    "\n",
    "    # DANA values — distinct, avoiding orange/red hues\n",
    "    \"DANA_31_10_2024\": \"#8A2BE2\",  # Blue-Violet\n",
    "    \"DANA_03_11_2024\": \"#FF1493\",  # Deep Pink\n",
    "    \"DANA_05_11_2024\": \"#00CED1\",  # Dark Turquoise\n",
    "    \"DANA_06_11_2024\": \"#32CD32\",  # Lime Green\n",
    "    \"DANA_08_11_2024\": \"#1E90FF\",  # Dodger Blue\n",
    "\n",
    "    # Normal condition\n",
    "    \"Normal Conditions\": \"#808080\"  # Grey\n",
    "}"
   ]
  },
  {
   "cell_type": "code",
   "execution_count": 64,
   "metadata": {},
   "outputs": [
    {
     "data": {
      "image/png": "[encoded data removed]",
      "text/plain": [
       "<Figure size 1400x700 with 2 Axes>"
      ]
     },
     "metadata": {},
     "output_type": "display_data"
    }
   ],
   "source": [
    "import matplotlib.pyplot as plt\n",
    "import pandas as pd\n",
    "import numpy as np\n",
    "import seaborn as sns\n",
    "from scipy.stats import gaussian_kde\n",
    "\n",
    "# --- Prepare data ---\n",
    "plot_data = []\n",
    "zero_counts = {}\n",
    "all_counts = {}\n",
    "layer_names = [\"10 yr\", \"100 yr\", \"500 yr\"]\n",
    "\n",
    "# T_P_lists scenarios\n",
    "for name, results_dict in T_P_dictionaries.items():\n",
    "    if name in layer_names:\n",
    "        travel_times = [v[1] for v in results_dict.values()]\n",
    "        non_zero_times = [t / 60 for t in travel_times if t > 0]\n",
    "        all_times = [t / 60 for t in travel_times]\n",
    "        zero_counts[name] = travel_times.count(0)\n",
    "        all_counts[name] = len(travel_times)\n",
    "        plot_data.append((name, non_zero_times))\n",
    "\n",
    "# Add normal scenario\n",
    "normal_travel_times = [v[1] for v in T_NP_dictionary.values()]\n",
    "normal_non_zero = [t / 60 for t in normal_travel_times if t > 0]\n",
    "normal_total = len(normal_travel_times)\n",
    "plot_data.append((\"Normal Conditions\", normal_non_zero))\n",
    "all_counts[\"Normal Conditions\"] = normal_total\n",
    "zero_counts[\"Normal Conditions\"] = normal_travel_times.count(0)\n",
    "\n",
    "# --- KDE Plot ---\n",
    "fig, (ax_kde, ax_bar) = plt.subplots(1, 2, figsize=(14, 7), gridspec_kw={'width_ratios': [2.5, 1]})\n",
    "\n",
    "x_vals = np.linspace(0, max([max(times) if times else 0 for _, times in plot_data]), 500)\n",
    "\n",
    "for name, times in plot_data:\n",
    "    if len(times) > 1:\n",
    "        kde = gaussian_kde(times)\n",
    "        y = kde(x_vals)\n",
    "        ratio = len(times) / all_counts[name] if all_counts[name] > 0 else 0\n",
    "        y_rescaled = y * ratio\n",
    "        color = color_palette.get(name, 'gray')  # fallback to gray if not defined\n",
    "        ax_kde.plot(x_vals, y_rescaled, label=name, color=color)\n",
    "\n",
    "ax_kde.set_title(\"PDF of Travel Times\")\n",
    "ax_kde.set_xlabel(\"Travel Time (minutes)\")\n",
    "ax_kde.grid(True)\n",
    "ax_kde.legend(loc='upper right')\n",
    "\n",
    "# --- Reachability Bar Chart ---\n",
    "scenarios = layer_names + [\"Normal Conditions\"]\n",
    "reachable = [(all_counts[n] - zero_counts[n]) / all_counts[n] if all_counts[n] > 0 else 0 for n in scenarios]\n",
    "unreachable = [1 - r for r in reachable]\n",
    "\n",
    "bar_positions = np.arange(len(scenarios))\n",
    "ax_bar.barh(bar_positions, unreachable, color='salmon', label='Unreachable')\n",
    "ax_bar.barh(bar_positions, reachable, left=unreachable, color='mediumseagreen', label='Reachable')\n",
    "\n",
    "ax_bar.set_yticks(bar_positions)\n",
    "ax_bar.set_yticklabels(scenarios)\n",
    "ax_bar.set_xlim(0, 1)\n",
    "ax_bar.set_title(\"Fraction of cut routes\")\n",
    "ax_bar.set_xlabel(\"Proportion\")\n",
    "#ax_bar.legend(loc='lower right')\n",
    "ax_bar.grid(axis='x', linestyle='--', alpha=0.5)\n",
    "\n",
    "ax_bar.invert_yaxis()\n",
    "\n",
    "plt.tight_layout()\n",
    "\n",
    "plt.savefig('processed_files/Travel_times_yr.png')\n",
    "\n",
    "plt.show()"
   ]
  },
  {
   "cell_type": "code",
   "execution_count": 65,
   "metadata": {},
   "outputs": [
    {
     "data": {
      "image/png": "[encoded data removed]",
      "text/plain": [
       "<Figure size 1400x700 with 2 Axes>"
      ]
     },
     "metadata": {},
     "output_type": "display_data"
    }
   ],
   "source": [
    "\n",
    "# --- Prepare data ---\n",
    "plot_data = []\n",
    "zero_counts = {}\n",
    "all_counts = {}\n",
    "layer_names = [\"DANA_31_10_2024\",\"DANA_03_11_2024\",\"DANA_05_11_2024\",\"DANA_06_11_2024\",\"DANA_08_11_2024\"]\n",
    "\n",
    "# T_P_lists scenarios\n",
    "for name, results_dict in T_P_dictionaries.items():\n",
    "    if name in layer_names:\n",
    "        travel_times = [v[1] for v in results_dict.values()]\n",
    "        non_zero_times = [t / 60 for t in travel_times if t > 0]\n",
    "        all_times = [t / 60 for t in travel_times]\n",
    "        zero_counts[name] = travel_times.count(0)\n",
    "        all_counts[name] = len(travel_times)\n",
    "        plot_data.append((name, non_zero_times))\n",
    "\n",
    "# Add normal scenario\n",
    "normal_travel_times = [v[1] for v in T_NP_dictionary.values()]\n",
    "normal_non_zero = [t / 60 for t in normal_travel_times if t > 0]\n",
    "normal_total = len(normal_travel_times)\n",
    "plot_data.append((\"Normal Conditions\", normal_non_zero))\n",
    "all_counts[\"Normal Conditions\"] = normal_total\n",
    "zero_counts[\"Normal Conditions\"] = normal_travel_times.count(0)\n",
    "\n",
    "# --- KDE Plot ---\n",
    "fig, (ax_kde, ax_bar) = plt.subplots(1, 2, figsize=(14, 7), gridspec_kw={'width_ratios': [2.5, 1]})\n",
    "\n",
    "x_vals = np.linspace(0, max([max(times) if times else 0 for _, times in plot_data]), 500)\n",
    "\n",
    "for name, times in plot_data:\n",
    "    if len(times) > 1:\n",
    "        kde = gaussian_kde(times)\n",
    "        y = kde(x_vals)\n",
    "        ratio = len(times) / all_counts[name] if all_counts[name] > 0 else 0\n",
    "        y_rescaled = y * ratio\n",
    "        color = color_palette.get(name, 'gray')  # fallback to gray if not defined\n",
    "        ax_kde.plot(x_vals, y_rescaled, label=name, color=color)\n",
    "\n",
    "ax_kde.set_title(\"PDF of Travel Times\")\n",
    "ax_kde.set_xlabel(\"Travel Time (minutes)\")\n",
    "ax_kde.grid(True)\n",
    "ax_kde.legend(loc='upper right')\n",
    "\n",
    "# --- Reachability Bar Chart ---\n",
    "scenarios = layer_names + [\"Normal Conditions\"]\n",
    "reachable = [(all_counts[n] - zero_counts[n]) / all_counts[n] if all_counts[n] > 0 else 0 for n in scenarios]\n",
    "unreachable = [1 - r for r in reachable]\n",
    "\n",
    "bar_positions = np.arange(len(scenarios))\n",
    "ax_bar.barh(bar_positions, unreachable, color='salmon', label='Unreachable')\n",
    "ax_bar.barh(bar_positions, reachable, left=unreachable, color='mediumseagreen', label='Reachable')\n",
    "\n",
    "ax_bar.set_yticks(bar_positions)\n",
    "ax_bar.set_yticklabels(scenarios)\n",
    "ax_bar.set_xlim(0, 1)\n",
    "ax_bar.set_title(\"Fraction of cut routes\")\n",
    "ax_bar.set_xlabel(\"Proportion\")\n",
    "#ax_bar.legend(loc='lower right')\n",
    "ax_bar.grid(axis='x', linestyle='--', alpha=0.5)\n",
    "\n",
    "ax_bar.invert_yaxis()\n",
    "\n",
    "plt.tight_layout()\n",
    "\n",
    "plt.savefig('processed_files/Travel_times_DANA.png')\n",
    "plt.show()"
   ]
  },
  {
   "cell_type": "markdown",
   "metadata": {
    "id": "59NZ-jYDAeVF"
   },
   "source": [
    "# Interactive Visualizations"
   ]
  },
  {
   "cell_type": "markdown",
   "metadata": {},
   "source": [
    "## Functions"
   ]
  },
  {
   "cell_type": "code",
   "execution_count": 4,
   "metadata": {},
   "outputs": [],
   "source": [
    "def add_flood_zone_layer(name, m):\n",
    "    gdf=flood_zones_var[name]\n",
    "    color=color_palette[name]\n",
    "    if gdf.crs.to_epsg() != 4326:\n",
    "        gdf = gdf.to_crs(epsg=4326)\n",
    "\n",
    "    gdf_serializable = make_geojson_safe(gdf)\n",
    "\n",
    "    style_function = lambda x: {\n",
    "        'fillColor': color,\n",
    "        'color': color,\n",
    "        'weight': 1,\n",
    "        'fillOpacity': 0.4\n",
    "    }\n",
    "\n",
    "    geojson = folium.GeoJson(\n",
    "        data=gdf_serializable,\n",
    "        name=f\"Flood {name}\",\n",
    "        style_function=style_function,\n",
    "        show=False\n",
    "    )\n",
    "    geojson.add_to(m)"
   ]
  },
  {
   "cell_type": "code",
   "execution_count": 5,
   "metadata": {},
   "outputs": [],
   "source": [
    "def add_roads_layer(name, m, flood):\n",
    "    if flood:\n",
    "        roads = flood_edges_var[name].copy()\n",
    "        roads = roads[roads[\"in_flood_zone\"] == flood]\n",
    "    else:\n",
    "        roads = edges.copy()\n",
    "\n",
    "    roads = roads.to_crs(epsg=4326)\n",
    "    roads = make_geojson_safe(roads)\n",
    "\n",
    "    style_function = lambda x: {\n",
    "        'color': color_palette[name],\n",
    "        'weight': 2,\n",
    "        'opacity': 0.6\n",
    "    }\n",
    "\n",
    "    if flood == True:\n",
    "        geojson = folium.GeoJson(\n",
    "            roads,\n",
    "            name=f\"Flooded Roads {name}\",\n",
    "            style_function=style_function,\n",
    "            show=False\n",
    "        )\n",
    "    else:\n",
    "            geojson = folium.GeoJson(\n",
    "            roads,\n",
    "            name=f\"All roads\",\n",
    "            style_function=style_function,\n",
    "            show=False\n",
    "        )\n",
    "    \n",
    "    geojson.add_to(m)"
   ]
  },
  {
   "cell_type": "code",
   "execution_count": 6,
   "metadata": {},
   "outputs": [],
   "source": [
    "def add_roads_layer_risk(name, m, flood):\n",
    "    if flood:\n",
    "        roads = flood_edges_var[name].copy()\n",
    "        roads = roads[roads[\"in_flood_zone\"] == flood]\n",
    "    else:\n",
    "        roads = edges.copy()\n",
    "\n",
    "    roads = roads.to_crs(epsg=4326)\n",
    "    roads = make_geojson_safe(roads)\n",
    "\n",
    "    style_function = lambda x: {\n",
    "        'color': color_palette[name],\n",
    "        'weight': 2,\n",
    "        'opacity': 0.6\n",
    "    }\n",
    "\n",
    "    if flood == True:\n",
    "        geojson = folium.GeoJson(\n",
    "            roads,\n",
    "            name=f\"Flooded Roads {name}\",\n",
    "            style_function=style_function,\n",
    "            show=False\n",
    "        )\n",
    "    else:\n",
    "            geojson = folium.GeoJson(\n",
    "            roads,\n",
    "            name=f\"All roads\",\n",
    "            style_function=style_function,\n",
    "            show=False\n",
    "        )\n",
    "    \n",
    "    geojson.add_to(m)"
   ]
  },
  {
   "cell_type": "markdown",
   "metadata": {},
   "source": [
    "## Code"
   ]
  },
  {
   "cell_type": "code",
   "execution_count": 72,
   "metadata": {},
   "outputs": [
    {
     "name": "stderr",
     "output_type": "stream",
     "text": [
      "C:\\Users\\usuario\\anaconda3\\envs\\oxenv\\lib\\site-packages\\pyproj\\transformer.py:817: DeprecationWarning: Conversion of an array with ndim > 0 to a scalar is deprecated, and will error in future. Ensure you extract a single element from your array before performing this operation. (Deprecated NumPy 1.25.)\n",
      "  return self._transformer._transform_point(\n"
     ]
    }
   ],
   "source": [
    "# Set initial position\n",
    "projected = neighbors_2_area.to_crs(epsg=25830)\n",
    "centroid_projected = projected.geometry.centroid.iloc[0]\n",
    "centroid_latlon = gpd.GeoSeries([centroid_projected], crs=25830).to_crs(epsg=4326).geometry.iloc[0]\n",
    "map_center = [centroid_latlon.y, centroid_latlon.x]\n",
    "bounds_wgs84 = neighbors_2_area.to_crs(epsg=4326).total_bounds\n",
    "map_bounds = [[bounds_wgs84[1], bounds_wgs84[0]], [bounds_wgs84[3], bounds_wgs84[2]]]\n",
    "polygon = unary_union(neighbors_2_area.geometry)"
   ]
  },
  {
   "cell_type": "markdown",
   "metadata": {},
   "source": [
    "#### Areas at Risk and DANA Area (with roads)"
   ]
  },
  {
   "cell_type": "code",
   "execution_count": 73,
   "metadata": {},
   "outputs": [],
   "source": [
    "m_1 = folium.Map(location=map_center, zoom_start=10, tiles=\"CartoDB positron\", max_bounds=True)\n",
    "m_1.fit_bounds(map_bounds)"
   ]
  },
  {
   "cell_type": "code",
   "execution_count": 74,
   "metadata": {},
   "outputs": [
    {
     "name": "stderr",
     "output_type": "stream",
     "text": [
      "2025-07-24 08:44:57,540 [INFO] Downloading road network...\n",
      "2025-07-24 08:51:35,772 [INFO] Graph saved.\n",
      "2025-07-24 08:51:40,442 [INFO] Converted graph to GeoDataFrames.\n"
     ]
    }
   ],
   "source": [
    "if os.path.exists(graph_path):\n",
    "    logging.info(\"Loading saved road network graph...\")\n",
    "    G = ox.load_graphml(graph_path)\n",
    "else:\n",
    "    logging.info(\"Downloading road network...\")\n",
    "    G = ox.graph_from_polygon(polygon, network_type=\"drive\", simplify=True)\n",
    "    ox.save_graphml(G, filepath=graph_path)\n",
    "    logging.info(\"Graph saved.\")\n",
    "\n",
    "nodes, edges = ox.graph_to_gdfs(G)\n",
    "logging.info(\"Converted graph to GeoDataFrames.\")"
   ]
  },
  {
   "cell_type": "code",
   "execution_count": 75,
   "metadata": {},
   "outputs": [],
   "source": [
    "# Add flood zones\n",
    "add_flood_zone_layer(\"10 yr\", m_1)\n",
    "add_flood_zone_layer(\"100 yr\", m_1)\n",
    "add_flood_zone_layer(\"500 yr\", m_1)\n",
    "add_flood_zone_layer(\"DANA_31_10_2024\", m_1)\n",
    "    \n",
    "# Add flooded roads (optional)\n",
    "add_roads_layer(\"10 yr\", m_1, True)\n",
    "add_roads_layer(\"100 yr\", m_1, True)\n",
    "add_roads_layer(\"500 yr\", m_1, True)\n",
    "add_roads_layer(\"DANA_31_10_2024\", m_1, True)\n",
    "add_roads_layer(\"Normal Conditions\", m_1, False)"
   ]
  },
  {
   "cell_type": "code",
   "execution_count": 76,
   "metadata": {},
   "outputs": [],
   "source": [
    "folium.LayerControl(collapsed=False).add_to(m_1)\n",
    "m_1.save(\"processed_files/Risk_max_DANA.html\")"
   ]
  },
  {
   "cell_type": "code",
   "execution_count": 77,
   "metadata": {},
   "outputs": [],
   "source": [
    "del m_1"
   ]
  },
  {
   "cell_type": "markdown",
   "metadata": {},
   "source": [
    "### DANA flood depth"
   ]
  },
  {
   "cell_type": "code",
   "execution_count": 78,
   "metadata": {},
   "outputs": [],
   "source": [
    "m_2 = folium.Map(location=map_center, zoom_start=10, tiles=\"CartoDB positron\", max_bounds=True)\n",
    "m_2.fit_bounds(map_bounds)"
   ]
  },
  {
   "cell_type": "code",
   "execution_count": 79,
   "metadata": {},
   "outputs": [],
   "source": [
    "depth=depth_zones[\"DANA_31_10_2024\"]"
   ]
  },
  {
   "cell_type": "code",
   "execution_count": 80,
   "metadata": {},
   "outputs": [
    {
     "data": {
      "text/html": [
       "<svg height=\"40\" width=\"450\"><line x1=\"0\" y1=\"15\" x2=\"0\" y2=\"27\" style=\"stroke:#ffffd9ff;stroke-width:2;\" /><line x1=\"1\" y1=\"15\" x2=\"1\" y2=\"27\" style=\"stroke:#ffffd9ff;stroke-width:2;\" /><line x1=\"2\" y1=\"15\" x2=\"2\" y2=\"27\" style=\"stroke:#ffffd8ff;stroke-width:2;\" /><line x1=\"3\" y1=\"15\" x2=\"3\" y2=\"27\" style=\"stroke:#ffffd7ff;stroke-width:2;\" /><line x1=\"4\" y1=\"15\" x2=\"4\" y2=\"27\" style=\"stroke:#feffd6ff;stroke-width:2;\" /><line x1=\"5\" y1=\"15\" x2=\"5\" y2=\"27\" style=\"stroke:#feffd6ff;stroke-width:2;\" /><line x1=\"6\" y1=\"15\" x2=\"6\" y2=\"27\" style=\"stroke:#feffd5ff;stroke-width:2;\" /><line x1=\"7\" y1=\"15\" x2=\"7\" y2=\"27\" style=\"stroke:#fdffd4ff;stroke-width:2;\" /><line x1=\"8\" y1=\"15\" x2=\"8\" y2=\"27\" style=\"stroke:#fdfed4ff;stroke-width:2;\" /><line x1=\"9\" y1=\"15\" x2=\"9\" y2=\"27\" style=\"stroke:#fdfed3ff;stroke-width:2;\" /><line x1=\"10\" y1=\"15\" x2=\"10\" y2=\"27\" style=\"stroke:#fcfed2ff;stroke-width:2;\" /><line x1=\"11\" y1=\"15\" x2=\"11\" y2=\"27\" style=\"stroke:#fcfed1ff;stroke-width:2;\" /><line x1=\"12\" y1=\"15\" x2=\"12\" y2=\"27\" style=\"stroke:#fcfed1ff;stroke-width:2;\" /><line x1=\"13\" y1=\"15\" x2=\"13\" y2=\"27\" style=\"stroke:#fbfed0ff;stroke-width:2;\" /><line x1=\"14\" y1=\"15\" x2=\"14\" y2=\"27\" style=\"stroke:#fbfecfff;stroke-width:2;\" /><line x1=\"15\" y1=\"15\" x2=\"15\" y2=\"27\" style=\"stroke:#fbfecfff;stroke-width:2;\" /><line x1=\"16\" y1=\"15\" x2=\"16\" y2=\"27\" style=\"stroke:#fafdceff;stroke-width:2;\" /><line x1=\"17\" y1=\"15\" x2=\"17\" y2=\"27\" style=\"stroke:#fafdcdff;stroke-width:2;\" /><line x1=\"18\" y1=\"15\" x2=\"18\" y2=\"27\" style=\"stroke:#fafdccff;stroke-width:2;\" /><line x1=\"19\" y1=\"15\" x2=\"19\" y2=\"27\" style=\"stroke:#f9fdccff;stroke-width:2;\" /><line x1=\"20\" y1=\"15\" x2=\"20\" y2=\"27\" style=\"stroke:#f9fdcbff;stroke-width:2;\" /><line x1=\"21\" y1=\"15\" x2=\"21\" y2=\"27\" style=\"stroke:#f9fdcaff;stroke-width:2;\" /><line x1=\"22\" y1=\"15\" x2=\"22\" y2=\"27\" style=\"stroke:#f8fdcaff;stroke-width:2;\" /><line x1=\"23\" y1=\"15\" x2=\"23\" y2=\"27\" style=\"stroke:#f8fdc9ff;stroke-width:2;\" /><line x1=\"24\" y1=\"15\" x2=\"24\" y2=\"27\" style=\"stroke:#f8fcc8ff;stroke-width:2;\" /><line x1=\"25\" y1=\"15\" x2=\"25\" y2=\"27\" style=\"stroke:#f7fcc7ff;stroke-width:2;\" /><line x1=\"26\" y1=\"15\" x2=\"26\" y2=\"27\" style=\"stroke:#f7fcc7ff;stroke-width:2;\" /><line x1=\"27\" y1=\"15\" x2=\"27\" y2=\"27\" style=\"stroke:#f7fcc6ff;stroke-width:2;\" /><line x1=\"28\" y1=\"15\" x2=\"28\" y2=\"27\" style=\"stroke:#f6fcc5ff;stroke-width:2;\" /><line x1=\"29\" y1=\"15\" x2=\"29\" y2=\"27\" style=\"stroke:#f6fcc5ff;stroke-width:2;\" /><line x1=\"30\" y1=\"15\" x2=\"30\" y2=\"27\" style=\"stroke:#f6fcc4ff;stroke-width:2;\" /><line x1=\"31\" y1=\"15\" x2=\"31\" y2=\"27\" style=\"stroke:#f6fcc3ff;stroke-width:2;\" /><line x1=\"32\" y1=\"15\" x2=\"32\" y2=\"27\" style=\"stroke:#f5fbc2ff;stroke-width:2;\" /><line x1=\"33\" y1=\"15\" x2=\"33\" y2=\"27\" style=\"stroke:#f5fbc2ff;stroke-width:2;\" /><line x1=\"34\" y1=\"15\" x2=\"34\" y2=\"27\" style=\"stroke:#f5fbc1ff;stroke-width:2;\" /><line x1=\"35\" y1=\"15\" x2=\"35\" y2=\"27\" style=\"stroke:#f4fbc0ff;stroke-width:2;\" /><line x1=\"36\" y1=\"15\" x2=\"36\" y2=\"27\" style=\"stroke:#f4fbc0ff;stroke-width:2;\" /><line x1=\"37\" y1=\"15\" x2=\"37\" y2=\"27\" style=\"stroke:#f4fbbfff;stroke-width:2;\" /><line x1=\"38\" y1=\"15\" x2=\"38\" y2=\"27\" style=\"stroke:#f3fbbeff;stroke-width:2;\" /><line x1=\"39\" y1=\"15\" x2=\"39\" y2=\"27\" style=\"stroke:#f3fbbdff;stroke-width:2;\" /><line x1=\"40\" y1=\"15\" x2=\"40\" y2=\"27\" style=\"stroke:#f3fabdff;stroke-width:2;\" /><line x1=\"41\" y1=\"15\" x2=\"41\" y2=\"27\" style=\"stroke:#f2fabcff;stroke-width:2;\" /><line x1=\"42\" y1=\"15\" x2=\"42\" y2=\"27\" style=\"stroke:#f2fabbff;stroke-width:2;\" /><line x1=\"43\" y1=\"15\" x2=\"43\" y2=\"27\" style=\"stroke:#f2fabbff;stroke-width:2;\" /><line x1=\"44\" y1=\"15\" x2=\"44\" y2=\"27\" style=\"stroke:#f1fabaff;stroke-width:2;\" /><line x1=\"45\" y1=\"15\" x2=\"45\" y2=\"27\" style=\"stroke:#f1fab9ff;stroke-width:2;\" /><line x1=\"46\" y1=\"15\" x2=\"46\" y2=\"27\" style=\"stroke:#f1fab8ff;stroke-width:2;\" /><line x1=\"47\" y1=\"15\" x2=\"47\" y2=\"27\" style=\"stroke:#f0fab8ff;stroke-width:2;\" /><line x1=\"48\" y1=\"15\" x2=\"48\" y2=\"27\" style=\"stroke:#f0f9b7ff;stroke-width:2;\" /><line x1=\"49\" y1=\"15\" x2=\"49\" y2=\"27\" style=\"stroke:#f0f9b6ff;stroke-width:2;\" /><line x1=\"50\" y1=\"15\" x2=\"50\" y2=\"27\" style=\"stroke:#eff9b6ff;stroke-width:2;\" /><line x1=\"51\" y1=\"15\" x2=\"51\" y2=\"27\" style=\"stroke:#eff9b5ff;stroke-width:2;\" /><line x1=\"52\" y1=\"15\" x2=\"52\" y2=\"27\" style=\"stroke:#eff9b4ff;stroke-width:2;\" /><line x1=\"53\" y1=\"15\" x2=\"53\" y2=\"27\" style=\"stroke:#eef9b3ff;stroke-width:2;\" /><line x1=\"54\" y1=\"15\" x2=\"54\" y2=\"27\" style=\"stroke:#eef9b3ff;stroke-width:2;\" /><line x1=\"55\" y1=\"15\" x2=\"55\" y2=\"27\" style=\"stroke:#eef9b2ff;stroke-width:2;\" /><line x1=\"56\" y1=\"15\" x2=\"56\" y2=\"27\" style=\"stroke:#edf8b1ff;stroke-width:2;\" /><line x1=\"57\" y1=\"15\" x2=\"57\" y2=\"27\" style=\"stroke:#edf8b1ff;stroke-width:2;\" /><line x1=\"58\" y1=\"15\" x2=\"58\" y2=\"27\" style=\"stroke:#ecf8b1ff;stroke-width:2;\" /><line x1=\"59\" y1=\"15\" x2=\"59\" y2=\"27\" style=\"stroke:#ebf8b1ff;stroke-width:2;\" /><line x1=\"60\" y1=\"15\" x2=\"60\" y2=\"27\" style=\"stroke:#ebf7b1ff;stroke-width:2;\" /><line x1=\"61\" y1=\"15\" x2=\"61\" y2=\"27\" style=\"stroke:#eaf7b1ff;stroke-width:2;\" /><line x1=\"62\" y1=\"15\" x2=\"62\" y2=\"27\" style=\"stroke:#e9f7b2ff;stroke-width:2;\" /><line x1=\"63\" y1=\"15\" x2=\"63\" y2=\"27\" style=\"stroke:#e9f7b2ff;stroke-width:2;\" /><line x1=\"64\" y1=\"15\" x2=\"64\" y2=\"27\" style=\"stroke:#e8f6b2ff;stroke-width:2;\" /><line x1=\"65\" y1=\"15\" x2=\"65\" y2=\"27\" style=\"stroke:#e7f6b2ff;stroke-width:2;\" /><line x1=\"66\" y1=\"15\" x2=\"66\" y2=\"27\" style=\"stroke:#e7f6b2ff;stroke-width:2;\" /><line x1=\"67\" y1=\"15\" x2=\"67\" y2=\"27\" style=\"stroke:#e6f6b2ff;stroke-width:2;\" /><line x1=\"68\" y1=\"15\" x2=\"68\" y2=\"27\" style=\"stroke:#e5f5b2ff;stroke-width:2;\" /><line x1=\"69\" y1=\"15\" x2=\"69\" y2=\"27\" style=\"stroke:#e5f5b2ff;stroke-width:2;\" /><line x1=\"70\" y1=\"15\" x2=\"70\" y2=\"27\" style=\"stroke:#e4f5b2ff;stroke-width:2;\" /><line x1=\"71\" y1=\"15\" x2=\"71\" y2=\"27\" style=\"stroke:#e3f4b2ff;stroke-width:2;\" /><line x1=\"72\" y1=\"15\" x2=\"72\" y2=\"27\" style=\"stroke:#e3f4b2ff;stroke-width:2;\" /><line x1=\"73\" y1=\"15\" x2=\"73\" y2=\"27\" style=\"stroke:#e2f4b2ff;stroke-width:2;\" /><line x1=\"74\" y1=\"15\" x2=\"74\" y2=\"27\" style=\"stroke:#e1f4b2ff;stroke-width:2;\" /><line x1=\"75\" y1=\"15\" x2=\"75\" y2=\"27\" style=\"stroke:#e1f3b2ff;stroke-width:2;\" /><line x1=\"76\" y1=\"15\" x2=\"76\" y2=\"27\" style=\"stroke:#e0f3b2ff;stroke-width:2;\" /><line x1=\"77\" y1=\"15\" x2=\"77\" y2=\"27\" style=\"stroke:#dff3b2ff;stroke-width:2;\" /><line x1=\"78\" y1=\"15\" x2=\"78\" y2=\"27\" style=\"stroke:#dff3b2ff;stroke-width:2;\" /><line x1=\"79\" y1=\"15\" x2=\"79\" y2=\"27\" style=\"stroke:#def2b2ff;stroke-width:2;\" /><line x1=\"80\" y1=\"15\" x2=\"80\" y2=\"27\" style=\"stroke:#ddf2b2ff;stroke-width:2;\" /><line x1=\"81\" y1=\"15\" x2=\"81\" y2=\"27\" style=\"stroke:#ddf2b3ff;stroke-width:2;\" /><line x1=\"82\" y1=\"15\" x2=\"82\" y2=\"27\" style=\"stroke:#dcf2b3ff;stroke-width:2;\" /><line x1=\"83\" y1=\"15\" x2=\"83\" y2=\"27\" style=\"stroke:#dbf1b3ff;stroke-width:2;\" /><line x1=\"84\" y1=\"15\" x2=\"84\" y2=\"27\" style=\"stroke:#daf1b3ff;stroke-width:2;\" /><line x1=\"85\" y1=\"15\" x2=\"85\" y2=\"27\" style=\"stroke:#daf1b3ff;stroke-width:2;\" /><line x1=\"86\" y1=\"15\" x2=\"86\" y2=\"27\" style=\"stroke:#d9f0b3ff;stroke-width:2;\" /><line x1=\"87\" y1=\"15\" x2=\"87\" y2=\"27\" style=\"stroke:#d8f0b3ff;stroke-width:2;\" /><line x1=\"88\" y1=\"15\" x2=\"88\" y2=\"27\" style=\"stroke:#d8f0b3ff;stroke-width:2;\" /><line x1=\"89\" y1=\"15\" x2=\"89\" y2=\"27\" style=\"stroke:#d7f0b3ff;stroke-width:2;\" /><line x1=\"90\" y1=\"15\" x2=\"90\" y2=\"27\" style=\"stroke:#d6efb3ff;stroke-width:2;\" /><line x1=\"91\" y1=\"15\" x2=\"91\" y2=\"27\" style=\"stroke:#d6efb3ff;stroke-width:2;\" /><line x1=\"92\" y1=\"15\" x2=\"92\" y2=\"27\" style=\"stroke:#d5efb3ff;stroke-width:2;\" /><line x1=\"93\" y1=\"15\" x2=\"93\" y2=\"27\" style=\"stroke:#d4efb3ff;stroke-width:2;\" /><line x1=\"94\" y1=\"15\" x2=\"94\" y2=\"27\" style=\"stroke:#d4eeb3ff;stroke-width:2;\" /><line x1=\"95\" y1=\"15\" x2=\"95\" y2=\"27\" style=\"stroke:#d3eeb3ff;stroke-width:2;\" /><line x1=\"96\" y1=\"15\" x2=\"96\" y2=\"27\" style=\"stroke:#d2eeb3ff;stroke-width:2;\" /><line x1=\"97\" y1=\"15\" x2=\"97\" y2=\"27\" style=\"stroke:#d2eeb3ff;stroke-width:2;\" /><line x1=\"98\" y1=\"15\" x2=\"98\" y2=\"27\" style=\"stroke:#d1edb3ff;stroke-width:2;\" /><line x1=\"99\" y1=\"15\" x2=\"99\" y2=\"27\" style=\"stroke:#d0edb3ff;stroke-width:2;\" /><line x1=\"100\" y1=\"15\" x2=\"100\" y2=\"27\" style=\"stroke:#d0edb4ff;stroke-width:2;\" /><line x1=\"101\" y1=\"15\" x2=\"101\" y2=\"27\" style=\"stroke:#cfecb4ff;stroke-width:2;\" /><line x1=\"102\" y1=\"15\" x2=\"102\" y2=\"27\" style=\"stroke:#ceecb4ff;stroke-width:2;\" /><line x1=\"103\" y1=\"15\" x2=\"103\" y2=\"27\" style=\"stroke:#ceecb4ff;stroke-width:2;\" /><line x1=\"104\" y1=\"15\" x2=\"104\" y2=\"27\" style=\"stroke:#cdecb4ff;stroke-width:2;\" /><line x1=\"105\" y1=\"15\" x2=\"105\" y2=\"27\" style=\"stroke:#ccebb4ff;stroke-width:2;\" /><line x1=\"106\" y1=\"15\" x2=\"106\" y2=\"27\" style=\"stroke:#ccebb4ff;stroke-width:2;\" /><line x1=\"107\" y1=\"15\" x2=\"107\" y2=\"27\" style=\"stroke:#cbebb4ff;stroke-width:2;\" /><line x1=\"108\" y1=\"15\" x2=\"108\" y2=\"27\" style=\"stroke:#caebb4ff;stroke-width:2;\" /><line x1=\"109\" y1=\"15\" x2=\"109\" y2=\"27\" style=\"stroke:#c9eab4ff;stroke-width:2;\" /><line x1=\"110\" y1=\"15\" x2=\"110\" y2=\"27\" style=\"stroke:#c9eab4ff;stroke-width:2;\" /><line x1=\"111\" y1=\"15\" x2=\"111\" y2=\"27\" style=\"stroke:#c8eab4ff;stroke-width:2;\" /><line x1=\"112\" y1=\"15\" x2=\"112\" y2=\"27\" style=\"stroke:#c7e9b4ff;stroke-width:2;\" /><line x1=\"113\" y1=\"15\" x2=\"113\" y2=\"27\" style=\"stroke:#c6e9b4ff;stroke-width:2;\" /><line x1=\"114\" y1=\"15\" x2=\"114\" y2=\"27\" style=\"stroke:#c5e9b4ff;stroke-width:2;\" /><line x1=\"115\" y1=\"15\" x2=\"115\" y2=\"27\" style=\"stroke:#c4e8b5ff;stroke-width:2;\" /><line x1=\"116\" y1=\"15\" x2=\"116\" y2=\"27\" style=\"stroke:#c2e8b5ff;stroke-width:2;\" /><line x1=\"117\" y1=\"15\" x2=\"117\" y2=\"27\" style=\"stroke:#c1e7b5ff;stroke-width:2;\" /><line x1=\"118\" y1=\"15\" x2=\"118\" y2=\"27\" style=\"stroke:#c0e7b5ff;stroke-width:2;\" /><line x1=\"119\" y1=\"15\" x2=\"119\" y2=\"27\" style=\"stroke:#bfe6b5ff;stroke-width:2;\" /><line x1=\"120\" y1=\"15\" x2=\"120\" y2=\"27\" style=\"stroke:#bde6b5ff;stroke-width:2;\" /><line x1=\"121\" y1=\"15\" x2=\"121\" y2=\"27\" style=\"stroke:#bce5b5ff;stroke-width:2;\" /><line x1=\"122\" y1=\"15\" x2=\"122\" y2=\"27\" style=\"stroke:#bbe5b5ff;stroke-width:2;\" /><line x1=\"123\" y1=\"15\" x2=\"123\" y2=\"27\" style=\"stroke:#b9e4b6ff;stroke-width:2;\" /><line x1=\"124\" y1=\"15\" x2=\"124\" y2=\"27\" style=\"stroke:#b8e4b6ff;stroke-width:2;\" /><line x1=\"125\" y1=\"15\" x2=\"125\" y2=\"27\" style=\"stroke:#b7e3b6ff;stroke-width:2;\" /><line x1=\"126\" y1=\"15\" x2=\"126\" y2=\"27\" style=\"stroke:#b6e3b6ff;stroke-width:2;\" /><line x1=\"127\" y1=\"15\" x2=\"127\" y2=\"27\" style=\"stroke:#b4e2b6ff;stroke-width:2;\" /><line x1=\"128\" y1=\"15\" x2=\"128\" y2=\"27\" style=\"stroke:#b3e2b6ff;stroke-width:2;\" /><line x1=\"129\" y1=\"15\" x2=\"129\" y2=\"27\" style=\"stroke:#b2e1b6ff;stroke-width:2;\" /><line x1=\"130\" y1=\"15\" x2=\"130\" y2=\"27\" style=\"stroke:#b0e1b6ff;stroke-width:2;\" /><line x1=\"131\" y1=\"15\" x2=\"131\" y2=\"27\" style=\"stroke:#afe0b7ff;stroke-width:2;\" /><line x1=\"132\" y1=\"15\" x2=\"132\" y2=\"27\" style=\"stroke:#aee0b7ff;stroke-width:2;\" /><line x1=\"133\" y1=\"15\" x2=\"133\" y2=\"27\" style=\"stroke:#addfb7ff;stroke-width:2;\" /><line x1=\"134\" y1=\"15\" x2=\"134\" y2=\"27\" style=\"stroke:#abdfb7ff;stroke-width:2;\" /><line x1=\"135\" y1=\"15\" x2=\"135\" y2=\"27\" style=\"stroke:#aadeb7ff;stroke-width:2;\" /><line x1=\"136\" y1=\"15\" x2=\"136\" y2=\"27\" style=\"stroke:#a9deb7ff;stroke-width:2;\" /><line x1=\"137\" y1=\"15\" x2=\"137\" y2=\"27\" style=\"stroke:#a7ddb7ff;stroke-width:2;\" /><line x1=\"138\" y1=\"15\" x2=\"138\" y2=\"27\" style=\"stroke:#a6ddb7ff;stroke-width:2;\" /><line x1=\"139\" y1=\"15\" x2=\"139\" y2=\"27\" style=\"stroke:#a5dcb8ff;stroke-width:2;\" /><line x1=\"140\" y1=\"15\" x2=\"140\" y2=\"27\" style=\"stroke:#a4dcb8ff;stroke-width:2;\" /><line x1=\"141\" y1=\"15\" x2=\"141\" y2=\"27\" style=\"stroke:#a2dbb8ff;stroke-width:2;\" /><line x1=\"142\" y1=\"15\" x2=\"142\" y2=\"27\" style=\"stroke:#a1dbb8ff;stroke-width:2;\" /><line x1=\"143\" y1=\"15\" x2=\"143\" y2=\"27\" style=\"stroke:#a0dab8ff;stroke-width:2;\" /><line x1=\"144\" y1=\"15\" x2=\"144\" y2=\"27\" style=\"stroke:#9edab8ff;stroke-width:2;\" /><line x1=\"145\" y1=\"15\" x2=\"145\" y2=\"27\" style=\"stroke:#9dd9b8ff;stroke-width:2;\" /><line x1=\"146\" y1=\"15\" x2=\"146\" y2=\"27\" style=\"stroke:#9cd9b8ff;stroke-width:2;\" /><line x1=\"147\" y1=\"15\" x2=\"147\" y2=\"27\" style=\"stroke:#9bd8b9ff;stroke-width:2;\" /><line x1=\"148\" y1=\"15\" x2=\"148\" y2=\"27\" style=\"stroke:#99d8b9ff;stroke-width:2;\" /><line x1=\"149\" y1=\"15\" x2=\"149\" y2=\"27\" style=\"stroke:#98d7b9ff;stroke-width:2;\" /><line x1=\"150\" y1=\"15\" x2=\"150\" y2=\"27\" style=\"stroke:#97d7b9ff;stroke-width:2;\" /><line x1=\"151\" y1=\"15\" x2=\"151\" y2=\"27\" style=\"stroke:#95d6b9ff;stroke-width:2;\" /><line x1=\"152\" y1=\"15\" x2=\"152\" y2=\"27\" style=\"stroke:#94d6b9ff;stroke-width:2;\" /><line x1=\"153\" y1=\"15\" x2=\"153\" y2=\"27\" style=\"stroke:#93d5b9ff;stroke-width:2;\" /><line x1=\"154\" y1=\"15\" x2=\"154\" y2=\"27\" style=\"stroke:#92d5b9ff;stroke-width:2;\" /><line x1=\"155\" y1=\"15\" x2=\"155\" y2=\"27\" style=\"stroke:#90d4baff;stroke-width:2;\" /><line x1=\"156\" y1=\"15\" x2=\"156\" y2=\"27\" style=\"stroke:#8fd4baff;stroke-width:2;\" /><line x1=\"157\" y1=\"15\" x2=\"157\" y2=\"27\" style=\"stroke:#8ed3baff;stroke-width:2;\" /><line x1=\"158\" y1=\"15\" x2=\"158\" y2=\"27\" style=\"stroke:#8cd3baff;stroke-width:2;\" /><line x1=\"159\" y1=\"15\" x2=\"159\" y2=\"27\" style=\"stroke:#8bd2baff;stroke-width:2;\" /><line x1=\"160\" y1=\"15\" x2=\"160\" y2=\"27\" style=\"stroke:#8ad1baff;stroke-width:2;\" /><line x1=\"161\" y1=\"15\" x2=\"161\" y2=\"27\" style=\"stroke:#88d1baff;stroke-width:2;\" /><line x1=\"162\" y1=\"15\" x2=\"162\" y2=\"27\" style=\"stroke:#87d0baff;stroke-width:2;\" /><line x1=\"163\" y1=\"15\" x2=\"163\" y2=\"27\" style=\"stroke:#86d0bbff;stroke-width:2;\" /><line x1=\"164\" y1=\"15\" x2=\"164\" y2=\"27\" style=\"stroke:#85cfbbff;stroke-width:2;\" /><line x1=\"165\" y1=\"15\" x2=\"165\" y2=\"27\" style=\"stroke:#83cfbbff;stroke-width:2;\" /><line x1=\"166\" y1=\"15\" x2=\"166\" y2=\"27\" style=\"stroke:#82cebbff;stroke-width:2;\" /><line x1=\"167\" y1=\"15\" x2=\"167\" y2=\"27\" style=\"stroke:#81cebbff;stroke-width:2;\" /><line x1=\"168\" y1=\"15\" x2=\"168\" y2=\"27\" style=\"stroke:#7fcdbbff;stroke-width:2;\" /><line x1=\"169\" y1=\"15\" x2=\"169\" y2=\"27\" style=\"stroke:#7ecdbbff;stroke-width:2;\" /><line x1=\"170\" y1=\"15\" x2=\"170\" y2=\"27\" style=\"stroke:#7dcdbbff;stroke-width:2;\" /><line x1=\"171\" y1=\"15\" x2=\"171\" y2=\"27\" style=\"stroke:#7cccbcff;stroke-width:2;\" /><line x1=\"172\" y1=\"15\" x2=\"172\" y2=\"27\" style=\"stroke:#7bccbcff;stroke-width:2;\" /><line x1=\"173\" y1=\"15\" x2=\"173\" y2=\"27\" style=\"stroke:#7acbbcff;stroke-width:2;\" /><line x1=\"174\" y1=\"15\" x2=\"174\" y2=\"27\" style=\"stroke:#79cbbcff;stroke-width:2;\" /><line x1=\"175\" y1=\"15\" x2=\"175\" y2=\"27\" style=\"stroke:#78cbbcff;stroke-width:2;\" /><line x1=\"176\" y1=\"15\" x2=\"176\" y2=\"27\" style=\"stroke:#77cabcff;stroke-width:2;\" /><line x1=\"177\" y1=\"15\" x2=\"177\" y2=\"27\" style=\"stroke:#75cabdff;stroke-width:2;\" /><line x1=\"178\" y1=\"15\" x2=\"178\" y2=\"27\" style=\"stroke:#74c9bdff;stroke-width:2;\" /><line x1=\"179\" y1=\"15\" x2=\"179\" y2=\"27\" style=\"stroke:#73c9bdff;stroke-width:2;\" /><line x1=\"180\" y1=\"15\" x2=\"180\" y2=\"27\" style=\"stroke:#72c9bdff;stroke-width:2;\" /><line x1=\"181\" y1=\"15\" x2=\"181\" y2=\"27\" style=\"stroke:#71c8bdff;stroke-width:2;\" /><line x1=\"182\" y1=\"15\" x2=\"182\" y2=\"27\" style=\"stroke:#70c8bdff;stroke-width:2;\" /><line x1=\"183\" y1=\"15\" x2=\"183\" y2=\"27\" style=\"stroke:#6fc7beff;stroke-width:2;\" /><line x1=\"184\" y1=\"15\" x2=\"184\" y2=\"27\" style=\"stroke:#6ec7beff;stroke-width:2;\" /><line x1=\"185\" y1=\"15\" x2=\"185\" y2=\"27\" style=\"stroke:#6dc6beff;stroke-width:2;\" /><line x1=\"186\" y1=\"15\" x2=\"186\" y2=\"27\" style=\"stroke:#6bc6beff;stroke-width:2;\" /><line x1=\"187\" y1=\"15\" x2=\"187\" y2=\"27\" style=\"stroke:#6ac6beff;stroke-width:2;\" /><line x1=\"188\" y1=\"15\" x2=\"188\" y2=\"27\" style=\"stroke:#69c5beff;stroke-width:2;\" /><line x1=\"189\" y1=\"15\" x2=\"189\" y2=\"27\" style=\"stroke:#68c5bfff;stroke-width:2;\" /><line x1=\"190\" y1=\"15\" x2=\"190\" y2=\"27\" style=\"stroke:#67c4bfff;stroke-width:2;\" /><line x1=\"191\" y1=\"15\" x2=\"191\" y2=\"27\" style=\"stroke:#66c4bfff;stroke-width:2;\" /><line x1=\"192\" y1=\"15\" x2=\"192\" y2=\"27\" style=\"stroke:#65c4bfff;stroke-width:2;\" /><line x1=\"193\" y1=\"15\" x2=\"193\" y2=\"27\" style=\"stroke:#64c3bfff;stroke-width:2;\" /><line x1=\"194\" y1=\"15\" x2=\"194\" y2=\"27\" style=\"stroke:#63c3bfff;stroke-width:2;\" /><line x1=\"195\" y1=\"15\" x2=\"195\" y2=\"27\" style=\"stroke:#61c2c0ff;stroke-width:2;\" /><line x1=\"196\" y1=\"15\" x2=\"196\" y2=\"27\" style=\"stroke:#60c2c0ff;stroke-width:2;\" /><line x1=\"197\" y1=\"15\" x2=\"197\" y2=\"27\" style=\"stroke:#5fc2c0ff;stroke-width:2;\" /><line x1=\"198\" y1=\"15\" x2=\"198\" y2=\"27\" style=\"stroke:#5ec1c0ff;stroke-width:2;\" /><line x1=\"199\" y1=\"15\" x2=\"199\" y2=\"27\" style=\"stroke:#5dc1c0ff;stroke-width:2;\" /><line x1=\"200\" y1=\"15\" x2=\"200\" y2=\"27\" style=\"stroke:#5cc0c0ff;stroke-width:2;\" /><line x1=\"201\" y1=\"15\" x2=\"201\" y2=\"27\" style=\"stroke:#5bc0c0ff;stroke-width:2;\" /><line x1=\"202\" y1=\"15\" x2=\"202\" y2=\"27\" style=\"stroke:#5abfc1ff;stroke-width:2;\" /><line x1=\"203\" y1=\"15\" x2=\"203\" y2=\"27\" style=\"stroke:#59bfc1ff;stroke-width:2;\" /><line x1=\"204\" y1=\"15\" x2=\"204\" y2=\"27\" style=\"stroke:#57bfc1ff;stroke-width:2;\" /><line x1=\"205\" y1=\"15\" x2=\"205\" y2=\"27\" style=\"stroke:#56bec1ff;stroke-width:2;\" /><line x1=\"206\" y1=\"15\" x2=\"206\" y2=\"27\" style=\"stroke:#55bec1ff;stroke-width:2;\" /><line x1=\"207\" y1=\"15\" x2=\"207\" y2=\"27\" style=\"stroke:#54bdc1ff;stroke-width:2;\" /><line x1=\"208\" y1=\"15\" x2=\"208\" y2=\"27\" style=\"stroke:#53bdc2ff;stroke-width:2;\" /><line x1=\"209\" y1=\"15\" x2=\"209\" y2=\"27\" style=\"stroke:#52bdc2ff;stroke-width:2;\" /><line x1=\"210\" y1=\"15\" x2=\"210\" y2=\"27\" style=\"stroke:#51bcc2ff;stroke-width:2;\" /><line x1=\"211\" y1=\"15\" x2=\"211\" y2=\"27\" style=\"stroke:#50bcc2ff;stroke-width:2;\" /><line x1=\"212\" y1=\"15\" x2=\"212\" y2=\"27\" style=\"stroke:#4fbbc2ff;stroke-width:2;\" /><line x1=\"213\" y1=\"15\" x2=\"213\" y2=\"27\" style=\"stroke:#4ebbc2ff;stroke-width:2;\" /><line x1=\"214\" y1=\"15\" x2=\"214\" y2=\"27\" style=\"stroke:#4cbbc3ff;stroke-width:2;\" /><line x1=\"215\" y1=\"15\" x2=\"215\" y2=\"27\" style=\"stroke:#4bbac3ff;stroke-width:2;\" /><line x1=\"216\" y1=\"15\" x2=\"216\" y2=\"27\" style=\"stroke:#4abac3ff;stroke-width:2;\" /><line x1=\"217\" y1=\"15\" x2=\"217\" y2=\"27\" style=\"stroke:#49b9c3ff;stroke-width:2;\" /><line x1=\"218\" y1=\"15\" x2=\"218\" y2=\"27\" style=\"stroke:#48b9c3ff;stroke-width:2;\" /><line x1=\"219\" y1=\"15\" x2=\"219\" y2=\"27\" style=\"stroke:#47b8c3ff;stroke-width:2;\" /><line x1=\"220\" y1=\"15\" x2=\"220\" y2=\"27\" style=\"stroke:#46b8c4ff;stroke-width:2;\" /><line x1=\"221\" y1=\"15\" x2=\"221\" y2=\"27\" style=\"stroke:#45b8c4ff;stroke-width:2;\" /><line x1=\"222\" y1=\"15\" x2=\"222\" y2=\"27\" style=\"stroke:#44b7c4ff;stroke-width:2;\" /><line x1=\"223\" y1=\"15\" x2=\"223\" y2=\"27\" style=\"stroke:#42b7c4ff;stroke-width:2;\" /><line x1=\"224\" y1=\"15\" x2=\"224\" y2=\"27\" style=\"stroke:#41b6c4ff;stroke-width:2;\" /><line x1=\"225\" y1=\"15\" x2=\"225\" y2=\"27\" style=\"stroke:#40b6c4ff;stroke-width:2;\" /><line x1=\"226\" y1=\"15\" x2=\"226\" y2=\"27\" style=\"stroke:#40b5c4ff;stroke-width:2;\" /><line x1=\"227\" y1=\"15\" x2=\"227\" y2=\"27\" style=\"stroke:#3fb5c4ff;stroke-width:2;\" /><line x1=\"228\" y1=\"15\" x2=\"228\" y2=\"27\" style=\"stroke:#3fb4c4ff;stroke-width:2;\" /><line x1=\"229\" y1=\"15\" x2=\"229\" y2=\"27\" style=\"stroke:#3eb3c4ff;stroke-width:2;\" /><line x1=\"230\" y1=\"15\" x2=\"230\" y2=\"27\" style=\"stroke:#3db3c4ff;stroke-width:2;\" /><line x1=\"231\" y1=\"15\" x2=\"231\" y2=\"27\" style=\"stroke:#3db2c4ff;stroke-width:2;\" /><line x1=\"232\" y1=\"15\" x2=\"232\" y2=\"27\" style=\"stroke:#3cb1c4ff;stroke-width:2;\" /><line x1=\"233\" y1=\"15\" x2=\"233\" y2=\"27\" style=\"stroke:#3bb1c4ff;stroke-width:2;\" /><line x1=\"234\" y1=\"15\" x2=\"234\" y2=\"27\" style=\"stroke:#3bb0c4ff;stroke-width:2;\" /><line x1=\"235\" y1=\"15\" x2=\"235\" y2=\"27\" style=\"stroke:#3aafc4ff;stroke-width:2;\" /><line x1=\"236\" y1=\"15\" x2=\"236\" y2=\"27\" style=\"stroke:#39afc3ff;stroke-width:2;\" /><line x1=\"237\" y1=\"15\" x2=\"237\" y2=\"27\" style=\"stroke:#39aec3ff;stroke-width:2;\" /><line x1=\"238\" y1=\"15\" x2=\"238\" y2=\"27\" style=\"stroke:#38adc3ff;stroke-width:2;\" /><line x1=\"239\" y1=\"15\" x2=\"239\" y2=\"27\" style=\"stroke:#37adc3ff;stroke-width:2;\" /><line x1=\"240\" y1=\"15\" x2=\"240\" y2=\"27\" style=\"stroke:#37acc3ff;stroke-width:2;\" /><line x1=\"241\" y1=\"15\" x2=\"241\" y2=\"27\" style=\"stroke:#36abc3ff;stroke-width:2;\" /><line x1=\"242\" y1=\"15\" x2=\"242\" y2=\"27\" style=\"stroke:#35abc3ff;stroke-width:2;\" /><line x1=\"243\" y1=\"15\" x2=\"243\" y2=\"27\" style=\"stroke:#35aac3ff;stroke-width:2;\" /><line x1=\"244\" y1=\"15\" x2=\"244\" y2=\"27\" style=\"stroke:#34a9c3ff;stroke-width:2;\" /><line x1=\"245\" y1=\"15\" x2=\"245\" y2=\"27\" style=\"stroke:#34a9c3ff;stroke-width:2;\" /><line x1=\"246\" y1=\"15\" x2=\"246\" y2=\"27\" style=\"stroke:#33a8c3ff;stroke-width:2;\" /><line x1=\"247\" y1=\"15\" x2=\"247\" y2=\"27\" style=\"stroke:#32a7c3ff;stroke-width:2;\" /><line x1=\"248\" y1=\"15\" x2=\"248\" y2=\"27\" style=\"stroke:#32a7c3ff;stroke-width:2;\" /><line x1=\"249\" y1=\"15\" x2=\"249\" y2=\"27\" style=\"stroke:#31a6c3ff;stroke-width:2;\" /><line x1=\"250\" y1=\"15\" x2=\"250\" y2=\"27\" style=\"stroke:#30a5c2ff;stroke-width:2;\" /><line x1=\"251\" y1=\"15\" x2=\"251\" y2=\"27\" style=\"stroke:#30a5c2ff;stroke-width:2;\" /><line x1=\"252\" y1=\"15\" x2=\"252\" y2=\"27\" style=\"stroke:#2fa4c2ff;stroke-width:2;\" /><line x1=\"253\" y1=\"15\" x2=\"253\" y2=\"27\" style=\"stroke:#2ea3c2ff;stroke-width:2;\" /><line x1=\"254\" y1=\"15\" x2=\"254\" y2=\"27\" style=\"stroke:#2ea3c2ff;stroke-width:2;\" /><line x1=\"255\" y1=\"15\" x2=\"255\" y2=\"27\" style=\"stroke:#2da2c2ff;stroke-width:2;\" /><line x1=\"256\" y1=\"15\" x2=\"256\" y2=\"27\" style=\"stroke:#2ca1c2ff;stroke-width:2;\" /><line x1=\"257\" y1=\"15\" x2=\"257\" y2=\"27\" style=\"stroke:#2ca1c2ff;stroke-width:2;\" /><line x1=\"258\" y1=\"15\" x2=\"258\" y2=\"27\" style=\"stroke:#2ba0c2ff;stroke-width:2;\" /><line x1=\"259\" y1=\"15\" x2=\"259\" y2=\"27\" style=\"stroke:#2b9fc2ff;stroke-width:2;\" /><line x1=\"260\" y1=\"15\" x2=\"260\" y2=\"27\" style=\"stroke:#2a9fc2ff;stroke-width:2;\" /><line x1=\"261\" y1=\"15\" x2=\"261\" y2=\"27\" style=\"stroke:#299ec2ff;stroke-width:2;\" /><line x1=\"262\" y1=\"15\" x2=\"262\" y2=\"27\" style=\"stroke:#299dc2ff;stroke-width:2;\" /><line x1=\"263\" y1=\"15\" x2=\"263\" y2=\"27\" style=\"stroke:#289dc2ff;stroke-width:2;\" /><line x1=\"264\" y1=\"15\" x2=\"264\" y2=\"27\" style=\"stroke:#279cc1ff;stroke-width:2;\" /><line x1=\"265\" y1=\"15\" x2=\"265\" y2=\"27\" style=\"stroke:#279bc1ff;stroke-width:2;\" /><line x1=\"266\" y1=\"15\" x2=\"266\" y2=\"27\" style=\"stroke:#269bc1ff;stroke-width:2;\" /><line x1=\"267\" y1=\"15\" x2=\"267\" y2=\"27\" style=\"stroke:#259ac1ff;stroke-width:2;\" /><line x1=\"268\" y1=\"15\" x2=\"268\" y2=\"27\" style=\"stroke:#2599c1ff;stroke-width:2;\" /><line x1=\"269\" y1=\"15\" x2=\"269\" y2=\"27\" style=\"stroke:#2499c1ff;stroke-width:2;\" /><line x1=\"270\" y1=\"15\" x2=\"270\" y2=\"27\" style=\"stroke:#2398c1ff;stroke-width:2;\" /><line x1=\"271\" y1=\"15\" x2=\"271\" y2=\"27\" style=\"stroke:#2397c1ff;stroke-width:2;\" /><line x1=\"272\" y1=\"15\" x2=\"272\" y2=\"27\" style=\"stroke:#2297c1ff;stroke-width:2;\" /><line x1=\"273\" y1=\"15\" x2=\"273\" y2=\"27\" style=\"stroke:#2296c1ff;stroke-width:2;\" /><line x1=\"274\" y1=\"15\" x2=\"274\" y2=\"27\" style=\"stroke:#2195c1ff;stroke-width:2;\" /><line x1=\"275\" y1=\"15\" x2=\"275\" y2=\"27\" style=\"stroke:#2095c1ff;stroke-width:2;\" /><line x1=\"276\" y1=\"15\" x2=\"276\" y2=\"27\" style=\"stroke:#2094c1ff;stroke-width:2;\" /><line x1=\"277\" y1=\"15\" x2=\"277\" y2=\"27\" style=\"stroke:#1f93c1ff;stroke-width:2;\" /><line x1=\"278\" y1=\"15\" x2=\"278\" y2=\"27\" style=\"stroke:#1e93c0ff;stroke-width:2;\" /><line x1=\"279\" y1=\"15\" x2=\"279\" y2=\"27\" style=\"stroke:#1e92c0ff;stroke-width:2;\" /><line x1=\"280\" y1=\"15\" x2=\"280\" y2=\"27\" style=\"stroke:#1d91c0ff;stroke-width:2;\" /><line x1=\"281\" y1=\"15\" x2=\"281\" y2=\"27\" style=\"stroke:#1d91c0ff;stroke-width:2;\" /><line x1=\"282\" y1=\"15\" x2=\"282\" y2=\"27\" style=\"stroke:#1d90c0ff;stroke-width:2;\" /><line x1=\"283\" y1=\"15\" x2=\"283\" y2=\"27\" style=\"stroke:#1d8fbfff;stroke-width:2;\" /><line x1=\"284\" y1=\"15\" x2=\"284\" y2=\"27\" style=\"stroke:#1d8ebfff;stroke-width:2;\" /><line x1=\"285\" y1=\"15\" x2=\"285\" y2=\"27\" style=\"stroke:#1d8dbeff;stroke-width:2;\" /><line x1=\"286\" y1=\"15\" x2=\"286\" y2=\"27\" style=\"stroke:#1d8cbeff;stroke-width:2;\" /><line x1=\"287\" y1=\"15\" x2=\"287\" y2=\"27\" style=\"stroke:#1d8bbeff;stroke-width:2;\" /><line x1=\"288\" y1=\"15\" x2=\"288\" y2=\"27\" style=\"stroke:#1d8abdff;stroke-width:2;\" /><line x1=\"289\" y1=\"15\" x2=\"289\" y2=\"27\" style=\"stroke:#1d89bdff;stroke-width:2;\" /><line x1=\"290\" y1=\"15\" x2=\"290\" y2=\"27\" style=\"stroke:#1d89bcff;stroke-width:2;\" /><line x1=\"291\" y1=\"15\" x2=\"291\" y2=\"27\" style=\"stroke:#1e88bcff;stroke-width:2;\" /><line x1=\"292\" y1=\"15\" x2=\"292\" y2=\"27\" style=\"stroke:#1e87bbff;stroke-width:2;\" /><line x1=\"293\" y1=\"15\" x2=\"293\" y2=\"27\" style=\"stroke:#1e86bbff;stroke-width:2;\" /><line x1=\"294\" y1=\"15\" x2=\"294\" y2=\"27\" style=\"stroke:#1e85bbff;stroke-width:2;\" /><line x1=\"295\" y1=\"15\" x2=\"295\" y2=\"27\" style=\"stroke:#1e84baff;stroke-width:2;\" /><line x1=\"296\" y1=\"15\" x2=\"296\" y2=\"27\" style=\"stroke:#1e83baff;stroke-width:2;\" /><line x1=\"297\" y1=\"15\" x2=\"297\" y2=\"27\" style=\"stroke:#1e82b9ff;stroke-width:2;\" /><line x1=\"298\" y1=\"15\" x2=\"298\" y2=\"27\" style=\"stroke:#1e81b9ff;stroke-width:2;\" /><line x1=\"299\" y1=\"15\" x2=\"299\" y2=\"27\" style=\"stroke:#1e80b8ff;stroke-width:2;\" /><line x1=\"300\" y1=\"15\" x2=\"300\" y2=\"27\" style=\"stroke:#1e7fb8ff;stroke-width:2;\" /><line x1=\"301\" y1=\"15\" x2=\"301\" y2=\"27\" style=\"stroke:#1e7eb8ff;stroke-width:2;\" /><line x1=\"302\" y1=\"15\" x2=\"302\" y2=\"27\" style=\"stroke:#1f7eb7ff;stroke-width:2;\" /><line x1=\"303\" y1=\"15\" x2=\"303\" y2=\"27\" style=\"stroke:#1f7db7ff;stroke-width:2;\" /><line x1=\"304\" y1=\"15\" x2=\"304\" y2=\"27\" style=\"stroke:#1f7cb6ff;stroke-width:2;\" /><line x1=\"305\" y1=\"15\" x2=\"305\" y2=\"27\" style=\"stroke:#1f7bb6ff;stroke-width:2;\" /><line x1=\"306\" y1=\"15\" x2=\"306\" y2=\"27\" style=\"stroke:#1f7ab5ff;stroke-width:2;\" /><line x1=\"307\" y1=\"15\" x2=\"307\" y2=\"27\" style=\"stroke:#1f79b5ff;stroke-width:2;\" /><line x1=\"308\" y1=\"15\" x2=\"308\" y2=\"27\" style=\"stroke:#1f78b5ff;stroke-width:2;\" /><line x1=\"309\" y1=\"15\" x2=\"309\" y2=\"27\" style=\"stroke:#1f77b4ff;stroke-width:2;\" /><line x1=\"310\" y1=\"15\" x2=\"310\" y2=\"27\" style=\"stroke:#1f76b4ff;stroke-width:2;\" /><line x1=\"311\" y1=\"15\" x2=\"311\" y2=\"27\" style=\"stroke:#1f75b3ff;stroke-width:2;\" /><line x1=\"312\" y1=\"15\" x2=\"312\" y2=\"27\" style=\"stroke:#1f74b3ff;stroke-width:2;\" /><line x1=\"313\" y1=\"15\" x2=\"313\" y2=\"27\" style=\"stroke:#2074b2ff;stroke-width:2;\" /><line x1=\"314\" y1=\"15\" x2=\"314\" y2=\"27\" style=\"stroke:#2073b2ff;stroke-width:2;\" /><line x1=\"315\" y1=\"15\" x2=\"315\" y2=\"27\" style=\"stroke:#2072b1ff;stroke-width:2;\" /><line x1=\"316\" y1=\"15\" x2=\"316\" y2=\"27\" style=\"stroke:#2071b1ff;stroke-width:2;\" /><line x1=\"317\" y1=\"15\" x2=\"317\" y2=\"27\" style=\"stroke:#2070b1ff;stroke-width:2;\" /><line x1=\"318\" y1=\"15\" x2=\"318\" y2=\"27\" style=\"stroke:#206fb0ff;stroke-width:2;\" /><line x1=\"319\" y1=\"15\" x2=\"319\" y2=\"27\" style=\"stroke:#206eb0ff;stroke-width:2;\" /><line x1=\"320\" y1=\"15\" x2=\"320\" y2=\"27\" style=\"stroke:#206dafff;stroke-width:2;\" /><line x1=\"321\" y1=\"15\" x2=\"321\" y2=\"27\" style=\"stroke:#206cafff;stroke-width:2;\" /><line x1=\"322\" y1=\"15\" x2=\"322\" y2=\"27\" style=\"stroke:#206baeff;stroke-width:2;\" /><line x1=\"323\" y1=\"15\" x2=\"323\" y2=\"27\" style=\"stroke:#206aaeff;stroke-width:2;\" /><line x1=\"324\" y1=\"15\" x2=\"324\" y2=\"27\" style=\"stroke:#2069aeff;stroke-width:2;\" /><line x1=\"325\" y1=\"15\" x2=\"325\" y2=\"27\" style=\"stroke:#2169adff;stroke-width:2;\" /><line x1=\"326\" y1=\"15\" x2=\"326\" y2=\"27\" style=\"stroke:#2168adff;stroke-width:2;\" /><line x1=\"327\" y1=\"15\" x2=\"327\" y2=\"27\" style=\"stroke:#2167acff;stroke-width:2;\" /><line x1=\"328\" y1=\"15\" x2=\"328\" y2=\"27\" style=\"stroke:#2166acff;stroke-width:2;\" /><line x1=\"329\" y1=\"15\" x2=\"329\" y2=\"27\" style=\"stroke:#2165abff;stroke-width:2;\" /><line x1=\"330\" y1=\"15\" x2=\"330\" y2=\"27\" style=\"stroke:#2164abff;stroke-width:2;\" /><line x1=\"331\" y1=\"15\" x2=\"331\" y2=\"27\" style=\"stroke:#2163abff;stroke-width:2;\" /><line x1=\"332\" y1=\"15\" x2=\"332\" y2=\"27\" style=\"stroke:#2162aaff;stroke-width:2;\" /><line x1=\"333\" y1=\"15\" x2=\"333\" y2=\"27\" style=\"stroke:#2161aaff;stroke-width:2;\" /><line x1=\"334\" y1=\"15\" x2=\"334\" y2=\"27\" style=\"stroke:#2160a9ff;stroke-width:2;\" /><line x1=\"335\" y1=\"15\" x2=\"335\" y2=\"27\" style=\"stroke:#215fa9ff;stroke-width:2;\" /><line x1=\"336\" y1=\"15\" x2=\"336\" y2=\"27\" style=\"stroke:#225fa8ff;stroke-width:2;\" /><line x1=\"337\" y1=\"15\" x2=\"337\" y2=\"27\" style=\"stroke:#225ea8ff;stroke-width:2;\" /><line x1=\"338\" y1=\"15\" x2=\"338\" y2=\"27\" style=\"stroke:#225da8ff;stroke-width:2;\" /><line x1=\"339\" y1=\"15\" x2=\"339\" y2=\"27\" style=\"stroke:#225ca7ff;stroke-width:2;\" /><line x1=\"340\" y1=\"15\" x2=\"340\" y2=\"27\" style=\"stroke:#225ba7ff;stroke-width:2;\" /><line x1=\"341\" y1=\"15\" x2=\"341\" y2=\"27\" style=\"stroke:#225ba7ff;stroke-width:2;\" /><line x1=\"342\" y1=\"15\" x2=\"342\" y2=\"27\" style=\"stroke:#225aa6ff;stroke-width:2;\" /><line x1=\"343\" y1=\"15\" x2=\"343\" y2=\"27\" style=\"stroke:#2259a6ff;stroke-width:2;\" /><line x1=\"344\" y1=\"15\" x2=\"344\" y2=\"27\" style=\"stroke:#2258a6ff;stroke-width:2;\" /><line x1=\"345\" y1=\"15\" x2=\"345\" y2=\"27\" style=\"stroke:#2258a5ff;stroke-width:2;\" /><line x1=\"346\" y1=\"15\" x2=\"346\" y2=\"27\" style=\"stroke:#2257a5ff;stroke-width:2;\" /><line x1=\"347\" y1=\"15\" x2=\"347\" y2=\"27\" style=\"stroke:#2256a4ff;stroke-width:2;\" /><line x1=\"348\" y1=\"15\" x2=\"348\" y2=\"27\" style=\"stroke:#2255a4ff;stroke-width:2;\" /><line x1=\"349\" y1=\"15\" x2=\"349\" y2=\"27\" style=\"stroke:#2255a4ff;stroke-width:2;\" /><line x1=\"350\" y1=\"15\" x2=\"350\" y2=\"27\" style=\"stroke:#2254a3ff;stroke-width:2;\" /><line x1=\"351\" y1=\"15\" x2=\"351\" y2=\"27\" style=\"stroke:#2253a3ff;stroke-width:2;\" /><line x1=\"352\" y1=\"15\" x2=\"352\" y2=\"27\" style=\"stroke:#2252a3ff;stroke-width:2;\" /><line x1=\"353\" y1=\"15\" x2=\"353\" y2=\"27\" style=\"stroke:#2352a2ff;stroke-width:2;\" /><line x1=\"354\" y1=\"15\" x2=\"354\" y2=\"27\" style=\"stroke:#2351a2ff;stroke-width:2;\" /><line x1=\"355\" y1=\"15\" x2=\"355\" y2=\"27\" style=\"stroke:#2350a2ff;stroke-width:2;\" /><line x1=\"356\" y1=\"15\" x2=\"356\" y2=\"27\" style=\"stroke:#234fa1ff;stroke-width:2;\" /><line x1=\"357\" y1=\"15\" x2=\"357\" y2=\"27\" style=\"stroke:#234fa1ff;stroke-width:2;\" /><line x1=\"358\" y1=\"15\" x2=\"358\" y2=\"27\" style=\"stroke:#234ea1ff;stroke-width:2;\" /><line x1=\"359\" y1=\"15\" x2=\"359\" y2=\"27\" style=\"stroke:#234da0ff;stroke-width:2;\" /><line x1=\"360\" y1=\"15\" x2=\"360\" y2=\"27\" style=\"stroke:#234ca0ff;stroke-width:2;\" /><line x1=\"361\" y1=\"15\" x2=\"361\" y2=\"27\" style=\"stroke:#234c9fff;stroke-width:2;\" /><line x1=\"362\" y1=\"15\" x2=\"362\" y2=\"27\" style=\"stroke:#234b9fff;stroke-width:2;\" /><line x1=\"363\" y1=\"15\" x2=\"363\" y2=\"27\" style=\"stroke:#234a9fff;stroke-width:2;\" /><line x1=\"364\" y1=\"15\" x2=\"364\" y2=\"27\" style=\"stroke:#23499eff;stroke-width:2;\" /><line x1=\"365\" y1=\"15\" x2=\"365\" y2=\"27\" style=\"stroke:#23499eff;stroke-width:2;\" /><line x1=\"366\" y1=\"15\" x2=\"366\" y2=\"27\" style=\"stroke:#23489eff;stroke-width:2;\" /><line x1=\"367\" y1=\"15\" x2=\"367\" y2=\"27\" style=\"stroke:#23479dff;stroke-width:2;\" /><line x1=\"368\" y1=\"15\" x2=\"368\" y2=\"27\" style=\"stroke:#23469dff;stroke-width:2;\" /><line x1=\"369\" y1=\"15\" x2=\"369\" y2=\"27\" style=\"stroke:#23469dff;stroke-width:2;\" /><line x1=\"370\" y1=\"15\" x2=\"370\" y2=\"27\" style=\"stroke:#23459cff;stroke-width:2;\" /><line x1=\"371\" y1=\"15\" x2=\"371\" y2=\"27\" style=\"stroke:#23449cff;stroke-width:2;\" /><line x1=\"372\" y1=\"15\" x2=\"372\" y2=\"27\" style=\"stroke:#24439cff;stroke-width:2;\" /><line x1=\"373\" y1=\"15\" x2=\"373\" y2=\"27\" style=\"stroke:#24439bff;stroke-width:2;\" /><line x1=\"374\" y1=\"15\" x2=\"374\" y2=\"27\" style=\"stroke:#24429bff;stroke-width:2;\" /><line x1=\"375\" y1=\"15\" x2=\"375\" y2=\"27\" style=\"stroke:#24419aff;stroke-width:2;\" /><line x1=\"376\" y1=\"15\" x2=\"376\" y2=\"27\" style=\"stroke:#24409aff;stroke-width:2;\" /><line x1=\"377\" y1=\"15\" x2=\"377\" y2=\"27\" style=\"stroke:#24409aff;stroke-width:2;\" /><line x1=\"378\" y1=\"15\" x2=\"378\" y2=\"27\" style=\"stroke:#243f99ff;stroke-width:2;\" /><line x1=\"379\" y1=\"15\" x2=\"379\" y2=\"27\" style=\"stroke:#243e99ff;stroke-width:2;\" /><line x1=\"380\" y1=\"15\" x2=\"380\" y2=\"27\" style=\"stroke:#243d99ff;stroke-width:2;\" /><line x1=\"381\" y1=\"15\" x2=\"381\" y2=\"27\" style=\"stroke:#243d98ff;stroke-width:2;\" /><line x1=\"382\" y1=\"15\" x2=\"382\" y2=\"27\" style=\"stroke:#243c98ff;stroke-width:2;\" /><line x1=\"383\" y1=\"15\" x2=\"383\" y2=\"27\" style=\"stroke:#243b98ff;stroke-width:2;\" /><line x1=\"384\" y1=\"15\" x2=\"384\" y2=\"27\" style=\"stroke:#243a97ff;stroke-width:2;\" /><line x1=\"385\" y1=\"15\" x2=\"385\" y2=\"27\" style=\"stroke:#243a97ff;stroke-width:2;\" /><line x1=\"386\" y1=\"15\" x2=\"386\" y2=\"27\" style=\"stroke:#243997ff;stroke-width:2;\" /><line x1=\"387\" y1=\"15\" x2=\"387\" y2=\"27\" style=\"stroke:#243896ff;stroke-width:2;\" /><line x1=\"388\" y1=\"15\" x2=\"388\" y2=\"27\" style=\"stroke:#243796ff;stroke-width:2;\" /><line x1=\"389\" y1=\"15\" x2=\"389\" y2=\"27\" style=\"stroke:#243795ff;stroke-width:2;\" /><line x1=\"390\" y1=\"15\" x2=\"390\" y2=\"27\" style=\"stroke:#243695ff;stroke-width:2;\" /><line x1=\"391\" y1=\"15\" x2=\"391\" y2=\"27\" style=\"stroke:#253595ff;stroke-width:2;\" /><line x1=\"392\" y1=\"15\" x2=\"392\" y2=\"27\" style=\"stroke:#253494ff;stroke-width:2;\" /><line x1=\"393\" y1=\"15\" x2=\"393\" y2=\"27\" style=\"stroke:#253494ff;stroke-width:2;\" /><line x1=\"394\" y1=\"15\" x2=\"394\" y2=\"27\" style=\"stroke:#243393ff;stroke-width:2;\" /><line x1=\"395\" y1=\"15\" x2=\"395\" y2=\"27\" style=\"stroke:#243392ff;stroke-width:2;\" /><line x1=\"396\" y1=\"15\" x2=\"396\" y2=\"27\" style=\"stroke:#233291ff;stroke-width:2;\" /><line x1=\"397\" y1=\"15\" x2=\"397\" y2=\"27\" style=\"stroke:#233290ff;stroke-width:2;\" /><line x1=\"398\" y1=\"15\" x2=\"398\" y2=\"27\" style=\"stroke:#22328fff;stroke-width:2;\" /><line x1=\"399\" y1=\"15\" x2=\"399\" y2=\"27\" style=\"stroke:#21318eff;stroke-width:2;\" /><line x1=\"400\" y1=\"15\" x2=\"400\" y2=\"27\" style=\"stroke:#21318cff;stroke-width:2;\" /><line x1=\"401\" y1=\"15\" x2=\"401\" y2=\"27\" style=\"stroke:#20308bff;stroke-width:2;\" /><line x1=\"402\" y1=\"15\" x2=\"402\" y2=\"27\" style=\"stroke:#20308aff;stroke-width:2;\" /><line x1=\"403\" y1=\"15\" x2=\"403\" y2=\"27\" style=\"stroke:#1f3089ff;stroke-width:2;\" /><line x1=\"404\" y1=\"15\" x2=\"404\" y2=\"27\" style=\"stroke:#1f2f88ff;stroke-width:2;\" /><line x1=\"405\" y1=\"15\" x2=\"405\" y2=\"27\" style=\"stroke:#1e2f87ff;stroke-width:2;\" /><line x1=\"406\" y1=\"15\" x2=\"406\" y2=\"27\" style=\"stroke:#1e2e86ff;stroke-width:2;\" /><line x1=\"407\" y1=\"15\" x2=\"407\" y2=\"27\" style=\"stroke:#1d2e85ff;stroke-width:2;\" /><line x1=\"408\" y1=\"15\" x2=\"408\" y2=\"27\" style=\"stroke:#1d2d84ff;stroke-width:2;\" /><line x1=\"409\" y1=\"15\" x2=\"409\" y2=\"27\" style=\"stroke:#1c2d83ff;stroke-width:2;\" /><line x1=\"410\" y1=\"15\" x2=\"410\" y2=\"27\" style=\"stroke:#1c2d82ff;stroke-width:2;\" /><line x1=\"411\" y1=\"15\" x2=\"411\" y2=\"27\" style=\"stroke:#1b2c81ff;stroke-width:2;\" /><line x1=\"412\" y1=\"15\" x2=\"412\" y2=\"27\" style=\"stroke:#1b2c80ff;stroke-width:2;\" /><line x1=\"413\" y1=\"15\" x2=\"413\" y2=\"27\" style=\"stroke:#1a2b7eff;stroke-width:2;\" /><line x1=\"414\" y1=\"15\" x2=\"414\" y2=\"27\" style=\"stroke:#1a2b7dff;stroke-width:2;\" /><line x1=\"415\" y1=\"15\" x2=\"415\" y2=\"27\" style=\"stroke:#192b7cff;stroke-width:2;\" /><line x1=\"416\" y1=\"15\" x2=\"416\" y2=\"27\" style=\"stroke:#192a7bff;stroke-width:2;\" /><line x1=\"417\" y1=\"15\" x2=\"417\" y2=\"27\" style=\"stroke:#182a7aff;stroke-width:2;\" /><line x1=\"418\" y1=\"15\" x2=\"418\" y2=\"27\" style=\"stroke:#182979ff;stroke-width:2;\" /><line x1=\"419\" y1=\"15\" x2=\"419\" y2=\"27\" style=\"stroke:#172978ff;stroke-width:2;\" /><line x1=\"420\" y1=\"15\" x2=\"420\" y2=\"27\" style=\"stroke:#172977ff;stroke-width:2;\" /><line x1=\"421\" y1=\"15\" x2=\"421\" y2=\"27\" style=\"stroke:#162876ff;stroke-width:2;\" /><line x1=\"422\" y1=\"15\" x2=\"422\" y2=\"27\" style=\"stroke:#162875ff;stroke-width:2;\" /><line x1=\"423\" y1=\"15\" x2=\"423\" y2=\"27\" style=\"stroke:#152774ff;stroke-width:2;\" /><line x1=\"424\" y1=\"15\" x2=\"424\" y2=\"27\" style=\"stroke:#142773ff;stroke-width:2;\" /><line x1=\"425\" y1=\"15\" x2=\"425\" y2=\"27\" style=\"stroke:#142672ff;stroke-width:2;\" /><line x1=\"426\" y1=\"15\" x2=\"426\" y2=\"27\" style=\"stroke:#132671ff;stroke-width:2;\" /><line x1=\"427\" y1=\"15\" x2=\"427\" y2=\"27\" style=\"stroke:#13266fff;stroke-width:2;\" /><line x1=\"428\" y1=\"15\" x2=\"428\" y2=\"27\" style=\"stroke:#12256eff;stroke-width:2;\" /><line x1=\"429\" y1=\"15\" x2=\"429\" y2=\"27\" style=\"stroke:#12256dff;stroke-width:2;\" /><line x1=\"430\" y1=\"15\" x2=\"430\" y2=\"27\" style=\"stroke:#11246cff;stroke-width:2;\" /><line x1=\"431\" y1=\"15\" x2=\"431\" y2=\"27\" style=\"stroke:#11246bff;stroke-width:2;\" /><line x1=\"432\" y1=\"15\" x2=\"432\" y2=\"27\" style=\"stroke:#10246aff;stroke-width:2;\" /><line x1=\"433\" y1=\"15\" x2=\"433\" y2=\"27\" style=\"stroke:#102369ff;stroke-width:2;\" /><line x1=\"434\" y1=\"15\" x2=\"434\" y2=\"27\" style=\"stroke:#0f2368ff;stroke-width:2;\" /><line x1=\"435\" y1=\"15\" x2=\"435\" y2=\"27\" style=\"stroke:#0f2267ff;stroke-width:2;\" /><line x1=\"436\" y1=\"15\" x2=\"436\" y2=\"27\" style=\"stroke:#0e2266ff;stroke-width:2;\" /><line x1=\"437\" y1=\"15\" x2=\"437\" y2=\"27\" style=\"stroke:#0e2265ff;stroke-width:2;\" /><line x1=\"438\" y1=\"15\" x2=\"438\" y2=\"27\" style=\"stroke:#0d2164ff;stroke-width:2;\" /><line x1=\"439\" y1=\"15\" x2=\"439\" y2=\"27\" style=\"stroke:#0d2163ff;stroke-width:2;\" /><line x1=\"440\" y1=\"15\" x2=\"440\" y2=\"27\" style=\"stroke:#0c2062ff;stroke-width:2;\" /><line x1=\"441\" y1=\"15\" x2=\"441\" y2=\"27\" style=\"stroke:#0c2060ff;stroke-width:2;\" /><line x1=\"442\" y1=\"15\" x2=\"442\" y2=\"27\" style=\"stroke:#0b1f5fff;stroke-width:2;\" /><line x1=\"443\" y1=\"15\" x2=\"443\" y2=\"27\" style=\"stroke:#0b1f5eff;stroke-width:2;\" /><line x1=\"444\" y1=\"15\" x2=\"444\" y2=\"27\" style=\"stroke:#0a1f5dff;stroke-width:2;\" /><line x1=\"445\" y1=\"15\" x2=\"445\" y2=\"27\" style=\"stroke:#0a1e5cff;stroke-width:2;\" /><line x1=\"446\" y1=\"15\" x2=\"446\" y2=\"27\" style=\"stroke:#091e5bff;stroke-width:2;\" /><line x1=\"447\" y1=\"15\" x2=\"447\" y2=\"27\" style=\"stroke:#091d5aff;stroke-width:2;\" /><line x1=\"448\" y1=\"15\" x2=\"448\" y2=\"27\" style=\"stroke:#081d59ff;stroke-width:2;\" /><line x1=\"449\" y1=\"15\" x2=\"449\" y2=\"27\" style=\"stroke:#081d58ff;stroke-width:2;\" /><text x=\"0\" y=\"38\" style=\"text-anchor:start; font-size:11px; font:Arial; fill:black\">0.25</text><text x=\"75\" y=\"38\"; style=\"text-anchor:middle; font-size:11px; font:Arial; fill:black\">1.0</text><text x=\"150\" y=\"38\"; style=\"text-anchor:middle; font-size:11px; font:Arial; fill:black\">1.8</text><text x=\"225\" y=\"38\"; style=\"text-anchor:middle; font-size:11px; font:Arial; fill:black\">2.6</text><text x=\"300\" y=\"38\"; style=\"text-anchor:middle; font-size:11px; font:Arial; fill:black\">3.4</text><text x=\"375\" y=\"38\"; style=\"text-anchor:middle; font-size:11px; font:Arial; fill:black\">4.2</text><text x=\"450\" y=\"38\" style=\"text-anchor:end; font-size:11px; font:Arial; fill:black\">5.0</text><text x=\"0\" y=\"12\" style=\"font-size:11px; font:Arial; fill:black\">Flood Depth (m)</text></svg>"
      ],
      "text/plain": [
       "<branca.colormap.LinearColormap at 0x238d1557c40>"
      ]
     },
     "execution_count": 80,
     "metadata": {},
     "output_type": "execute_result"
    }
   ],
   "source": [
    "min_depth = depth[\"depth_val\"].min()\n",
    "max_depth = depth[\"depth_val\"].max()\n",
    "depth_colormap = linear.YlGnBu_09.scale(min_depth, max_depth)\n",
    "depth_colormap.caption = 'Flood Depth (m)'\n",
    "\n",
    "folium.GeoJson(\n",
    "    depth,\n",
    "    name=\"DANA flood depth\",\n",
    "    style_function=lambda feature: {\n",
    "        'fillColor': depth_colormap(feature['properties']['depth_val']),\n",
    "        'color': 'black',\n",
    "        'weight': 0.5,\n",
    "        'fillOpacity': 0.7\n",
    "    },\n",
    "    tooltip=folium.GeoJsonTooltip(fields=[\"depth_val\"], aliases=[\"Depth (m):\"])\n",
    ").add_to(m_2)\n",
    "\n",
    "depth_colormap.add_to(m_2)"
   ]
  },
  {
   "cell_type": "code",
   "execution_count": 81,
   "metadata": {},
   "outputs": [],
   "source": [
    "folium.LayerControl(collapsed=False).add_to(m_2)\n",
    "m_2.save(\"processed_files/Max_flood_depth.html\")"
   ]
  },
  {
   "cell_type": "markdown",
   "metadata": {},
   "source": [
    "### DANA Flooded Area Evolution"
   ]
  },
  {
   "cell_type": "code",
   "execution_count": 82,
   "metadata": {},
   "outputs": [],
   "source": [
    "m_3 = folium.Map(location=map_center, zoom_start=10, tiles=\"CartoDB positron\", max_bounds=True)\n",
    "m_3.fit_bounds(map_bounds)"
   ]
  },
  {
   "cell_type": "code",
   "execution_count": 83,
   "metadata": {},
   "outputs": [],
   "source": [
    "# Add flood zones\n",
    "add_flood_zone_layer(\"DANA_31_10_2024\", m_3)\n",
    "add_flood_zone_layer(\"DANA_03_11_2024\", m_3)\n",
    "add_flood_zone_layer(\"DANA_05_11_2024\", m_3)\n",
    "add_flood_zone_layer(\"DANA_06_11_2024\", m_3)\n",
    "add_flood_zone_layer(\"DANA_08_11_2024\", m_3)\n",
    "    \n",
    "# Add flooded roads (optional)\n",
    "add_roads_layer(\"DANA_31_10_2024\", m_3, True)\n",
    "add_roads_layer(\"DANA_03_11_2024\", m_3, True)\n",
    "add_roads_layer(\"DANA_05_11_2024\", m_3, True)\n",
    "add_roads_layer(\"DANA_06_11_2024\", m_3, True)\n",
    "add_roads_layer(\"DANA_08_11_2024\", m_3, True)\n",
    "add_roads_layer(\"Normal Conditions\", m_3, False)"
   ]
  },
  {
   "cell_type": "code",
   "execution_count": 84,
   "metadata": {},
   "outputs": [],
   "source": [
    "folium.LayerControl(collapsed=False).add_to(m_3)\n",
    "m_3.save(\"processed_files/DANA_evolution.html\")"
   ]
  },
  {
   "cell_type": "markdown",
   "metadata": {},
   "source": [
    "### Road Risk"
   ]
  },
  {
   "cell_type": "code",
   "execution_count": 87,
   "metadata": {},
   "outputs": [],
   "source": [
    "with open(\"processed_files/edge_risks_NP.json\", \"r\") as f:\n",
    "    delta_risks1 = json.load(f)\n",
    "with open(\"processed_files/edge_risks_DANA.json\", \"r\") as f:\n",
    "    delta_risks2 = json.load(f)\n",
    "\n",
    "# === Build delta dicts ===\n",
    "def build_delta_dict(delta_list):\n",
    "    return {\n",
    "        tuple(item['edge']): item['delta_risk']\n",
    "        for item in delta_list\n",
    "    }\n",
    "\n",
    "delta_dict1 = build_delta_dict(delta_risks1)\n",
    "delta_dict2 = build_delta_dict(delta_risks2)\n",
    "\n",
    "# === Signed log transform ===\n",
    "def signed_log_transform(x):\n",
    "    if x == 0:\n",
    "        return 0\n",
    "    return 1/(np.sign(x) * np.log10(abs(x)))\n",
    "\n",
    "# === Get max absolute log ===\n",
    "all_values = list(delta_dict1.values()) + list(delta_dict2.values())\n",
    "transformed_values = [signed_log_transform(v) for v in all_values if v is not None]\n",
    "max_abs_log = max(abs(val) for val in transformed_values)\n",
    "\n",
    "# === Create custom diverging colormap ===\n",
    "def inverted_colormap(val):\n",
    "    \"\"\"\n",
    "    Maps log-transformed delta to color:\n",
    "    - stronger values (larger abs(val)) → stronger color (closer to red/blue)\n",
    "    - near-zero values → white\n",
    "    \"\"\"\n",
    "    if val == 0:\n",
    "        return \"#ffffff\"\n",
    "    \n",
    "    norm_val = signed_log_transform(val) / max_abs_log\n",
    "    abs_norm = abs(norm_val)\n",
    "\n",
    "    # invert strength: low abs → white, high abs → strong\n",
    "    strength = abs_norm\n",
    "    if norm_val > 0:\n",
    "        # red side\n",
    "        return cm.linear.Reds_09.scale(0, 1)(strength)\n",
    "    else:\n",
    "        # blue side\n",
    "        return cm.linear.Blues_09.scale(0, 1)(strength)\n",
    "\n",
    "# === Colorbar (caption only; not linked directly) ===\n",
    "legend_colormap = cm.LinearColormap(\n",
    "    colors=[\"red\", \"white\", \"blue\"],\n",
    "    vmin=-max_abs_log,\n",
    "    vmax=+max_abs_log\n",
    ")\n",
    "legend_colormap.caption = \"Δ Risk (Signed Log Scale, Stronger = Darker)\"\n",
    "\n",
    "# === Add edges to map ===\n",
    "def add_edges_to_map(fmap, edges, delta_dict, label, filter_flood=False):\n",
    "    fg = folium.FeatureGroup(name=label)\n",
    "\n",
    "    for idx, row in edges.iterrows():\n",
    "        edge_key = (row['u'], row['v']) if 'u' in row and 'v' in row else (idx[0], idx[1])\n",
    "\n",
    "        if filter_flood and not row.get(\"in_flood_zone\", False):\n",
    "            continue\n",
    "\n",
    "        value = delta_dict.get(edge_key)\n",
    "        if value is None:\n",
    "            continue\n",
    "\n",
    "        # Determine color\n",
    "        if value == 0:\n",
    "            color = \"#bbbbbb\"\n",
    "            opacity = 0.4\n",
    "            weight = 1\n",
    "        else:\n",
    "            color = inverted_colormap(value)\n",
    "            opacity = 0.8\n",
    "            weight = 2\n",
    "\n",
    "        coords = [(lat, lon) for lon, lat in row.geometry.coords]\n",
    "\n",
    "        folium.PolyLine(\n",
    "            locations=coords,\n",
    "            color=color,\n",
    "            weight=weight,\n",
    "            opacity=opacity,\n",
    "            tooltip=f\"{edge_key} | Δ Risk: {value:.1e}\"\n",
    "        ).add_to(fg)\n",
    "\n",
    "    fg.add_to(fmap)\n",
    "\n",
    "# === Build map ===\n",
    "m = folium.Map(location=map_center, zoom_start=10, tiles=\"CartoDB positron\", max_bounds=True)\n",
    "m.fit_bounds(map_bounds)\n",
    "\n",
    "add_edges_to_map(m, edges, delta_dict1, label=\"All Roads\")\n",
    "add_edges_to_map(m, flood_edges_var[\"DANA_31_10_2024\"], delta_dict2, label=\"DANA_31_10_2024\", filter_flood=True)\n",
    "\n",
    "m.add_child(legend_colormap)\n",
    "folium.LayerControl().add_to(m)\n",
    "\n",
    "m.save(\"processed_files/delta_risk_map.html\")\n"
   ]
  },
  {
   "cell_type": "code",
   "execution_count": 96,
   "metadata": {},
   "outputs": [
    {
     "name": "stdout",
     "output_type": "stream",
     "text": [
      "['Alaquàs', 'Albal', 'Albalat de la Ribera', 'Alberic', 'Alborache', 'Alcàsser', \"l'Alcúdia\", 'Aldaia', 'Alfafar', 'Alfarb', 'Algemesí', 'Alginet', 'Almussafes', 'Alzira', 'Aras de los Olmos', 'Barxeta', 'Benagéber', 'Benaguasil', 'Benetússer', 'Benicull de Xúquer', 'Benifaió', 'Benimuslem', 'Beniparrell', 'Benimodo', 'Bétera', 'Bugarra', 'Buñol', 'Calles', 'Camporrobles', 'Carcaixent', 'Carlet', 'Casinos', 'Castelló de la Ribera', 'Castielfabib', 'Catadau', 'Catarroja', 'Caudete de las Fuentes', 'Chelva', 'Chera', 'Cheste', 'Chiva', 'Chulilla', 'Corbera', 'Cullera', 'Dos Aguas', 'Favara', 'Fortaleny', 'Fuenterrobles', 'Gavarda', 'Gestalgar', 'Godelleta', 'Guadassuar', \"l'Ènova\", 'Llaurí', 'Llombai', 'Llíria', 'Llocnou de la Corona', 'Loriguilla', 'Losa del Obispo', 'Macastre', 'Manises', 'Manuel', 'Massalavés', 'Massanassa', 'Millares', 'Mislata', 'Montroi', 'Montserrat', 'Paiporta', 'Paterna', 'Pedralba', 'Picanya', 'Picassent', 'Polinyà de Xúquer', 'La Pobla Llarga', 'Quart de Poblet', 'Rafelguaraf', 'Real', 'Requena', 'Riba-roja de Túria', 'Riola', 'Sant Joanet', 'Sedaví', 'Senyera', 'Siete Aguas', 'Silla', 'Sinarcas', 'Sollana', 'Sot de Chera', 'Sueca', 'Tavernes de la Valldigna', 'Titaguas', 'Torrent', 'Tous', 'Tuéjar', 'Turís', 'Utiel', 'València', 'Vilamarxant', 'Villar del Arzobispo', 'Xeraco', 'Xirivella', 'Yátova', 'Mira']\n"
     ]
    }
   ],
   "source": [
    "print(polygons['name'].tolist())"
   ]
  },
  {
   "cell_type": "code",
   "execution_count": 103,
   "metadata": {},
   "outputs": [],
   "source": [
    "from shapely.geometry import mapping\n",
    "colormap = linear.YlOrRd_09.scale(0, 1)\n",
    "colormap.caption = 'Risk Index'\n",
    "\n",
    "polygons=affected_area\n",
    "\n",
    "# Create base map\n",
    "map_center = [centroid_latlon.y, centroid_latlon.x]\n",
    "m = folium.Map(location=map_center, zoom_start=7, tiles=\"cartodbpositron\")\n",
    "\n",
    "# Add municipality polygons with color-coded fill\n",
    "for _, row in polygons.iterrows():\n",
    "    name = row['name']\n",
    "    #if name == \"Castelló de la Ribera\":\n",
    "        #name = \"Castelló de la ribera\"\n",
    "    geometry = row['geometry']\n",
    "    value = compute_municipal_risk_factor(T_P_dictionaries[\"DANA_31_10_2024\"], T_NP_dictionary, name)\n",
    "    color = colormap(value)\n",
    "\n",
    "    geo_json = mapping(geometry)\n",
    "    folium.GeoJson(\n",
    "        geo_json,\n",
    "        tooltip=folium.Tooltip(f\"{name}: {value:.2f}\"),\n",
    "        style_function=lambda feature, color=color: {\n",
    "            'fillColor': color,\n",
    "            'color': 'black',\n",
    "            'weight': 1,\n",
    "            'fillOpacity': 0.7\n",
    "        }\n",
    "    ).add_to(m)\n",
    "\n",
    "    # Add label at centroid\n",
    "    centroid = geometry.centroid\n",
    "    folium.Marker(\n",
    "        location=[centroid.y, centroid.x],\n",
    "        icon=folium.DivIcon(html=f\"\"\"<div style=\"font-size: 10pt; color: black;\">{name}</div>\"\"\")\n",
    "    ).add_to(m)\n",
    "\n",
    "# Add color map legend\n",
    "colormap.add_to(m)\n",
    "\n",
    "# Display map\n",
    "m.save(\"processed_files/municipality_risk_map.html\")\n"
   ]
  }
 ],
 "metadata": {
  "colab": {
   "provenance": []
  },
  "kernelspec": {
   "display_name": "Python (oxenv)",
   "language": "python",
   "name": "oxenv"
  },
  "language_info": {
   "codemirror_mode": {
    "name": "ipython",
    "version": 3
   },
   "file_extension": ".py",
   "mimetype": "text/x-python",
   "name": "python",
   "nbconvert_exporter": "python",
   "pygments_lexer": "ipython3",
   "version": "3.10.17"
  }
 },
 "nbformat": 4,
 "nbformat_minor": 4
}
