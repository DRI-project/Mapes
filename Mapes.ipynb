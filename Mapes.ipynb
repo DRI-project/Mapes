{
 "cells": [
  {
   "cell_type": "markdown",
   "metadata": {
    "id": "Q8ZNNXRwxJ9L",
    "jp-MarkdownHeadingCollapsed": true
   },
   "source": [
    "# Packages"
   ]
  },
  {
   "cell_type": "code",
   "execution_count": null,
   "metadata": {},
   "outputs": [],
   "source": [
    "# use environment.yml to avoid compatibility issues"
   ]
  },
  {
   "cell_type": "code",
   "execution_count": null,
   "metadata": {
    "id": "kg--Mw_xeuKa"
   },
   "outputs": [],
   "source": [
    "import os\n",
    "import fiona\n",
    "import networkx as nx\n",
    "import osmnx as ox\n",
    "import pandas as pd\n",
    "import geopandas as gpd\n",
    "import matplotlib.pyplot as plt\n",
    "\n",
    "import folium\n",
    "from folium import GeoJson, LayerControl\n",
    "from branca.colormap import linear"
   ]
  },
  {
   "cell_type": "markdown",
   "metadata": {
    "jp-MarkdownHeadingCollapsed": true
   },
   "source": [
    "# Functions"
   ]
  },
  {
   "cell_type": "code",
   "execution_count": null,
   "metadata": {},
   "outputs": [],
   "source": [
    "def tag_flooded_roads(edges, nodes, flood_zones, layer):\n",
    "    output_path = flood_cut_roads[layer]\n",
    "    graphml_path = flood_safe_roads[layer]\n",
    "\n",
    "    if os.path.exists(output_path) and layer in fiona.listlayers(output_path):\n",
    "        print(f\"Loading {layer} from {output_path}\")\n",
    "        edges = gpd.read_file(output_path, layer=layer)\n",
    "    else:\n",
    "        print(f\"Tagging and saving {layer} to {output_path}\")\n",
    "\n",
    "        bounds = edges.total_bounds\n",
    "        flood_subset = flood_zones.cx[bounds[0]:bounds[2], bounds[1]:bounds[3]]\n",
    "        flood_geoms = flood_subset.geometry\n",
    "\n",
    "        edges = edges.copy()\n",
    "        edges[\"in_flood_zone\"] = edges.geometry.apply(lambda geom: flood_geoms.intersects(geom).any())\n",
    "\n",
    "        edges.to_file(output_path, layer=layer, driver=\"GPKG\")\n",
    "\n",
    "        \n",
    "    # Filter out flooded edges\n",
    "    if os.path.exists(graphml_path):\n",
    "        print(\"Pruned graph already exists\")\n",
    "    else:    \n",
    "        safe_edges = edges[~edges[\"in_flood_zone\"]].copy()\n",
    "        \n",
    "        # Rebuild graph from safe edges\n",
    "        print(\"Rebuilding pruned graph...\")\n",
    "        G_safe = ox.graph_from_gdfs(nodes, safe_edges)\n",
    "        ox.save_graphml(G_safe, filepath=graphml_path)\n",
    "        print(f\"Saved pruned graph to {graphml_path}\")\n",
    "\n",
    "    return edges"
   ]
  },
  {
   "cell_type": "code",
   "execution_count": null,
   "metadata": {},
   "outputs": [],
   "source": [
    "def load_or_clip_flood_zone(return_crs, layer, source_path, clip_geom):\n",
    "    output_path = flood_zones[layer]\n",
    "    \n",
    "    # Load layer if it exists\n",
    "    if os.path.exists(output_path) and layer in fiona.listlayers(output_path):\n",
    "        print(f\"Loading {layer} from {output_path}\")\n",
    "        clipped = gpd.read_file(output_path, layer=layer).to_crs(return_crs)\n",
    "\n",
    "    else:\n",
    "        # Clip and save the original\n",
    "        print(f\"Clipping and saving {layer} from {output_path}\" )\n",
    "        flood = gpd.read_file(source_path).to_crs(return_crs)\n",
    "        clipped = gpd.clip(flood, clip_geom)\n",
    "        clipped.to_file(output_path, layer=layer, driver=\"GPKG\")\n",
    "\n",
    "    return clipped"
   ]
  },
  {
   "cell_type": "code",
   "execution_count": null,
   "metadata": {},
   "outputs": [],
   "source": [
    "def make_geojson_safe(gdf):\n",
    "    gdf = gdf.copy()\n",
    "    dt_cols = gdf.select_dtypes(include=['datetime64[ns]', 'datetime64[ns, UTC]']).columns\n",
    "    gdf[dt_cols] = gdf[dt_cols].astype(str)\n",
    "    for col in gdf.columns:\n",
    "        if col != \"geometry\" and not pd.api.types.is_scalar(gdf[col].iloc[0]):\n",
    "            gdf.drop(columns=[col], inplace=True)\n",
    "    return gdf"
   ]
  },
  {
   "cell_type": "code",
   "execution_count": null,
   "metadata": {},
   "outputs": [],
   "source": [
    "def add_flood_zones_layer(gdf, name, color):\n",
    "    if gdf.crs.to_epsg() != 4326:\n",
    "        gdf = gdf.to_crs(epsg=4326)\n",
    "\n",
    "    gdf_serializable = make_geojson_safe(gdf)\n",
    "\n",
    "    style_function = lambda x: {\n",
    "        'fillColor': color,\n",
    "        'color': color,\n",
    "        'weight': 1,\n",
    "        'fillOpacity': 0.4\n",
    "    }\n",
    "\n",
    "    geojson = folium.GeoJson(\n",
    "        data=gdf_serializable,\n",
    "        name=f\"Flood {name}\",\n",
    "        style_function=style_function,\n",
    "        show=False\n",
    "    )\n",
    "    geojson.add_to(m)"
   ]
  },
  {
   "cell_type": "code",
   "execution_count": null,
   "metadata": {},
   "outputs": [],
   "source": [
    "def add_cut_roads_layer(edges, name, color):\n",
    "    flooded = edges[edges[\"in_flood_zone\"] == True]\n",
    "    flooded = flooded.to_crs(epsg=4326)\n",
    "    flooded = make_geojson_safe(flooded)\n",
    "\n",
    "    style_function = lambda x: {\n",
    "        'color': color,\n",
    "        'weight': 2,\n",
    "        'opacity': 0.8\n",
    "    }\n",
    "\n",
    "    geojson = folium.GeoJson(\n",
    "        flooded,\n",
    "        name=f\"Flooded Roads {name}\",\n",
    "        style_function=style_function,\n",
    "        show=False\n",
    "    )\n",
    "    geojson.add_to(m)"
   ]
  },
  {
   "cell_type": "code",
   "execution_count": null,
   "metadata": {},
   "outputs": [],
   "source": [
    "def parse_depth_range(val):\n",
    "    if pd.isna(val):\n",
    "        return None\n",
    "\n",
    "    val = val.strip()\n",
    "\n",
    "    if val.startswith('Below'):\n",
    "        return float(val[5:].strip()) / 2\n",
    "\n",
    "    if val.startswith('>'):\n",
    "        return float(val[1:].strip())  # You may want to cap it\n",
    "\n",
    "    if '-' in val:\n",
    "        parts = val.split('-')\n",
    "        try:\n",
    "            low = float(parts[0].strip())\n",
    "            high = float(parts[1].strip())\n",
    "            return (low + high) / 2\n",
    "        except:\n",
    "            return None\n",
    "\n",
    "    try:\n",
    "        return float(val)\n",
    "    except:\n",
    "        return None"
   ]
  },
  {
   "cell_type": "markdown",
   "metadata": {
    "id": "Ae_V4hjCAsN8",
    "jp-MarkdownHeadingCollapsed": true
   },
   "source": [
    "# Street data"
   ]
  },
  {
   "cell_type": "code",
   "execution_count": null,
   "metadata": {},
   "outputs": [],
   "source": [
    "output_dir = \"processed_files\"\n",
    "os.makedirs(output_dir, exist_ok=True)"
   ]
  },
  {
   "cell_type": "code",
   "execution_count": null,
   "metadata": {
    "id": "CPYUcbX01Hvy"
   },
   "outputs": [],
   "source": [
    "ox.settings.use_cache = True\n",
    "ox.settings.log_console = True"
   ]
  },
  {
   "cell_type": "code",
   "execution_count": null,
   "metadata": {
    "id": "CPYUcbX01Hvy"
   },
   "outputs": [],
   "source": [
    "polygon_path = os.path.join(output_dir, \"study_area.geojson\")\n",
    "\n",
    "if os.path.exists(polygon_path):\n",
    "    print(\"Loading saved province polygon...\")\n",
    "    study_area = gpd.read_file(polygon_path)\n",
    "else:\n",
    "    print(\"Downloading province polygon...\")\n",
    "    study_area = ox.geocode_to_gdf(\"Provincia de València, Comunitat Valenciana, España\")\n",
    "    study_area.to_file(polygon_path, driver=\"GeoJSON\")\n",
    "\n",
    "polygon = study_area.geometry.values[0]"
   ]
  },
  {
   "cell_type": "code",
   "execution_count": null,
   "metadata": {},
   "outputs": [],
   "source": [
    "graph_path = os.path.join(output_dir, \"study_area_roads.graphml\")\n",
    "\n",
    "if os.path.exists(graph_path):\n",
    "    print(\"Loading saved road network graph...\")\n",
    "    G = ox.load_graphml(graph_path)\n",
    "else:\n",
    "    print(\"Downloading road network graph...\")\n",
    "    G = ox.graph_from_polygon(polygon, network_type=\"drive\")\n",
    "    ox.save_graphml(G, filepath=graph_path)\n",
    "    \n",
    "nodes, edges = ox.graph_to_gdfs(G)\n",
    "del G"
   ]
  },
  {
   "cell_type": "code",
   "execution_count": null,
   "metadata": {},
   "outputs": [],
   "source": [
    "rail=True\n",
    "if rail:\n",
    "    graph_path_rail = os.path.join(output_dir, \"study_area_rail.graphml\")\n",
    "    if os.path.exists(graph_path_rail):\n",
    "        print(\"Loading saved rail network graph...\")\n",
    "        G_rail = ox.load_graphml(graph_path_rail)\n",
    "    else:\n",
    "        print(\"Downloading rail network graph...\")\n",
    "        rail_filter = '[\"railway\"~\"rail|light_rail|subway|tram\"]'\n",
    "        G_rail = ox.graph_from_polygon(polygon, custom_filter=rail_filter, network_type=\"all\")\n",
    "        ox.save_graphml(G_rail, filepath=graph_path_rail)\n",
    "\n",
    "    nodes_rail, edges_rail = ox.graph_to_gdfs(G_rail)\n",
    "    del G_rail"
   ]
  },
  {
   "cell_type": "markdown",
   "metadata": {
    "jp-MarkdownHeadingCollapsed": true
   },
   "source": [
    "# Layers"
   ]
  },
  {
   "cell_type": "code",
   "execution_count": null,
   "metadata": {},
   "outputs": [],
   "source": [
    "flood_zones = {\n",
    "    \"10 yr\": f\"{output_dir}/flood_risk_zones.gpkg\",\n",
    "    \"100 yr\": f\"{output_dir}/flood_risk_zones.gpkg\",\n",
    "    \"500 yr\": f\"{output_dir}/flood_risk_zones.gpkg\",\n",
    "    \"DANA\": f\"{output_dir}/DANA_zones.gpkg\",\n",
    "    \"DANA depth\": f\"{output_dir}/DANA_depths.gpkg\"\n",
    "}\n",
    "\n",
    "flood_cut_roads = {\n",
    "    \"10 yr\": f\"{output_dir}/flood_risk_cut_roads.gpkg\",\n",
    "    \"100 yr\": f\"{output_dir}/flood_risk_cut_roads.gpkg\",\n",
    "    \"500 yr\": f\"{output_dir}/flood_risk_cut_roads.gpkg\",\n",
    "    \"DANA\": f\"{output_dir}/DANA_cut_roads.gpkg\",\n",
    "}\n",
    "\n",
    "flood_safe_roads = {\n",
    "    \"10 yr\": f\"{output_dir}/flood_risk_10_safe_roads.graphml\",\n",
    "    \"100 yr\": f\"{output_dir}/flood_risk__100_safe_roads.graphml\",\n",
    "    \"500 yr\": f\"{output_dir}/flood_risk__500_safe_roads.graphml\",\n",
    "    \"DANA\": f\"{output_dir}/DANA_safe_roads.graphml\",\n",
    "}"
   ]
  },
  {
   "cell_type": "markdown",
   "metadata": {
    "id": "im671dntApI-",
    "jp-MarkdownHeadingCollapsed": true
   },
   "source": [
    "# Floodable zones"
   ]
  },
  {
   "cell_type": "code",
   "execution_count": null,
   "metadata": {},
   "outputs": [],
   "source": [
    "flood_risk_zones_10  = load_or_clip_flood_zone(edges.crs, \"10 yr\", \"source_files/laminaspb-q10/Q10_2Ciclo_PB_20241121.shp\", polygon)\n",
    "flood_risk_zones_100 = load_or_clip_flood_zone(edges.crs, \"100 yr\", \"source_files/laminaspb-q100/Q100_2Ciclo_PB_20241121_ETRS89.shp\", polygon)\n",
    "flood_risk_zones_500 = load_or_clip_flood_zone(edges.crs, \"500 yr\", \"source_files/laminaspb-q500/Q500_2Ciclo_PB_20241121_ETRS89.shp\", polygon)"
   ]
  },
  {
   "cell_type": "code",
   "execution_count": null,
   "metadata": {},
   "outputs": [],
   "source": [
    "edges_with_flood_10 = tag_flooded_roads(edges, nodes, flood_risk_zones_10, \"10 yr\")\n",
    "edges_with_flood_100 = tag_flooded_roads(edges, nodes, flood_risk_zones_100, \"100 yr\")\n",
    "edges_with_flood_500 = tag_flooded_roads(edges, nodes, flood_risk_zones_500, \"500 yr\")"
   ]
  },
  {
   "cell_type": "markdown",
   "metadata": {
    "jp-MarkdownHeadingCollapsed": true
   },
   "source": [
    "# Flooded Area"
   ]
  },
  {
   "cell_type": "code",
   "execution_count": null,
   "metadata": {},
   "outputs": [],
   "source": [
    "output_dir = \"processed_files\"\n",
    "os.makedirs(output_dir, exist_ok=True)"
   ]
  },
  {
   "cell_type": "code",
   "execution_count": null,
   "metadata": {},
   "outputs": [],
   "source": [
    "# Load DANA flood zones (update paths with your source shapefiles)\n",
    "flood_zones_DANA  = load_or_clip_flood_zone(edges.crs, \"DANA\", \"source_files/EMSR773_AOI01_DEL_PRODUCT_v1/EMSR773_AOI01_DEL_PRODUCT_observedEventA_v1.shp\", polygon)"
   ]
  },
  {
   "cell_type": "code",
   "execution_count": null,
   "metadata": {},
   "outputs": [],
   "source": [
    "edges_with_flood_DANA = tag_flooded_roads(edges, nodes, flood_zones_DANA, \"DANA\")"
   ]
  },
  {
   "cell_type": "code",
   "execution_count": null,
   "metadata": {},
   "outputs": [],
   "source": [
    "layer=\"DANA depth\"\n",
    "output_path = flood_zones[layer]\n",
    "\n",
    "if os.path.exists(output_path) and layer in fiona.listlayers(output_path):\n",
    "    print(f\"Loading {layer} from {output_path}\")\n",
    "    DANA_flood_depth=gpd.read_file(output_path, layer=layer)\n",
    "else:\n",
    "    print(f\"Saving {layer} to {output_path}\")\n",
    "    DANA_flood_depth = gpd.read_file(\"source_files/EMSR773_AOI01_DEL_PRODUCT_v1/EMSR773_AOI01_DEL_PRODUCT_floodDepthA_v1.shp\")\n",
    "    DANA_flood_depth[\"depth_val\"] = DANA_flood_depth[\"value\"].apply(parse_depth_range)\n",
    "    DANA_flood_depth.to_file(output_path, layer=layer, driver=\"GPKG\")\n",
    "    print(f\"Saved processed {layer} in {output_path}\")"
   ]
  },
  {
   "cell_type": "markdown",
   "metadata": {
    "id": "59NZ-jYDAeVF"
   },
   "source": [
    "# Interactive Visualization"
   ]
  },
  {
   "cell_type": "code",
   "execution_count": null,
   "metadata": {},
   "outputs": [],
   "source": [
    "# Set initial position\n",
    "projected = study_area.to_crs(epsg=25830)\n",
    "centroid_projected = projected.geometry.centroid.iloc[0]\n",
    "centroid_latlon = gpd.GeoSeries([centroid_projected], crs=25830).to_crs(epsg=4326).geometry.iloc[0]\n",
    "map_center = [centroid_latlon.y, centroid_latlon.x]\n",
    "\n",
    "# Create map and define layer colors\n",
    "m = folium.Map(location=map_center, zoom_start=10, tiles=\"CartoDB positron\", max_bounds=True)\n",
    "\n",
    "# Calculate bounds of the study area in WGS84\n",
    "bounds_wgs84 = study_area.to_crs(epsg=4326).total_bounds\n",
    "# Format as [[southwest], [northeast]]\n",
    "map_bounds = [[bounds_wgs84[1], bounds_wgs84[0]], [bounds_wgs84[3], bounds_wgs84[2]]]\n",
    "\n",
    "# Create map centered initially (still needed for initialization)\n",
    "m = folium.Map(location=map_center, zoom_start=10, tiles=\"CartoDB positron\")\n",
    "\n",
    "# After adding all your layers, zoom to bounds\n",
    "m.fit_bounds(map_bounds)\n"
   ]
  },
  {
   "cell_type": "code",
   "execution_count": null,
   "metadata": {},
   "outputs": [],
   "source": [
    "flood_colors = {\n",
    "    \"10 yr\": \"#56B4E9\",   # Sky Blue\n",
    "    \"100 yr\": \"#009E73\",  # Bluish Green\n",
    "    \"500 yr\": \"#E69F00\",  # Orange\n",
    "    \"DANA\": \"#CC79A7\"  # Reddish Purple\n",
    "}\n",
    "\n",
    "# Add flood zones\n",
    "add_flood_zones_layer(flood_risk_zones_10, \"10 yr\", flood_colors[\"10 yr\"])\n",
    "add_flood_zones_layer(flood_risk_zones_100, \"100 yr\", flood_colors[\"100 yr\"])\n",
    "add_flood_zones_layer(flood_risk_zones_500, \"500 yr\", flood_colors[\"500 yr\"])\n",
    "add_flood_zones_layer(flood_zones_DANA, \"DANA\", flood_colors[\"DANA\"])\n",
    "    \n",
    "# Add flooded roads (optional)\n",
    "add_cut_roads_layer(edges_with_flood_10, \"10 yr\", flood_colors[\"10 yr\"])\n",
    "add_cut_roads_layer(edges_with_flood_100, \"100 yr\", flood_colors[\"100 yr\"])\n",
    "add_cut_roads_layer(edges_with_flood_500, \"500 yr\", flood_colors[\"500 yr\"])\n",
    "add_cut_roads_layer(edges_with_flood_DANA, \"DANA\", flood_colors[\"DANA\"])\n",
    "    \n"
   ]
  },
  {
   "cell_type": "code",
   "execution_count": null,
   "metadata": {},
   "outputs": [],
   "source": [
    "depth_map = True\n",
    "if depth_map:\n",
    "    min_depth = DANA_flood_depth[\"depth_val\"].min()\n",
    "    max_depth = DANA_flood_depth[\"depth_val\"].max()\n",
    "    depth_colormap = linear.YlGnBu_09.scale(min_depth, max_depth)\n",
    "    depth_colormap.caption = 'Flood Depth (m)'\n",
    "\n",
    "    folium.GeoJson(\n",
    "        DANA_flood_depth,\n",
    "        name=\"DANA flood depth\",\n",
    "        style_function=lambda feature: {\n",
    "            'fillColor': depth_colormap(feature['properties']['depth_val']),\n",
    "            'color': 'black',\n",
    "            'weight': 0.5,\n",
    "            'fillOpacity': 0.7\n",
    "        },\n",
    "        tooltip=folium.GeoJsonTooltip(fields=[\"depth_val\"], aliases=[\"Depth (m):\"])\n",
    "    ).add_to(m)\n",
    "\n",
    "    depth_colormap.add_to(m)"
   ]
  },
  {
   "cell_type": "code",
   "execution_count": null,
   "metadata": {},
   "outputs": [],
   "source": [
    "# Add toggle control\n",
    "folium.LayerControl(collapsed=False).add_to(m)\n",
    "\n",
    "# Save to file\n",
    "m.save(\"processed_files/flood_map_valencia.html\")"
   ]
  },
  {
   "cell_type": "markdown",
   "metadata": {},
   "source": [
    "# Old Code"
   ]
  }
 ],
 "metadata": {
  "colab": {
   "provenance": []
  },
  "kernelspec": {
   "display_name": "Python (oxenv)",
   "language": "python",
   "name": "oxenv"
  },
  "language_info": {
   "codemirror_mode": {
    "name": "ipython",
    "version": 3
   },
   "file_extension": ".py",
   "mimetype": "text/x-python",
   "name": "python",
   "nbconvert_exporter": "python",
   "pygments_lexer": "ipython3",
   "version": "3.10.17"
  }
 },
 "nbformat": 4,
 "nbformat_minor": 4
}
